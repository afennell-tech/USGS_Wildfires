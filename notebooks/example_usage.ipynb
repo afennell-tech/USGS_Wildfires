{
 "cells": [
  {
   "cell_type": "markdown",
   "id": "531715d0-0080-4ec0-a532-0b9bb04a2f1e",
   "metadata": {},
   "source": [
    "### Run the below cell *before* importing modules\n",
    "(iPython will give a ModuleNotFoundError otherwise)"
   ]
  },
  {
   "cell_type": "code",
   "execution_count": null,
   "id": "d7400af6-62b8-4a61-8f09-042197ee3c6a",
   "metadata": {},
   "outputs": [],
   "source": [
    "import sys\n",
    "sys.path.append('..') # make sure modules can be found from project home directory"
   ]
  },
  {
   "cell_type": "markdown",
   "id": "8c535f38-4610-48bf-be36-fadfefd62324",
   "metadata": {},
   "source": [
    "### Imports"
   ]
  },
  {
   "cell_type": "code",
   "execution_count": null,
   "id": "63df63d4-8277-4ac4-95f0-bd87f10f0ec6",
   "metadata": {},
   "outputs": [],
   "source": [
    "from src.data.data_loading import load_processed_dataset, load_raw_datasets\n",
    "\n",
    "import pandas as pd\n",
    "import geopandas as gpd\n",
    "import numpy as np \n",
    "import matplotlib.pyplot as plt\n",
    "# etc..."
   ]
  },
  {
   "cell_type": "markdown",
   "id": "7904f40e-ffd2-420f-b783-94b83d32ced9",
   "metadata": {},
   "source": [
    "### Loading processed data (for now, only the fpa_fod dataset from kaggle)"
   ]
  },
  {
   "cell_type": "code",
   "execution_count": null,
   "id": "54a1fd4f-0f6f-45c3-a699-791854f06bf8",
   "metadata": {},
   "outputs": [],
   "source": [
    "df = load_processed_dataset('fpa_fod')"
   ]
  },
  {
   "cell_type": "code",
   "execution_count": null,
   "id": "8ae30e0d-1698-408c-a32a-8ddd5ddcc870",
   "metadata": {},
   "outputs": [],
   "source": [
    "df"
   ]
  },
  {
   "cell_type": "markdown",
   "id": "3d4bc549-54f7-47ad-8338-a7a9bd901bf6",
   "metadata": {},
   "source": [
    "### Loading raw data (explore other datasets)"
   ]
  },
  {
   "cell_type": "code",
   "execution_count": null,
   "id": "03e9b474-4792-413f-affa-b55a3e50c054",
   "metadata": {},
   "outputs": [],
   "source": [
    "df_list, df_names = load_raw_datasets('fpa_fod', 'ca_fire_perimeters')"
   ]
  },
  {
   "cell_type": "code",
   "execution_count": null,
   "id": "31e07eea-d968-4ba8-928f-a7b5e0aed05f",
   "metadata": {},
   "outputs": [],
   "source": [
    "fpa_fod = df_list[0]\n",
    "fpa_fod"
   ]
  }
 ],
 "metadata": {
  "kernelspec": {
   "display_name": "geo_env",
   "language": "python",
   "name": "geo_env"
  },
  "language_info": {
   "codemirror_mode": {
    "name": "ipython",
    "version": 3
   },
   "file_extension": ".py",
   "mimetype": "text/x-python",
   "name": "python",
   "nbconvert_exporter": "python",
   "pygments_lexer": "ipython3",
   "version": "3.9.5"
  }
 },
 "nbformat": 4,
 "nbformat_minor": 5
}
