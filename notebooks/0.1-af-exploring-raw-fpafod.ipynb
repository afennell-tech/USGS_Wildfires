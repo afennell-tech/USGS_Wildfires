{
 "cells": [
  {
   "cell_type": "code",
   "execution_count": 1,
   "id": "5a03ba73",
   "metadata": {},
   "outputs": [],
   "source": [
    "import warnings\n",
    "warnings.filterwarnings('ignore')\n",
    "import sys\n",
    "sys.path.append('..') # make sure modules can be found from project home directory"
   ]
  },
  {
   "cell_type": "code",
   "execution_count": 2,
   "id": "562379d2",
   "metadata": {},
   "outputs": [],
   "source": [
    "from src.data.data_loading import load_processed_dataset, load_raw_datasets\n",
    "\n",
    "import pandas as pd\n",
    "import geopandas as gpd\n",
    "import numpy as np \n",
    "import matplotlib.pyplot as plt\n",
    "# etc..."
   ]
  },
  {
   "cell_type": "code",
   "execution_count": 3,
   "id": "492693b4",
   "metadata": {},
   "outputs": [],
   "source": [
    "from tqdm import tqdm\n",
    "tqdm.pandas()"
   ]
  },
  {
   "cell_type": "markdown",
   "id": "a9933188",
   "metadata": {},
   "source": [
    "### Loading raw fpa_fod data"
   ]
  },
  {
   "cell_type": "code",
   "execution_count": 4,
   "id": "26aeb19f",
   "metadata": {},
   "outputs": [
    {
     "name": "stdout",
     "output_type": "stream",
     "text": [
      "\n",
      " Loading FPA_FOD_20210617 \n",
      "\n",
      "Loading from sqlite database, this may take a while.\n",
      "The list of dfs contains the following datasets (in this order): \n",
      " ['FPA_FOD_20210617']\n"
     ]
    }
   ],
   "source": [
    "df_list, df_names = load_raw_datasets('fpa_fod')"
   ]
  },
  {
   "cell_type": "markdown",
   "id": "1851159b",
   "metadata": {},
   "source": [
    "### First look at `fpa_fod`"
   ]
  },
  {
   "cell_type": "code",
   "execution_count": 5,
   "id": "8cfbfdcd",
   "metadata": {},
   "outputs": [],
   "source": [
    "fpa_fod = df_list[0].copy()\n",
    "orig_shape = fpa_fod.shape"
   ]
  },
  {
   "cell_type": "code",
   "execution_count": 6,
   "id": "73347740",
   "metadata": {},
   "outputs": [
    {
     "data": {
      "text/plain": [
       "FOD_ID                             int64\n",
       "FPA_ID                            object\n",
       "SOURCE_SYSTEM_TYPE                object\n",
       "SOURCE_SYSTEM                     object\n",
       "NWCG_REPORTING_AGENCY             object\n",
       "NWCG_REPORTING_UNIT_ID            object\n",
       "NWCG_REPORTING_UNIT_NAME          object\n",
       "SOURCE_REPORTING_UNIT             object\n",
       "SOURCE_REPORTING_UNIT_NAME        object\n",
       "LOCAL_FIRE_REPORT_ID              object\n",
       "LOCAL_INCIDENT_ID                 object\n",
       "FIRE_CODE                         object\n",
       "FIRE_NAME                         object\n",
       "ICS_209_PLUS_INCIDENT_JOIN_ID     object\n",
       "ICS_209_PLUS_COMPLEX_JOIN_ID      object\n",
       "MTBS_ID                           object\n",
       "MTBS_FIRE_NAME                    object\n",
       "COMPLEX_NAME                      object\n",
       "FIRE_YEAR                          int64\n",
       "DISCOVERY_DATE                    object\n",
       "DISCOVERY_DOY                      int64\n",
       "DISCOVERY_TIME                   float64\n",
       "NWCG_CAUSE_CLASSIFICATION         object\n",
       "NWCG_GENERAL_CAUSE                object\n",
       "NWCG_CAUSE_AGE_CATEGORY           object\n",
       "CONT_DATE                         object\n",
       "CONT_DOY                         float64\n",
       "CONT_TIME                        float64\n",
       "FIRE_SIZE                        float64\n",
       "FIRE_SIZE_CLASS                   object\n",
       "LATITUDE                         float64\n",
       "LONGITUDE                        float64\n",
       "OWNER_DESCR                       object\n",
       "STATE                             object\n",
       "COUNTY                            object\n",
       "FIPS_CODE                         object\n",
       "FIPS_NAME                         object\n",
       "dtype: object"
      ]
     },
     "execution_count": 6,
     "metadata": {},
     "output_type": "execute_result"
    }
   ],
   "source": [
    "fpa_fod.dtypes"
   ]
  },
  {
   "cell_type": "code",
   "execution_count": 7,
   "id": "0130e9b3",
   "metadata": {},
   "outputs": [
    {
     "data": {
      "text/html": [
       "<div>\n",
       "<style scoped>\n",
       "    .dataframe tbody tr th:only-of-type {\n",
       "        vertical-align: middle;\n",
       "    }\n",
       "\n",
       "    .dataframe tbody tr th {\n",
       "        vertical-align: top;\n",
       "    }\n",
       "\n",
       "    .dataframe thead th {\n",
       "        text-align: right;\n",
       "    }\n",
       "</style>\n",
       "<table border=\"1\" class=\"dataframe\">\n",
       "  <thead>\n",
       "    <tr style=\"text-align: right;\">\n",
       "      <th></th>\n",
       "      <th>FOD_ID</th>\n",
       "      <th>FPA_ID</th>\n",
       "      <th>SOURCE_SYSTEM_TYPE</th>\n",
       "      <th>SOURCE_SYSTEM</th>\n",
       "      <th>NWCG_REPORTING_AGENCY</th>\n",
       "      <th>NWCG_REPORTING_UNIT_ID</th>\n",
       "      <th>NWCG_REPORTING_UNIT_NAME</th>\n",
       "      <th>SOURCE_REPORTING_UNIT</th>\n",
       "      <th>SOURCE_REPORTING_UNIT_NAME</th>\n",
       "      <th>LOCAL_FIRE_REPORT_ID</th>\n",
       "      <th>...</th>\n",
       "      <th>CONT_TIME</th>\n",
       "      <th>FIRE_SIZE</th>\n",
       "      <th>FIRE_SIZE_CLASS</th>\n",
       "      <th>LATITUDE</th>\n",
       "      <th>LONGITUDE</th>\n",
       "      <th>OWNER_DESCR</th>\n",
       "      <th>STATE</th>\n",
       "      <th>COUNTY</th>\n",
       "      <th>FIPS_CODE</th>\n",
       "      <th>FIPS_NAME</th>\n",
       "    </tr>\n",
       "  </thead>\n",
       "  <tbody>\n",
       "    <tr>\n",
       "      <th>0</th>\n",
       "      <td>1</td>\n",
       "      <td>FS-1418826</td>\n",
       "      <td>FED</td>\n",
       "      <td>FS-FIRESTAT</td>\n",
       "      <td>FS</td>\n",
       "      <td>USCAPNF</td>\n",
       "      <td>Plumas National Forest</td>\n",
       "      <td>511</td>\n",
       "      <td>Plumas National Forest</td>\n",
       "      <td>1</td>\n",
       "      <td>...</td>\n",
       "      <td>1730.0</td>\n",
       "      <td>0.10</td>\n",
       "      <td>A</td>\n",
       "      <td>40.036944</td>\n",
       "      <td>-121.005833</td>\n",
       "      <td>USFS</td>\n",
       "      <td>CA</td>\n",
       "      <td>63</td>\n",
       "      <td>06063</td>\n",
       "      <td>Plumas County</td>\n",
       "    </tr>\n",
       "    <tr>\n",
       "      <th>1</th>\n",
       "      <td>2</td>\n",
       "      <td>FS-1418827</td>\n",
       "      <td>FED</td>\n",
       "      <td>FS-FIRESTAT</td>\n",
       "      <td>FS</td>\n",
       "      <td>USCAENF</td>\n",
       "      <td>Eldorado National Forest</td>\n",
       "      <td>503</td>\n",
       "      <td>Eldorado National Forest</td>\n",
       "      <td>13</td>\n",
       "      <td>...</td>\n",
       "      <td>1530.0</td>\n",
       "      <td>0.25</td>\n",
       "      <td>A</td>\n",
       "      <td>38.933056</td>\n",
       "      <td>-120.404444</td>\n",
       "      <td>USFS</td>\n",
       "      <td>CA</td>\n",
       "      <td>61</td>\n",
       "      <td>06061</td>\n",
       "      <td>Placer County</td>\n",
       "    </tr>\n",
       "    <tr>\n",
       "      <th>2</th>\n",
       "      <td>3</td>\n",
       "      <td>FS-1418835</td>\n",
       "      <td>FED</td>\n",
       "      <td>FS-FIRESTAT</td>\n",
       "      <td>FS</td>\n",
       "      <td>USCAENF</td>\n",
       "      <td>Eldorado National Forest</td>\n",
       "      <td>503</td>\n",
       "      <td>Eldorado National Forest</td>\n",
       "      <td>27</td>\n",
       "      <td>...</td>\n",
       "      <td>2024.0</td>\n",
       "      <td>0.10</td>\n",
       "      <td>A</td>\n",
       "      <td>38.984167</td>\n",
       "      <td>-120.735556</td>\n",
       "      <td>STATE OR PRIVATE</td>\n",
       "      <td>CA</td>\n",
       "      <td>17</td>\n",
       "      <td>06017</td>\n",
       "      <td>El Dorado County</td>\n",
       "    </tr>\n",
       "    <tr>\n",
       "      <th>3</th>\n",
       "      <td>4</td>\n",
       "      <td>FS-1418845</td>\n",
       "      <td>FED</td>\n",
       "      <td>FS-FIRESTAT</td>\n",
       "      <td>FS</td>\n",
       "      <td>USCAENF</td>\n",
       "      <td>Eldorado National Forest</td>\n",
       "      <td>503</td>\n",
       "      <td>Eldorado National Forest</td>\n",
       "      <td>43</td>\n",
       "      <td>...</td>\n",
       "      <td>1400.0</td>\n",
       "      <td>0.10</td>\n",
       "      <td>A</td>\n",
       "      <td>38.559167</td>\n",
       "      <td>-119.913333</td>\n",
       "      <td>USFS</td>\n",
       "      <td>CA</td>\n",
       "      <td>3</td>\n",
       "      <td>06003</td>\n",
       "      <td>Alpine County</td>\n",
       "    </tr>\n",
       "    <tr>\n",
       "      <th>4</th>\n",
       "      <td>5</td>\n",
       "      <td>FS-1418847</td>\n",
       "      <td>FED</td>\n",
       "      <td>FS-FIRESTAT</td>\n",
       "      <td>FS</td>\n",
       "      <td>USCAENF</td>\n",
       "      <td>Eldorado National Forest</td>\n",
       "      <td>503</td>\n",
       "      <td>Eldorado National Forest</td>\n",
       "      <td>44</td>\n",
       "      <td>...</td>\n",
       "      <td>1200.0</td>\n",
       "      <td>0.10</td>\n",
       "      <td>A</td>\n",
       "      <td>38.559167</td>\n",
       "      <td>-119.933056</td>\n",
       "      <td>USFS</td>\n",
       "      <td>CA</td>\n",
       "      <td>3</td>\n",
       "      <td>06003</td>\n",
       "      <td>Alpine County</td>\n",
       "    </tr>\n",
       "  </tbody>\n",
       "</table>\n",
       "<p>5 rows × 37 columns</p>\n",
       "</div>"
      ],
      "text/plain": [
       "   FOD_ID      FPA_ID SOURCE_SYSTEM_TYPE SOURCE_SYSTEM NWCG_REPORTING_AGENCY  \\\n",
       "0       1  FS-1418826                FED   FS-FIRESTAT                    FS   \n",
       "1       2  FS-1418827                FED   FS-FIRESTAT                    FS   \n",
       "2       3  FS-1418835                FED   FS-FIRESTAT                    FS   \n",
       "3       4  FS-1418845                FED   FS-FIRESTAT                    FS   \n",
       "4       5  FS-1418847                FED   FS-FIRESTAT                    FS   \n",
       "\n",
       "  NWCG_REPORTING_UNIT_ID  NWCG_REPORTING_UNIT_NAME SOURCE_REPORTING_UNIT  \\\n",
       "0                USCAPNF    Plumas National Forest                   511   \n",
       "1                USCAENF  Eldorado National Forest                   503   \n",
       "2                USCAENF  Eldorado National Forest                   503   \n",
       "3                USCAENF  Eldorado National Forest                   503   \n",
       "4                USCAENF  Eldorado National Forest                   503   \n",
       "\n",
       "  SOURCE_REPORTING_UNIT_NAME LOCAL_FIRE_REPORT_ID  ... CONT_TIME FIRE_SIZE  \\\n",
       "0     Plumas National Forest                    1  ...    1730.0      0.10   \n",
       "1   Eldorado National Forest                   13  ...    1530.0      0.25   \n",
       "2   Eldorado National Forest                   27  ...    2024.0      0.10   \n",
       "3   Eldorado National Forest                   43  ...    1400.0      0.10   \n",
       "4   Eldorado National Forest                   44  ...    1200.0      0.10   \n",
       "\n",
       "  FIRE_SIZE_CLASS   LATITUDE   LONGITUDE       OWNER_DESCR STATE COUNTY  \\\n",
       "0               A  40.036944 -121.005833              USFS    CA     63   \n",
       "1               A  38.933056 -120.404444              USFS    CA     61   \n",
       "2               A  38.984167 -120.735556  STATE OR PRIVATE    CA     17   \n",
       "3               A  38.559167 -119.913333              USFS    CA      3   \n",
       "4               A  38.559167 -119.933056              USFS    CA      3   \n",
       "\n",
       "   FIPS_CODE         FIPS_NAME  \n",
       "0      06063     Plumas County  \n",
       "1      06061     Placer County  \n",
       "2      06017  El Dorado County  \n",
       "3      06003     Alpine County  \n",
       "4      06003     Alpine County  \n",
       "\n",
       "[5 rows x 37 columns]"
      ]
     },
     "execution_count": 7,
     "metadata": {},
     "output_type": "execute_result"
    }
   ],
   "source": [
    "fpa_fod.head()"
   ]
  },
  {
   "cell_type": "markdown",
   "id": "10011ff6",
   "metadata": {},
   "source": [
    "#### Use the original coords (*LONGITUDE*, *LATITUDE*) to convert `fpa_fod` to a `GeoDataFrame` containing a `geometry` column"
   ]
  },
  {
   "cell_type": "code",
   "execution_count": 8,
   "id": "02f01125",
   "metadata": {},
   "outputs": [],
   "source": [
    "fpa_fod = gpd.GeoDataFrame(fpa_fod,geometry=gpd.points_from_xy(fpa_fod.LONGITUDE, fpa_fod.LATITUDE))\n",
    "# The cols containing LONGITUDE and LATITUDE are no longer needed, so drop em\n",
    "fpa_fod.drop(columns=['LONGITUDE', 'LATITUDE'], inplace=True, errors='ignore') "
   ]
  },
  {
   "cell_type": "code",
   "execution_count": 9,
   "id": "8423a334",
   "metadata": {},
   "outputs": [
    {
     "data": {
      "text/plain": [
       "<AxesSubplot:>"
      ]
     },
     "execution_count": 9,
     "metadata": {},
     "output_type": "execute_result"
    },
    {
     "data": {
      "image/png": "[encoded data removed]",
      "text/plain": [
       "<Figure size 432x288 with 1 Axes>"
      ]
     },
     "metadata": {
      "needs_background": "light"
     },
     "output_type": "display_data"
    }
   ],
   "source": [
    "# plotting for all years is very resource intensive due to large number of rows; 2018 is most recent year\n",
    "fpa_fod.loc[fpa_fod.FIRE_YEAR == 2018].plot()"
   ]
  },
  {
   "cell_type": "markdown",
   "id": "150f95b1",
   "metadata": {},
   "source": [
    "The above plot doesn't provide much information, but we can clearly see the fires come from across the USA"
   ]
  },
  {
   "cell_type": "markdown",
   "id": "13e030b7",
   "metadata": {},
   "source": [
    "## Cleaning `fpa_fod`\n",
    "*Note: only the columns we care about will be cleaned*"
   ]
  },
  {
   "cell_type": "markdown",
   "id": "828b4e7a",
   "metadata": {},
   "source": [
    "### Change/update feature names"
   ]
  },
  {
   "cell_type": "code",
   "execution_count": 10,
   "id": "36274939",
   "metadata": {
    "tags": []
   },
   "outputs": [],
   "source": [
    "fpa_fod.rename( \n",
    "    columns=\n",
    "    {\n",
    "        'NWCG_GENERAL_CAUSE': 'SPECIFIC_CAUSE',\n",
    "        'NWCG_CAUSE_CLASSIFICATION': 'GENERAL_CAUSE',\n",
    "        'DISCOVERY_DATE': 'FIRE_DATE',\n",
    "        'CONT_DATE': 'FIRE_CONT_DATE'\n",
    "    }, \n",
    "    inplace=True\n",
    ")"
   ]
  },
  {
   "cell_type": "markdown",
   "id": "bcd6f97b-164b-48ba-be7e-2fbf8b2a6c41",
   "metadata": {},
   "source": [
    "#### How are the different `CAUSE` features related wrt the data?"
   ]
  },
  {
   "cell_type": "code",
   "execution_count": 11,
   "id": "d0a5fcec",
   "metadata": {},
   "outputs": [
    {
     "data": {
      "text/plain": [
       "SPECIFIC_CAUSE                              GENERAL_CAUSE                          \n",
       "Debris and open burning                     Human                                      507219\n",
       "Missing data/not specified/undetermined     Human                                      373550\n",
       "Natural                                     Natural                                    312807\n",
       "Arson/incendiarism                          Human                                      310320\n",
       "Equipment and vehicle use                   Human                                      175824\n",
       "Missing data/not specified/undetermined     Missing data/not specified/undetermined    173887\n",
       "Recreation and ceremony                     Human                                       92725\n",
       "Misuse of fire by a minor                   Human                                       64630\n",
       "Smoking                                     Human                                       61689\n",
       "Railroad operations and maintenance         Human                                       36437\n",
       "Power generation/transmission/distribution  Human                                       28491\n",
       "Fireworks                                   Human                                       17205\n",
       "Other causes                                Human                                        9763\n",
       "Firearms and explosives use                 Human                                        2205\n",
       "dtype: int64"
      ]
     },
     "execution_count": 11,
     "metadata": {},
     "output_type": "execute_result"
    }
   ],
   "source": [
    "fpa_fod[['SPECIFIC_CAUSE', 'GENERAL_CAUSE']].value_counts()"
   ]
  },
  {
   "cell_type": "markdown",
   "id": "21d5e742-bda5-45be-a527-3f4a84a7717e",
   "metadata": {},
   "source": [
    "#### How about independently?"
   ]
  },
  {
   "cell_type": "code",
   "execution_count": 12,
   "id": "e2f1b7ee",
   "metadata": {},
   "outputs": [
    {
     "name": "stdout",
     "output_type": "stream",
     "text": [
      "Missing data/not specified/undetermined       547438\n",
      "Debris and open burning                       507219\n",
      "Natural                                       312807\n",
      "Arson/incendiarism                            310320\n",
      "Equipment and vehicle use                     175824\n",
      "Recreation and ceremony                        92725\n",
      "Misuse of fire by a minor                      64630\n",
      "Smoking                                        61689\n",
      "Railroad operations and maintenance            36437\n",
      "Power generation/transmission/distribution     28491\n",
      "Fireworks                                      17205\n",
      "Other causes                                    9763\n",
      "Firearms and explosives use                     2205\n",
      "Name: SPECIFIC_CAUSE, dtype: int64 \n",
      "\n",
      "Human                                      1680058\n",
      "Natural                                     312807\n",
      "Missing data/not specified/undetermined     173887\n",
      "NaN                                              1\n",
      "Name: GENERAL_CAUSE, dtype: int64\n"
     ]
    }
   ],
   "source": [
    "print(fpa_fod.SPECIFIC_CAUSE.value_counts(dropna=False), '\\n')\n",
    "print(fpa_fod.GENERAL_CAUSE.value_counts(dropna=False))"
   ]
  },
  {
   "cell_type": "markdown",
   "id": "e6f43110",
   "metadata": {
    "tags": []
   },
   "source": [
    "### Change/update feature dtypes"
   ]
  },
  {
   "cell_type": "code",
   "execution_count": 13,
   "id": "cb2ee327",
   "metadata": {
    "tags": []
   },
   "outputs": [
    {
     "name": "stderr",
     "output_type": "stream",
     "text": [
      "100%|██████████████████████████████████████████████████████████████████████████████████| 2/2 [00:00<00:00, 11.34it/s]\n"
     ]
    }
   ],
   "source": [
    "fpa_fod[['FOD_ID', 'FIRE_YEAR']] = fpa_fod[['FOD_ID', 'FIRE_YEAR']].progress_apply(\n",
    "    pd.to_numeric, downcast=\"unsigned\")\n",
    "fpa_fod['FIRE_SIZE'] = pd.to_numeric(fpa_fod['FIRE_SIZE'], downcast='float')\n",
    "\n",
    "for col in ['GENERAL_CAUSE', 'SPECIFIC_CAUSE', 'FIRE_SIZE_CLASS', 'STATE']:\n",
    "        fpa_fod[col] = fpa_fod[col].astype('category')"
   ]
  },
  {
   "cell_type": "code",
   "execution_count": 14,
   "id": "d3573a09-645c-42ec-9eb5-04155749efe8",
   "metadata": {},
   "outputs": [
    {
     "data": {
      "text/plain": [
       "FOD_ID               uint32\n",
       "FIRE_YEAR            uint16\n",
       "FIRE_SIZE           float32\n",
       "GENERAL_CAUSE      category\n",
       "SPECIFIC_CAUSE     category\n",
       "FIRE_SIZE_CLASS    category\n",
       "STATE              category\n",
       "dtype: object"
      ]
     },
     "execution_count": 14,
     "metadata": {},
     "output_type": "execute_result"
    }
   ],
   "source": [
    "fpa_fod[['FOD_ID', 'FIRE_YEAR', 'FIRE_SIZE', 'GENERAL_CAUSE', \n",
    "         'SPECIFIC_CAUSE', 'FIRE_SIZE_CLASS', 'STATE']].dtypes"
   ]
  },
  {
   "cell_type": "markdown",
   "id": "e9013c09",
   "metadata": {},
   "source": [
    "### Process `FIRE_DATE` feature"
   ]
  },
  {
   "cell_type": "code",
   "execution_count": 15,
   "id": "7edcac39",
   "metadata": {},
   "outputs": [
    {
     "data": {
      "text/plain": [
       "DISCOVERY_TIME    float64\n",
       "FIRE_DATE          object\n",
       "FIRE_YEAR          uint16\n",
       "DISCOVERY_DOY       int64\n",
       "dtype: object"
      ]
     },
     "execution_count": 15,
     "metadata": {},
     "output_type": "execute_result"
    }
   ],
   "source": [
    "fpa_fod[['DISCOVERY_TIME', 'FIRE_DATE', 'FIRE_YEAR', 'DISCOVERY_DOY']].dtypes"
   ]
  },
  {
   "cell_type": "markdown",
   "id": "e57a88bd-0680-4e21-814e-a51814160613",
   "metadata": {},
   "source": [
    "#### Do we have any null values for time related data?"
   ]
  },
  {
   "cell_type": "code",
   "execution_count": 16,
   "id": "7be83f15-6c7d-4e3f-8008-77f53691ab29",
   "metadata": {},
   "outputs": [
    {
     "data": {
      "text/plain": [
       "DISCOVERY_TIME    754468\n",
       "FIRE_DATE              0\n",
       "FIRE_YEAR              0\n",
       "DISCOVERY_DOY          0\n",
       "dtype: int64"
      ]
     },
     "execution_count": 16,
     "metadata": {},
     "output_type": "execute_result"
    }
   ],
   "source": [
    "fpa_fod[['DISCOVERY_TIME', 'FIRE_DATE', 'FIRE_YEAR', 'DISCOVERY_DOY']].isna().sum()"
   ]
  },
  {
   "cell_type": "markdown",
   "id": "a91515e4",
   "metadata": {
    "tags": []
   },
   "source": [
    "#### Here is what the values of `DISCOVERY_TIME` *look like*"
   ]
  },
  {
   "cell_type": "code",
   "execution_count": 17,
   "id": "3c5e6edf",
   "metadata": {
    "tags": []
   },
   "outputs": [
    {
     "data": {
      "text/plain": [
       "0    1300.0\n",
       "1     845.0\n",
       "2    1921.0\n",
       "3    1600.0\n",
       "4    1600.0\n",
       "Name: DISCOVERY_TIME, dtype: float64"
      ]
     },
     "execution_count": 17,
     "metadata": {},
     "output_type": "execute_result"
    }
   ],
   "source": [
    "fpa_fod.DISCOVERY_TIME.head()"
   ]
  },
  {
   "cell_type": "markdown",
   "id": "9ffff12e-1f18-436e-84f4-623a5f18a0cb",
   "metadata": {},
   "source": [
    "#### Handle null values in `DISCOVERY_TIME` before proceeding with processing `FIRE_DATE` feature"
   ]
  },
  {
   "cell_type": "code",
   "execution_count": 18,
   "id": "0975e785-7b5b-4477-bddf-71340f3c54cf",
   "metadata": {},
   "outputs": [],
   "source": [
    "# convert to string so we can set the null values to '0000.0'\n",
    "fpa_fod.DISCOVERY_TIME = fpa_fod.DISCOVERY_TIME.astype(str)\n",
    "# null values are now the string 'nan'; get the index of these values\n",
    "index = fpa_fod[fpa_fod.DISCOVERY_TIME == 'nan'].index\n",
    "# update the null values to '0000.0'\n",
    "fpa_fod.loc[index, 'DISCOVERY_TIME'] = '0000.0'"
   ]
  },
  {
   "cell_type": "markdown",
   "id": "2defc7f1-4bec-4e23-a2e9-93f00afd646a",
   "metadata": {},
   "source": [
    "#### Quick sanity check"
   ]
  },
  {
   "cell_type": "code",
   "execution_count": 19,
   "id": "51cd233f-0931-4745-b1c3-4f25b5b236eb",
   "metadata": {},
   "outputs": [
    {
     "data": {
      "text/plain": [
       "Series([], Name: DISCOVERY_TIME, dtype: object)"
      ]
     },
     "execution_count": 19,
     "metadata": {},
     "output_type": "execute_result"
    }
   ],
   "source": [
    "fpa_fod[fpa_fod.DISCOVERY_TIME == 'nan'].DISCOVERY_TIME"
   ]
  },
  {
   "cell_type": "markdown",
   "id": "95e8d2d7",
   "metadata": {},
   "source": [
    "#### To be a valid time, there should be a minimum of 3 numbers to the left of the decimal sign. This means that strings with length **less than** 5 are invalid and can be set to `'0000.0'` instead"
   ]
  },
  {
   "cell_type": "code",
   "execution_count": 20,
   "id": "1cd29519",
   "metadata": {},
   "outputs": [
    {
     "data": {
      "text/plain": [
       "96     15.0\n",
       "275    50.0\n",
       "407    34.0\n",
       "466    50.0\n",
       "975    30.0\n",
       "Name: DISCOVERY_TIME, dtype: object"
      ]
     },
     "execution_count": 20,
     "metadata": {},
     "output_type": "execute_result"
    }
   ],
   "source": [
    "fpa_fod[fpa_fod.DISCOVERY_TIME.str.len() < 5].DISCOVERY_TIME.head()"
   ]
  },
  {
   "cell_type": "code",
   "execution_count": 21,
   "id": "c01ad6fc-4e8c-44bf-90bc-b75635b18e00",
   "metadata": {},
   "outputs": [],
   "source": [
    "# get the index of the above values\n",
    "index = fpa_fod[fpa_fod.DISCOVERY_TIME.str.len() < 5].index\n",
    "# update the invalid time values to '0000.0'\n",
    "fpa_fod.loc[index, 'DISCOVERY_TIME'] = '0000.0'"
   ]
  },
  {
   "cell_type": "markdown",
   "id": "d6a4e1e7-8b5e-4dec-b3f9-32ba6c5bea88",
   "metadata": {},
   "source": [
    "#### How many values remain that are not `'0000.0'`?"
   ]
  },
  {
   "cell_type": "code",
   "execution_count": 22,
   "id": "e6cc0c89-c610-48f2-b04c-e9b3847e73e5",
   "metadata": {},
   "outputs": [
    {
     "name": "stdout",
     "output_type": "stream",
     "text": [
      "1395500 values remain \n",
      "\n"
     ]
    }
   ],
   "source": [
    "print(f\"{fpa_fod[fpa_fod.DISCOVERY_TIME != '0000.0'].DISCOVERY_TIME.shape[0]} values remain \\n\")"
   ]
  },
  {
   "cell_type": "markdown",
   "id": "ca9db0a1-6ab7-4fa4-96b9-96f9fe78b6e5",
   "metadata": {},
   "source": [
    "#### Quick check to ensure that the remaining times are within the valid 24 hour time range"
   ]
  },
  {
   "cell_type": "code",
   "execution_count": 23,
   "id": "c8c2663d-9b54-4799-b313-c88832416526",
   "metadata": {},
   "outputs": [
    {
     "name": "stdout",
     "output_type": "stream",
     "text": [
      "Series([], Name: DISCOVERY_TIME, dtype: object)\n",
      "Series([], Name: DISCOVERY_TIME, dtype: object)\n"
     ]
    }
   ],
   "source": [
    "print(fpa_fod.loc[lambda fpa_fod: fpa_fod.DISCOVERY_TIME.astype(float) < 0].DISCOVERY_TIME)\n",
    "print(fpa_fod.loc[lambda fpa_fod: fpa_fod.DISCOVERY_TIME.astype(float) > 2400].DISCOVERY_TIME)"
   ]
  },
  {
   "cell_type": "markdown",
   "id": "9f706c38-4b11-4506-87a6-38f9d0e17c4f",
   "metadata": {},
   "source": [
    "#### Now we can merge the features that are time related into one, unified `FIRE_DATE`"
   ]
  },
  {
   "cell_type": "code",
   "execution_count": 24,
   "id": "049e62d4",
   "metadata": {},
   "outputs": [],
   "source": [
    "def insert_time_fpa_fod(row):\n",
    "    time = pd.to_datetime(row['DISCOVERY_TIME'], format='%H%M')\n",
    "    row['FIRE_DATE'] = row['FIRE_DATE'].replace(hour=time.hour, minute=time.minute)\n",
    "    return row"
   ]
  },
  {
   "cell_type": "code",
   "execution_count": 25,
   "id": "e1241174",
   "metadata": {
    "tags": []
   },
   "outputs": [
    {
     "name": "stderr",
     "output_type": "stream",
     "text": [
      "100%|████████████████████████████████████████████████████████████████████| 2166753/2166753 [09:46<00:00, 3695.73it/s]\n"
     ]
    }
   ],
   "source": [
    "# convert columns to string before applying to_datetime function\n",
    "fpa_fod = fpa_fod.astype({'FIRE_YEAR': 'str', 'DISCOVERY_DOY': 'str'})\n",
    "\n",
    "# process date of fire\n",
    "fpa_fod['FIRE_DATE'] = pd.to_datetime(\n",
    "    fpa_fod['FIRE_YEAR'] + ' ' + fpa_fod['DISCOVERY_DOY'], format='%Y %j', utc=True)\n",
    "\n",
    "# remove the .0 from each DISCOVERY_TIME so that they are in correct %H%M format\n",
    "fpa_fod['DISCOVERY_TIME'] = fpa_fod['DISCOVERY_TIME'].str[:-2]\n",
    "\n",
    "# process time of fire\n",
    "fpa_fod = fpa_fod.progress_apply(lambda row: insert_time_fpa_fod(row), axis=1)"
   ]
  },
  {
   "cell_type": "markdown",
   "id": "d1d42bc9-7620-4701-b08b-bfbbb3d903b9",
   "metadata": {},
   "source": [
    "### Process `FIRE_CONT_DATE` feature"
   ]
  },
  {
   "cell_type": "code",
   "execution_count": 26,
   "id": "eb0a6298-a069-4253-b9ab-298dd0806149",
   "metadata": {},
   "outputs": [
    {
     "data": {
      "text/plain": [
       "CONT_TIME         float64\n",
       "FIRE_CONT_DATE     object\n",
       "FIRE_YEAR          object\n",
       "CONT_DOY          float64\n",
       "dtype: object"
      ]
     },
     "execution_count": 26,
     "metadata": {},
     "output_type": "execute_result"
    }
   ],
   "source": [
    "fpa_fod[['CONT_TIME', 'FIRE_CONT_DATE', 'FIRE_YEAR', 'CONT_DOY']].dtypes"
   ]
  },
  {
   "cell_type": "markdown",
   "id": "c92e1f9b-979c-4b11-841e-217c67649895",
   "metadata": {},
   "source": [
    "#### Notice there are far more null values for this time related data compared to `FIRE_DATE`"
   ]
  },
  {
   "cell_type": "code",
   "execution_count": 27,
   "id": "c5205f48-f116-45ea-9909-247c14de7889",
   "metadata": {},
   "outputs": [
    {
     "data": {
      "text/plain": [
       "CONT_TIME         933151\n",
       "FIRE_CONT_DATE    854553\n",
       "FIRE_YEAR              0\n",
       "CONT_DOY          854553\n",
       "dtype: int64"
      ]
     },
     "execution_count": 27,
     "metadata": {},
     "output_type": "execute_result"
    }
   ],
   "source": [
    "fpa_fod[['CONT_TIME', 'FIRE_CONT_DATE', 'FIRE_YEAR', 'CONT_DOY']].isna().sum()"
   ]
  },
  {
   "cell_type": "markdown",
   "id": "2131e098-9f3a-4527-990f-e2acc22d5aff",
   "metadata": {},
   "source": [
    "#### Notice that there are `854553` null values in both `FIRE_CONT_DATE` and `CONT_DOY`. Are they occuring in the same rows?"
   ]
  },
  {
   "cell_type": "code",
   "execution_count": 28,
   "id": "f5ff88b6-2db5-4271-81b4-dca5ded44507",
   "metadata": {},
   "outputs": [
    {
     "data": {
      "text/plain": [
       "854553"
      ]
     },
     "execution_count": 28,
     "metadata": {},
     "output_type": "execute_result"
    }
   ],
   "source": [
    "fpa_fod[fpa_fod.FIRE_CONT_DATE.isna() & fpa_fod.CONT_DOY.isna()].shape[0]"
   ]
  },
  {
   "cell_type": "markdown",
   "id": "5d9f3de6-45eb-4176-abc2-d64dc09dc485",
   "metadata": {},
   "source": [
    "#### The above values match (`854553`), so we can assume they are occuring in the same rows. `FIRE_CONT_DATE` cannot be determined for these rows. \n",
    "\n",
    "#### We can fill the null values in `CONT_DOY` with a nonsensical value for DOY, `400.0`, which will allow the column to be properly converted to int. \n",
    "\n",
    "#### Also, we need to consider the edge case where `CONT_DOY` is less than `DISCOVERY_DOY`. If this occurs, we need to ensure that the year value of `FIRE_CONT_DATE` is updated (+1 year)."
   ]
  },
  {
   "cell_type": "code",
   "execution_count": 29,
   "id": "4b7ca314-ac75-4fe4-91a1-18cf21ee36c3",
   "metadata": {
    "tags": []
   },
   "outputs": [
    {
     "name": "stdout",
     "output_type": "stream",
     "text": [
      "CONT_DOY dtype before: float64\n",
      "CONT_DOY dtype after: int16\n"
     ]
    }
   ],
   "source": [
    "print(f\"CONT_DOY dtype before: {fpa_fod.CONT_DOY.dtype}\")\n",
    "fpa_fod = fpa_fod.fillna(value={'CONT_DOY': 400.0})\n",
    "fpa_fod.CONT_DOY = pd.to_numeric(fpa_fod.CONT_DOY, downcast='integer')\n",
    "print(f\"CONT_DOY dtype after: {fpa_fod.CONT_DOY.dtype}\")"
   ]
  },
  {
   "cell_type": "markdown",
   "id": "862b0570-0745-47eb-823f-d3dc112b3060",
   "metadata": {},
   "source": [
    "#### Since we filled the null values with `400.0`, we need to check if `CONT_DOY` is *strictly less than* `DISCOVERY_DOY` for any fires. This information will be used to create the `FIRE_CONT_YEAR` column and will be dropped once `FIRE_CONT_DATE` is correctly processed."
   ]
  },
  {
   "cell_type": "code",
   "execution_count": 30,
   "id": "62fee089-b8a2-45a9-b285-394ee935ac00",
   "metadata": {},
   "outputs": [],
   "source": [
    "index = fpa_fod[fpa_fod['DISCOVERY_DOY'].astype(int) > fpa_fod['CONT_DOY'].astype(int)].index\n",
    "fpa_fod['FIRE_CONT_YEAR'] = fpa_fod['FIRE_YEAR'].astype(int)\n",
    "fpa_fod.loc[index, 'FIRE_CONT_YEAR'] = fpa_fod.loc[index, 'FIRE_CONT_YEAR'].astype(int) + 1"
   ]
  },
  {
   "cell_type": "markdown",
   "id": "ea5467be-9707-4576-850b-d6b80033772d",
   "metadata": {},
   "source": [
    "#### Here is what the values of `CONT_TIME` *look like*"
   ]
  },
  {
   "cell_type": "code",
   "execution_count": 31,
   "id": "2354eca8-9a69-492d-a30d-9c639b3f01a0",
   "metadata": {},
   "outputs": [
    {
     "data": {
      "text/plain": [
       "0    1730.0\n",
       "1    1530.0\n",
       "2    2024.0\n",
       "3    1400.0\n",
       "4    1200.0\n",
       "Name: CONT_TIME, dtype: float64"
      ]
     },
     "execution_count": 31,
     "metadata": {},
     "output_type": "execute_result"
    }
   ],
   "source": [
    "fpa_fod.CONT_TIME.head()"
   ]
  },
  {
   "cell_type": "markdown",
   "id": "ba54f844-3304-42f5-8439-6d5573ac7747",
   "metadata": {},
   "source": [
    "#### Handle null values in `CONT_TIME` before proceeding with processing `FIRE_CONT_DATE` feature"
   ]
  },
  {
   "cell_type": "code",
   "execution_count": 32,
   "id": "85abcc37-8090-4bf0-a6db-d3a6512743c8",
   "metadata": {},
   "outputs": [],
   "source": [
    "# convert to string so we can set the null values to '0000.0'\n",
    "fpa_fod.CONT_TIME = fpa_fod.CONT_TIME.astype(str)\n",
    "# null values are now the string 'nan'; get the index of these values\n",
    "index = fpa_fod[fpa_fod.CONT_TIME == 'nan'].index\n",
    "# update the null values to '0000.0'\n",
    "fpa_fod.loc[index, 'CONT_TIME'] = '0000.0'"
   ]
  },
  {
   "cell_type": "markdown",
   "id": "72b5bda5-5384-464d-892e-7795203f32af",
   "metadata": {},
   "source": [
    "#### Quick sanity check"
   ]
  },
  {
   "cell_type": "code",
   "execution_count": 33,
   "id": "ca31177a-41d4-4d9a-9877-855ad1503928",
   "metadata": {},
   "outputs": [
    {
     "name": "stdout",
     "output_type": "stream",
     "text": [
      "Series([], Name: CONT_TIME, dtype: object)\n"
     ]
    }
   ],
   "source": [
    "print(fpa_fod[fpa_fod.CONT_TIME == 'nan'].CONT_TIME)"
   ]
  },
  {
   "cell_type": "markdown",
   "id": "1d7d6ef2-1866-41cb-9a1a-cf21c855d214",
   "metadata": {},
   "source": [
    "#### To be a valid time, there should be a minimum of 3 numbers to the left of the decimal sign. This means that strings with length **less than** 5 are invalid and can be set to `'0000.0'` instead"
   ]
  },
  {
   "cell_type": "code",
   "execution_count": 34,
   "id": "a422f81e-cc1d-49e8-86b9-0e00177dd330",
   "metadata": {
    "tags": []
   },
   "outputs": [
    {
     "data": {
      "text/plain": [
       "96     45.0\n",
       "553     5.0\n",
       "560    10.0\n",
       "719    30.0\n",
       "728    30.0\n",
       "Name: CONT_TIME, dtype: object"
      ]
     },
     "execution_count": 34,
     "metadata": {},
     "output_type": "execute_result"
    }
   ],
   "source": [
    "fpa_fod[fpa_fod.CONT_TIME.str.len() < 5].CONT_TIME.head()"
   ]
  },
  {
   "cell_type": "code",
   "execution_count": 35,
   "id": "fb8559d1-05ec-469c-a096-649fd75753f9",
   "metadata": {},
   "outputs": [],
   "source": [
    "# get the index of the above values\n",
    "index = fpa_fod[fpa_fod.CONT_TIME.str.len() < 5].index\n",
    "# update the invalid time values to '0000.0'\n",
    "fpa_fod.loc[index, 'CONT_TIME'] = '0000.0'"
   ]
  },
  {
   "cell_type": "markdown",
   "id": "63b393f7-2f90-48ed-bc7a-bfb67c7702ea",
   "metadata": {},
   "source": [
    "#### How many values remain that are not `'0000.0'`?"
   ]
  },
  {
   "cell_type": "code",
   "execution_count": 36,
   "id": "f7a8ae6f-b20c-4818-b5bb-5c10609e12a4",
   "metadata": {},
   "outputs": [
    {
     "name": "stdout",
     "output_type": "stream",
     "text": [
      "1218783 values remain \n",
      "\n"
     ]
    }
   ],
   "source": [
    "print(f\"{fpa_fod[fpa_fod.CONT_TIME != '0000.0'].CONT_TIME.shape[0]} values remain \\n\")"
   ]
  },
  {
   "cell_type": "markdown",
   "id": "a4e861f0-c7cc-4377-ad30-14424778e3c4",
   "metadata": {},
   "source": [
    "#### Quick check to ensure that the remaining times are within the valid 24 hour time range"
   ]
  },
  {
   "cell_type": "code",
   "execution_count": 37,
   "id": "64391063-0ac2-4584-b540-e8d155d60e56",
   "metadata": {},
   "outputs": [
    {
     "name": "stdout",
     "output_type": "stream",
     "text": [
      "Series([], Name: CONT_TIME, dtype: object)\n",
      "Series([], Name: CONT_TIME, dtype: object)\n"
     ]
    }
   ],
   "source": [
    "print(fpa_fod.loc[lambda fpa_fod: fpa_fod.CONT_TIME.astype(float) < 0].CONT_TIME)\n",
    "print(fpa_fod.loc[lambda fpa_fod: fpa_fod.CONT_TIME.astype(float) > 2400].CONT_TIME)"
   ]
  },
  {
   "cell_type": "markdown",
   "id": "85762305-00fe-43f8-ba05-49ba43b7466e",
   "metadata": {},
   "source": [
    "#### Now we can merge the features that are time related into one, unified `FIRE_CONT_DATE`. We have to be more cautious compared to the `FIRE_DATE`, since `DISCOVERY_DOY` had no null values but `CONT_DOY` has several null values. These dates can not be used, and we will set them to `NaT`"
   ]
  },
  {
   "cell_type": "code",
   "execution_count": 38,
   "id": "04577e4b-cb7e-4423-87e0-832b36be6060",
   "metadata": {},
   "outputs": [],
   "source": [
    "def insert_time_fpa_fod_cont(row):\n",
    "    time = pd.to_datetime(row['CONT_TIME'], format='%H%M')\n",
    "    row['FIRE_CONT_DATE'] = row['FIRE_CONT_DATE'].replace(hour=time.hour, minute=time.minute)\n",
    "    return row"
   ]
  },
  {
   "cell_type": "markdown",
   "id": "8640b521-3aba-4a49-a1cb-59408c793988",
   "metadata": {},
   "source": [
    "#### Setting `errors='coerce'` ensures that the `400` values in CONT_DOY will cause `FIRE_CONT_DATE` to be set to `NaT`"
   ]
  },
  {
   "cell_type": "code",
   "execution_count": 39,
   "id": "d92a4e1f-0ae2-4fc0-9a7a-bdde3b033fa4",
   "metadata": {},
   "outputs": [
    {
     "name": "stderr",
     "output_type": "stream",
     "text": [
      "100%|████████████████████████████| 2166753/2166753 [09:53<00:00, 3648.38it/s]\n"
     ]
    }
   ],
   "source": [
    "# convert columns to string before applying to_datetime function\n",
    "fpa_fod = fpa_fod.astype({'FIRE_CONT_YEAR':'str', 'CONT_DOY': 'str'})\n",
    "\n",
    "# process date of fire (contained)\n",
    "fpa_fod['FIRE_CONT_DATE'] = pd.to_datetime(\n",
    "    fpa_fod['FIRE_CONT_YEAR'] + ' ' + fpa_fod['CONT_DOY'], format='%Y %j',\n",
    "    utc=True, errors='coerce')\n",
    "\n",
    "# remove the .0 from each CONT_TIME so that they are in correct %H%M format\n",
    "fpa_fod['CONT_TIME'] = fpa_fod['CONT_TIME'].str[:-2]\n",
    "\n",
    "# process time of fire (contained)\n",
    "fpa_fod = fpa_fod.progress_apply(lambda row: insert_time_fpa_fod_cont(row), axis=1)"
   ]
  },
  {
   "cell_type": "code",
   "execution_count": 40,
   "id": "ec2deade-3279-4aa4-9639-2523b492ebc5",
   "metadata": {},
   "outputs": [
    {
     "data": {
      "text/plain": [
       "2166748   NaT\n",
       "2166749   NaT\n",
       "2166750   NaT\n",
       "2166751   NaT\n",
       "2166752   NaT\n",
       "Name: FIRE_CONT_DATE, dtype: datetime64[ns, UTC]"
      ]
     },
     "execution_count": 40,
     "metadata": {},
     "output_type": "execute_result"
    }
   ],
   "source": [
    "fpa_fod.tail().FIRE_CONT_DATE"
   ]
  },
  {
   "cell_type": "code",
   "execution_count": 41,
   "id": "f9111fe9-1fe3-4b07-9328-fb1b2063f361",
   "metadata": {},
   "outputs": [],
   "source": [
    "# always drop DOY and TIME after cleaning up both FIRE_CONT_DATE and FIRE_DATE\n",
    "fpa_fod.drop(columns=['CONT_DOY', 'CONT_TIME','DISCOVERY_DOY', 'DISCOVERY_TIME'\n",
    "                     , 'FIRE_CONT_YEAR'], inplace=True)"
   ]
  },
  {
   "cell_type": "markdown",
   "id": "43e916b7",
   "metadata": {},
   "source": [
    "### Check null values for columns we *care about*"
   ]
  },
  {
   "cell_type": "code",
   "execution_count": 42,
   "id": "b84b0140",
   "metadata": {},
   "outputs": [],
   "source": [
    "keep_cols = ['FOD_ID', 'FIRE_YEAR', 'FIRE_DATE', 'FIRE_CONT_DATE', 'GENERAL_CAUSE',\n",
    "             'SPECIFIC_CAUSE', 'FIRE_SIZE', 'FIRE_SIZE_CLASS', 'STATE']"
   ]
  },
  {
   "cell_type": "code",
   "execution_count": 43,
   "id": "d6ff4502",
   "metadata": {},
   "outputs": [
    {
     "name": "stdout",
     "output_type": "stream",
     "text": [
      "FOD_ID has 0 null values\n",
      "FIRE_YEAR has 0 null values\n",
      "FIRE_DATE has 0 null values\n",
      "FIRE_CONT_DATE has 854553 null values\n",
      "GENERAL_CAUSE has 1 null values\n",
      "SPECIFIC_CAUSE has 0 null values\n",
      "FIRE_SIZE has 0 null values\n",
      "FIRE_SIZE_CLASS has 0 null values\n",
      "STATE has 0 null values\n"
     ]
    }
   ],
   "source": [
    "for col in keep_cols: \n",
    "    print(f\"{col} has {fpa_fod[col].isna().sum()} null values\")"
   ]
  },
  {
   "cell_type": "markdown",
   "id": "ecd66a40",
   "metadata": {},
   "source": [
    "#### `GENERAL_CAUSE` is the only column that has a null value (we will not drop rows where `FIRE_CONT_DATE` is `NaT`"
   ]
  },
  {
   "cell_type": "code",
   "execution_count": 44,
   "id": "c703b4da",
   "metadata": {},
   "outputs": [
    {
     "name": "stdout",
     "output_type": "stream",
     "text": [
      "Human                                      1680058\n",
      "Natural                                     312807\n",
      "Missing data/not specified/undetermined     173888\n",
      "Name: GENERAL_CAUSE, dtype: int64\n"
     ]
    }
   ],
   "source": [
    "fpa_fod.fillna({'GENERAL_CAUSE': 'Missing data/not specified/undetermined'}, inplace=True)\n",
    "print(fpa_fod.GENERAL_CAUSE.value_counts(dropna=False))"
   ]
  },
  {
   "cell_type": "markdown",
   "id": "c873ca80-7ec7-4716-b848-d28c3e5cd1e4",
   "metadata": {
    "tags": []
   },
   "source": [
    "#### Now that `FIRE_DATE` is nicely formatted and has *datetime64 dtype*, we can use it as the index of the DataFrame"
   ]
  },
  {
   "cell_type": "code",
   "execution_count": 45,
   "id": "3e63fdef-7578-4e44-8fc0-785532b280f4",
   "metadata": {},
   "outputs": [],
   "source": [
    "# sorting the index allows for better data slicing\n",
    "fpa_fod = fpa_fod.set_index('FIRE_DATE').sort_index()"
   ]
  },
  {
   "cell_type": "markdown",
   "id": "3b723cb0",
   "metadata": {},
   "source": [
    "## View newly cleaned (!) dataframe and its attributes"
   ]
  },
  {
   "cell_type": "code",
   "execution_count": 46,
   "id": "aaeabff2",
   "metadata": {},
   "outputs": [
    {
     "data": {
      "text/html": [
       "<div>\n",
       "<style scoped>\n",
       "    .dataframe tbody tr th:only-of-type {\n",
       "        vertical-align: middle;\n",
       "    }\n",
       "\n",
       "    .dataframe tbody tr th {\n",
       "        vertical-align: top;\n",
       "    }\n",
       "\n",
       "    .dataframe thead th {\n",
       "        text-align: right;\n",
       "    }\n",
       "</style>\n",
       "<table border=\"1\" class=\"dataframe\">\n",
       "  <thead>\n",
       "    <tr style=\"text-align: right;\">\n",
       "      <th></th>\n",
       "      <th>FOD_ID</th>\n",
       "      <th>FPA_ID</th>\n",
       "      <th>SOURCE_SYSTEM_TYPE</th>\n",
       "      <th>SOURCE_SYSTEM</th>\n",
       "      <th>NWCG_REPORTING_AGENCY</th>\n",
       "      <th>NWCG_REPORTING_UNIT_ID</th>\n",
       "      <th>NWCG_REPORTING_UNIT_NAME</th>\n",
       "      <th>SOURCE_REPORTING_UNIT</th>\n",
       "      <th>SOURCE_REPORTING_UNIT_NAME</th>\n",
       "      <th>LOCAL_FIRE_REPORT_ID</th>\n",
       "      <th>...</th>\n",
       "      <th>NWCG_CAUSE_AGE_CATEGORY</th>\n",
       "      <th>FIRE_CONT_DATE</th>\n",
       "      <th>FIRE_SIZE</th>\n",
       "      <th>FIRE_SIZE_CLASS</th>\n",
       "      <th>OWNER_DESCR</th>\n",
       "      <th>STATE</th>\n",
       "      <th>COUNTY</th>\n",
       "      <th>FIPS_CODE</th>\n",
       "      <th>FIPS_NAME</th>\n",
       "      <th>geometry</th>\n",
       "    </tr>\n",
       "    <tr>\n",
       "      <th>FIRE_DATE</th>\n",
       "      <th></th>\n",
       "      <th></th>\n",
       "      <th></th>\n",
       "      <th></th>\n",
       "      <th></th>\n",
       "      <th></th>\n",
       "      <th></th>\n",
       "      <th></th>\n",
       "      <th></th>\n",
       "      <th></th>\n",
       "      <th></th>\n",
       "      <th></th>\n",
       "      <th></th>\n",
       "      <th></th>\n",
       "      <th></th>\n",
       "      <th></th>\n",
       "      <th></th>\n",
       "      <th></th>\n",
       "      <th></th>\n",
       "      <th></th>\n",
       "      <th></th>\n",
       "    </tr>\n",
       "  </thead>\n",
       "  <tbody>\n",
       "    <tr>\n",
       "      <th>1992-01-01 00:00:00+00:00</th>\n",
       "      <td>878172</td>\n",
       "      <td>SCHMIDT_56005192</td>\n",
       "      <td>NONFED</td>\n",
       "      <td>ST-WYWYS</td>\n",
       "      <td>ST/C&amp;L</td>\n",
       "      <td>USWYWYS</td>\n",
       "      <td>Wyoming State Forestry</td>\n",
       "      <td>WYWYS</td>\n",
       "      <td>Wyoming State Forestry</td>\n",
       "      <td>None</td>\n",
       "      <td>...</td>\n",
       "      <td>None</td>\n",
       "      <td>NaT</td>\n",
       "      <td>5.0</td>\n",
       "      <td>B</td>\n",
       "      <td>MISSING/NOT SPECIFIED</td>\n",
       "      <td>WY</td>\n",
       "      <td>Albany</td>\n",
       "      <td>56001</td>\n",
       "      <td>Albany County</td>\n",
       "      <td>POINT (-105.35980 42.01045)</td>\n",
       "    </tr>\n",
       "    <tr>\n",
       "      <th>1992-01-01 00:00:00+00:00</th>\n",
       "      <td>1100723</td>\n",
       "      <td>TFS_FL_54676</td>\n",
       "      <td>NONFED</td>\n",
       "      <td>ST-FLFLS</td>\n",
       "      <td>ST/C&amp;L</td>\n",
       "      <td>USFLFLS</td>\n",
       "      <td>Florida Forest Service</td>\n",
       "      <td>FLFLS5</td>\n",
       "      <td>FLS Perry District</td>\n",
       "      <td>None</td>\n",
       "      <td>...</td>\n",
       "      <td>None</td>\n",
       "      <td>NaT</td>\n",
       "      <td>4.0</td>\n",
       "      <td>B</td>\n",
       "      <td>MISSING/NOT SPECIFIED</td>\n",
       "      <td>FL</td>\n",
       "      <td>Lafayette</td>\n",
       "      <td>12067</td>\n",
       "      <td>Lafayette County</td>\n",
       "      <td>POINT (-83.03000 29.98000)</td>\n",
       "    </tr>\n",
       "    <tr>\n",
       "      <th>1992-01-01 00:00:00+00:00</th>\n",
       "      <td>1100722</td>\n",
       "      <td>TFS_FL_54675</td>\n",
       "      <td>NONFED</td>\n",
       "      <td>ST-FLFLS</td>\n",
       "      <td>ST/C&amp;L</td>\n",
       "      <td>USFLFLS</td>\n",
       "      <td>Florida Forest Service</td>\n",
       "      <td>FLFLS5</td>\n",
       "      <td>FLS Perry District</td>\n",
       "      <td>None</td>\n",
       "      <td>...</td>\n",
       "      <td>None</td>\n",
       "      <td>NaT</td>\n",
       "      <td>8.0</td>\n",
       "      <td>B</td>\n",
       "      <td>MISSING/NOT SPECIFIED</td>\n",
       "      <td>FL</td>\n",
       "      <td>Dixie</td>\n",
       "      <td>12029</td>\n",
       "      <td>Dixie County</td>\n",
       "      <td>POINT (-83.21000 29.54000)</td>\n",
       "    </tr>\n",
       "    <tr>\n",
       "      <th>1992-01-01 00:00:00+00:00</th>\n",
       "      <td>878247</td>\n",
       "      <td>SCHMIDT_56046592</td>\n",
       "      <td>NONFED</td>\n",
       "      <td>ST-WYWYS</td>\n",
       "      <td>ST/C&amp;L</td>\n",
       "      <td>USWYWYS</td>\n",
       "      <td>Wyoming State Forestry</td>\n",
       "      <td>WYWYS</td>\n",
       "      <td>Wyoming State Forestry</td>\n",
       "      <td>None</td>\n",
       "      <td>...</td>\n",
       "      <td>None</td>\n",
       "      <td>NaT</td>\n",
       "      <td>8.0</td>\n",
       "      <td>B</td>\n",
       "      <td>MISSING/NOT SPECIFIED</td>\n",
       "      <td>WY</td>\n",
       "      <td>Goshen</td>\n",
       "      <td>56015</td>\n",
       "      <td>Goshen County</td>\n",
       "      <td>POINT (-104.19750 41.73458)</td>\n",
       "    </tr>\n",
       "    <tr>\n",
       "      <th>1992-01-01 00:00:00+00:00</th>\n",
       "      <td>846971</td>\n",
       "      <td>SC_26961</td>\n",
       "      <td>NONFED</td>\n",
       "      <td>ST-SCSCS</td>\n",
       "      <td>ST/C&amp;L</td>\n",
       "      <td>USSCSCS</td>\n",
       "      <td>South Carolina Forestry Commission</td>\n",
       "      <td>SCSCS</td>\n",
       "      <td>South Carolina Forestry Commission</td>\n",
       "      <td>None</td>\n",
       "      <td>...</td>\n",
       "      <td>None</td>\n",
       "      <td>1992-01-01 11:22:00+00:00</td>\n",
       "      <td>4.0</td>\n",
       "      <td>B</td>\n",
       "      <td>MISSING/NOT SPECIFIED</td>\n",
       "      <td>SC</td>\n",
       "      <td>43</td>\n",
       "      <td>45085</td>\n",
       "      <td>Sumter County</td>\n",
       "      <td>POINT (-80.27917 33.92083)</td>\n",
       "    </tr>\n",
       "  </tbody>\n",
       "</table>\n",
       "<p>5 rows × 31 columns</p>\n",
       "</div>"
      ],
      "text/plain": [
       "                            FOD_ID            FPA_ID SOURCE_SYSTEM_TYPE  \\\n",
       "FIRE_DATE                                                                 \n",
       "1992-01-01 00:00:00+00:00   878172  SCHMIDT_56005192             NONFED   \n",
       "1992-01-01 00:00:00+00:00  1100723      TFS_FL_54676             NONFED   \n",
       "1992-01-01 00:00:00+00:00  1100722      TFS_FL_54675             NONFED   \n",
       "1992-01-01 00:00:00+00:00   878247  SCHMIDT_56046592             NONFED   \n",
       "1992-01-01 00:00:00+00:00   846971          SC_26961             NONFED   \n",
       "\n",
       "                          SOURCE_SYSTEM NWCG_REPORTING_AGENCY  \\\n",
       "FIRE_DATE                                                       \n",
       "1992-01-01 00:00:00+00:00      ST-WYWYS                ST/C&L   \n",
       "1992-01-01 00:00:00+00:00      ST-FLFLS                ST/C&L   \n",
       "1992-01-01 00:00:00+00:00      ST-FLFLS                ST/C&L   \n",
       "1992-01-01 00:00:00+00:00      ST-WYWYS                ST/C&L   \n",
       "1992-01-01 00:00:00+00:00      ST-SCSCS                ST/C&L   \n",
       "\n",
       "                          NWCG_REPORTING_UNIT_ID  \\\n",
       "FIRE_DATE                                          \n",
       "1992-01-01 00:00:00+00:00                USWYWYS   \n",
       "1992-01-01 00:00:00+00:00                USFLFLS   \n",
       "1992-01-01 00:00:00+00:00                USFLFLS   \n",
       "1992-01-01 00:00:00+00:00                USWYWYS   \n",
       "1992-01-01 00:00:00+00:00                USSCSCS   \n",
       "\n",
       "                                     NWCG_REPORTING_UNIT_NAME  \\\n",
       "FIRE_DATE                                                       \n",
       "1992-01-01 00:00:00+00:00              Wyoming State Forestry   \n",
       "1992-01-01 00:00:00+00:00              Florida Forest Service   \n",
       "1992-01-01 00:00:00+00:00              Florida Forest Service   \n",
       "1992-01-01 00:00:00+00:00              Wyoming State Forestry   \n",
       "1992-01-01 00:00:00+00:00  South Carolina Forestry Commission   \n",
       "\n",
       "                          SOURCE_REPORTING_UNIT  \\\n",
       "FIRE_DATE                                         \n",
       "1992-01-01 00:00:00+00:00                 WYWYS   \n",
       "1992-01-01 00:00:00+00:00                FLFLS5   \n",
       "1992-01-01 00:00:00+00:00                FLFLS5   \n",
       "1992-01-01 00:00:00+00:00                 WYWYS   \n",
       "1992-01-01 00:00:00+00:00                 SCSCS   \n",
       "\n",
       "                                   SOURCE_REPORTING_UNIT_NAME  \\\n",
       "FIRE_DATE                                                       \n",
       "1992-01-01 00:00:00+00:00              Wyoming State Forestry   \n",
       "1992-01-01 00:00:00+00:00                  FLS Perry District   \n",
       "1992-01-01 00:00:00+00:00                  FLS Perry District   \n",
       "1992-01-01 00:00:00+00:00              Wyoming State Forestry   \n",
       "1992-01-01 00:00:00+00:00  South Carolina Forestry Commission   \n",
       "\n",
       "                          LOCAL_FIRE_REPORT_ID  ... NWCG_CAUSE_AGE_CATEGORY  \\\n",
       "FIRE_DATE                                       ...                           \n",
       "1992-01-01 00:00:00+00:00                 None  ...                    None   \n",
       "1992-01-01 00:00:00+00:00                 None  ...                    None   \n",
       "1992-01-01 00:00:00+00:00                 None  ...                    None   \n",
       "1992-01-01 00:00:00+00:00                 None  ...                    None   \n",
       "1992-01-01 00:00:00+00:00                 None  ...                    None   \n",
       "\n",
       "                                     FIRE_CONT_DATE FIRE_SIZE FIRE_SIZE_CLASS  \\\n",
       "FIRE_DATE                                                                       \n",
       "1992-01-01 00:00:00+00:00                       NaT       5.0               B   \n",
       "1992-01-01 00:00:00+00:00                       NaT       4.0               B   \n",
       "1992-01-01 00:00:00+00:00                       NaT       8.0               B   \n",
       "1992-01-01 00:00:00+00:00                       NaT       8.0               B   \n",
       "1992-01-01 00:00:00+00:00 1992-01-01 11:22:00+00:00       4.0               B   \n",
       "\n",
       "                                     OWNER_DESCR STATE     COUNTY FIPS_CODE  \\\n",
       "FIRE_DATE                                                                     \n",
       "1992-01-01 00:00:00+00:00  MISSING/NOT SPECIFIED    WY     Albany     56001   \n",
       "1992-01-01 00:00:00+00:00  MISSING/NOT SPECIFIED    FL  Lafayette     12067   \n",
       "1992-01-01 00:00:00+00:00  MISSING/NOT SPECIFIED    FL      Dixie     12029   \n",
       "1992-01-01 00:00:00+00:00  MISSING/NOT SPECIFIED    WY     Goshen     56015   \n",
       "1992-01-01 00:00:00+00:00  MISSING/NOT SPECIFIED    SC         43     45085   \n",
       "\n",
       "                                  FIPS_NAME                     geometry  \n",
       "FIRE_DATE                                                                 \n",
       "1992-01-01 00:00:00+00:00     Albany County  POINT (-105.35980 42.01045)  \n",
       "1992-01-01 00:00:00+00:00  Lafayette County   POINT (-83.03000 29.98000)  \n",
       "1992-01-01 00:00:00+00:00      Dixie County   POINT (-83.21000 29.54000)  \n",
       "1992-01-01 00:00:00+00:00     Goshen County  POINT (-104.19750 41.73458)  \n",
       "1992-01-01 00:00:00+00:00     Sumter County   POINT (-80.27917 33.92083)  \n",
       "\n",
       "[5 rows x 31 columns]"
      ]
     },
     "execution_count": 46,
     "metadata": {},
     "output_type": "execute_result"
    }
   ],
   "source": [
    "fpa_fod.head()"
   ]
  },
  {
   "cell_type": "code",
   "execution_count": 47,
   "id": "29905e7d-e516-4e1e-a241-8e4384d61dfa",
   "metadata": {},
   "outputs": [
    {
     "data": {
      "text/html": [
       "<div>\n",
       "<style scoped>\n",
       "    .dataframe tbody tr th:only-of-type {\n",
       "        vertical-align: middle;\n",
       "    }\n",
       "\n",
       "    .dataframe tbody tr th {\n",
       "        vertical-align: top;\n",
       "    }\n",
       "\n",
       "    .dataframe thead th {\n",
       "        text-align: right;\n",
       "    }\n",
       "</style>\n",
       "<table border=\"1\" class=\"dataframe\">\n",
       "  <thead>\n",
       "    <tr style=\"text-align: right;\">\n",
       "      <th></th>\n",
       "      <th>FOD_ID</th>\n",
       "      <th>FPA_ID</th>\n",
       "      <th>SOURCE_SYSTEM_TYPE</th>\n",
       "      <th>SOURCE_SYSTEM</th>\n",
       "      <th>NWCG_REPORTING_AGENCY</th>\n",
       "      <th>NWCG_REPORTING_UNIT_ID</th>\n",
       "      <th>NWCG_REPORTING_UNIT_NAME</th>\n",
       "      <th>SOURCE_REPORTING_UNIT</th>\n",
       "      <th>SOURCE_REPORTING_UNIT_NAME</th>\n",
       "      <th>LOCAL_FIRE_REPORT_ID</th>\n",
       "      <th>...</th>\n",
       "      <th>NWCG_CAUSE_AGE_CATEGORY</th>\n",
       "      <th>FIRE_CONT_DATE</th>\n",
       "      <th>FIRE_SIZE</th>\n",
       "      <th>FIRE_SIZE_CLASS</th>\n",
       "      <th>OWNER_DESCR</th>\n",
       "      <th>STATE</th>\n",
       "      <th>COUNTY</th>\n",
       "      <th>FIPS_CODE</th>\n",
       "      <th>FIPS_NAME</th>\n",
       "      <th>geometry</th>\n",
       "    </tr>\n",
       "    <tr>\n",
       "      <th>FIRE_DATE</th>\n",
       "      <th></th>\n",
       "      <th></th>\n",
       "      <th></th>\n",
       "      <th></th>\n",
       "      <th></th>\n",
       "      <th></th>\n",
       "      <th></th>\n",
       "      <th></th>\n",
       "      <th></th>\n",
       "      <th></th>\n",
       "      <th></th>\n",
       "      <th></th>\n",
       "      <th></th>\n",
       "      <th></th>\n",
       "      <th></th>\n",
       "      <th></th>\n",
       "      <th></th>\n",
       "      <th></th>\n",
       "      <th></th>\n",
       "      <th></th>\n",
       "      <th></th>\n",
       "    </tr>\n",
       "  </thead>\n",
       "  <tbody>\n",
       "    <tr>\n",
       "      <th>2018-12-31 23:20:00+00:00</th>\n",
       "      <td>400472945</td>\n",
       "      <td>SFO-2018AZPHX201810823</td>\n",
       "      <td>NONFED</td>\n",
       "      <td>ST-NASF</td>\n",
       "      <td>ST/C&amp;L</td>\n",
       "      <td>USAZPHX</td>\n",
       "      <td>Phoenix Fire Department</td>\n",
       "      <td>AZPHX</td>\n",
       "      <td>Phoenix Fire Department</td>\n",
       "      <td>None</td>\n",
       "      <td>...</td>\n",
       "      <td>None</td>\n",
       "      <td>2018-12-31 23:34:00+00:00</td>\n",
       "      <td>0.10</td>\n",
       "      <td>A</td>\n",
       "      <td>MISSING/NOT SPECIFIED</td>\n",
       "      <td>AZ</td>\n",
       "      <td>Maricopa</td>\n",
       "      <td>04013</td>\n",
       "      <td>Maricopa County</td>\n",
       "      <td>POINT (-112.22634 33.47175)</td>\n",
       "    </tr>\n",
       "    <tr>\n",
       "      <th>2018-12-31 23:46:00+00:00</th>\n",
       "      <td>400375295</td>\n",
       "      <td>SFO-2018CACDFSCU181434</td>\n",
       "      <td>NONFED</td>\n",
       "      <td>ST-NASF</td>\n",
       "      <td>ST/C&amp;L</td>\n",
       "      <td>USCACDF</td>\n",
       "      <td>California Department of Forestry &amp; Fire Prote...</td>\n",
       "      <td>CACDF</td>\n",
       "      <td>Headquarters, California Department of Forestr...</td>\n",
       "      <td>None</td>\n",
       "      <td>...</td>\n",
       "      <td>None</td>\n",
       "      <td>NaT</td>\n",
       "      <td>0.01</td>\n",
       "      <td>A</td>\n",
       "      <td>MISSING/NOT SPECIFIED</td>\n",
       "      <td>CA</td>\n",
       "      <td>ALAMEDA</td>\n",
       "      <td>06001</td>\n",
       "      <td>Alameda County</td>\n",
       "      <td>POINT (-121.71741 37.71438)</td>\n",
       "    </tr>\n",
       "    <tr>\n",
       "      <th>2018-12-31 23:47:00+00:00</th>\n",
       "      <td>400480891</td>\n",
       "      <td>SFO-2018AZPHX201810824</td>\n",
       "      <td>NONFED</td>\n",
       "      <td>ST-NASF</td>\n",
       "      <td>ST/C&amp;L</td>\n",
       "      <td>USAZPHX</td>\n",
       "      <td>Phoenix Fire Department</td>\n",
       "      <td>AZPHX</td>\n",
       "      <td>Phoenix Fire Department</td>\n",
       "      <td>None</td>\n",
       "      <td>...</td>\n",
       "      <td>None</td>\n",
       "      <td>2019-01-01 00:00:00+00:00</td>\n",
       "      <td>0.10</td>\n",
       "      <td>A</td>\n",
       "      <td>MISSING/NOT SPECIFIED</td>\n",
       "      <td>AZ</td>\n",
       "      <td>Maricopa</td>\n",
       "      <td>04013</td>\n",
       "      <td>Maricopa County</td>\n",
       "      <td>POINT (-112.11263 33.52908)</td>\n",
       "    </tr>\n",
       "    <tr>\n",
       "      <th>2018-12-31 23:52:00+00:00</th>\n",
       "      <td>400479171</td>\n",
       "      <td>SFO-2018AZPHX201810825</td>\n",
       "      <td>NONFED</td>\n",
       "      <td>ST-NASF</td>\n",
       "      <td>ST/C&amp;L</td>\n",
       "      <td>USAZPHX</td>\n",
       "      <td>Phoenix Fire Department</td>\n",
       "      <td>AZPHX</td>\n",
       "      <td>Phoenix Fire Department</td>\n",
       "      <td>None</td>\n",
       "      <td>...</td>\n",
       "      <td>None</td>\n",
       "      <td>2019-01-01 00:00:00+00:00</td>\n",
       "      <td>0.10</td>\n",
       "      <td>A</td>\n",
       "      <td>MISSING/NOT SPECIFIED</td>\n",
       "      <td>AZ</td>\n",
       "      <td>Maricopa</td>\n",
       "      <td>04013</td>\n",
       "      <td>Maricopa County</td>\n",
       "      <td>POINT (-112.21023 33.49478)</td>\n",
       "    </tr>\n",
       "    <tr>\n",
       "      <th>2018-12-31 23:59:00+00:00</th>\n",
       "      <td>400478615</td>\n",
       "      <td>SFO-2018AZTMP201810826</td>\n",
       "      <td>NONFED</td>\n",
       "      <td>ST-NASF</td>\n",
       "      <td>ST/C&amp;L</td>\n",
       "      <td>USAZTMP</td>\n",
       "      <td>Tempe Fire Department</td>\n",
       "      <td>AZTMP</td>\n",
       "      <td>Tempe Fire Department</td>\n",
       "      <td>None</td>\n",
       "      <td>...</td>\n",
       "      <td>None</td>\n",
       "      <td>2019-01-01 00:00:00+00:00</td>\n",
       "      <td>0.10</td>\n",
       "      <td>A</td>\n",
       "      <td>MISSING/NOT SPECIFIED</td>\n",
       "      <td>AZ</td>\n",
       "      <td>Maricopa</td>\n",
       "      <td>04013</td>\n",
       "      <td>Maricopa County</td>\n",
       "      <td>POINT (-111.88318 33.41199)</td>\n",
       "    </tr>\n",
       "  </tbody>\n",
       "</table>\n",
       "<p>5 rows × 31 columns</p>\n",
       "</div>"
      ],
      "text/plain": [
       "                              FOD_ID                  FPA_ID  \\\n",
       "FIRE_DATE                                                      \n",
       "2018-12-31 23:20:00+00:00  400472945  SFO-2018AZPHX201810823   \n",
       "2018-12-31 23:46:00+00:00  400375295  SFO-2018CACDFSCU181434   \n",
       "2018-12-31 23:47:00+00:00  400480891  SFO-2018AZPHX201810824   \n",
       "2018-12-31 23:52:00+00:00  400479171  SFO-2018AZPHX201810825   \n",
       "2018-12-31 23:59:00+00:00  400478615  SFO-2018AZTMP201810826   \n",
       "\n",
       "                          SOURCE_SYSTEM_TYPE SOURCE_SYSTEM  \\\n",
       "FIRE_DATE                                                    \n",
       "2018-12-31 23:20:00+00:00             NONFED       ST-NASF   \n",
       "2018-12-31 23:46:00+00:00             NONFED       ST-NASF   \n",
       "2018-12-31 23:47:00+00:00             NONFED       ST-NASF   \n",
       "2018-12-31 23:52:00+00:00             NONFED       ST-NASF   \n",
       "2018-12-31 23:59:00+00:00             NONFED       ST-NASF   \n",
       "\n",
       "                          NWCG_REPORTING_AGENCY NWCG_REPORTING_UNIT_ID  \\\n",
       "FIRE_DATE                                                                \n",
       "2018-12-31 23:20:00+00:00                ST/C&L                USAZPHX   \n",
       "2018-12-31 23:46:00+00:00                ST/C&L                USCACDF   \n",
       "2018-12-31 23:47:00+00:00                ST/C&L                USAZPHX   \n",
       "2018-12-31 23:52:00+00:00                ST/C&L                USAZPHX   \n",
       "2018-12-31 23:59:00+00:00                ST/C&L                USAZTMP   \n",
       "\n",
       "                                                    NWCG_REPORTING_UNIT_NAME  \\\n",
       "FIRE_DATE                                                                      \n",
       "2018-12-31 23:20:00+00:00                            Phoenix Fire Department   \n",
       "2018-12-31 23:46:00+00:00  California Department of Forestry & Fire Prote...   \n",
       "2018-12-31 23:47:00+00:00                            Phoenix Fire Department   \n",
       "2018-12-31 23:52:00+00:00                            Phoenix Fire Department   \n",
       "2018-12-31 23:59:00+00:00                              Tempe Fire Department   \n",
       "\n",
       "                          SOURCE_REPORTING_UNIT  \\\n",
       "FIRE_DATE                                         \n",
       "2018-12-31 23:20:00+00:00                 AZPHX   \n",
       "2018-12-31 23:46:00+00:00                 CACDF   \n",
       "2018-12-31 23:47:00+00:00                 AZPHX   \n",
       "2018-12-31 23:52:00+00:00                 AZPHX   \n",
       "2018-12-31 23:59:00+00:00                 AZTMP   \n",
       "\n",
       "                                                  SOURCE_REPORTING_UNIT_NAME  \\\n",
       "FIRE_DATE                                                                      \n",
       "2018-12-31 23:20:00+00:00                            Phoenix Fire Department   \n",
       "2018-12-31 23:46:00+00:00  Headquarters, California Department of Forestr...   \n",
       "2018-12-31 23:47:00+00:00                            Phoenix Fire Department   \n",
       "2018-12-31 23:52:00+00:00                            Phoenix Fire Department   \n",
       "2018-12-31 23:59:00+00:00                              Tempe Fire Department   \n",
       "\n",
       "                          LOCAL_FIRE_REPORT_ID  ... NWCG_CAUSE_AGE_CATEGORY  \\\n",
       "FIRE_DATE                                       ...                           \n",
       "2018-12-31 23:20:00+00:00                 None  ...                    None   \n",
       "2018-12-31 23:46:00+00:00                 None  ...                    None   \n",
       "2018-12-31 23:47:00+00:00                 None  ...                    None   \n",
       "2018-12-31 23:52:00+00:00                 None  ...                    None   \n",
       "2018-12-31 23:59:00+00:00                 None  ...                    None   \n",
       "\n",
       "                                     FIRE_CONT_DATE FIRE_SIZE FIRE_SIZE_CLASS  \\\n",
       "FIRE_DATE                                                                       \n",
       "2018-12-31 23:20:00+00:00 2018-12-31 23:34:00+00:00      0.10               A   \n",
       "2018-12-31 23:46:00+00:00                       NaT      0.01               A   \n",
       "2018-12-31 23:47:00+00:00 2019-01-01 00:00:00+00:00      0.10               A   \n",
       "2018-12-31 23:52:00+00:00 2019-01-01 00:00:00+00:00      0.10               A   \n",
       "2018-12-31 23:59:00+00:00 2019-01-01 00:00:00+00:00      0.10               A   \n",
       "\n",
       "                                     OWNER_DESCR STATE    COUNTY FIPS_CODE  \\\n",
       "FIRE_DATE                                                                    \n",
       "2018-12-31 23:20:00+00:00  MISSING/NOT SPECIFIED    AZ  Maricopa     04013   \n",
       "2018-12-31 23:46:00+00:00  MISSING/NOT SPECIFIED    CA   ALAMEDA     06001   \n",
       "2018-12-31 23:47:00+00:00  MISSING/NOT SPECIFIED    AZ  Maricopa     04013   \n",
       "2018-12-31 23:52:00+00:00  MISSING/NOT SPECIFIED    AZ  Maricopa     04013   \n",
       "2018-12-31 23:59:00+00:00  MISSING/NOT SPECIFIED    AZ  Maricopa     04013   \n",
       "\n",
       "                                 FIPS_NAME                     geometry  \n",
       "FIRE_DATE                                                                \n",
       "2018-12-31 23:20:00+00:00  Maricopa County  POINT (-112.22634 33.47175)  \n",
       "2018-12-31 23:46:00+00:00   Alameda County  POINT (-121.71741 37.71438)  \n",
       "2018-12-31 23:47:00+00:00  Maricopa County  POINT (-112.11263 33.52908)  \n",
       "2018-12-31 23:52:00+00:00  Maricopa County  POINT (-112.21023 33.49478)  \n",
       "2018-12-31 23:59:00+00:00  Maricopa County  POINT (-111.88318 33.41199)  \n",
       "\n",
       "[5 rows x 31 columns]"
      ]
     },
     "execution_count": 47,
     "metadata": {},
     "output_type": "execute_result"
    }
   ],
   "source": [
    "fpa_fod.tail()"
   ]
  },
  {
   "cell_type": "code",
   "execution_count": 48,
   "id": "2f0a2704",
   "metadata": {},
   "outputs": [
    {
     "data": {
      "text/plain": [
       "FOD_ID                                         int64\n",
       "FPA_ID                                        object\n",
       "SOURCE_SYSTEM_TYPE                            object\n",
       "SOURCE_SYSTEM                                 object\n",
       "NWCG_REPORTING_AGENCY                         object\n",
       "NWCG_REPORTING_UNIT_ID                        object\n",
       "NWCG_REPORTING_UNIT_NAME                      object\n",
       "SOURCE_REPORTING_UNIT                         object\n",
       "SOURCE_REPORTING_UNIT_NAME                    object\n",
       "LOCAL_FIRE_REPORT_ID                          object\n",
       "LOCAL_INCIDENT_ID                             object\n",
       "FIRE_CODE                                     object\n",
       "FIRE_NAME                                     object\n",
       "ICS_209_PLUS_INCIDENT_JOIN_ID                 object\n",
       "ICS_209_PLUS_COMPLEX_JOIN_ID                  object\n",
       "MTBS_ID                                       object\n",
       "MTBS_FIRE_NAME                                object\n",
       "COMPLEX_NAME                                  object\n",
       "FIRE_YEAR                                     object\n",
       "GENERAL_CAUSE                                 object\n",
       "SPECIFIC_CAUSE                                object\n",
       "NWCG_CAUSE_AGE_CATEGORY                       object\n",
       "FIRE_CONT_DATE                   datetime64[ns, UTC]\n",
       "FIRE_SIZE                                    float64\n",
       "FIRE_SIZE_CLASS                               object\n",
       "OWNER_DESCR                                   object\n",
       "STATE                                         object\n",
       "COUNTY                                        object\n",
       "FIPS_CODE                                     object\n",
       "FIPS_NAME                                     object\n",
       "geometry                                    geometry\n",
       "dtype: object"
      ]
     },
     "execution_count": 48,
     "metadata": {},
     "output_type": "execute_result"
    }
   ],
   "source": [
    "fpa_fod.dtypes"
   ]
  },
  {
   "cell_type": "code",
   "execution_count": 49,
   "id": "78222cd2",
   "metadata": {},
   "outputs": [
    {
     "data": {
      "text/plain": [
       "FOD_ID                                 0\n",
       "FPA_ID                                 0\n",
       "SOURCE_SYSTEM_TYPE                     0\n",
       "SOURCE_SYSTEM                          0\n",
       "NWCG_REPORTING_AGENCY                  0\n",
       "NWCG_REPORTING_UNIT_ID                 0\n",
       "NWCG_REPORTING_UNIT_NAME               0\n",
       "SOURCE_REPORTING_UNIT                  0\n",
       "SOURCE_REPORTING_UNIT_NAME             0\n",
       "LOCAL_FIRE_REPORT_ID             1701854\n",
       "LOCAL_INCIDENT_ID                 734948\n",
       "FIRE_CODE                        1797096\n",
       "FIRE_NAME                         939607\n",
       "ICS_209_PLUS_INCIDENT_JOIN_ID    2135993\n",
       "ICS_209_PLUS_COMPLEX_JOIN_ID     2165833\n",
       "MTBS_ID                          2153848\n",
       "MTBS_FIRE_NAME                   2153848\n",
       "COMPLEX_NAME                     2161081\n",
       "FIRE_YEAR                              0\n",
       "GENERAL_CAUSE                          0\n",
       "SPECIFIC_CAUSE                         0\n",
       "NWCG_CAUSE_AGE_CATEGORY          2093127\n",
       "FIRE_CONT_DATE                    854553\n",
       "FIRE_SIZE                              0\n",
       "FIRE_SIZE_CLASS                        0\n",
       "OWNER_DESCR                            0\n",
       "STATE                                  0\n",
       "COUNTY                            657235\n",
       "FIPS_CODE                         657235\n",
       "FIPS_NAME                         657236\n",
       "geometry                               0\n",
       "dtype: int64"
      ]
     },
     "execution_count": 49,
     "metadata": {},
     "output_type": "execute_result"
    }
   ],
   "source": [
    "fpa_fod.isna().sum()"
   ]
  },
  {
   "cell_type": "markdown",
   "id": "8de51dfa-93c4-4704-bd97-855b783e74a3",
   "metadata": {},
   "source": [
    "#### Convert features to `category` type again since they are object still ..."
   ]
  },
  {
   "cell_type": "code",
   "execution_count": 50,
   "id": "210c1c94-6591-4d91-80a3-26a98a0527af",
   "metadata": {},
   "outputs": [],
   "source": [
    "for col in ['GENERAL_CAUSE', 'SPECIFIC_CAUSE', 'FIRE_SIZE_CLASS', 'STATE']:\n",
    "        fpa_fod[col] = fpa_fod[col].astype('category')"
   ]
  },
  {
   "cell_type": "code",
   "execution_count": 51,
   "id": "b55f4230-8a2d-48f5-aa8f-ea4ad9c646dc",
   "metadata": {},
   "outputs": [
    {
     "data": {
      "text/plain": [
       "FOD_ID                                         int64\n",
       "FPA_ID                                        object\n",
       "SOURCE_SYSTEM_TYPE                            object\n",
       "SOURCE_SYSTEM                                 object\n",
       "NWCG_REPORTING_AGENCY                         object\n",
       "NWCG_REPORTING_UNIT_ID                        object\n",
       "NWCG_REPORTING_UNIT_NAME                      object\n",
       "SOURCE_REPORTING_UNIT                         object\n",
       "SOURCE_REPORTING_UNIT_NAME                    object\n",
       "LOCAL_FIRE_REPORT_ID                          object\n",
       "LOCAL_INCIDENT_ID                             object\n",
       "FIRE_CODE                                     object\n",
       "FIRE_NAME                                     object\n",
       "ICS_209_PLUS_INCIDENT_JOIN_ID                 object\n",
       "ICS_209_PLUS_COMPLEX_JOIN_ID                  object\n",
       "MTBS_ID                                       object\n",
       "MTBS_FIRE_NAME                                object\n",
       "COMPLEX_NAME                                  object\n",
       "FIRE_YEAR                                     object\n",
       "GENERAL_CAUSE                               category\n",
       "SPECIFIC_CAUSE                              category\n",
       "NWCG_CAUSE_AGE_CATEGORY                       object\n",
       "FIRE_CONT_DATE                   datetime64[ns, UTC]\n",
       "FIRE_SIZE                                    float64\n",
       "FIRE_SIZE_CLASS                             category\n",
       "OWNER_DESCR                                   object\n",
       "STATE                                       category\n",
       "COUNTY                                        object\n",
       "FIPS_CODE                                     object\n",
       "FIPS_NAME                                     object\n",
       "geometry                                    geometry\n",
       "dtype: object"
      ]
     },
     "execution_count": 51,
     "metadata": {},
     "output_type": "execute_result"
    }
   ],
   "source": [
    "fpa_fod.dtypes"
   ]
  },
  {
   "cell_type": "markdown",
   "id": "518b26ea-fe7a-47fd-9f3e-22c5fdb2171f",
   "metadata": {},
   "source": [
    "#### Done, now the DataFrame can be saved as a .pkl object. The file is roughly 600 MB and can be downloaded from the [data](https://drive.google.com/drive/folders/18YlVzuPCf-IXeQQSy0F3H32oG_KHEBhr?usp=sharing) folder"
   ]
  },
  {
   "cell_type": "code",
   "execution_count": 52,
   "id": "302b1aa8-75e0-4f01-8dfb-96361164e4a8",
   "metadata": {},
   "outputs": [],
   "source": [
    "fpa_fod.to_pickle('clean_fpa_fod_all.pkl')"
   ]
  },
  {
   "cell_type": "code",
   "execution_count": 53,
   "id": "0046c3d7-fda8-447d-9fb8-a42b346366c0",
   "metadata": {},
   "outputs": [
    {
     "data": {
      "text/html": [
       "<div>\n",
       "<style scoped>\n",
       "    .dataframe tbody tr th:only-of-type {\n",
       "        vertical-align: middle;\n",
       "    }\n",
       "\n",
       "    .dataframe tbody tr th {\n",
       "        vertical-align: top;\n",
       "    }\n",
       "\n",
       "    .dataframe thead th {\n",
       "        text-align: right;\n",
       "    }\n",
       "</style>\n",
       "<table border=\"1\" class=\"dataframe\">\n",
       "  <thead>\n",
       "    <tr style=\"text-align: right;\">\n",
       "      <th></th>\n",
       "      <th>FOD_ID</th>\n",
       "      <th>FPA_ID</th>\n",
       "      <th>SOURCE_SYSTEM_TYPE</th>\n",
       "      <th>SOURCE_SYSTEM</th>\n",
       "      <th>NWCG_REPORTING_AGENCY</th>\n",
       "      <th>NWCG_REPORTING_UNIT_ID</th>\n",
       "      <th>NWCG_REPORTING_UNIT_NAME</th>\n",
       "      <th>SOURCE_REPORTING_UNIT</th>\n",
       "      <th>SOURCE_REPORTING_UNIT_NAME</th>\n",
       "      <th>LOCAL_FIRE_REPORT_ID</th>\n",
       "      <th>...</th>\n",
       "      <th>NWCG_CAUSE_AGE_CATEGORY</th>\n",
       "      <th>FIRE_CONT_DATE</th>\n",
       "      <th>FIRE_SIZE</th>\n",
       "      <th>FIRE_SIZE_CLASS</th>\n",
       "      <th>OWNER_DESCR</th>\n",
       "      <th>STATE</th>\n",
       "      <th>COUNTY</th>\n",
       "      <th>FIPS_CODE</th>\n",
       "      <th>FIPS_NAME</th>\n",
       "      <th>geometry</th>\n",
       "    </tr>\n",
       "    <tr>\n",
       "      <th>FIRE_DATE</th>\n",
       "      <th></th>\n",
       "      <th></th>\n",
       "      <th></th>\n",
       "      <th></th>\n",
       "      <th></th>\n",
       "      <th></th>\n",
       "      <th></th>\n",
       "      <th></th>\n",
       "      <th></th>\n",
       "      <th></th>\n",
       "      <th></th>\n",
       "      <th></th>\n",
       "      <th></th>\n",
       "      <th></th>\n",
       "      <th></th>\n",
       "      <th></th>\n",
       "      <th></th>\n",
       "      <th></th>\n",
       "      <th></th>\n",
       "      <th></th>\n",
       "      <th></th>\n",
       "    </tr>\n",
       "  </thead>\n",
       "  <tbody>\n",
       "    <tr>\n",
       "      <th>1992-01-01 00:00:00+00:00</th>\n",
       "      <td>878172</td>\n",
       "      <td>SCHMIDT_56005192</td>\n",
       "      <td>NONFED</td>\n",
       "      <td>ST-WYWYS</td>\n",
       "      <td>ST/C&amp;L</td>\n",
       "      <td>USWYWYS</td>\n",
       "      <td>Wyoming State Forestry</td>\n",
       "      <td>WYWYS</td>\n",
       "      <td>Wyoming State Forestry</td>\n",
       "      <td>None</td>\n",
       "      <td>...</td>\n",
       "      <td>None</td>\n",
       "      <td>NaT</td>\n",
       "      <td>5.00</td>\n",
       "      <td>B</td>\n",
       "      <td>MISSING/NOT SPECIFIED</td>\n",
       "      <td>WY</td>\n",
       "      <td>Albany</td>\n",
       "      <td>56001</td>\n",
       "      <td>Albany County</td>\n",
       "      <td>POINT (-105.35980 42.01045)</td>\n",
       "    </tr>\n",
       "    <tr>\n",
       "      <th>1992-01-01 00:00:00+00:00</th>\n",
       "      <td>1100723</td>\n",
       "      <td>TFS_FL_54676</td>\n",
       "      <td>NONFED</td>\n",
       "      <td>ST-FLFLS</td>\n",
       "      <td>ST/C&amp;L</td>\n",
       "      <td>USFLFLS</td>\n",
       "      <td>Florida Forest Service</td>\n",
       "      <td>FLFLS5</td>\n",
       "      <td>FLS Perry District</td>\n",
       "      <td>None</td>\n",
       "      <td>...</td>\n",
       "      <td>None</td>\n",
       "      <td>NaT</td>\n",
       "      <td>4.00</td>\n",
       "      <td>B</td>\n",
       "      <td>MISSING/NOT SPECIFIED</td>\n",
       "      <td>FL</td>\n",
       "      <td>Lafayette</td>\n",
       "      <td>12067</td>\n",
       "      <td>Lafayette County</td>\n",
       "      <td>POINT (-83.03000 29.98000)</td>\n",
       "    </tr>\n",
       "    <tr>\n",
       "      <th>1992-01-01 00:00:00+00:00</th>\n",
       "      <td>1100722</td>\n",
       "      <td>TFS_FL_54675</td>\n",
       "      <td>NONFED</td>\n",
       "      <td>ST-FLFLS</td>\n",
       "      <td>ST/C&amp;L</td>\n",
       "      <td>USFLFLS</td>\n",
       "      <td>Florida Forest Service</td>\n",
       "      <td>FLFLS5</td>\n",
       "      <td>FLS Perry District</td>\n",
       "      <td>None</td>\n",
       "      <td>...</td>\n",
       "      <td>None</td>\n",
       "      <td>NaT</td>\n",
       "      <td>8.00</td>\n",
       "      <td>B</td>\n",
       "      <td>MISSING/NOT SPECIFIED</td>\n",
       "      <td>FL</td>\n",
       "      <td>Dixie</td>\n",
       "      <td>12029</td>\n",
       "      <td>Dixie County</td>\n",
       "      <td>POINT (-83.21000 29.54000)</td>\n",
       "    </tr>\n",
       "    <tr>\n",
       "      <th>1992-01-01 00:00:00+00:00</th>\n",
       "      <td>878247</td>\n",
       "      <td>SCHMIDT_56046592</td>\n",
       "      <td>NONFED</td>\n",
       "      <td>ST-WYWYS</td>\n",
       "      <td>ST/C&amp;L</td>\n",
       "      <td>USWYWYS</td>\n",
       "      <td>Wyoming State Forestry</td>\n",
       "      <td>WYWYS</td>\n",
       "      <td>Wyoming State Forestry</td>\n",
       "      <td>None</td>\n",
       "      <td>...</td>\n",
       "      <td>None</td>\n",
       "      <td>NaT</td>\n",
       "      <td>8.00</td>\n",
       "      <td>B</td>\n",
       "      <td>MISSING/NOT SPECIFIED</td>\n",
       "      <td>WY</td>\n",
       "      <td>Goshen</td>\n",
       "      <td>56015</td>\n",
       "      <td>Goshen County</td>\n",
       "      <td>POINT (-104.19750 41.73458)</td>\n",
       "    </tr>\n",
       "    <tr>\n",
       "      <th>1992-01-01 00:00:00+00:00</th>\n",
       "      <td>846971</td>\n",
       "      <td>SC_26961</td>\n",
       "      <td>NONFED</td>\n",
       "      <td>ST-SCSCS</td>\n",
       "      <td>ST/C&amp;L</td>\n",
       "      <td>USSCSCS</td>\n",
       "      <td>South Carolina Forestry Commission</td>\n",
       "      <td>SCSCS</td>\n",
       "      <td>South Carolina Forestry Commission</td>\n",
       "      <td>None</td>\n",
       "      <td>...</td>\n",
       "      <td>None</td>\n",
       "      <td>1992-01-01 11:22:00+00:00</td>\n",
       "      <td>4.00</td>\n",
       "      <td>B</td>\n",
       "      <td>MISSING/NOT SPECIFIED</td>\n",
       "      <td>SC</td>\n",
       "      <td>43</td>\n",
       "      <td>45085</td>\n",
       "      <td>Sumter County</td>\n",
       "      <td>POINT (-80.27917 33.92083)</td>\n",
       "    </tr>\n",
       "    <tr>\n",
       "      <th>...</th>\n",
       "      <td>...</td>\n",
       "      <td>...</td>\n",
       "      <td>...</td>\n",
       "      <td>...</td>\n",
       "      <td>...</td>\n",
       "      <td>...</td>\n",
       "      <td>...</td>\n",
       "      <td>...</td>\n",
       "      <td>...</td>\n",
       "      <td>...</td>\n",
       "      <td>...</td>\n",
       "      <td>...</td>\n",
       "      <td>...</td>\n",
       "      <td>...</td>\n",
       "      <td>...</td>\n",
       "      <td>...</td>\n",
       "      <td>...</td>\n",
       "      <td>...</td>\n",
       "      <td>...</td>\n",
       "      <td>...</td>\n",
       "      <td>...</td>\n",
       "    </tr>\n",
       "    <tr>\n",
       "      <th>2018-12-31 23:20:00+00:00</th>\n",
       "      <td>400472945</td>\n",
       "      <td>SFO-2018AZPHX201810823</td>\n",
       "      <td>NONFED</td>\n",
       "      <td>ST-NASF</td>\n",
       "      <td>ST/C&amp;L</td>\n",
       "      <td>USAZPHX</td>\n",
       "      <td>Phoenix Fire Department</td>\n",
       "      <td>AZPHX</td>\n",
       "      <td>Phoenix Fire Department</td>\n",
       "      <td>None</td>\n",
       "      <td>...</td>\n",
       "      <td>None</td>\n",
       "      <td>2018-12-31 23:34:00+00:00</td>\n",
       "      <td>0.10</td>\n",
       "      <td>A</td>\n",
       "      <td>MISSING/NOT SPECIFIED</td>\n",
       "      <td>AZ</td>\n",
       "      <td>Maricopa</td>\n",
       "      <td>04013</td>\n",
       "      <td>Maricopa County</td>\n",
       "      <td>POINT (-112.22634 33.47175)</td>\n",
       "    </tr>\n",
       "    <tr>\n",
       "      <th>2018-12-31 23:46:00+00:00</th>\n",
       "      <td>400375295</td>\n",
       "      <td>SFO-2018CACDFSCU181434</td>\n",
       "      <td>NONFED</td>\n",
       "      <td>ST-NASF</td>\n",
       "      <td>ST/C&amp;L</td>\n",
       "      <td>USCACDF</td>\n",
       "      <td>California Department of Forestry &amp; Fire Prote...</td>\n",
       "      <td>CACDF</td>\n",
       "      <td>Headquarters, California Department of Forestr...</td>\n",
       "      <td>None</td>\n",
       "      <td>...</td>\n",
       "      <td>None</td>\n",
       "      <td>NaT</td>\n",
       "      <td>0.01</td>\n",
       "      <td>A</td>\n",
       "      <td>MISSING/NOT SPECIFIED</td>\n",
       "      <td>CA</td>\n",
       "      <td>ALAMEDA</td>\n",
       "      <td>06001</td>\n",
       "      <td>Alameda County</td>\n",
       "      <td>POINT (-121.71741 37.71438)</td>\n",
       "    </tr>\n",
       "    <tr>\n",
       "      <th>2018-12-31 23:47:00+00:00</th>\n",
       "      <td>400480891</td>\n",
       "      <td>SFO-2018AZPHX201810824</td>\n",
       "      <td>NONFED</td>\n",
       "      <td>ST-NASF</td>\n",
       "      <td>ST/C&amp;L</td>\n",
       "      <td>USAZPHX</td>\n",
       "      <td>Phoenix Fire Department</td>\n",
       "      <td>AZPHX</td>\n",
       "      <td>Phoenix Fire Department</td>\n",
       "      <td>None</td>\n",
       "      <td>...</td>\n",
       "      <td>None</td>\n",
       "      <td>2019-01-01 00:00:00+00:00</td>\n",
       "      <td>0.10</td>\n",
       "      <td>A</td>\n",
       "      <td>MISSING/NOT SPECIFIED</td>\n",
       "      <td>AZ</td>\n",
       "      <td>Maricopa</td>\n",
       "      <td>04013</td>\n",
       "      <td>Maricopa County</td>\n",
       "      <td>POINT (-112.11263 33.52908)</td>\n",
       "    </tr>\n",
       "    <tr>\n",
       "      <th>2018-12-31 23:52:00+00:00</th>\n",
       "      <td>400479171</td>\n",
       "      <td>SFO-2018AZPHX201810825</td>\n",
       "      <td>NONFED</td>\n",
       "      <td>ST-NASF</td>\n",
       "      <td>ST/C&amp;L</td>\n",
       "      <td>USAZPHX</td>\n",
       "      <td>Phoenix Fire Department</td>\n",
       "      <td>AZPHX</td>\n",
       "      <td>Phoenix Fire Department</td>\n",
       "      <td>None</td>\n",
       "      <td>...</td>\n",
       "      <td>None</td>\n",
       "      <td>2019-01-01 00:00:00+00:00</td>\n",
       "      <td>0.10</td>\n",
       "      <td>A</td>\n",
       "      <td>MISSING/NOT SPECIFIED</td>\n",
       "      <td>AZ</td>\n",
       "      <td>Maricopa</td>\n",
       "      <td>04013</td>\n",
       "      <td>Maricopa County</td>\n",
       "      <td>POINT (-112.21023 33.49478)</td>\n",
       "    </tr>\n",
       "    <tr>\n",
       "      <th>2018-12-31 23:59:00+00:00</th>\n",
       "      <td>400478615</td>\n",
       "      <td>SFO-2018AZTMP201810826</td>\n",
       "      <td>NONFED</td>\n",
       "      <td>ST-NASF</td>\n",
       "      <td>ST/C&amp;L</td>\n",
       "      <td>USAZTMP</td>\n",
       "      <td>Tempe Fire Department</td>\n",
       "      <td>AZTMP</td>\n",
       "      <td>Tempe Fire Department</td>\n",
       "      <td>None</td>\n",
       "      <td>...</td>\n",
       "      <td>None</td>\n",
       "      <td>2019-01-01 00:00:00+00:00</td>\n",
       "      <td>0.10</td>\n",
       "      <td>A</td>\n",
       "      <td>MISSING/NOT SPECIFIED</td>\n",
       "      <td>AZ</td>\n",
       "      <td>Maricopa</td>\n",
       "      <td>04013</td>\n",
       "      <td>Maricopa County</td>\n",
       "      <td>POINT (-111.88318 33.41199)</td>\n",
       "    </tr>\n",
       "  </tbody>\n",
       "</table>\n",
       "<p>2166753 rows × 31 columns</p>\n",
       "</div>"
      ],
      "text/plain": [
       "                              FOD_ID                  FPA_ID  \\\n",
       "FIRE_DATE                                                      \n",
       "1992-01-01 00:00:00+00:00     878172        SCHMIDT_56005192   \n",
       "1992-01-01 00:00:00+00:00    1100723            TFS_FL_54676   \n",
       "1992-01-01 00:00:00+00:00    1100722            TFS_FL_54675   \n",
       "1992-01-01 00:00:00+00:00     878247        SCHMIDT_56046592   \n",
       "1992-01-01 00:00:00+00:00     846971                SC_26961   \n",
       "...                              ...                     ...   \n",
       "2018-12-31 23:20:00+00:00  400472945  SFO-2018AZPHX201810823   \n",
       "2018-12-31 23:46:00+00:00  400375295  SFO-2018CACDFSCU181434   \n",
       "2018-12-31 23:47:00+00:00  400480891  SFO-2018AZPHX201810824   \n",
       "2018-12-31 23:52:00+00:00  400479171  SFO-2018AZPHX201810825   \n",
       "2018-12-31 23:59:00+00:00  400478615  SFO-2018AZTMP201810826   \n",
       "\n",
       "                          SOURCE_SYSTEM_TYPE SOURCE_SYSTEM  \\\n",
       "FIRE_DATE                                                    \n",
       "1992-01-01 00:00:00+00:00             NONFED      ST-WYWYS   \n",
       "1992-01-01 00:00:00+00:00             NONFED      ST-FLFLS   \n",
       "1992-01-01 00:00:00+00:00             NONFED      ST-FLFLS   \n",
       "1992-01-01 00:00:00+00:00             NONFED      ST-WYWYS   \n",
       "1992-01-01 00:00:00+00:00             NONFED      ST-SCSCS   \n",
       "...                                      ...           ...   \n",
       "2018-12-31 23:20:00+00:00             NONFED       ST-NASF   \n",
       "2018-12-31 23:46:00+00:00             NONFED       ST-NASF   \n",
       "2018-12-31 23:47:00+00:00             NONFED       ST-NASF   \n",
       "2018-12-31 23:52:00+00:00             NONFED       ST-NASF   \n",
       "2018-12-31 23:59:00+00:00             NONFED       ST-NASF   \n",
       "\n",
       "                          NWCG_REPORTING_AGENCY NWCG_REPORTING_UNIT_ID  \\\n",
       "FIRE_DATE                                                                \n",
       "1992-01-01 00:00:00+00:00                ST/C&L                USWYWYS   \n",
       "1992-01-01 00:00:00+00:00                ST/C&L                USFLFLS   \n",
       "1992-01-01 00:00:00+00:00                ST/C&L                USFLFLS   \n",
       "1992-01-01 00:00:00+00:00                ST/C&L                USWYWYS   \n",
       "1992-01-01 00:00:00+00:00                ST/C&L                USSCSCS   \n",
       "...                                         ...                    ...   \n",
       "2018-12-31 23:20:00+00:00                ST/C&L                USAZPHX   \n",
       "2018-12-31 23:46:00+00:00                ST/C&L                USCACDF   \n",
       "2018-12-31 23:47:00+00:00                ST/C&L                USAZPHX   \n",
       "2018-12-31 23:52:00+00:00                ST/C&L                USAZPHX   \n",
       "2018-12-31 23:59:00+00:00                ST/C&L                USAZTMP   \n",
       "\n",
       "                                                    NWCG_REPORTING_UNIT_NAME  \\\n",
       "FIRE_DATE                                                                      \n",
       "1992-01-01 00:00:00+00:00                             Wyoming State Forestry   \n",
       "1992-01-01 00:00:00+00:00                             Florida Forest Service   \n",
       "1992-01-01 00:00:00+00:00                             Florida Forest Service   \n",
       "1992-01-01 00:00:00+00:00                             Wyoming State Forestry   \n",
       "1992-01-01 00:00:00+00:00                 South Carolina Forestry Commission   \n",
       "...                                                                      ...   \n",
       "2018-12-31 23:20:00+00:00                            Phoenix Fire Department   \n",
       "2018-12-31 23:46:00+00:00  California Department of Forestry & Fire Prote...   \n",
       "2018-12-31 23:47:00+00:00                            Phoenix Fire Department   \n",
       "2018-12-31 23:52:00+00:00                            Phoenix Fire Department   \n",
       "2018-12-31 23:59:00+00:00                              Tempe Fire Department   \n",
       "\n",
       "                          SOURCE_REPORTING_UNIT  \\\n",
       "FIRE_DATE                                         \n",
       "1992-01-01 00:00:00+00:00                 WYWYS   \n",
       "1992-01-01 00:00:00+00:00                FLFLS5   \n",
       "1992-01-01 00:00:00+00:00                FLFLS5   \n",
       "1992-01-01 00:00:00+00:00                 WYWYS   \n",
       "1992-01-01 00:00:00+00:00                 SCSCS   \n",
       "...                                         ...   \n",
       "2018-12-31 23:20:00+00:00                 AZPHX   \n",
       "2018-12-31 23:46:00+00:00                 CACDF   \n",
       "2018-12-31 23:47:00+00:00                 AZPHX   \n",
       "2018-12-31 23:52:00+00:00                 AZPHX   \n",
       "2018-12-31 23:59:00+00:00                 AZTMP   \n",
       "\n",
       "                                                  SOURCE_REPORTING_UNIT_NAME  \\\n",
       "FIRE_DATE                                                                      \n",
       "1992-01-01 00:00:00+00:00                             Wyoming State Forestry   \n",
       "1992-01-01 00:00:00+00:00                                 FLS Perry District   \n",
       "1992-01-01 00:00:00+00:00                                 FLS Perry District   \n",
       "1992-01-01 00:00:00+00:00                             Wyoming State Forestry   \n",
       "1992-01-01 00:00:00+00:00                 South Carolina Forestry Commission   \n",
       "...                                                                      ...   \n",
       "2018-12-31 23:20:00+00:00                            Phoenix Fire Department   \n",
       "2018-12-31 23:46:00+00:00  Headquarters, California Department of Forestr...   \n",
       "2018-12-31 23:47:00+00:00                            Phoenix Fire Department   \n",
       "2018-12-31 23:52:00+00:00                            Phoenix Fire Department   \n",
       "2018-12-31 23:59:00+00:00                              Tempe Fire Department   \n",
       "\n",
       "                          LOCAL_FIRE_REPORT_ID  ... NWCG_CAUSE_AGE_CATEGORY  \\\n",
       "FIRE_DATE                                       ...                           \n",
       "1992-01-01 00:00:00+00:00                 None  ...                    None   \n",
       "1992-01-01 00:00:00+00:00                 None  ...                    None   \n",
       "1992-01-01 00:00:00+00:00                 None  ...                    None   \n",
       "1992-01-01 00:00:00+00:00                 None  ...                    None   \n",
       "1992-01-01 00:00:00+00:00                 None  ...                    None   \n",
       "...                                        ...  ...                     ...   \n",
       "2018-12-31 23:20:00+00:00                 None  ...                    None   \n",
       "2018-12-31 23:46:00+00:00                 None  ...                    None   \n",
       "2018-12-31 23:47:00+00:00                 None  ...                    None   \n",
       "2018-12-31 23:52:00+00:00                 None  ...                    None   \n",
       "2018-12-31 23:59:00+00:00                 None  ...                    None   \n",
       "\n",
       "                                     FIRE_CONT_DATE FIRE_SIZE FIRE_SIZE_CLASS  \\\n",
       "FIRE_DATE                                                                       \n",
       "1992-01-01 00:00:00+00:00                       NaT      5.00               B   \n",
       "1992-01-01 00:00:00+00:00                       NaT      4.00               B   \n",
       "1992-01-01 00:00:00+00:00                       NaT      8.00               B   \n",
       "1992-01-01 00:00:00+00:00                       NaT      8.00               B   \n",
       "1992-01-01 00:00:00+00:00 1992-01-01 11:22:00+00:00      4.00               B   \n",
       "...                                             ...       ...             ...   \n",
       "2018-12-31 23:20:00+00:00 2018-12-31 23:34:00+00:00      0.10               A   \n",
       "2018-12-31 23:46:00+00:00                       NaT      0.01               A   \n",
       "2018-12-31 23:47:00+00:00 2019-01-01 00:00:00+00:00      0.10               A   \n",
       "2018-12-31 23:52:00+00:00 2019-01-01 00:00:00+00:00      0.10               A   \n",
       "2018-12-31 23:59:00+00:00 2019-01-01 00:00:00+00:00      0.10               A   \n",
       "\n",
       "                                     OWNER_DESCR STATE     COUNTY FIPS_CODE  \\\n",
       "FIRE_DATE                                                                     \n",
       "1992-01-01 00:00:00+00:00  MISSING/NOT SPECIFIED    WY     Albany     56001   \n",
       "1992-01-01 00:00:00+00:00  MISSING/NOT SPECIFIED    FL  Lafayette     12067   \n",
       "1992-01-01 00:00:00+00:00  MISSING/NOT SPECIFIED    FL      Dixie     12029   \n",
       "1992-01-01 00:00:00+00:00  MISSING/NOT SPECIFIED    WY     Goshen     56015   \n",
       "1992-01-01 00:00:00+00:00  MISSING/NOT SPECIFIED    SC         43     45085   \n",
       "...                                          ...   ...        ...       ...   \n",
       "2018-12-31 23:20:00+00:00  MISSING/NOT SPECIFIED    AZ   Maricopa     04013   \n",
       "2018-12-31 23:46:00+00:00  MISSING/NOT SPECIFIED    CA    ALAMEDA     06001   \n",
       "2018-12-31 23:47:00+00:00  MISSING/NOT SPECIFIED    AZ   Maricopa     04013   \n",
       "2018-12-31 23:52:00+00:00  MISSING/NOT SPECIFIED    AZ   Maricopa     04013   \n",
       "2018-12-31 23:59:00+00:00  MISSING/NOT SPECIFIED    AZ   Maricopa     04013   \n",
       "\n",
       "                                  FIPS_NAME                     geometry  \n",
       "FIRE_DATE                                                                 \n",
       "1992-01-01 00:00:00+00:00     Albany County  POINT (-105.35980 42.01045)  \n",
       "1992-01-01 00:00:00+00:00  Lafayette County   POINT (-83.03000 29.98000)  \n",
       "1992-01-01 00:00:00+00:00      Dixie County   POINT (-83.21000 29.54000)  \n",
       "1992-01-01 00:00:00+00:00     Goshen County  POINT (-104.19750 41.73458)  \n",
       "1992-01-01 00:00:00+00:00     Sumter County   POINT (-80.27917 33.92083)  \n",
       "...                                     ...                          ...  \n",
       "2018-12-31 23:20:00+00:00   Maricopa County  POINT (-112.22634 33.47175)  \n",
       "2018-12-31 23:46:00+00:00    Alameda County  POINT (-121.71741 37.71438)  \n",
       "2018-12-31 23:47:00+00:00   Maricopa County  POINT (-112.11263 33.52908)  \n",
       "2018-12-31 23:52:00+00:00   Maricopa County  POINT (-112.21023 33.49478)  \n",
       "2018-12-31 23:59:00+00:00   Maricopa County  POINT (-111.88318 33.41199)  \n",
       "\n",
       "[2166753 rows x 31 columns]"
      ]
     },
     "execution_count": 53,
     "metadata": {},
     "output_type": "execute_result"
    }
   ],
   "source": [
    "fpa_fod"
   ]
  }
 ],
 "metadata": {
  "interpreter": {
   "hash": "8effd896b8f062682ba4b8aa4736e10799a9fbb03f5e06a4b85c5813a99c06d7"
  },
  "kernelspec": {
   "display_name": "geo_env",
   "language": "python",
   "name": "geo_env"
  },
  "language_info": {
   "codemirror_mode": {
    "name": "ipython",
    "version": 3
   },
   "file_extension": ".py",
   "mimetype": "text/x-python",
   "name": "python",
   "nbconvert_exporter": "python",
   "pygments_lexer": "ipython3",
   "version": "3.9.5"
  }
 },
 "nbformat": 4,
 "nbformat_minor": 5
}
