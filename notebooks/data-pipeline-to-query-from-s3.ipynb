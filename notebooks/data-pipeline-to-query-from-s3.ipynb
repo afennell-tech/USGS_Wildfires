{
 "cells": [
  {
   "cell_type": "code",
   "execution_count": 1,
   "id": "8a66e275-9fc6-41d3-8bfa-53b15436c731",
   "metadata": {},
   "outputs": [],
   "source": [
    "import boto3\n",
    "import pandas as pd\n",
    "import geopandas as gpd\n",
    "from io import StringIO"
   ]
  },
  {
   "cell_type": "code",
   "execution_count": 2,
   "id": "f07e0e5b-296e-4bb2-b646-7ac392bbc34e",
   "metadata": {},
   "outputs": [],
   "source": [
    "s3 = boto3.client('s3')\n",
    "S3_BUCKET = 'usgswildfires'\n",
    "FIRE_DATA_KEY = 'clean_fpa_fod.csv'"
   ]
  },
  {
   "cell_type": "code",
   "execution_count": 3,
   "id": "467d65db-7f30-484d-999d-cf2092d0489f",
   "metadata": {},
   "outputs": [],
   "source": [
    "YEAR = 2018"
   ]
  },
  {
   "cell_type": "code",
   "execution_count": 4,
   "id": "ce4273c1-af67-4e92-a396-970b2d897bd3",
   "metadata": {},
   "outputs": [],
   "source": [
    "query = f\"\"\"SELECT FIRE_DATE, \\\"FIRE_CONT_DATE\\\", \\\"GENERAL_CAUSE\\\", \\\"SPECIFIC_CAUSE\\\",\n",
    "                  \\\"FIRE_SIZE\\\", \\\"FIRE_SIZE_CLASS\\\", \\\"STATE\\\", \\\"geometry\\\"\n",
    "           FROM s3object \n",
    "           WHERE \\\"YEAR\\\" = '{YEAR}'\"\"\""
   ]
  },
  {
   "cell_type": "markdown",
   "id": "be714723-2424-4132-b8c7-13309a623d94",
   "metadata": {
    "tags": []
   },
   "source": [
    "#### using `OutputSerialization = {'CSV': {}}`"
   ]
  },
  {
   "cell_type": "code",
   "execution_count": 5,
   "id": "ada9aa6c-6b46-4842-b594-59cfdff99ce9",
   "metadata": {},
   "outputs": [
    {
     "data": {
      "text/html": [
       "<div>\n",
       "<style scoped>\n",
       "    .dataframe tbody tr th:only-of-type {\n",
       "        vertical-align: middle;\n",
       "    }\n",
       "\n",
       "    .dataframe tbody tr th {\n",
       "        vertical-align: top;\n",
       "    }\n",
       "\n",
       "    .dataframe thead th {\n",
       "        text-align: right;\n",
       "    }\n",
       "</style>\n",
       "<table border=\"1\" class=\"dataframe\">\n",
       "  <thead>\n",
       "    <tr style=\"text-align: right;\">\n",
       "      <th></th>\n",
       "      <th>FIRE_DATE</th>\n",
       "      <th>FIRE_CONT_DATE</th>\n",
       "      <th>GENERAL_CAUSE</th>\n",
       "      <th>SPECIFIC_CAUSE</th>\n",
       "      <th>FIRE_SIZE</th>\n",
       "      <th>FIRE_SIZE_CLASS</th>\n",
       "      <th>STATE</th>\n",
       "      <th>geometry</th>\n",
       "    </tr>\n",
       "  </thead>\n",
       "  <tbody>\n",
       "    <tr>\n",
       "      <th>0</th>\n",
       "      <td>2018-01-01 00:00:00+00:00</td>\n",
       "      <td>2018-01-01 00:00:00+00:00</td>\n",
       "      <td>Human</td>\n",
       "      <td>Missing data/not specified/undetermined</td>\n",
       "      <td>0.10</td>\n",
       "      <td>A</td>\n",
       "      <td>AZ</td>\n",
       "      <td>POINT (-112.3133315 33.4484799)</td>\n",
       "    </tr>\n",
       "    <tr>\n",
       "      <th>1</th>\n",
       "      <td>2018-01-01 00:00:00+00:00</td>\n",
       "      <td>NaN</td>\n",
       "      <td>Missing data/not specified/undetermined</td>\n",
       "      <td>Missing data/not specified/undetermined</td>\n",
       "      <td>1.00</td>\n",
       "      <td>B</td>\n",
       "      <td>AR</td>\n",
       "      <td>POINT (-92.26694000000001 34.96528)</td>\n",
       "    </tr>\n",
       "    <tr>\n",
       "      <th>2</th>\n",
       "      <td>2018-01-01 00:00:00+00:00</td>\n",
       "      <td>NaN</td>\n",
       "      <td>Missing data/not specified/undetermined</td>\n",
       "      <td>Missing data/not specified/undetermined</td>\n",
       "      <td>3.00</td>\n",
       "      <td>B</td>\n",
       "      <td>AR</td>\n",
       "      <td>POINT (-92.87313899999999 35.657854)</td>\n",
       "    </tr>\n",
       "    <tr>\n",
       "      <th>3</th>\n",
       "      <td>2018-01-01 00:00:00+00:00</td>\n",
       "      <td>NaN</td>\n",
       "      <td>Human</td>\n",
       "      <td>Missing data/not specified/undetermined</td>\n",
       "      <td>2.00</td>\n",
       "      <td>B</td>\n",
       "      <td>VA</td>\n",
       "      <td>POINT (-79.10916666999999 38.18472222)</td>\n",
       "    </tr>\n",
       "    <tr>\n",
       "      <th>4</th>\n",
       "      <td>2018-01-01 00:00:00+00:00</td>\n",
       "      <td>2018-01-01 00:00:00+00:00</td>\n",
       "      <td>Human</td>\n",
       "      <td>Debris and open burning</td>\n",
       "      <td>0.01</td>\n",
       "      <td>A</td>\n",
       "      <td>CA</td>\n",
       "      <td>POINT (-121.793273 39.704699)</td>\n",
       "    </tr>\n",
       "  </tbody>\n",
       "</table>\n",
       "</div>"
      ],
      "text/plain": [
       "                   FIRE_DATE             FIRE_CONT_DATE  \\\n",
       "0  2018-01-01 00:00:00+00:00  2018-01-01 00:00:00+00:00   \n",
       "1  2018-01-01 00:00:00+00:00                        NaN   \n",
       "2  2018-01-01 00:00:00+00:00                        NaN   \n",
       "3  2018-01-01 00:00:00+00:00                        NaN   \n",
       "4  2018-01-01 00:00:00+00:00  2018-01-01 00:00:00+00:00   \n",
       "\n",
       "                             GENERAL_CAUSE  \\\n",
       "0                                    Human   \n",
       "1  Missing data/not specified/undetermined   \n",
       "2  Missing data/not specified/undetermined   \n",
       "3                                    Human   \n",
       "4                                    Human   \n",
       "\n",
       "                            SPECIFIC_CAUSE  FIRE_SIZE FIRE_SIZE_CLASS STATE  \\\n",
       "0  Missing data/not specified/undetermined       0.10               A    AZ   \n",
       "1  Missing data/not specified/undetermined       1.00               B    AR   \n",
       "2  Missing data/not specified/undetermined       3.00               B    AR   \n",
       "3  Missing data/not specified/undetermined       2.00               B    VA   \n",
       "4                  Debris and open burning       0.01               A    CA   \n",
       "\n",
       "                                 geometry  \n",
       "0         POINT (-112.3133315 33.4484799)  \n",
       "1     POINT (-92.26694000000001 34.96528)  \n",
       "2    POINT (-92.87313899999999 35.657854)  \n",
       "3  POINT (-79.10916666999999 38.18472222)  \n",
       "4           POINT (-121.793273 39.704699)  "
      ]
     },
     "execution_count": 5,
     "metadata": {},
     "output_type": "execute_result"
    }
   ],
   "source": [
    "resp = s3.select_object_content(\n",
    "    Bucket=S3_BUCKET,\n",
    "    Key=FIRE_DATA_KEY,\n",
    "    ExpressionType='SQL',\n",
    "    Expression=query,\n",
    "    InputSerialization = {'CSV': {\"FileHeaderInfo\": \"Use\"}},\n",
    "    OutputSerialization = {'CSV': {}},\n",
    ")\n",
    "\n",
    "records = [] \n",
    "for event in resp['Payload']:\n",
    "    if 'Records' in event:\n",
    "        records.append(event['Records']['Payload'])\n",
    "                       \n",
    "# converting the byte strings to strings and then joining them together\n",
    "# to form one large string\n",
    "file_str = ''.join(r.decode('utf-8') for r in records)\n",
    "# doing StringIO(file_str) so it looks like CSV file to pd.read_csv()\n",
    "select_df = pd.read_csv(StringIO(file_str), \n",
    "                   names=['FIRE_DATE', 'FIRE_CONT_DATE', 'GENERAL_CAUSE', 'SPECIFIC_CAUSE', 'FIRE_SIZE', \n",
    "                          'FIRE_SIZE_CLASS', 'STATE', 'geometry'])\n",
    "select_df.head()"
   ]
  },
  {
   "cell_type": "code",
   "execution_count": 6,
   "id": "0cce1728-50b5-4b84-ac67-d7a7c668356c",
   "metadata": {},
   "outputs": [
    {
     "name": "stdout",
     "output_type": "stream",
     "text": [
      "<class 'pandas.core.frame.DataFrame'>\n",
      "RangeIndex: 80863 entries, 0 to 80862\n",
      "Data columns (total 8 columns):\n",
      " #   Column           Non-Null Count  Dtype  \n",
      "---  ------           --------------  -----  \n",
      " 0   FIRE_DATE        80863 non-null  object \n",
      " 1   FIRE_CONT_DATE   62106 non-null  object \n",
      " 2   GENERAL_CAUSE    80863 non-null  object \n",
      " 3   SPECIFIC_CAUSE   80863 non-null  object \n",
      " 4   FIRE_SIZE        80863 non-null  float64\n",
      " 5   FIRE_SIZE_CLASS  80863 non-null  object \n",
      " 6   STATE            80863 non-null  object \n",
      " 7   geometry         80863 non-null  object \n",
      "dtypes: float64(1), object(7)\n",
      "memory usage: 39.6 MB\n"
     ]
    }
   ],
   "source": [
    "select_df.info(memory_usage=\"deep\")"
   ]
  },
  {
   "cell_type": "markdown",
   "id": "0318fdc0-b036-4fa6-abd8-9deb3ae54dcf",
   "metadata": {},
   "source": [
    "#### optimize memory usage "
   ]
  },
  {
   "cell_type": "code",
   "execution_count": 7,
   "id": "43f77751-e9f7-4108-8f23-4948a692f528",
   "metadata": {
    "tags": []
   },
   "outputs": [],
   "source": [
    "# fix DATE columns\n",
    "select_df['FIRE_DATE'] = pd.to_datetime(select_df['FIRE_DATE'])\n",
    "select_df['FIRE_CONT_DATE'] = pd.to_datetime(select_df['FIRE_CONT_DATE'])\n",
    "\n",
    "# fix CATEGORICAL columns\n",
    "for col in ['GENERAL_CAUSE', 'SPECIFIC_CAUSE', 'FIRE_SIZE_CLASS', 'STATE']:\n",
    "    select_df[col] = select_df[col].astype('category')\n",
    "    \n",
    "# fix NUMERIC columns \n",
    "select_df['FIRE_SIZE'] = pd.to_numeric(select_df['FIRE_SIZE'], downcast='unsigned')\n",
    "# select_df['LON'] = pd.to_numeric(select_df['LON'], downcast='float')\n",
    "# select_df['LAT'] = pd.to_numeric(select_df['LAT'], downcast='float')\n",
    "\n",
    "# fix GEOMETRY column\n",
    "select_df['geometry'] = gpd.GeoSeries.from_wkt(select_df['geometry'])\n",
    "# select_geo_df = gpd.GeoDataFrame(select_df, geometry='geometry')\n",
    "\n",
    "# make DATETIME index\n",
    "select_df = select_df.set_index('FIRE_DATE').sort_index()"
   ]
  },
  {
   "cell_type": "code",
   "execution_count": 8,
   "id": "1f38fe32-97f3-4c88-996f-8266c8033fd4",
   "metadata": {},
   "outputs": [
    {
     "name": "stdout",
     "output_type": "stream",
     "text": [
      "<class 'pandas.core.frame.DataFrame'>\n",
      "DatetimeIndex: 80863 entries, 2018-01-01 00:00:00+00:00 to 2018-12-31 23:59:00+00:00\n",
      "Data columns (total 7 columns):\n",
      " #   Column           Non-Null Count  Dtype              \n",
      "---  ------           --------------  -----              \n",
      " 0   FIRE_CONT_DATE   62106 non-null  datetime64[ns, UTC]\n",
      " 1   GENERAL_CAUSE    80863 non-null  category           \n",
      " 2   SPECIFIC_CAUSE   80863 non-null  category           \n",
      " 3   FIRE_SIZE        80863 non-null  float64            \n",
      " 4   FIRE_SIZE_CLASS  80863 non-null  category           \n",
      " 5   STATE            80863 non-null  category           \n",
      " 6   geometry         80863 non-null  geometry           \n",
      "dtypes: category(4), datetime64[ns, UTC](1), float64(1), geometry(1)\n",
      "memory usage: 2.8 MB\n"
     ]
    }
   ],
   "source": [
    "select_df.info(memory_usage=\"deep\")"
   ]
  },
  {
   "cell_type": "markdown",
   "id": "e92dab9f-ecd8-4a87-a1e2-7425be2c95f9",
   "metadata": {},
   "source": [
    "#### Done! Now we convert the above code to a function that can be called from within `streamlit_app.py` to query data based on user input"
   ]
  },
  {
   "cell_type": "code",
   "execution_count": null,
   "id": "dbb5ca3b-587e-4422-8314-c4625a561c4d",
   "metadata": {},
   "outputs": [],
   "source": []
  }
 ],
 "metadata": {
  "kernelspec": {
   "display_name": "dashboard",
   "language": "python",
   "name": "dashboard"
  },
  "language_info": {
   "codemirror_mode": {
    "name": "ipython",
    "version": 3
   },
   "file_extension": ".py",
   "mimetype": "text/x-python",
   "name": "python",
   "nbconvert_exporter": "python",
   "pygments_lexer": "ipython3",
   "version": "3.9.7"
  }
 },
 "nbformat": 4,
 "nbformat_minor": 5
}
