{
 "cells": [
  {
   "cell_type": "code",
   "execution_count": 1,
   "id": "0375afcd-f27c-4aee-9e38-44a967606ca4",
   "metadata": {
    "scrolled": true,
    "tags": []
   },
   "outputs": [],
   "source": [
    "import warnings\n",
    "warnings.filterwarnings('ignore')\n",
    "import sys\n",
    "sys.path.append('..') # make sure modules can be found from project home directory"
   ]
  },
  {
   "cell_type": "code",
   "execution_count": 2,
   "id": "bf272639-a78b-4081-b21c-2c297c6f86c5",
   "metadata": {
    "scrolled": true,
    "tags": []
   },
   "outputs": [],
   "source": [
    "from src.data.data_loading import load_processed_dataset, load_raw_datasets\n",
    "\n",
    "import pandas as pd\n",
    "import geopandas as gpd\n",
    "import numpy as np \n",
    "import matplotlib.pyplot as plt\n",
    "# etc..."
   ]
  },
  {
   "cell_type": "code",
   "execution_count": 3,
   "id": "e72e3d06-0f97-4857-8289-89f3a658ab9a",
   "metadata": {
    "tags": []
   },
   "outputs": [],
   "source": [
    "from tqdm import tqdm\n",
    "import fiona\n",
    "tqdm.pandas()"
   ]
  },
  {
   "cell_type": "markdown",
   "id": "4f9b534f-80a4-4f02-b8f3-cc99988ac19f",
   "metadata": {},
   "source": [
    "### Loading raw ca_fire_perimeters data (only `firep`, which is layer 0)"
   ]
  },
  {
   "cell_type": "code",
   "execution_count": 4,
   "id": "a2ed737f-e5d8-4957-bcf3-a6038b845b75",
   "metadata": {
    "tags": []
   },
   "outputs": [
    {
     "name": "stdout",
     "output_type": "stream",
     "text": [
      "\n",
      " fire20_1 has the following layers: \n",
      " ['firep20_1', 'rxburn20_1', 'Non_RXFire_Legacy13_2'] \n",
      "\n"
     ]
    },
    {
     "name": "stdin",
     "output_type": "stream",
     "text": [
      "What layers you would like to keep? Enter the layer names with 1 space in between, or enter `all` to load all layers. \n",
      " firep20_1\n"
     ]
    },
    {
     "name": "stdout",
     "output_type": "stream",
     "text": [
      "\n",
      " Loading fire20_1_firep20_1 \n",
      "\n",
      "The list of dfs contains the following datasets (in this order): \n",
      " ['fire20_1_firep20_1']\n"
     ]
    }
   ],
   "source": [
    "df_list, df_names = load_raw_datasets('ca_fire_perimeters')"
   ]
  },
  {
   "cell_type": "code",
   "execution_count": 5,
   "id": "e8343b7e-017c-46ba-9425-3d46817233a2",
   "metadata": {},
   "outputs": [],
   "source": [
    "firep = df_list[0].copy()"
   ]
  },
  {
   "cell_type": "code",
   "execution_count": 6,
   "id": "933f26b9-b9fb-4209-ac7e-9307f0843993",
   "metadata": {},
   "outputs": [],
   "source": [
    "firep.rename(\n",
    "    columns=\n",
    "    {\n",
    "        'YEAR_':'FIRE_YEAR',\n",
    "        'CAUSE':'SPECIFIC_CAUSE',\n",
    "        'GIS_ACRES': 'FIRE_SIZE',\n",
    "        'ALARM_DATE': 'FIRE_DATE'\n",
    "    }, \n",
    "    inplace=True\n",
    ")"
   ]
  },
  {
   "cell_type": "code",
   "execution_count": 9,
   "id": "3cf91b44-74e2-4b59-971d-46f4495d05e5",
   "metadata": {},
   "outputs": [],
   "source": [
    "def fire_size_class(size):\n",
    "    \"\"\"Bins fire_size (in acres) based on fpa_fod dataset splits\n",
    "    \"\"\"\n",
    "    if 0 < size <= 0.25: \n",
    "        return 'A'\n",
    "    if 0.25 < size < 10:\n",
    "        return 'B'\n",
    "    if 10 <= size < 100: \n",
    "        return 'C'\n",
    "    if 100 <= size < 300: \n",
    "        return 'D'\n",
    "    if 300 <= size < 1000: \n",
    "        return 'E'\n",
    "    if 1000 <= size < 5000: \n",
    "        return 'F'\n",
    "    if 5000 < size: \n",
    "        return 'G'"
   ]
  },
  {
   "cell_type": "code",
   "execution_count": 10,
   "id": "043d7967-1ef4-4ef8-b38b-84b31fd5ffa0",
   "metadata": {},
   "outputs": [
    {
     "name": "stderr",
     "output_type": "stream",
     "text": [
      "100%|█████████████████████████████████████████████████████| 21318/21318 [00:00<00:00, 593632.89it/s]\n"
     ]
    }
   ],
   "source": [
    "firep['FIRE_SIZE_CLASS'] = firep['FIRE_SIZE']\n",
    "firep['FIRE_SIZE_CLASS'] = firep['FIRE_SIZE_CLASS'].progress_apply(fire_size_class)"
   ]
  },
  {
   "cell_type": "markdown",
   "id": "0193d149-ffd1-44ec-b229-6050383c093d",
   "metadata": {
    "tags": []
   },
   "source": [
    "### Change/update feature dtypes"
   ]
  },
  {
   "cell_type": "code",
   "execution_count": 11,
   "id": "19b53094-1d39-492e-997b-383a7e1bf631",
   "metadata": {
    "tags": []
   },
   "outputs": [
    {
     "name": "stderr",
     "output_type": "stream",
     "text": [
      "100%|█████████████████████████████████████████████████████████████████| 1/1 [00:00<00:00, 50.00it/s]\n",
      "100%|████████████████████████████████████████████████████████████████| 3/3 [00:00<00:00, 978.53it/s]\n"
     ]
    }
   ],
   "source": [
    "firep[['FIRE_YEAR']] = firep[['FIRE_YEAR']].progress_apply(\n",
    "        pd.to_numeric, downcast=\"unsigned\")\n",
    "firep[['FIRE_SIZE', 'Shape_Length', 'Shape_Area']] =  \\\n",
    "    firep[['FIRE_SIZE', 'Shape_Length', 'Shape_Area']].progress_apply(\n",
    "        pd.to_numeric, downcast='float'\n",
    "    )"
   ]
  },
  {
   "cell_type": "markdown",
   "id": "1589a0db-cc7f-4e2d-b6c5-2cc1e880de51",
   "metadata": {},
   "source": [
    "### Change/update feature values"
   ]
  },
  {
   "cell_type": "markdown",
   "id": "21f94e35-5d4b-4e40-ad7c-b1e1d3d63f5a",
   "metadata": {
    "tags": []
   },
   "source": [
    "`CAUSE`"
   ]
  },
  {
   "cell_type": "code",
   "execution_count": 12,
   "id": "9afa833f-2ad7-44a6-a7bb-cdcfd149f962",
   "metadata": {
    "tags": []
   },
   "outputs": [],
   "source": [
    "map_val_to_cause = {\n",
    "    1: 'Lightning', \n",
    "    2: 'Equipment Use', \n",
    "    3: 'Smoking', \n",
    "    4: 'Campfire', \n",
    "    5: 'Debris', \n",
    "    6: 'Railroad', \n",
    "    7: 'Arson', \n",
    "    8: 'Playing with Fire', \n",
    "    9: 'Miscellaneous', \n",
    "    10: 'Vehicle', \n",
    "    11: 'Power Line', \n",
    "    12: 'Firefighter Training', \n",
    "    13: 'Non-Firefighter Training',\n",
    "    14: 'Unknown/Unidentified', \n",
    "    15: 'Structure', \n",
    "    16: 'Aircraft', \n",
    "    17: 'Volcanic', \n",
    "    18: 'Escaped Prescribed Burn', \n",
    "    19: 'Illegal Alien Campfire'\n",
    "}\n",
    "\n",
    "map_val_to_fpa_fod_cause = {\n",
    "    1: 'Natural', \n",
    "    2: 'Equipment and vehicle use',\n",
    "    3: 'Smoking',\n",
    "    4: 'Recreation and ceremony', \n",
    "    5: 'Debris and open burning', \n",
    "    6: 'Railroad operations and maintenance', \n",
    "    7: 'Arson/incendiarism', \n",
    "    8: 'Misuse of fire by a minor', \n",
    "    9: 'Other causes', \n",
    "    10: 'Equipment and vehicle use', \n",
    "    11: 'Power generation/transmission/distribution',\n",
    "    12: 'Other causes', \n",
    "    13: 'Other causes', \n",
    "    14: 'Missing data/not specified/undetermined',\n",
    "    15: 'Other causes',\n",
    "    16: 'Other causes',\n",
    "    17: 'Natural',\n",
    "    18: 'Other causes',\n",
    "    19: 'Recreation and ceremony',\n",
    "}"
   ]
  },
  {
   "cell_type": "code",
   "execution_count": 13,
   "id": "ee54ea00-124a-4d04-934f-8a650062a061",
   "metadata": {
    "tags": []
   },
   "outputs": [],
   "source": [
    "firep['SPECIFIC_CAUSE_ORIG'] = firep['SPECIFIC_CAUSE'].replace(map_val_to_fpa_fod_cause)\n",
    "firep['SPECIFIC_CAUSE'] = firep['SPECIFIC_CAUSE'].replace(map_val_to_cause)"
   ]
  },
  {
   "cell_type": "markdown",
   "id": "d4d397b3-5d4e-4dd5-a095-57b21b24ecf0",
   "metadata": {
    "tags": []
   },
   "source": [
    "`C_METHOD`"
   ]
  },
  {
   "cell_type": "code",
   "execution_count": 14,
   "id": "dd9591ad-d3d0-40cf-85c7-61c66196cbfb",
   "metadata": {
    "tags": []
   },
   "outputs": [],
   "source": [
    "map_val_to_c_method = {\n",
    "    1: 'GPS Ground', \n",
    "    2: 'GPS Air', \n",
    "    3: 'Infrared',      \n",
    "    4: 'Other Imagery', \n",
    "    5: 'Photo Interpretation',\n",
    "    6: 'Hand Drawn', \n",
    "    7: 'Mixed Collection Methods',\n",
    "    8: 'Unknown'\n",
    "}"
   ]
  },
  {
   "cell_type": "code",
   "execution_count": 15,
   "id": "86d016a2-fd03-45c7-96a3-4acada5b0edc",
   "metadata": {
    "tags": []
   },
   "outputs": [],
   "source": [
    "firep.C_METHOD = firep.C_METHOD.replace(map_val_to_c_method)"
   ]
  },
  {
   "cell_type": "markdown",
   "id": "64d7bf37-694f-4b97-8f03-81edbd32e21d",
   "metadata": {
    "tags": []
   },
   "source": [
    "`OBJECTIVE`"
   ]
  },
  {
   "cell_type": "code",
   "execution_count": 16,
   "id": "b108d5bb-e104-4ef0-bd3d-1555db63460a",
   "metadata": {
    "tags": []
   },
   "outputs": [],
   "source": [
    "map_val_to_objective = {\n",
    "    0: 'Unknown', \n",
    "    1: 'Suppression', \n",
    "    2: 'Resource Benefit'\n",
    "}"
   ]
  },
  {
   "cell_type": "code",
   "execution_count": 17,
   "id": "30c3b6a5-28d0-4b31-b330-9266960ae0ca",
   "metadata": {
    "tags": []
   },
   "outputs": [],
   "source": [
    "firep.OBJECTIVE = firep.OBJECTIVE.replace(map_val_to_objective)"
   ]
  },
  {
   "cell_type": "markdown",
   "id": "577889f3-ae19-4486-8fd5-3a78a8d88596",
   "metadata": {},
   "source": [
    "### Convert to categorical variables as needed"
   ]
  },
  {
   "cell_type": "code",
   "execution_count": 18,
   "id": "91a44537-1e42-4f4c-9a41-ee5800e4e0bb",
   "metadata": {},
   "outputs": [],
   "source": [
    "for col in ['SPECIFIC_CAUSE', 'SPECIFIC_CAUSE_ORIG', 'C_METHOD', 'OBJECTIVE', 'FIRE_SIZE_CLASS']:\n",
    "    firep[col] = firep[col].astype('category')"
   ]
  },
  {
   "cell_type": "code",
   "execution_count": 19,
   "id": "b4dc6606-56a1-40bc-9516-57f93a657ee1",
   "metadata": {},
   "outputs": [
    {
     "data": {
      "text/html": [
       "<div>\n",
       "<style scoped>\n",
       "    .dataframe tbody tr th:only-of-type {\n",
       "        vertical-align: middle;\n",
       "    }\n",
       "\n",
       "    .dataframe tbody tr th {\n",
       "        vertical-align: top;\n",
       "    }\n",
       "\n",
       "    .dataframe thead th {\n",
       "        text-align: right;\n",
       "    }\n",
       "</style>\n",
       "<table border=\"1\" class=\"dataframe\">\n",
       "  <thead>\n",
       "    <tr style=\"text-align: right;\">\n",
       "      <th></th>\n",
       "      <th>FIRE_YEAR</th>\n",
       "      <th>STATE</th>\n",
       "      <th>AGENCY</th>\n",
       "      <th>UNIT_ID</th>\n",
       "      <th>FIRE_NAME</th>\n",
       "      <th>INC_NUM</th>\n",
       "      <th>FIRE_DATE</th>\n",
       "      <th>CONT_DATE</th>\n",
       "      <th>SPECIFIC_CAUSE</th>\n",
       "      <th>COMMENTS</th>\n",
       "      <th>REPORT_AC</th>\n",
       "      <th>FIRE_SIZE</th>\n",
       "      <th>C_METHOD</th>\n",
       "      <th>OBJECTIVE</th>\n",
       "      <th>FIRE_NUM</th>\n",
       "      <th>Shape_Length</th>\n",
       "      <th>Shape_Area</th>\n",
       "      <th>geometry</th>\n",
       "      <th>FIRE_SIZE_CLASS</th>\n",
       "      <th>SPECIFIC_CAUSE_ORIG</th>\n",
       "    </tr>\n",
       "  </thead>\n",
       "  <tbody>\n",
       "    <tr>\n",
       "      <th>0</th>\n",
       "      <td>2020.0</td>\n",
       "      <td>CA</td>\n",
       "      <td>CDF</td>\n",
       "      <td>NEU</td>\n",
       "      <td>NELSON</td>\n",
       "      <td>00013212</td>\n",
       "      <td>2020-06-18T00:00:00+00:00</td>\n",
       "      <td>2020-06-23T00:00:00+00:00</td>\n",
       "      <td>Power Line</td>\n",
       "      <td></td>\n",
       "      <td>110.0</td>\n",
       "      <td>109.602501</td>\n",
       "      <td>GPS Ground</td>\n",
       "      <td>Suppression</td>\n",
       "      <td>None</td>\n",
       "      <td>3252.523193</td>\n",
       "      <td>4.435447e+05</td>\n",
       "      <td>MULTIPOLYGON (((-116841.251 97942.565, -116836...</td>\n",
       "      <td>D</td>\n",
       "      <td>Power generation/transmission/distribution</td>\n",
       "    </tr>\n",
       "    <tr>\n",
       "      <th>1</th>\n",
       "      <td>2020.0</td>\n",
       "      <td>CA</td>\n",
       "      <td>CDF</td>\n",
       "      <td>NEU</td>\n",
       "      <td>AMORUSO</td>\n",
       "      <td>00011799</td>\n",
       "      <td>2020-06-01T00:00:00+00:00</td>\n",
       "      <td>2020-06-04T00:00:00+00:00</td>\n",
       "      <td>Equipment Use</td>\n",
       "      <td></td>\n",
       "      <td>670.0</td>\n",
       "      <td>685.585022</td>\n",
       "      <td>GPS Ground</td>\n",
       "      <td>Suppression</td>\n",
       "      <td>None</td>\n",
       "      <td>9653.760742</td>\n",
       "      <td>2.774464e+06</td>\n",
       "      <td>MULTIPOLYGON (((-117328.400 90212.407, -117321...</td>\n",
       "      <td>E</td>\n",
       "      <td>Equipment and vehicle use</td>\n",
       "    </tr>\n",
       "    <tr>\n",
       "      <th>2</th>\n",
       "      <td>2020.0</td>\n",
       "      <td>CA</td>\n",
       "      <td>CDF</td>\n",
       "      <td>NEU</td>\n",
       "      <td>ATHENS</td>\n",
       "      <td>00018493</td>\n",
       "      <td>2020-08-10T00:00:00+00:00</td>\n",
       "      <td>2020-03-01T00:00:00+00:00</td>\n",
       "      <td>Unknown/Unidentified</td>\n",
       "      <td></td>\n",
       "      <td>26.0</td>\n",
       "      <td>27.300480</td>\n",
       "      <td>GPS Ground</td>\n",
       "      <td>Suppression</td>\n",
       "      <td>None</td>\n",
       "      <td>1649.643188</td>\n",
       "      <td>1.104811e+05</td>\n",
       "      <td>MULTIPOLYGON (((-115605.059 92988.787, -115585...</td>\n",
       "      <td>C</td>\n",
       "      <td>Missing data/not specified/undetermined</td>\n",
       "    </tr>\n",
       "    <tr>\n",
       "      <th>3</th>\n",
       "      <td>2020.0</td>\n",
       "      <td>CA</td>\n",
       "      <td>CDF</td>\n",
       "      <td>NEU</td>\n",
       "      <td>FLEMING</td>\n",
       "      <td>00007619</td>\n",
       "      <td>2020-03-31T00:00:00+00:00</td>\n",
       "      <td>2020-04-01T00:00:00+00:00</td>\n",
       "      <td>Miscellaneous</td>\n",
       "      <td></td>\n",
       "      <td>13.0</td>\n",
       "      <td>12.931550</td>\n",
       "      <td>GPS Ground</td>\n",
       "      <td>Suppression</td>\n",
       "      <td>None</td>\n",
       "      <td>1577.155884</td>\n",
       "      <td>5.233211e+04</td>\n",
       "      <td>MULTIPOLYGON (((-110213.270 105975.579, -11020...</td>\n",
       "      <td>C</td>\n",
       "      <td>Other causes</td>\n",
       "    </tr>\n",
       "    <tr>\n",
       "      <th>4</th>\n",
       "      <td>2020.0</td>\n",
       "      <td>CA</td>\n",
       "      <td>CDF</td>\n",
       "      <td>NEU</td>\n",
       "      <td>MELANESE</td>\n",
       "      <td>00008471</td>\n",
       "      <td>2020-04-14T00:00:00+00:00</td>\n",
       "      <td>2020-04-19T00:00:00+00:00</td>\n",
       "      <td>Escaped Prescribed Burn</td>\n",
       "      <td></td>\n",
       "      <td>10.3</td>\n",
       "      <td>10.315960</td>\n",
       "      <td>GPS Ground</td>\n",
       "      <td>Suppression</td>\n",
       "      <td>None</td>\n",
       "      <td>1035.787598</td>\n",
       "      <td>4.174722e+04</td>\n",
       "      <td>MULTIPOLYGON (((-111793.600 164243.615, -11177...</td>\n",
       "      <td>C</td>\n",
       "      <td>Other causes</td>\n",
       "    </tr>\n",
       "  </tbody>\n",
       "</table>\n",
       "</div>"
      ],
      "text/plain": [
       "   FIRE_YEAR STATE AGENCY UNIT_ID FIRE_NAME   INC_NUM  \\\n",
       "0     2020.0    CA    CDF     NEU    NELSON  00013212   \n",
       "1     2020.0    CA    CDF     NEU   AMORUSO  00011799   \n",
       "2     2020.0    CA    CDF     NEU    ATHENS  00018493   \n",
       "3     2020.0    CA    CDF     NEU   FLEMING  00007619   \n",
       "4     2020.0    CA    CDF     NEU  MELANESE  00008471   \n",
       "\n",
       "                   FIRE_DATE                  CONT_DATE  \\\n",
       "0  2020-06-18T00:00:00+00:00  2020-06-23T00:00:00+00:00   \n",
       "1  2020-06-01T00:00:00+00:00  2020-06-04T00:00:00+00:00   \n",
       "2  2020-08-10T00:00:00+00:00  2020-03-01T00:00:00+00:00   \n",
       "3  2020-03-31T00:00:00+00:00  2020-04-01T00:00:00+00:00   \n",
       "4  2020-04-14T00:00:00+00:00  2020-04-19T00:00:00+00:00   \n",
       "\n",
       "            SPECIFIC_CAUSE COMMENTS  REPORT_AC   FIRE_SIZE    C_METHOD  \\\n",
       "0               Power Line               110.0  109.602501  GPS Ground   \n",
       "1            Equipment Use               670.0  685.585022  GPS Ground   \n",
       "2     Unknown/Unidentified                26.0   27.300480  GPS Ground   \n",
       "3            Miscellaneous                13.0   12.931550  GPS Ground   \n",
       "4  Escaped Prescribed Burn                10.3   10.315960  GPS Ground   \n",
       "\n",
       "     OBJECTIVE FIRE_NUM  Shape_Length    Shape_Area  \\\n",
       "0  Suppression     None   3252.523193  4.435447e+05   \n",
       "1  Suppression     None   9653.760742  2.774464e+06   \n",
       "2  Suppression     None   1649.643188  1.104811e+05   \n",
       "3  Suppression     None   1577.155884  5.233211e+04   \n",
       "4  Suppression     None   1035.787598  4.174722e+04   \n",
       "\n",
       "                                            geometry FIRE_SIZE_CLASS  \\\n",
       "0  MULTIPOLYGON (((-116841.251 97942.565, -116836...               D   \n",
       "1  MULTIPOLYGON (((-117328.400 90212.407, -117321...               E   \n",
       "2  MULTIPOLYGON (((-115605.059 92988.787, -115585...               C   \n",
       "3  MULTIPOLYGON (((-110213.270 105975.579, -11020...               C   \n",
       "4  MULTIPOLYGON (((-111793.600 164243.615, -11177...               C   \n",
       "\n",
       "                          SPECIFIC_CAUSE_ORIG  \n",
       "0  Power generation/transmission/distribution  \n",
       "1                   Equipment and vehicle use  \n",
       "2     Missing data/not specified/undetermined  \n",
       "3                                Other causes  \n",
       "4                                Other causes  "
      ]
     },
     "execution_count": 19,
     "metadata": {},
     "output_type": "execute_result"
    }
   ],
   "source": [
    "firep.head()"
   ]
  },
  {
   "cell_type": "code",
   "execution_count": 20,
   "id": "81e101dd-1f5a-4d27-b95a-64da0c8c723a",
   "metadata": {},
   "outputs": [
    {
     "data": {
      "text/plain": [
       "FIRE_YEAR               float64\n",
       "STATE                    object\n",
       "AGENCY                   object\n",
       "UNIT_ID                  object\n",
       "FIRE_NAME                object\n",
       "INC_NUM                  object\n",
       "FIRE_DATE                object\n",
       "CONT_DATE                object\n",
       "SPECIFIC_CAUSE         category\n",
       "COMMENTS                 object\n",
       "REPORT_AC               float64\n",
       "FIRE_SIZE               float32\n",
       "C_METHOD               category\n",
       "OBJECTIVE              category\n",
       "FIRE_NUM                 object\n",
       "Shape_Length            float32\n",
       "Shape_Area              float32\n",
       "geometry               geometry\n",
       "FIRE_SIZE_CLASS        category\n",
       "SPECIFIC_CAUSE_ORIG    category\n",
       "dtype: object"
      ]
     },
     "execution_count": 20,
     "metadata": {},
     "output_type": "execute_result"
    }
   ],
   "source": [
    "firep.dtypes"
   ]
  },
  {
   "cell_type": "code",
   "execution_count": 25,
   "id": "5cd6f912-cbd7-46e3-891e-e2927fcdfb3c",
   "metadata": {},
   "outputs": [],
   "source": [
    "firep = firep[firep.FIRE_YEAR >= 1992]\n",
    "firep = firep[firep.FIRE_YEAR <= 2018]"
   ]
  },
  {
   "cell_type": "code",
   "execution_count": 28,
   "id": "a15a20a2-7a14-45f1-8e47-8f36fc2ba16f",
   "metadata": {},
   "outputs": [],
   "source": [
    "fpafod = load_processed_dataset('fpa_fod')\n",
    "fpafod"
   ]
  },
  {
   "cell_type": "code",
   "execution_count": null,
   "id": "4dc3ad96-b9e5-4145-8711-5f9ca0b79e16",
   "metadata": {},
   "outputs": [],
   "source": []
  }
 ],
 "metadata": {
  "kernelspec": {
   "display_name": "geo_env",
   "language": "python",
   "name": "geo_env"
  },
  "language_info": {
   "codemirror_mode": {
    "name": "ipython",
    "version": 3
   },
   "file_extension": ".py",
   "mimetype": "text/x-python",
   "name": "python",
   "nbconvert_exporter": "python",
   "pygments_lexer": "ipython3",
   "version": "3.9.5"
  }
 },
 "nbformat": 4,
 "nbformat_minor": 5
}
