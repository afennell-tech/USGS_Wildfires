{
 "cells": [
  {
   "cell_type": "markdown",
   "id": "7c3efda4-9272-4c87-94e1-d004c6d61592",
   "metadata": {},
   "source": [
    "### Workflow\n",
    "\n",
    "I want coding in a jupyter notebook to be setup and ready in only a few lines of code\n",
    "\n",
    "* Import any necessary packages: \n",
    "```\n",
    "import geopandas as gpd\n",
    "import pandas as pd\n",
    "import numpy as np \n",
    "import matplotlib.pyplot as plt\n",
    "# etc...\n",
    "```\n",
    "* Load dataset (s) to be used in this notebook:\n",
    "```\n",
    "datasets = make_datasets('fpa_fod', 'ca_fire_perimeters')\n",
    "fpa_fod_df = datasets[0]\n",
    "ca_fire_perims = datasets[1]\n",
    "# etc...\n",
    "```\n",
    "* Now, notebook and data are ready to go"
   ]
  },
  {
   "cell_type": "code",
   "execution_count": null,
   "id": "fabb4483-336c-4968-a2c2-304a0ad59950",
   "metadata": {
    "tags": []
   },
   "outputs": [],
   "source": [
    "# import the module\n",
    "from src.data import data_loading\n",
    "\n",
    "# view available datasets and corresponding descriptions\n",
    "data_utils.print_available_datasets()\n",
    "# download dataset (s) and follow prompts; input is *args\n",
    "# Usage: data_utils.download_raw_datasets(dataset_1, ...)\n",
    "# Ex. to download the fpa_fod and ca_fire_perimeters datasets\n",
    "data_utils.download_raw_datasets('fpa_fod', 'ca_fire_perimeters')"
   ]
  }
 ],
 "metadata": {
  "kernelspec": {
   "display_name": "geo_env",
   "language": "python",
   "name": "geo_env"
  },
  "language_info": {
   "codemirror_mode": {
    "name": "ipython",
    "version": 3
   },
   "file_extension": ".py",
   "mimetype": "text/x-python",
   "name": "python",
   "nbconvert_exporter": "python",
   "pygments_lexer": "ipython3",
   "version": "3.9.5"
  }
 },
 "nbformat": 4,
 "nbformat_minor": 5
}
