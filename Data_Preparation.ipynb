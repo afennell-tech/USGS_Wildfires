{
 "cells": [
  {
   "cell_type": "markdown",
   "id": "d79c34a3-8c2a-4b84-8eef-59399e26e598",
   "metadata": {},
   "source": [
    "### Imports"
   ]
  },
  {
   "cell_type": "code",
   "execution_count": 1,
   "id": "f861c435-9fca-403d-94ee-b942da07a0bb",
   "metadata": {},
   "outputs": [],
   "source": [
    "import sqlite3 # to deal with databse\n",
    "import pandas as pd\n",
    "from shapely.geometry import Point # to convert "
   ]
  },
  {
   "cell_type": "markdown",
   "id": "2231a934-1ec4-40d2-9f8f-9f2b659b590e",
   "metadata": {},
   "source": [
    "### Helper Functions"
   ]
  },
  {
   "cell_type": "code",
   "execution_count": 2,
   "id": "01a71926-e058-4747-a77d-fa733671a108",
   "metadata": {},
   "outputs": [],
   "source": [
    "\"\"\"\n",
    "Returns a Connection object that represents the input db.\n",
    "\"\"\"\n",
    "def get_sql_connection(sql_file): \n",
    "    return sqlite3.connect(sql_file)\n",
    "\n",
    "\"\"\"\n",
    "Returns a df for table from Connection object.\n",
    "\"\"\"\n",
    "def get_table(table_name, conn):\n",
    "    query = \"Select * from {}\".format(table_name)\n",
    "    return pd.read_sql_query(query, conn)\n",
    "\n",
    "\"\"\"\n",
    "TODO METHOD HEADER\n",
    "\"\"\"\n",
    "def insert_time(row, target='DISCOVERY_TIME'): \n",
    "    if target == 'DISCOVERY_TIME':\n",
    "        if row['DATE_DISCOVERED'] is not pd.NaT and row['DISCOVERY_TIME'] is not pd.NaT:\n",
    "            out = row['DATE_DISCOVERED'] + pd.Timedelta(str(row['DISCOVERY_TIME'].time()))\n",
    "            return out\n",
    "    else: \n",
    "        if row['DATE_CONTAINED'] is not pd.NaT and row['CONT_TIME'] is not pd.NaT:\n",
    "            out = row['DATE_CONTAINED'] + pd.Timedelta(str(row['CONT_TIME'].time()))\n",
    "            return out"
   ]
  },
  {
   "cell_type": "markdown",
   "id": "26bf3404-3858-4c4c-b3fb-b0e050a19100",
   "metadata": {},
   "source": [
    "### Variable Setup"
   ]
  },
  {
   "cell_type": "code",
   "execution_count": 3,
   "id": "3ca5000b-496b-451a-9eb2-43bca7e8d9af",
   "metadata": {},
   "outputs": [],
   "source": [
    "USGS_DATA_PATH = './data/FPA_FOD_20170508.sqlite'\n",
    "usgs_db = get_sql_connection(USGS_DATA_PATH) # USGS data"
   ]
  },
  {
   "cell_type": "markdown",
   "id": "e6378f7e-1a73-4f0c-a46b-cfc60e5734d9",
   "metadata": {},
   "source": [
    "### Load initial data from sqlite db"
   ]
  },
  {
   "cell_type": "code",
   "execution_count": 4,
   "id": "b1674983-2f9e-4ba4-9427-631366aaf17f",
   "metadata": {},
   "outputs": [],
   "source": [
    "fires_df = get_table('fires', usgs_db) # load fires data\n",
    "\n",
    "# create a list of the columns we don't really care about\n",
    "dropped_cols = ['OBJECTID', 'Shape', 'FPA_ID', 'SOURCE_SYSTEM_TYPE', 'SOURCE_SYSTEM', \n",
    "                       'NWCG_REPORTING_AGENCY', 'NWCG_REPORTING_UNIT_ID', \n",
    "                       'NWCG_REPORTING_UNIT_NAME', 'SOURCE_REPORTING_UNIT', \n",
    "                       'SOURCE_REPORTING_UNIT_NAME', 'LOCAL_FIRE_REPORT_ID',\n",
    "                       'LOCAL_INCIDENT_ID', 'FIRE_CODE', 'FIRE_NAME',\n",
    "                       'ICS_209_INCIDENT_NUMBER', 'ICS_209_NAME', 'MTBS_ID', \n",
    "                       'MTBS_FIRE_NAME', 'COMPLEX_NAME', 'STAT_CAUSE_CODE', \n",
    "                       'OWNER_CODE']\n",
    "fires_df.drop(columns=dropped_cols, inplace=True) # drop necessary columns"
   ]
  },
  {
   "cell_type": "markdown",
   "id": "bf5ab8a6-0810-47b3-8eb2-dab0ab00cb78",
   "metadata": {},
   "source": [
    "### Update df for geospatial analysis"
   ]
  },
  {
   "cell_type": "code",
   "execution_count": 5,
   "id": "268ced7f-e32d-4c88-8739-b86deed09e13",
   "metadata": {},
   "outputs": [],
   "source": [
    "# create a geometry columns with Point objects\n",
    "fires_df['geometry'] = fires_df.apply(lambda x: Point(x.LONGITUDE, x.LATITUDE), axis=1)\n",
    "# long and lat cols are no longer needed\n",
    "fires_df.drop(columns=['LONGITUDE', 'LATITUDE'], inplace=True)"
   ]
  },
  {
   "cell_type": "markdown",
   "id": "95f29aa4-68e1-454f-9e80-5e6e6d15358c",
   "metadata": {},
   "source": [
    "### Update df for time series analysis"
   ]
  },
  {
   "cell_type": "code",
   "execution_count": 6,
   "id": "796f0e50-2553-4b28-9855-ffa3e54fa33a",
   "metadata": {},
   "outputs": [],
   "source": [
    "# make columns that have dtype = datetime[64] for time of day and date\n",
    "fires_df['DATE_DISCOVERED'] = pd.to_datetime(fires_df['FIRE_YEAR']*1000 + fires_df['DISCOVERY_DOY'], format='%Y%j')\n",
    "fires_df['DATE_CONTAINED'] = pd.to_datetime(fires_df['FIRE_YEAR']*1000 + fires_df['CONT_DOY'], format='%Y%j')\n",
    "fires_df['DISCOVERY_TIME'] = pd.to_datetime(fires_df['DISCOVERY_TIME'], errors='coerce', format='%H%M')\n",
    "fires_df['CONT_TIME'] = pd.to_datetime(fires_df['CONT_TIME'], errors='coerce', format='%H%M')\n",
    "\n",
    "# organize the time related data into 2 respective columns (discovered and contained)\n",
    "fires_df['DISCOVERY_TIME'] = fires_df.apply(lambda x: insert_time(x), axis=1)\n",
    "fires_df['CONT_TIME'] = fires_df.apply(lambda x: insert_time(x, target='CONT_TIME'), axis=1)\n",
    "fires_df.drop(columns=['FIRE_YEAR', 'DISCOVERY_DATE', 'DISCOVERY_DOY', 'CONT_DATE', 'CONT_DOY',\n",
    "                       'DATE_DISCOVERED', 'DATE_CONTAINED'], inplace=True)"
   ]
  },
  {
   "cell_type": "markdown",
   "id": "01e27499-7266-4e5e-a900-4aff7237cd4d",
   "metadata": {},
   "source": [
    "### Export updated df as csv to decrease data load time"
   ]
  },
  {
   "cell_type": "code",
   "execution_count": 7,
   "id": "2146bcfe-394c-4ca0-a4ea-b23110f4addb",
   "metadata": {},
   "outputs": [],
   "source": [
    "fires_df.to_csv('./data/fires_df.csv', index=False)"
   ]
  }
 ],
 "metadata": {
  "kernelspec": {
   "display_name": "usgs_wildfires_env",
   "language": "python",
   "name": "usgs_wildfires_env"
  },
  "language_info": {
   "codemirror_mode": {
    "name": "ipython",
    "version": 3
   },
   "file_extension": ".py",
   "mimetype": "text/x-python",
   "name": "python",
   "nbconvert_exporter": "python",
   "pygments_lexer": "ipython3",
   "version": "3.8.8"
  }
 },
 "nbformat": 4,
 "nbformat_minor": 5
}
