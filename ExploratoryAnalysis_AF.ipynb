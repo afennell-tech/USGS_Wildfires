{
  "nbformat": 4,
  "nbformat_minor": 0,
  "metadata": {
    "colab": {
      "name": "ExploratoryAnalysis_Main.ipynb",
      "provenance": [],
      "collapsed_sections": [],
      "include_colab_link": true
    },
    "kernelspec": {
      "display_name": "Python 3",
      "name": "python3"
    },
    "language_info": {
      "name": "python"
    }
  },
  "cells": [
    {
      "cell_type": "markdown",
      "metadata": {
        "id": "view-in-github",
        "colab_type": "text"
      },
      "source": [
        "<a href=\"https://colab.research.google.com/github/afennell-tech/USGS_Wildfires/blob/dev/ExploratoryAnalysis_AF.ipynb\" target=\"_parent\"><img src=\"https://colab.research.google.com/assets/colab-badge.svg\" alt=\"Open In Colab\"/></a>"
      ]
    },
    {
      "cell_type": "markdown",
      "metadata": {
        "id": "s4dfKRj1n8Lq"
      },
      "source": [
        "# Note\n",
        "The data for [1.88 Million US Wildfires](https://www.kaggle.com/rtatman/188-million-us-wildfires) is very large, so we store the file in google drive, rather than in our github repository. On Kaggle, the file provided is a SQLite database containing information on US wildfires. For the purpose of this project, we will utilize the sqlite3 library. Feel free to download the file to your local machine if you prefer. Click [here](https://drive.google.com/drive/folders/18YlVzuPCf-IXeQQSy0F3H32oG_KHEBhr?usp=sharing) to access the folder containing all data used for this project."
      ]
    },
    {
      "cell_type": "markdown",
      "metadata": {
        "id": "EAdLB2jBmmUA"
      },
      "source": [
        "# Initial Setup:\n",
        "\n",
        "Before running any of the below cells: \n",
        "1. Go to google drive (gdrive)\n",
        "2. Find the 'USGS_Wildfires_Project_Content' folder, which should be in the 'Shared with me' section of your gdrive\n",
        "3. Right click on the folder, and select 'Add shortcut to drive'\n",
        "4. Click 'Add shortcut'\n",
        "5. The folder should then appear in 'My Drive' section of gdrive\n",
        "\n",
        "***Users only need to complete the above task once.*** "
      ]
    },
    {
      "cell_type": "markdown",
      "metadata": {
        "id": "tB_Xc1D2CV6R"
      },
      "source": [
        "# Getting Started: Workspace Setup"
      ]
    },
    {
      "cell_type": "markdown",
      "metadata": {
        "id": "CCtiv6PIU4RM"
      },
      "source": [
        "### Mounting Google Drive to Google Colab\n",
        "Note: Any time the runtime is reset, you will need to reauthenticate to mount gdrive"
      ]
    },
    {
      "cell_type": "code",
      "metadata": {
        "colab": {
          "base_uri": "https://localhost:8080/",
          "height": 52
        },
        "id": "HgrvZ4zHjc4j",
        "outputId": "16c8c9b5-d252-4c7a-d55e-7febcbcfcd1a"
      },
      "source": [
        "from google.colab import drive\n",
        "from os.path import join\n",
        "\n",
        "ROOT = '/content/drive' # default for the drive\n",
        "PROJ = 'MyDrive/USGS_Wildfires_Project_Content' # path to project on Drive\n",
        "PROJ_PATH = join(ROOT, PROJ)\n",
        "DATA_PATH = join(PROJ_PATH, 'data')\n",
        "\n",
        "drive.mount(ROOT) # we mount the drive at /content/drive\n",
        "\n",
        "\"\"\" After executing the above code, the folder 'drive' will appear under \n",
        "the files section. This is the users respective gdrive \"\"\""
      ],
      "execution_count": 2,
      "outputs": [
        {
          "output_type": "stream",
          "text": [
            "Drive already mounted at /content/drive; to attempt to forcibly remount, call drive.mount(\"/content/drive\", force_remount=True).\n"
          ],
          "name": "stdout"
        },
        {
          "output_type": "execute_result",
          "data": {
            "application/vnd.google.colaboratory.intrinsic+json": {
              "type": "string"
            },
            "text/plain": [
              "\" After executing the above code, the folder 'drive' will appear under \\nthe files section. This is the users respective gdrive \""
            ]
          },
          "metadata": {
            "tags": []
          },
          "execution_count": 2
        }
      ]
    },
    {
      "cell_type": "markdown",
      "metadata": {
        "id": "JaRUgU3x47tn"
      },
      "source": [
        "# Exploratory Analysis"
      ]
    },
    {
      "cell_type": "markdown",
      "metadata": {
        "id": "1NPkKZbq_kE-"
      },
      "source": [
        "### Helper Functions"
      ]
    },
    {
      "cell_type": "code",
      "metadata": {
        "id": "Qh9e9uqpLHLP",
        "outputId": "6f3ce998-de0f-4bd7-98d2-fa48624c2678",
        "colab": {
          "base_uri": "https://localhost:8080/"
        }
      },
      "source": [
        "import sqlite3 # to deal with database \n",
        "import numpy as np \n",
        "import pandas as pd\n",
        "import matplotlib.pyplot as plt\n",
        "import seaborn as sns\n",
        "import statsmodels.api as sm\n",
        "import statsmodels.formula.api\n",
        "\n",
        "\"\"\"\n",
        "Returns a Connection object that represents the input db.\n",
        "\"\"\"\n",
        "def get_sql_connection(sql_file): \n",
        "    return sqlite3.connect(sql_file)\n",
        "\n",
        "\"\"\"\n",
        "Returns a df for table from Connection object.\n",
        "\"\"\"\n",
        "def get_table(table_name, conn):\n",
        "    query = \"Select * from {}\".format(table_name)\n",
        "    return pd.read_sql_query(query, conn)\n",
        "\n",
        "\"\"\"\n",
        "Provided the input dataframe, function prints out the number of values each \n",
        "column takes on and if this number is less than input max_out, the corresponding \n",
        "values are printed as well.\n",
        "\"\"\"\n",
        "def print_col_info(df, max_out=5):\n",
        "    # check if input is valid\n",
        "    assert len(df.columns) > 0\n",
        "    # iterate over each column\n",
        "    for col_name, col in df.items(): \n",
        "        if len(col.value_counts()) <= max_out: \n",
        "            print(f\"\"\"Column name: {col_name}, NaN count: {col.isna().sum()}, \n",
        "            # of non-null values: {len(col.value_counts(dropna=False))}, \n",
        "            distinct values: {col.value_counts().index.tolist()}\"\"\")\n",
        "        else: \n",
        "            print(f\"\"\"Column name: {col_name}, NaN count: {col.isna().sum()}, \n",
        "            # of non-null values: {len(col.value_counts(dropna=False))}\"\"\")"
      ],
      "execution_count": 3,
      "outputs": [
        {
          "output_type": "stream",
          "text": [
            "/usr/local/lib/python3.7/dist-packages/statsmodels/tools/_testing.py:19: FutureWarning: pandas.util.testing is deprecated. Use the functions in the public API at pandas.testing instead.\n",
            "  import pandas.util.testing as tm\n"
          ],
          "name": "stderr"
        }
      ]
    },
    {
      "cell_type": "markdown",
      "metadata": {
        "id": "47rGmSfjGzIO"
      },
      "source": [
        "### Variable Setup"
      ]
    },
    {
      "cell_type": "code",
      "metadata": {
        "id": "lYrxl4koG-9F"
      },
      "source": [
        "USGS_DATA_PATH = join(DATA_PATH, 'FPA_FOD_20170508.sqlite')\n",
        "usgs_db = get_sql_connection(USGS_DATA_PATH) # USGS data"
      ],
      "execution_count": 4,
      "outputs": []
    },
    {
      "cell_type": "markdown",
      "metadata": {
        "id": "NSxRE7YqJqza"
      },
      "source": [
        "### Exploration"
      ]
    },
    {
      "cell_type": "code",
      "metadata": {
        "id": "HNymxSzbOmIA"
      },
      "source": [
        "'''\n",
        "Note: If the below code breaks, make sure that the USGS_DATA_PATH \n",
        "is indeed the correct path to get to the .sqlite file. \n",
        "'''\n",
        "\n",
        "# load fires data\n",
        "fires_df = get_table('fires', usgs_db)\n",
        "# drop OBJECTID and Shape; these are specific columns for the SQL db\n",
        "fires_df.drop(columns=['OBJECTID', 'Shape'], inplace=True)"
      ],
      "execution_count": 5,
      "outputs": []
    },
    {
      "cell_type": "code",
      "metadata": {
        "id": "Rlvlq3_aCDNd",
        "colab": {
          "base_uri": "https://localhost:8080/"
        },
        "outputId": "e6bde32d-7dd9-4efa-b21b-102638db345d"
      },
      "source": [
        "# First, we get some info about the dataframe itself\n",
        "\n",
        "print(f\"There are {len(fires_df)} rows and {len(fires_df.columns)} columns.\")\n",
        "\n",
        "print(f\"List of all column names: {fires_df.columns}\")\n",
        "\n",
        "# get more info about the columns themselves (all)\n",
        "print_col_info(fires_df, max_out=20)"
      ],
      "execution_count": 6,
      "outputs": [
        {
          "output_type": "stream",
          "text": [
            "There are 1880465 rows and 37 columns.\n",
            "List of all column names: Index(['FOD_ID', 'FPA_ID', 'SOURCE_SYSTEM_TYPE', 'SOURCE_SYSTEM',\n",
            "       'NWCG_REPORTING_AGENCY', 'NWCG_REPORTING_UNIT_ID',\n",
            "       'NWCG_REPORTING_UNIT_NAME', 'SOURCE_REPORTING_UNIT',\n",
            "       'SOURCE_REPORTING_UNIT_NAME', 'LOCAL_FIRE_REPORT_ID',\n",
            "       'LOCAL_INCIDENT_ID', 'FIRE_CODE', 'FIRE_NAME',\n",
            "       'ICS_209_INCIDENT_NUMBER', 'ICS_209_NAME', 'MTBS_ID', 'MTBS_FIRE_NAME',\n",
            "       'COMPLEX_NAME', 'FIRE_YEAR', 'DISCOVERY_DATE', 'DISCOVERY_DOY',\n",
            "       'DISCOVERY_TIME', 'STAT_CAUSE_CODE', 'STAT_CAUSE_DESCR', 'CONT_DATE',\n",
            "       'CONT_DOY', 'CONT_TIME', 'FIRE_SIZE', 'FIRE_SIZE_CLASS', 'LATITUDE',\n",
            "       'LONGITUDE', 'OWNER_CODE', 'OWNER_DESCR', 'STATE', 'COUNTY',\n",
            "       'FIPS_CODE', 'FIPS_NAME'],\n",
            "      dtype='object')\n",
            "Column name: FOD_ID, NaN count: 0, \n",
            "            # of non-null values: 1880465\n",
            "Column name: FPA_ID, NaN count: 0, \n",
            "            # of non-null values: 1880462\n",
            "Column name: SOURCE_SYSTEM_TYPE, NaN count: 0, \n",
            "            # of non-null values: 3, \n",
            "            distinct values: ['NONFED', 'FED', 'INTERAGCY']\n",
            "Column name: SOURCE_SYSTEM, NaN count: 0, \n",
            "            # of non-null values: 38\n",
            "Column name: NWCG_REPORTING_AGENCY, NaN count: 0, \n",
            "            # of non-null values: 11, \n",
            "            distinct values: ['ST/C&L', 'FS', 'BIA', 'BLM', 'IA', 'NPS', 'FWS', 'TRIBE', 'DOD', 'BOR', 'DOE']\n",
            "Column name: NWCG_REPORTING_UNIT_ID, NaN count: 0, \n",
            "            # of non-null values: 1640\n",
            "Column name: NWCG_REPORTING_UNIT_NAME, NaN count: 0, \n",
            "            # of non-null values: 1635\n",
            "Column name: SOURCE_REPORTING_UNIT, NaN count: 0, \n",
            "            # of non-null values: 4992\n",
            "Column name: SOURCE_REPORTING_UNIT_NAME, NaN count: 0, \n",
            "            # of non-null values: 4441\n",
            "Column name: LOCAL_FIRE_REPORT_ID, NaN count: 1459286, \n",
            "            # of non-null values: 13509\n",
            "Column name: LOCAL_INCIDENT_ID, NaN count: 820821, \n",
            "            # of non-null values: 565915\n",
            "Column name: FIRE_CODE, NaN count: 1555636, \n",
            "            # of non-null values: 172447\n",
            "Column name: FIRE_NAME, NaN count: 957189, \n",
            "            # of non-null values: 493634\n",
            "Column name: ICS_209_INCIDENT_NUMBER, NaN count: 1854748, \n",
            "            # of non-null values: 22738\n",
            "Column name: ICS_209_NAME, NaN count: 1854748, \n",
            "            # of non-null values: 19574\n",
            "Column name: MTBS_ID, NaN count: 1869462, \n",
            "            # of non-null values: 10482\n",
            "Column name: MTBS_FIRE_NAME, NaN count: 1869462, \n",
            "            # of non-null values: 8134\n",
            "Column name: COMPLEX_NAME, NaN count: 1875282, \n",
            "            # of non-null values: 1417\n",
            "Column name: FIRE_YEAR, NaN count: 0, \n",
            "            # of non-null values: 24\n",
            "Column name: DISCOVERY_DATE, NaN count: 0, \n",
            "            # of non-null values: 8766\n",
            "Column name: DISCOVERY_DOY, NaN count: 0, \n",
            "            # of non-null values: 366\n",
            "Column name: DISCOVERY_TIME, NaN count: 882638, \n",
            "            # of non-null values: 1441\n",
            "Column name: STAT_CAUSE_CODE, NaN count: 0, \n",
            "            # of non-null values: 13, \n",
            "            distinct values: [5.0, 9.0, 7.0, 1.0, 13.0, 2.0, 4.0, 8.0, 3.0, 6.0, 11.0, 10.0, 12.0]\n",
            "Column name: STAT_CAUSE_DESCR, NaN count: 0, \n",
            "            # of non-null values: 13, \n",
            "            distinct values: ['Debris Burning', 'Miscellaneous', 'Arson', 'Lightning', 'Missing/Undefined', 'Equipment Use', 'Campfire', 'Children', 'Smoking', 'Railroad', 'Powerline', 'Fireworks', 'Structure']\n",
            "Column name: CONT_DATE, NaN count: 891531, \n",
            "            # of non-null values: 8761\n",
            "Column name: CONT_DOY, NaN count: 891531, \n",
            "            # of non-null values: 367\n",
            "Column name: CONT_TIME, NaN count: 972173, \n",
            "            # of non-null values: 1442\n",
            "Column name: FIRE_SIZE, NaN count: 0, \n",
            "            # of non-null values: 13637\n",
            "Column name: FIRE_SIZE_CLASS, NaN count: 0, \n",
            "            # of non-null values: 7, \n",
            "            distinct values: ['B', 'A', 'C', 'D', 'E', 'F', 'G']\n",
            "Column name: LATITUDE, NaN count: 0, \n",
            "            # of non-null values: 894061\n",
            "Column name: LONGITUDE, NaN count: 0, \n",
            "            # of non-null values: 997536\n",
            "Column name: OWNER_CODE, NaN count: 0, \n",
            "            # of non-null values: 16, \n",
            "            distinct values: [14.0, 8.0, 5.0, 2.0, 13.0, 1.0, 7.0, 3.0, 4.0, 9.0, 6.0, 12.0, 15.0, 11.0, 10.0, 0.0]\n",
            "Column name: OWNER_DESCR, NaN count: 0, \n",
            "            # of non-null values: 16, \n",
            "            distinct values: ['MISSING/NOT SPECIFIED', 'PRIVATE', 'USFS', 'BIA', 'STATE OR PRIVATE', 'BLM', 'STATE', 'NPS', 'FWS', 'TRIBAL', 'OTHER FEDERAL', 'MUNICIPAL/LOCAL', 'UNDEFINED FEDERAL', 'COUNTY', 'BOR', 'FOREIGN']\n",
            "Column name: STATE, NaN count: 0, \n",
            "            # of non-null values: 52\n",
            "Column name: COUNTY, NaN count: 678148, \n",
            "            # of non-null values: 3456\n",
            "Column name: FIPS_CODE, NaN count: 678148, \n",
            "            # of non-null values: 286\n",
            "Column name: FIPS_NAME, NaN count: 678148, \n",
            "            # of non-null values: 1699\n"
          ],
          "name": "stdout"
        }
      ]
    },
    {
      "cell_type": "markdown",
      "metadata": {
        "id": "GW1DCyA6oHQW"
      },
      "source": [
        "### For now, we only care about exploring the following variables: \n",
        "OWNER_DESCR, FIRE_SIZE, FIRE_SIZE_CLASS, FIRE_YEAR, DISCOVERY_DATE, STAT_CAUSE_DESCR, LATITUDE, LONGITUDE, STATE, COUNTY\n"
      ]
    },
    {
      "cell_type": "code",
      "metadata": {
        "id": "D3B0i9_kow2r",
        "outputId": "a17062ed-4b12-480c-f1c5-30573538ed1c",
        "colab": {
          "base_uri": "https://localhost:8080/",
          "height": 69
        }
      },
      "source": [
        "\"\"\"\n",
        "Subset fires_df to explore the above columns. Find necessary and informative\n",
        "descriptive statistics, clean the data, make simple visualizations, run simple\n",
        "regressions, etc. Just do whatever feels right so we can begin to understand \n",
        "what steps to take moving forward. \n",
        "\"\"\""
      ],
      "execution_count": 7,
      "outputs": [
        {
          "output_type": "execute_result",
          "data": {
            "application/vnd.google.colaboratory.intrinsic+json": {
              "type": "string"
            },
            "text/plain": [
              "'\\nSubset fires_df to explore the above columns. Find necessary and informative\\ndescriptive statistics, clean the data, make simple visualizations, run simple\\nregressions, etc. Just do whatever feels right so we can begin to understand \\nwhat steps to take moving forward. \\n'"
            ]
          },
          "metadata": {
            "tags": []
          },
          "execution_count": 7
        }
      ]
    },
    {
      "cell_type": "markdown",
      "metadata": {
        "id": "SphT7fOWHYqZ"
      },
      "source": [
        "#### We have a categorical variable that delineates fire sizes into 7 categories (FIRE_SIZE_CLASS), so let's explore how the 7 groups differ over variables such as FIRE_YEAR, STATE, and COUNTY. \n",
        "\n",
        "Notice that COUNTY has 678148 different null values and only 3456 non-null values, so leave COUNTY out of the exploration for now. Maybe we study COUNTY for specific states later on."
      ]
    },
    {
      "cell_type": "code",
      "metadata": {
        "id": "VgREUDV0ISHb",
        "outputId": "8a376f53-f3b1-4041-ef94-4ad537de88eb",
        "colab": {
          "base_uri": "https://localhost:8080/",
          "height": 436
        }
      },
      "source": [
        "# create a subset df containing the columns listed above\n",
        "subs_cols = ['FIRE_SIZE_CLASS', 'FIRE_YEAR', 'STATE']\n",
        "fires_size_df = fires_df[subs_cols].copy(deep=True)\n",
        "print(f\"Note: We have {fires_size_df.isnull().values.sum()} null values in the df\")\n",
        "fires_size_df"
      ],
      "execution_count": 8,
      "outputs": [
        {
          "output_type": "stream",
          "text": [
            "Note: We have 0 null values in the df\n"
          ],
          "name": "stdout"
        },
        {
          "output_type": "execute_result",
          "data": {
            "text/html": [
              "<div>\n",
              "<style scoped>\n",
              "    .dataframe tbody tr th:only-of-type {\n",
              "        vertical-align: middle;\n",
              "    }\n",
              "\n",
              "    .dataframe tbody tr th {\n",
              "        vertical-align: top;\n",
              "    }\n",
              "\n",
              "    .dataframe thead th {\n",
              "        text-align: right;\n",
              "    }\n",
              "</style>\n",
              "<table border=\"1\" class=\"dataframe\">\n",
              "  <thead>\n",
              "    <tr style=\"text-align: right;\">\n",
              "      <th></th>\n",
              "      <th>FIRE_SIZE_CLASS</th>\n",
              "      <th>FIRE_YEAR</th>\n",
              "      <th>STATE</th>\n",
              "    </tr>\n",
              "  </thead>\n",
              "  <tbody>\n",
              "    <tr>\n",
              "      <th>0</th>\n",
              "      <td>A</td>\n",
              "      <td>2005</td>\n",
              "      <td>CA</td>\n",
              "    </tr>\n",
              "    <tr>\n",
              "      <th>1</th>\n",
              "      <td>A</td>\n",
              "      <td>2004</td>\n",
              "      <td>CA</td>\n",
              "    </tr>\n",
              "    <tr>\n",
              "      <th>2</th>\n",
              "      <td>A</td>\n",
              "      <td>2004</td>\n",
              "      <td>CA</td>\n",
              "    </tr>\n",
              "    <tr>\n",
              "      <th>3</th>\n",
              "      <td>A</td>\n",
              "      <td>2004</td>\n",
              "      <td>CA</td>\n",
              "    </tr>\n",
              "    <tr>\n",
              "      <th>4</th>\n",
              "      <td>A</td>\n",
              "      <td>2004</td>\n",
              "      <td>CA</td>\n",
              "    </tr>\n",
              "    <tr>\n",
              "      <th>...</th>\n",
              "      <td>...</td>\n",
              "      <td>...</td>\n",
              "      <td>...</td>\n",
              "    </tr>\n",
              "    <tr>\n",
              "      <th>1880460</th>\n",
              "      <td>A</td>\n",
              "      <td>2015</td>\n",
              "      <td>CA</td>\n",
              "    </tr>\n",
              "    <tr>\n",
              "      <th>1880461</th>\n",
              "      <td>A</td>\n",
              "      <td>2015</td>\n",
              "      <td>CA</td>\n",
              "    </tr>\n",
              "    <tr>\n",
              "      <th>1880462</th>\n",
              "      <td>A</td>\n",
              "      <td>2015</td>\n",
              "      <td>CA</td>\n",
              "    </tr>\n",
              "    <tr>\n",
              "      <th>1880463</th>\n",
              "      <td>B</td>\n",
              "      <td>2015</td>\n",
              "      <td>CA</td>\n",
              "    </tr>\n",
              "    <tr>\n",
              "      <th>1880464</th>\n",
              "      <td>A</td>\n",
              "      <td>2015</td>\n",
              "      <td>CA</td>\n",
              "    </tr>\n",
              "  </tbody>\n",
              "</table>\n",
              "<p>1880465 rows × 3 columns</p>\n",
              "</div>"
            ],
            "text/plain": [
              "        FIRE_SIZE_CLASS  FIRE_YEAR STATE\n",
              "0                     A       2005    CA\n",
              "1                     A       2004    CA\n",
              "2                     A       2004    CA\n",
              "3                     A       2004    CA\n",
              "4                     A       2004    CA\n",
              "...                 ...        ...   ...\n",
              "1880460               A       2015    CA\n",
              "1880461               A       2015    CA\n",
              "1880462               A       2015    CA\n",
              "1880463               B       2015    CA\n",
              "1880464               A       2015    CA\n",
              "\n",
              "[1880465 rows x 3 columns]"
            ]
          },
          "metadata": {
            "tags": []
          },
          "execution_count": 8
        }
      ]
    },
    {
      "cell_type": "code",
      "metadata": {
        "id": "iXOqWsA6C4ry",
        "outputId": "b5fa394d-3184-4672-d017-5bfe181b20b1",
        "colab": {
          "base_uri": "https://localhost:8080/"
        }
      },
      "source": [
        "# Plot fire_size_class counts for each state\n",
        "\n",
        "\n",
        "# groupby state\n",
        "states_group = fires_size_df.groupby('STATE', sort=False)\n",
        "\n",
        "# iterate over each state\n",
        "for state, state_df in states_group: \n",
        "    print(state)\n",
        "    year_st_group = state_df.groupby('FIRE_YEAR')\n",
        "    # iterate over each year, but only use increments of 6 years (4 plots)\n",
        "    for year, year_df in year_st_group:\n",
        "        # only want 4 plots\n",
        "        if year % 6 == 0: \n",
        "            print()\n"
      ],
      "execution_count": 17,
      "outputs": [
        {
          "output_type": "stream",
          "text": [
            "CA\n",
            "\n",
            "\n",
            "\n",
            "\n",
            "NM\n",
            "\n",
            "\n",
            "\n",
            "\n",
            "OR\n",
            "\n",
            "\n",
            "\n",
            "\n",
            "NC\n",
            "\n",
            "\n",
            "\n",
            "\n",
            "WY\n",
            "\n",
            "\n",
            "\n",
            "\n",
            "CO\n",
            "\n",
            "\n",
            "\n",
            "\n",
            "WA\n",
            "\n",
            "\n",
            "\n",
            "\n",
            "MT\n",
            "\n",
            "\n",
            "\n",
            "\n",
            "UT\n",
            "\n",
            "\n",
            "\n",
            "\n",
            "AZ\n",
            "\n",
            "\n",
            "\n",
            "\n",
            "SD\n",
            "\n",
            "\n",
            "\n",
            "\n",
            "AR\n",
            "\n",
            "\n",
            "\n",
            "\n",
            "NV\n",
            "\n",
            "\n",
            "\n",
            "\n",
            "ID\n",
            "\n",
            "\n",
            "\n",
            "\n",
            "MN\n",
            "\n",
            "\n",
            "\n",
            "\n",
            "TX\n",
            "\n",
            "\n",
            "\n",
            "\n",
            "FL\n",
            "\n",
            "\n",
            "\n",
            "\n",
            "SC\n",
            "\n",
            "\n",
            "\n",
            "\n",
            "LA\n",
            "\n",
            "\n",
            "\n",
            "\n",
            "OK\n",
            "\n",
            "\n",
            "\n",
            "\n",
            "KS\n",
            "\n",
            "\n",
            "\n",
            "\n",
            "MO\n",
            "\n",
            "\n",
            "\n",
            "\n",
            "NE\n",
            "\n",
            "\n",
            "\n",
            "\n",
            "MI\n",
            "\n",
            "\n",
            "\n",
            "\n",
            "KY\n",
            "\n",
            "\n",
            "\n",
            "\n",
            "OH\n",
            "\n",
            "\n",
            "\n",
            "\n",
            "IN\n",
            "\n",
            "\n",
            "\n",
            "\n",
            "VA\n",
            "\n",
            "\n",
            "\n",
            "\n",
            "IL\n",
            "\n",
            "\n",
            "\n",
            "\n",
            "TN\n",
            "\n",
            "\n",
            "\n",
            "\n",
            "GA\n",
            "\n",
            "\n",
            "\n",
            "\n",
            "AK\n",
            "\n",
            "\n",
            "\n",
            "\n",
            "ND\n",
            "\n",
            "\n",
            "\n",
            "\n",
            "WV\n",
            "\n",
            "\n",
            "\n",
            "\n",
            "WI\n",
            "\n",
            "\n",
            "\n",
            "\n",
            "AL\n",
            "\n",
            "\n",
            "\n",
            "\n",
            "NH\n",
            "\n",
            "\n",
            "\n",
            "\n",
            "PA\n",
            "\n",
            "\n",
            "\n",
            "\n",
            "MS\n",
            "\n",
            "\n",
            "\n",
            "\n",
            "ME\n",
            "\n",
            "\n",
            "\n",
            "\n",
            "VT\n",
            "\n",
            "\n",
            "\n",
            "\n",
            "NY\n",
            "\n",
            "\n",
            "\n",
            "\n",
            "IA\n",
            "\n",
            "\n",
            "\n",
            "\n",
            "DC\n",
            "\n",
            "\n",
            "\n",
            "MD\n",
            "\n",
            "\n",
            "\n",
            "\n",
            "CT\n",
            "\n",
            "\n",
            "\n",
            "\n",
            "MA\n",
            "\n",
            "\n",
            "\n",
            "\n",
            "NJ\n",
            "\n",
            "\n",
            "\n",
            "\n",
            "HI\n",
            "\n",
            "\n",
            "\n",
            "\n",
            "DE\n",
            "\n",
            "\n",
            "\n",
            "PR\n",
            "\n",
            "\n",
            "\n",
            "\n",
            "RI\n"
          ],
          "name": "stdout"
        }
      ]
    },
    {
      "cell_type": "markdown",
      "metadata": {
        "id": "tXg2F-fWXuKJ"
      },
      "source": [
        "### Question to study: Does fire size class (7 classes) vary by State and/or Year?"
      ]
    },
    {
      "cell_type": "code",
      "metadata": {
        "id": "kR23yzN5T49R"
      },
      "source": [
        "# To study this question, we need to reorganize our data\n",
        "\n",
        "\n"
      ],
      "execution_count": 9,
      "outputs": []
    },
    {
      "cell_type": "markdown",
      "metadata": {
        "id": "dogAtOhdSiGP"
      },
      "source": [
        "### "
      ]
    },
    {
      "cell_type": "markdown",
      "metadata": {
        "id": "htnNKFe8R11m"
      },
      "source": [
        "Notice how CA, GA, TX, and NC have a high number "
      ]
    },
    {
      "cell_type": "code",
      "metadata": {
        "id": "5bGGp4vONJIz",
        "outputId": "49ecf6e7-4f4f-42fa-f84f-1a923d452fcf",
        "colab": {
          "base_uri": "https://localhost:8080/"
        }
      },
      "source": [
        "fires_size_df['STATE'].value_counts()"
      ],
      "execution_count": 10,
      "outputs": [
        {
          "output_type": "execute_result",
          "data": {
            "text/plain": [
              "CA    189550\n",
              "GA    168867\n",
              "TX    142021\n",
              "NC    111277\n",
              "FL     90261\n",
              "SC     81315\n",
              "NY     80870\n",
              "MS     79230\n",
              "AZ     71586\n",
              "AL     66570\n",
              "OR     61088\n",
              "MN     44769\n",
              "OK     43239\n",
              "MT     40767\n",
              "NM     37478\n",
              "ID     36698\n",
              "CO     34157\n",
              "WA     33513\n",
              "WI     31861\n",
              "AR     31663\n",
              "TN     31154\n",
              "SD     30963\n",
              "UT     30725\n",
              "LA     30013\n",
              "KY     27089\n",
              "NJ     25949\n",
              "PR     22081\n",
              "WV     21967\n",
              "VA     21833\n",
              "MO     17953\n",
              "NV     16956\n",
              "ND     15201\n",
              "WY     14166\n",
              "ME     13150\n",
              "AK     12843\n",
              "MI     10502\n",
              "HI      9895\n",
              "PA      8712\n",
              "NE      7973\n",
              "KS      7673\n",
              "CT      4976\n",
              "IA      4134\n",
              "MD      3622\n",
              "OH      3479\n",
              "MA      2626\n",
              "NH      2452\n",
              "IL      2327\n",
              "IN      2098\n",
              "RI       480\n",
              "VT       456\n",
              "DE       171\n",
              "DC        66\n",
              "Name: STATE, dtype: int64"
            ]
          },
          "metadata": {
            "tags": []
          },
          "execution_count": 10
        }
      ]
    },
    {
      "cell_type": "markdown",
      "metadata": {
        "id": "NhoCKslsIzCf"
      },
      "source": [
        "#### Another interesting exploration could be to visuzalize FIRE_SIZE over a time period such as years."
      ]
    },
    {
      "cell_type": "code",
      "metadata": {
        "id": "e6zibjbKI-To"
      },
      "source": [
        ""
      ],
      "execution_count": null,
      "outputs": []
    }
  ]
}