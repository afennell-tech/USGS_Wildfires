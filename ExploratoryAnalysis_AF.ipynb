{
  "nbformat": 4,
  "nbformat_minor": 0,
  "metadata": {
    "colab": {
      "name": "ExploratoryAnalysis_Main.ipynb",
      "provenance": [],
      "collapsed_sections": [],
      "include_colab_link": true
    },
    "kernelspec": {
      "display_name": "Python 3",
      "name": "python3"
    },
    "language_info": {
      "name": "python"
    }
  },
  "cells": [
    {
      "cell_type": "markdown",
      "metadata": {
        "id": "view-in-github",
        "colab_type": "text"
      },
      "source": [
        "<a href=\"https://colab.research.google.com/github/afennell-tech/USGS_Wildfires/blob/dev/ExploratoryAnalysis_AF.ipynb\" target=\"_parent\"><img src=\"https://colab.research.google.com/assets/colab-badge.svg\" alt=\"Open In Colab\"/></a>"
      ]
    },
    {
      "cell_type": "markdown",
      "metadata": {
        "id": "s4dfKRj1n8Lq"
      },
      "source": [
        "# Note\n",
        "The data for [1.88 Million US Wildfires](https://www.kaggle.com/rtatman/188-million-us-wildfires) is very large, so we store the file in google drive, rather than in our github repository. On Kaggle, the file provided is a SQLite database containing information on US wildfires. For the purpose of this project, we will utilize the sqlite3 library. Feel free to download the file to your local machine if you prefer. Click [here](https://drive.google.com/drive/folders/18YlVzuPCf-IXeQQSy0F3H32oG_KHEBhr?usp=sharing) to access the folder containing all data used for this project."
      ]
    },
    {
      "cell_type": "markdown",
      "metadata": {
        "id": "EAdLB2jBmmUA"
      },
      "source": [
        "# Initial Setup:\n",
        "\n",
        "Before running any of the below cells: \n",
        "1. Go to google drive (gdrive)\n",
        "2. Find the 'USGS_Wildfires_Project_Content' folder, which should be in the 'Shared with me' section of your gdrive\n",
        "3. Right click on the folder, and select 'Add shortcut to drive'\n",
        "4. Click 'Add shortcut'\n",
        "5. The folder should then appear in 'My Drive' section of gdrive\n",
        "\n",
        "***Users only need to complete the above task once.*** "
      ]
    },
    {
      "cell_type": "markdown",
      "metadata": {
        "id": "tB_Xc1D2CV6R"
      },
      "source": [
        "# Getting Started: Workspace Setup"
      ]
    },
    {
      "cell_type": "markdown",
      "metadata": {
        "id": "CCtiv6PIU4RM"
      },
      "source": [
        "### Mounting Google Drive to Google Colab\n",
        "Note: Any time the runtime is reset, you will need to reauthenticate to mount gdrive"
      ]
    },
    {
      "cell_type": "code",
      "metadata": {
        "colab": {
          "base_uri": "https://localhost:8080/",
          "height": 89
        },
        "id": "HgrvZ4zHjc4j",
        "outputId": "53441aca-da7e-4407-ac33-794094f33f68"
      },
      "source": [
        "from google.colab import drive\n",
        "from os.path import join\n",
        "\n",
        "ROOT = '/content/drive' # default for the drive\n",
        "PROJ = 'MyDrive/USGS_Wildfires_Project_Content' # path to project on Drive\n",
        "PROJ_PATH = join(ROOT, PROJ)\n",
        "DATA_PATH = join(PROJ_PATH, 'data')\n",
        "\n",
        "drive.mount(ROOT) # we mount the drive at /content/drive\n",
        "\n",
        "\"\"\" After executing the above code, the folder 'drive' will appear under \n",
        "the files section. This is the users respective gdrive \"\"\""
      ],
      "execution_count": 87,
      "outputs": [
        {
          "output_type": "stream",
          "text": [
            "Drive already mounted at /content/drive; to attempt to forcibly remount, call drive.mount(\"/content/drive\", force_remount=True).\n"
          ],
          "name": "stdout"
        },
        {
          "output_type": "execute_result",
          "data": {
            "application/vnd.google.colaboratory.intrinsic+json": {
              "type": "string"
            },
            "text/plain": [
              "\" After executing the above code, the folder 'drive' will appear under \\nthe files section. This is the users respective gdrive \""
            ]
          },
          "metadata": {
            "tags": []
          },
          "execution_count": 87
        }
      ]
    },
    {
      "cell_type": "markdown",
      "metadata": {
        "id": "JaRUgU3x47tn"
      },
      "source": [
        "# Exploratory Analysis"
      ]
    },
    {
      "cell_type": "markdown",
      "metadata": {
        "id": "1NPkKZbq_kE-"
      },
      "source": [
        "### Helper Functions"
      ]
    },
    {
      "cell_type": "code",
      "metadata": {
        "id": "Qh9e9uqpLHLP",
        "colab": {
          "base_uri": "https://localhost:8080/"
        },
        "outputId": "b5eb4de8-9cfd-4206-aa3c-6f0ed9a44fe7"
      },
      "source": [
        "import sqlite3 # to deal with database \n",
        "import numpy as np \n",
        "import pandas as pd\n",
        "import matplotlib.pyplot as plt\n",
        "import seaborn as sns\n",
        "import statsmodels.api as sm\n",
        "import statsmodels.formula.api\n",
        "\n",
        "\"\"\"\n",
        "Returns a Connection object that represents the input db.\n",
        "\"\"\"\n",
        "def get_sql_connection(sql_file): \n",
        "    return sqlite3.connect(sql_file)\n",
        "\n",
        "\"\"\"\n",
        "Returns a df for table from Connection object.\n",
        "\"\"\"\n",
        "def get_table(table_name, conn):\n",
        "    query = \"Select * from {}\".format(table_name)\n",
        "    return pd.read_sql_query(query, conn)\n",
        "\n",
        "\"\"\"\n",
        "Provided the input dataframe, function prints out the number of values each \n",
        "column takes on and if this number is less than input max_out, the corresponding \n",
        "values are printed as well.\n",
        "\"\"\"\n",
        "def print_col_info(df, max_out=5):\n",
        "    # check if input is valid\n",
        "    assert len(df.columns) > 0\n",
        "    # iterate over each column\n",
        "    for col_name, col in df.items(): \n",
        "        if len(col.value_counts()) <= max_out: \n",
        "            print(f\"\"\"Column name: {col_name}, NaN count: {col.isna().sum()}, \n",
        "            # of non-null values: {len(col.value_counts(dropna=False))}, \n",
        "            distinct values: {col.value_counts().index.tolist()}\"\"\")\n",
        "        else: \n",
        "            print(f\"\"\"Column name: {col_name}, NaN count: {col.isna().sum()}, \n",
        "            # of non-null values: {len(col.value_counts(dropna=False))}\"\"\")"
      ],
      "execution_count": 3,
      "outputs": [
        {
          "output_type": "stream",
          "text": [
            "/usr/local/lib/python3.7/dist-packages/statsmodels/tools/_testing.py:19: FutureWarning: pandas.util.testing is deprecated. Use the functions in the public API at pandas.testing instead.\n",
            "  import pandas.util.testing as tm\n"
          ],
          "name": "stderr"
        }
      ]
    },
    {
      "cell_type": "markdown",
      "metadata": {
        "id": "P9hM0PnqzaKU"
      },
      "source": [
        "### Time Series Data Wrangling"
      ]
    },
    {
      "cell_type": "code",
      "metadata": {
        "id": "NWdQjvMo1SC7"
      },
      "source": [
        "\"\"\" Fetches date range of data set\n",
        "\n",
        "Args: \n",
        "    in_df: dateframe for data set \n",
        "    year_col: string denoting the column name that holds year data for in_df\n",
        "    doy_col: string denoting the column name that holds (discovered) doy data \n",
        "    for in_df\n",
        "\n",
        "Returns: \n",
        "    Returns a fixed frequency DatetimeIndex for the input df \n",
        "\"\"\"\n",
        "def get_date_range(in_df, year_col='FIRE_YEAR', doy_col='DISCOVERY_DOY'):\n",
        "\n",
        "    # get data for start and end year\n",
        "    start_yr = in_df[year_col].value_counts(sort=False).index.tolist()[0]\n",
        "    end_yr = in_df[year_col].value_counts(sort=False).index.tolist()[-1]\n",
        "\n",
        "    # get data for start and end doy\n",
        "    start_doy = in_df[in_df[year_col] == start_yr][doy_col].min()\n",
        "    end_doy = in_df[in_df[year_col] == end_yr][doy_col].max()\n",
        "\n",
        "    # build output data\n",
        "    start_date = pd.to_datetime(start_yr*1000 + start_doy, format='%Y%j')\n",
        "    end_date = pd.to_datetime(end_yr*1000 + end_doy, format='%Y%j')\n",
        "    \n",
        "    return pd.date_range(start=start_date, end=end_date)\n",
        "\n",
        "# Example usage of the above function\n",
        "# complete_date_rng = get_date_range(fires_df)\n",
        "\n",
        "\"\"\"\n",
        "TODO \n",
        "\n",
        "Args: \n",
        "    TODO\n",
        "Returns: \n",
        "    TODO\n",
        "\"\"\"\n",
        "def function_name(): \n",
        "    pass"
      ],
      "execution_count": 95,
      "outputs": []
    },
    {
      "cell_type": "markdown",
      "metadata": {
        "id": "47rGmSfjGzIO"
      },
      "source": [
        "### Variable Setup"
      ]
    },
    {
      "cell_type": "code",
      "metadata": {
        "id": "lYrxl4koG-9F"
      },
      "source": [
        "USGS_DATA_PATH = join(DATA_PATH, 'FPA_FOD_20170508.sqlite')\n",
        "usgs_db = get_sql_connection(USGS_DATA_PATH) # USGS data"
      ],
      "execution_count": 96,
      "outputs": []
    },
    {
      "cell_type": "markdown",
      "metadata": {
        "id": "NSxRE7YqJqza"
      },
      "source": [
        "### Exploration"
      ]
    },
    {
      "cell_type": "markdown",
      "metadata": {
        "id": "GPZimwlLcukq"
      },
      "source": [
        "Load data"
      ]
    },
    {
      "cell_type": "code",
      "metadata": {
        "id": "HNymxSzbOmIA"
      },
      "source": [
        "# load fires data\n",
        "fires_df = get_table('fires', usgs_db)\n",
        "# drop OBJECTID and Shape; these are specific columns for the SQL db\n",
        "fires_df.drop(columns=['OBJECTID', 'Shape'], inplace=True)"
      ],
      "execution_count": 94,
      "outputs": []
    },
    {
      "cell_type": "code",
      "metadata": {
        "id": "Rlvlq3_aCDNd"
      },
      "source": [
        "# First, we get some info about the dataframe itself\n",
        "\n",
        "print(f\"There are {len(fires_df)} rows and {len(fires_df.columns)} columns.\")\n",
        "\n",
        "print(f\"List of all column names: {fires_df.columns}\")\n",
        "\n",
        "# get more info about the columns themselves (all)\n",
        "print_col_info(fires_df)"
      ],
      "execution_count": null,
      "outputs": []
    },
    {
      "cell_type": "markdown",
      "metadata": {
        "id": "cgaWD1gTc11_"
      },
      "source": [
        "Add columns that have properly formatted dates for the date fire is discovered and date fire is contained (some will be null dates)"
      ]
    },
    {
      "cell_type": "code",
      "metadata": {
        "id": "M0zB5rA_c2mb",
        "outputId": "dad7c08d-b4a9-4ffc-e1f9-35b556d68edc",
        "colab": {
          "base_uri": "https://localhost:8080/",
          "height": 490
        }
      },
      "source": [
        "# add columns that contain proper dates for each fire\n",
        "fires_df['DATE_DISCOVERED'] = pd.to_datetime(fires_df['FIRE_YEAR']*1000 + fires_df['DISCOVERY_DOY'], format='%Y%j')\n",
        "fires_df['DATE_CONTAINED'] = pd.to_datetime(fires_df['FIRE_YEAR']*1000 + fires_df['CONT_DOY'], format='%Y%j')\n",
        "fires_df"
      ],
      "execution_count": 98,
      "outputs": [
        {
          "output_type": "execute_result",
          "data": {
            "text/html": [
              "<div>\n",
              "<style scoped>\n",
              "    .dataframe tbody tr th:only-of-type {\n",
              "        vertical-align: middle;\n",
              "    }\n",
              "\n",
              "    .dataframe tbody tr th {\n",
              "        vertical-align: top;\n",
              "    }\n",
              "\n",
              "    .dataframe thead th {\n",
              "        text-align: right;\n",
              "    }\n",
              "</style>\n",
              "<table border=\"1\" class=\"dataframe\">\n",
              "  <thead>\n",
              "    <tr style=\"text-align: right;\">\n",
              "      <th></th>\n",
              "      <th>FOD_ID</th>\n",
              "      <th>FPA_ID</th>\n",
              "      <th>SOURCE_SYSTEM_TYPE</th>\n",
              "      <th>SOURCE_SYSTEM</th>\n",
              "      <th>NWCG_REPORTING_AGENCY</th>\n",
              "      <th>NWCG_REPORTING_UNIT_ID</th>\n",
              "      <th>NWCG_REPORTING_UNIT_NAME</th>\n",
              "      <th>SOURCE_REPORTING_UNIT</th>\n",
              "      <th>SOURCE_REPORTING_UNIT_NAME</th>\n",
              "      <th>LOCAL_FIRE_REPORT_ID</th>\n",
              "      <th>LOCAL_INCIDENT_ID</th>\n",
              "      <th>FIRE_CODE</th>\n",
              "      <th>FIRE_NAME</th>\n",
              "      <th>ICS_209_INCIDENT_NUMBER</th>\n",
              "      <th>ICS_209_NAME</th>\n",
              "      <th>MTBS_ID</th>\n",
              "      <th>MTBS_FIRE_NAME</th>\n",
              "      <th>COMPLEX_NAME</th>\n",
              "      <th>FIRE_YEAR</th>\n",
              "      <th>DISCOVERY_DATE</th>\n",
              "      <th>DISCOVERY_DOY</th>\n",
              "      <th>DISCOVERY_TIME</th>\n",
              "      <th>STAT_CAUSE_CODE</th>\n",
              "      <th>STAT_CAUSE_DESCR</th>\n",
              "      <th>CONT_DATE</th>\n",
              "      <th>CONT_DOY</th>\n",
              "      <th>CONT_TIME</th>\n",
              "      <th>FIRE_SIZE</th>\n",
              "      <th>FIRE_SIZE_CLASS</th>\n",
              "      <th>LATITUDE</th>\n",
              "      <th>LONGITUDE</th>\n",
              "      <th>OWNER_CODE</th>\n",
              "      <th>OWNER_DESCR</th>\n",
              "      <th>STATE</th>\n",
              "      <th>COUNTY</th>\n",
              "      <th>FIPS_CODE</th>\n",
              "      <th>FIPS_NAME</th>\n",
              "      <th>DATE_DISCOVERED</th>\n",
              "      <th>DATE_CONTAINED</th>\n",
              "    </tr>\n",
              "  </thead>\n",
              "  <tbody>\n",
              "    <tr>\n",
              "      <th>0</th>\n",
              "      <td>1</td>\n",
              "      <td>FS-1418826</td>\n",
              "      <td>FED</td>\n",
              "      <td>FS-FIRESTAT</td>\n",
              "      <td>FS</td>\n",
              "      <td>USCAPNF</td>\n",
              "      <td>Plumas National Forest</td>\n",
              "      <td>0511</td>\n",
              "      <td>Plumas National Forest</td>\n",
              "      <td>1</td>\n",
              "      <td>PNF-47</td>\n",
              "      <td>BJ8K</td>\n",
              "      <td>FOUNTAIN</td>\n",
              "      <td>None</td>\n",
              "      <td>None</td>\n",
              "      <td>None</td>\n",
              "      <td>None</td>\n",
              "      <td>None</td>\n",
              "      <td>2005</td>\n",
              "      <td>2453403.5</td>\n",
              "      <td>33</td>\n",
              "      <td>1300</td>\n",
              "      <td>9.0</td>\n",
              "      <td>Miscellaneous</td>\n",
              "      <td>2453403.5</td>\n",
              "      <td>33.0</td>\n",
              "      <td>1730</td>\n",
              "      <td>0.10</td>\n",
              "      <td>A</td>\n",
              "      <td>40.036944</td>\n",
              "      <td>-121.005833</td>\n",
              "      <td>5.0</td>\n",
              "      <td>USFS</td>\n",
              "      <td>CA</td>\n",
              "      <td>63</td>\n",
              "      <td>063</td>\n",
              "      <td>Plumas</td>\n",
              "      <td>2005-02-02</td>\n",
              "      <td>2005-02-02</td>\n",
              "    </tr>\n",
              "    <tr>\n",
              "      <th>1</th>\n",
              "      <td>2</td>\n",
              "      <td>FS-1418827</td>\n",
              "      <td>FED</td>\n",
              "      <td>FS-FIRESTAT</td>\n",
              "      <td>FS</td>\n",
              "      <td>USCAENF</td>\n",
              "      <td>Eldorado National Forest</td>\n",
              "      <td>0503</td>\n",
              "      <td>Eldorado National Forest</td>\n",
              "      <td>13</td>\n",
              "      <td>13</td>\n",
              "      <td>AAC0</td>\n",
              "      <td>PIGEON</td>\n",
              "      <td>None</td>\n",
              "      <td>None</td>\n",
              "      <td>None</td>\n",
              "      <td>None</td>\n",
              "      <td>None</td>\n",
              "      <td>2004</td>\n",
              "      <td>2453137.5</td>\n",
              "      <td>133</td>\n",
              "      <td>0845</td>\n",
              "      <td>1.0</td>\n",
              "      <td>Lightning</td>\n",
              "      <td>2453137.5</td>\n",
              "      <td>133.0</td>\n",
              "      <td>1530</td>\n",
              "      <td>0.25</td>\n",
              "      <td>A</td>\n",
              "      <td>38.933056</td>\n",
              "      <td>-120.404444</td>\n",
              "      <td>5.0</td>\n",
              "      <td>USFS</td>\n",
              "      <td>CA</td>\n",
              "      <td>61</td>\n",
              "      <td>061</td>\n",
              "      <td>Placer</td>\n",
              "      <td>2004-05-12</td>\n",
              "      <td>2004-05-12</td>\n",
              "    </tr>\n",
              "    <tr>\n",
              "      <th>2</th>\n",
              "      <td>3</td>\n",
              "      <td>FS-1418835</td>\n",
              "      <td>FED</td>\n",
              "      <td>FS-FIRESTAT</td>\n",
              "      <td>FS</td>\n",
              "      <td>USCAENF</td>\n",
              "      <td>Eldorado National Forest</td>\n",
              "      <td>0503</td>\n",
              "      <td>Eldorado National Forest</td>\n",
              "      <td>27</td>\n",
              "      <td>021</td>\n",
              "      <td>A32W</td>\n",
              "      <td>SLACK</td>\n",
              "      <td>None</td>\n",
              "      <td>None</td>\n",
              "      <td>None</td>\n",
              "      <td>None</td>\n",
              "      <td>None</td>\n",
              "      <td>2004</td>\n",
              "      <td>2453156.5</td>\n",
              "      <td>152</td>\n",
              "      <td>1921</td>\n",
              "      <td>5.0</td>\n",
              "      <td>Debris Burning</td>\n",
              "      <td>2453156.5</td>\n",
              "      <td>152.0</td>\n",
              "      <td>2024</td>\n",
              "      <td>0.10</td>\n",
              "      <td>A</td>\n",
              "      <td>38.984167</td>\n",
              "      <td>-120.735556</td>\n",
              "      <td>13.0</td>\n",
              "      <td>STATE OR PRIVATE</td>\n",
              "      <td>CA</td>\n",
              "      <td>17</td>\n",
              "      <td>017</td>\n",
              "      <td>El Dorado</td>\n",
              "      <td>2004-05-31</td>\n",
              "      <td>2004-05-31</td>\n",
              "    </tr>\n",
              "    <tr>\n",
              "      <th>3</th>\n",
              "      <td>4</td>\n",
              "      <td>FS-1418845</td>\n",
              "      <td>FED</td>\n",
              "      <td>FS-FIRESTAT</td>\n",
              "      <td>FS</td>\n",
              "      <td>USCAENF</td>\n",
              "      <td>Eldorado National Forest</td>\n",
              "      <td>0503</td>\n",
              "      <td>Eldorado National Forest</td>\n",
              "      <td>43</td>\n",
              "      <td>6</td>\n",
              "      <td>None</td>\n",
              "      <td>DEER</td>\n",
              "      <td>None</td>\n",
              "      <td>None</td>\n",
              "      <td>None</td>\n",
              "      <td>None</td>\n",
              "      <td>None</td>\n",
              "      <td>2004</td>\n",
              "      <td>2453184.5</td>\n",
              "      <td>180</td>\n",
              "      <td>1600</td>\n",
              "      <td>1.0</td>\n",
              "      <td>Lightning</td>\n",
              "      <td>2453189.5</td>\n",
              "      <td>185.0</td>\n",
              "      <td>1400</td>\n",
              "      <td>0.10</td>\n",
              "      <td>A</td>\n",
              "      <td>38.559167</td>\n",
              "      <td>-119.913333</td>\n",
              "      <td>5.0</td>\n",
              "      <td>USFS</td>\n",
              "      <td>CA</td>\n",
              "      <td>3</td>\n",
              "      <td>003</td>\n",
              "      <td>Alpine</td>\n",
              "      <td>2004-06-28</td>\n",
              "      <td>2004-07-03</td>\n",
              "    </tr>\n",
              "    <tr>\n",
              "      <th>4</th>\n",
              "      <td>5</td>\n",
              "      <td>FS-1418847</td>\n",
              "      <td>FED</td>\n",
              "      <td>FS-FIRESTAT</td>\n",
              "      <td>FS</td>\n",
              "      <td>USCAENF</td>\n",
              "      <td>Eldorado National Forest</td>\n",
              "      <td>0503</td>\n",
              "      <td>Eldorado National Forest</td>\n",
              "      <td>44</td>\n",
              "      <td>7</td>\n",
              "      <td>None</td>\n",
              "      <td>STEVENOT</td>\n",
              "      <td>None</td>\n",
              "      <td>None</td>\n",
              "      <td>None</td>\n",
              "      <td>None</td>\n",
              "      <td>None</td>\n",
              "      <td>2004</td>\n",
              "      <td>2453184.5</td>\n",
              "      <td>180</td>\n",
              "      <td>1600</td>\n",
              "      <td>1.0</td>\n",
              "      <td>Lightning</td>\n",
              "      <td>2453189.5</td>\n",
              "      <td>185.0</td>\n",
              "      <td>1200</td>\n",
              "      <td>0.10</td>\n",
              "      <td>A</td>\n",
              "      <td>38.559167</td>\n",
              "      <td>-119.933056</td>\n",
              "      <td>5.0</td>\n",
              "      <td>USFS</td>\n",
              "      <td>CA</td>\n",
              "      <td>3</td>\n",
              "      <td>003</td>\n",
              "      <td>Alpine</td>\n",
              "      <td>2004-06-28</td>\n",
              "      <td>2004-07-03</td>\n",
              "    </tr>\n",
              "    <tr>\n",
              "      <th>...</th>\n",
              "      <td>...</td>\n",
              "      <td>...</td>\n",
              "      <td>...</td>\n",
              "      <td>...</td>\n",
              "      <td>...</td>\n",
              "      <td>...</td>\n",
              "      <td>...</td>\n",
              "      <td>...</td>\n",
              "      <td>...</td>\n",
              "      <td>...</td>\n",
              "      <td>...</td>\n",
              "      <td>...</td>\n",
              "      <td>...</td>\n",
              "      <td>...</td>\n",
              "      <td>...</td>\n",
              "      <td>...</td>\n",
              "      <td>...</td>\n",
              "      <td>...</td>\n",
              "      <td>...</td>\n",
              "      <td>...</td>\n",
              "      <td>...</td>\n",
              "      <td>...</td>\n",
              "      <td>...</td>\n",
              "      <td>...</td>\n",
              "      <td>...</td>\n",
              "      <td>...</td>\n",
              "      <td>...</td>\n",
              "      <td>...</td>\n",
              "      <td>...</td>\n",
              "      <td>...</td>\n",
              "      <td>...</td>\n",
              "      <td>...</td>\n",
              "      <td>...</td>\n",
              "      <td>...</td>\n",
              "      <td>...</td>\n",
              "      <td>...</td>\n",
              "      <td>...</td>\n",
              "      <td>...</td>\n",
              "      <td>...</td>\n",
              "    </tr>\n",
              "    <tr>\n",
              "      <th>1880460</th>\n",
              "      <td>300348363</td>\n",
              "      <td>2015CAIRS29019636</td>\n",
              "      <td>NONFED</td>\n",
              "      <td>ST-CACDF</td>\n",
              "      <td>ST/C&amp;L</td>\n",
              "      <td>USCASHU</td>\n",
              "      <td>Shasta-Trinity Unit</td>\n",
              "      <td>CASHU</td>\n",
              "      <td>Shasta-Trinity Unit</td>\n",
              "      <td>591814</td>\n",
              "      <td>009371</td>\n",
              "      <td>None</td>\n",
              "      <td>ODESSA 2</td>\n",
              "      <td>None</td>\n",
              "      <td>None</td>\n",
              "      <td>None</td>\n",
              "      <td>None</td>\n",
              "      <td>None</td>\n",
              "      <td>2015</td>\n",
              "      <td>2457291.5</td>\n",
              "      <td>269</td>\n",
              "      <td>1726</td>\n",
              "      <td>13.0</td>\n",
              "      <td>Missing/Undefined</td>\n",
              "      <td>2457291.5</td>\n",
              "      <td>269.0</td>\n",
              "      <td>1843</td>\n",
              "      <td>0.01</td>\n",
              "      <td>A</td>\n",
              "      <td>40.481637</td>\n",
              "      <td>-122.389375</td>\n",
              "      <td>13.0</td>\n",
              "      <td>STATE OR PRIVATE</td>\n",
              "      <td>CA</td>\n",
              "      <td>None</td>\n",
              "      <td>None</td>\n",
              "      <td>None</td>\n",
              "      <td>2015-09-26</td>\n",
              "      <td>2015-09-26</td>\n",
              "    </tr>\n",
              "    <tr>\n",
              "      <th>1880461</th>\n",
              "      <td>300348373</td>\n",
              "      <td>2015CAIRS29217935</td>\n",
              "      <td>NONFED</td>\n",
              "      <td>ST-CACDF</td>\n",
              "      <td>ST/C&amp;L</td>\n",
              "      <td>USCATCU</td>\n",
              "      <td>Tuolumne-Calaveras Unit</td>\n",
              "      <td>CATCU</td>\n",
              "      <td>Tuolumne-Calaveras Unit</td>\n",
              "      <td>569419</td>\n",
              "      <td>000366</td>\n",
              "      <td>None</td>\n",
              "      <td>None</td>\n",
              "      <td>None</td>\n",
              "      <td>None</td>\n",
              "      <td>None</td>\n",
              "      <td>None</td>\n",
              "      <td>None</td>\n",
              "      <td>2015</td>\n",
              "      <td>2457300.5</td>\n",
              "      <td>278</td>\n",
              "      <td>0126</td>\n",
              "      <td>9.0</td>\n",
              "      <td>Miscellaneous</td>\n",
              "      <td>NaN</td>\n",
              "      <td>NaN</td>\n",
              "      <td>None</td>\n",
              "      <td>0.20</td>\n",
              "      <td>A</td>\n",
              "      <td>37.617619</td>\n",
              "      <td>-120.938570</td>\n",
              "      <td>12.0</td>\n",
              "      <td>MUNICIPAL/LOCAL</td>\n",
              "      <td>CA</td>\n",
              "      <td>None</td>\n",
              "      <td>None</td>\n",
              "      <td>None</td>\n",
              "      <td>2015-10-05</td>\n",
              "      <td>NaT</td>\n",
              "    </tr>\n",
              "    <tr>\n",
              "      <th>1880462</th>\n",
              "      <td>300348375</td>\n",
              "      <td>2015CAIRS28364460</td>\n",
              "      <td>NONFED</td>\n",
              "      <td>ST-CACDF</td>\n",
              "      <td>ST/C&amp;L</td>\n",
              "      <td>USCATCU</td>\n",
              "      <td>Tuolumne-Calaveras Unit</td>\n",
              "      <td>CATCU</td>\n",
              "      <td>Tuolumne-Calaveras Unit</td>\n",
              "      <td>574245</td>\n",
              "      <td>000158</td>\n",
              "      <td>None</td>\n",
              "      <td>None</td>\n",
              "      <td>None</td>\n",
              "      <td>None</td>\n",
              "      <td>None</td>\n",
              "      <td>None</td>\n",
              "      <td>None</td>\n",
              "      <td>2015</td>\n",
              "      <td>2457144.5</td>\n",
              "      <td>122</td>\n",
              "      <td>2052</td>\n",
              "      <td>13.0</td>\n",
              "      <td>Missing/Undefined</td>\n",
              "      <td>NaN</td>\n",
              "      <td>NaN</td>\n",
              "      <td>None</td>\n",
              "      <td>0.10</td>\n",
              "      <td>A</td>\n",
              "      <td>37.617619</td>\n",
              "      <td>-120.938570</td>\n",
              "      <td>12.0</td>\n",
              "      <td>MUNICIPAL/LOCAL</td>\n",
              "      <td>CA</td>\n",
              "      <td>None</td>\n",
              "      <td>None</td>\n",
              "      <td>None</td>\n",
              "      <td>2015-05-02</td>\n",
              "      <td>NaT</td>\n",
              "    </tr>\n",
              "    <tr>\n",
              "      <th>1880463</th>\n",
              "      <td>300348377</td>\n",
              "      <td>2015CAIRS29218079</td>\n",
              "      <td>NONFED</td>\n",
              "      <td>ST-CACDF</td>\n",
              "      <td>ST/C&amp;L</td>\n",
              "      <td>USCATCU</td>\n",
              "      <td>Tuolumne-Calaveras Unit</td>\n",
              "      <td>CATCU</td>\n",
              "      <td>Tuolumne-Calaveras Unit</td>\n",
              "      <td>570462</td>\n",
              "      <td>000380</td>\n",
              "      <td>None</td>\n",
              "      <td>None</td>\n",
              "      <td>None</td>\n",
              "      <td>None</td>\n",
              "      <td>None</td>\n",
              "      <td>None</td>\n",
              "      <td>None</td>\n",
              "      <td>2015</td>\n",
              "      <td>2457309.5</td>\n",
              "      <td>287</td>\n",
              "      <td>2309</td>\n",
              "      <td>13.0</td>\n",
              "      <td>Missing/Undefined</td>\n",
              "      <td>NaN</td>\n",
              "      <td>NaN</td>\n",
              "      <td>None</td>\n",
              "      <td>2.00</td>\n",
              "      <td>B</td>\n",
              "      <td>37.672235</td>\n",
              "      <td>-120.898356</td>\n",
              "      <td>12.0</td>\n",
              "      <td>MUNICIPAL/LOCAL</td>\n",
              "      <td>CA</td>\n",
              "      <td>None</td>\n",
              "      <td>None</td>\n",
              "      <td>None</td>\n",
              "      <td>2015-10-14</td>\n",
              "      <td>NaT</td>\n",
              "    </tr>\n",
              "    <tr>\n",
              "      <th>1880464</th>\n",
              "      <td>300348399</td>\n",
              "      <td>2015CAIRS26733926</td>\n",
              "      <td>NONFED</td>\n",
              "      <td>ST-CACDF</td>\n",
              "      <td>ST/C&amp;L</td>\n",
              "      <td>USCABDU</td>\n",
              "      <td>San Bernardino Unit</td>\n",
              "      <td>CABDU</td>\n",
              "      <td>CDF - San Bernardino Unit</td>\n",
              "      <td>535436</td>\n",
              "      <td>003225</td>\n",
              "      <td>None</td>\n",
              "      <td>BARKER BL  BIG_BEAR_LAKE_</td>\n",
              "      <td>None</td>\n",
              "      <td>None</td>\n",
              "      <td>None</td>\n",
              "      <td>None</td>\n",
              "      <td>None</td>\n",
              "      <td>2015</td>\n",
              "      <td>2457095.5</td>\n",
              "      <td>73</td>\n",
              "      <td>2128</td>\n",
              "      <td>9.0</td>\n",
              "      <td>Miscellaneous</td>\n",
              "      <td>NaN</td>\n",
              "      <td>NaN</td>\n",
              "      <td>None</td>\n",
              "      <td>0.10</td>\n",
              "      <td>A</td>\n",
              "      <td>34.263217</td>\n",
              "      <td>-116.830950</td>\n",
              "      <td>13.0</td>\n",
              "      <td>STATE OR PRIVATE</td>\n",
              "      <td>CA</td>\n",
              "      <td>None</td>\n",
              "      <td>None</td>\n",
              "      <td>None</td>\n",
              "      <td>2015-03-14</td>\n",
              "      <td>NaT</td>\n",
              "    </tr>\n",
              "  </tbody>\n",
              "</table>\n",
              "<p>1880465 rows × 39 columns</p>\n",
              "</div>"
            ],
            "text/plain": [
              "            FOD_ID             FPA_ID  ... DATE_DISCOVERED DATE_CONTAINED\n",
              "0                1         FS-1418826  ...      2005-02-02     2005-02-02\n",
              "1                2         FS-1418827  ...      2004-05-12     2004-05-12\n",
              "2                3         FS-1418835  ...      2004-05-31     2004-05-31\n",
              "3                4         FS-1418845  ...      2004-06-28     2004-07-03\n",
              "4                5         FS-1418847  ...      2004-06-28     2004-07-03\n",
              "...            ...                ...  ...             ...            ...\n",
              "1880460  300348363  2015CAIRS29019636  ...      2015-09-26     2015-09-26\n",
              "1880461  300348373  2015CAIRS29217935  ...      2015-10-05            NaT\n",
              "1880462  300348375  2015CAIRS28364460  ...      2015-05-02            NaT\n",
              "1880463  300348377  2015CAIRS29218079  ...      2015-10-14            NaT\n",
              "1880464  300348399  2015CAIRS26733926  ...      2015-03-14            NaT\n",
              "\n",
              "[1880465 rows x 39 columns]"
            ]
          },
          "metadata": {
            "tags": []
          },
          "execution_count": 98
        }
      ]
    },
    {
      "cell_type": "markdown",
      "metadata": {
        "id": "GW1DCyA6oHQW"
      },
      "source": [
        "### For now, we only care about exploring the following variables: \n",
        "OWNER_DESCR, FIRE_SIZE, FIRE_SIZE_CLASS, FIRE_YEAR, DISCOVERY_DATE, STAT_CAUSE_DESCR, LATITUDE, LONGITUDE, STATE, COUNTY\n"
      ]
    },
    {
      "cell_type": "code",
      "metadata": {
        "id": "D3B0i9_kow2r",
        "colab": {
          "base_uri": "https://localhost:8080/",
          "height": 69
        },
        "outputId": "a598a808-722d-44b2-9124-7a1bd2ec9e5f"
      },
      "source": [
        "\"\"\"\n",
        "Subset fires_df to explore the above columns. Find necessary and informative\n",
        "descriptive statistics, clean the data, make simple visualizations, run simple\n",
        "regressions, etc. Just do whatever feels right so we can begin to understand \n",
        "what steps to take moving forward. \n",
        "\"\"\""
      ],
      "execution_count": 7,
      "outputs": [
        {
          "output_type": "execute_result",
          "data": {
            "application/vnd.google.colaboratory.intrinsic+json": {
              "type": "string"
            },
            "text/plain": [
              "'\\nSubset fires_df to explore the above columns. Find necessary and informative\\ndescriptive statistics, clean the data, make simple visualizations, run simple\\nregressions, etc. Just do whatever feels right so we can begin to understand \\nwhat steps to take moving forward. \\n'"
            ]
          },
          "metadata": {
            "tags": []
          },
          "execution_count": 7
        }
      ]
    },
    {
      "cell_type": "markdown",
      "metadata": {
        "id": "SphT7fOWHYqZ"
      },
      "source": [
        "#### We have a categorical variable that delineates fire sizes into 7 categories (FIRE_SIZE_CLASS), so let's explore how the 7 groups differ over variables such as FIRE_YEAR, STATE, and COUNTY. \n",
        "\n",
        "Notice that COUNTY has 678148 different null values and only 3456 non-null values, so leave COUNTY out of the exploration for now. Maybe we study COUNTY for specific states later on."
      ]
    },
    {
      "cell_type": "code",
      "metadata": {
        "id": "VgREUDV0ISHb",
        "colab": {
          "base_uri": "https://localhost:8080/",
          "height": 436
        },
        "outputId": "8a6e6c71-afe0-44ce-e0a1-40fc1bf84a45"
      },
      "source": [
        "# create a subset df containing the columns listed above\n",
        "subs_cols = ['FIRE_SIZE_CLASS', 'FIRE_YEAR', 'STATE']\n",
        "fires_size_df = fires_df[subs_cols].copy(deep=True)\n",
        "print(f\"Note: We have {fires_size_df.isnull().values.sum()} null values in the df\")\n",
        "fires_size_df"
      ],
      "execution_count": 8,
      "outputs": [
        {
          "output_type": "stream",
          "text": [
            "Note: We have 0 null values in the df\n"
          ],
          "name": "stdout"
        },
        {
          "output_type": "execute_result",
          "data": {
            "text/html": [
              "<div>\n",
              "<style scoped>\n",
              "    .dataframe tbody tr th:only-of-type {\n",
              "        vertical-align: middle;\n",
              "    }\n",
              "\n",
              "    .dataframe tbody tr th {\n",
              "        vertical-align: top;\n",
              "    }\n",
              "\n",
              "    .dataframe thead th {\n",
              "        text-align: right;\n",
              "    }\n",
              "</style>\n",
              "<table border=\"1\" class=\"dataframe\">\n",
              "  <thead>\n",
              "    <tr style=\"text-align: right;\">\n",
              "      <th></th>\n",
              "      <th>FIRE_SIZE_CLASS</th>\n",
              "      <th>FIRE_YEAR</th>\n",
              "      <th>STATE</th>\n",
              "    </tr>\n",
              "  </thead>\n",
              "  <tbody>\n",
              "    <tr>\n",
              "      <th>0</th>\n",
              "      <td>A</td>\n",
              "      <td>2005</td>\n",
              "      <td>CA</td>\n",
              "    </tr>\n",
              "    <tr>\n",
              "      <th>1</th>\n",
              "      <td>A</td>\n",
              "      <td>2004</td>\n",
              "      <td>CA</td>\n",
              "    </tr>\n",
              "    <tr>\n",
              "      <th>2</th>\n",
              "      <td>A</td>\n",
              "      <td>2004</td>\n",
              "      <td>CA</td>\n",
              "    </tr>\n",
              "    <tr>\n",
              "      <th>3</th>\n",
              "      <td>A</td>\n",
              "      <td>2004</td>\n",
              "      <td>CA</td>\n",
              "    </tr>\n",
              "    <tr>\n",
              "      <th>4</th>\n",
              "      <td>A</td>\n",
              "      <td>2004</td>\n",
              "      <td>CA</td>\n",
              "    </tr>\n",
              "    <tr>\n",
              "      <th>...</th>\n",
              "      <td>...</td>\n",
              "      <td>...</td>\n",
              "      <td>...</td>\n",
              "    </tr>\n",
              "    <tr>\n",
              "      <th>1880460</th>\n",
              "      <td>A</td>\n",
              "      <td>2015</td>\n",
              "      <td>CA</td>\n",
              "    </tr>\n",
              "    <tr>\n",
              "      <th>1880461</th>\n",
              "      <td>A</td>\n",
              "      <td>2015</td>\n",
              "      <td>CA</td>\n",
              "    </tr>\n",
              "    <tr>\n",
              "      <th>1880462</th>\n",
              "      <td>A</td>\n",
              "      <td>2015</td>\n",
              "      <td>CA</td>\n",
              "    </tr>\n",
              "    <tr>\n",
              "      <th>1880463</th>\n",
              "      <td>B</td>\n",
              "      <td>2015</td>\n",
              "      <td>CA</td>\n",
              "    </tr>\n",
              "    <tr>\n",
              "      <th>1880464</th>\n",
              "      <td>A</td>\n",
              "      <td>2015</td>\n",
              "      <td>CA</td>\n",
              "    </tr>\n",
              "  </tbody>\n",
              "</table>\n",
              "<p>1880465 rows × 3 columns</p>\n",
              "</div>"
            ],
            "text/plain": [
              "        FIRE_SIZE_CLASS  FIRE_YEAR STATE\n",
              "0                     A       2005    CA\n",
              "1                     A       2004    CA\n",
              "2                     A       2004    CA\n",
              "3                     A       2004    CA\n",
              "4                     A       2004    CA\n",
              "...                 ...        ...   ...\n",
              "1880460               A       2015    CA\n",
              "1880461               A       2015    CA\n",
              "1880462               A       2015    CA\n",
              "1880463               B       2015    CA\n",
              "1880464               A       2015    CA\n",
              "\n",
              "[1880465 rows x 3 columns]"
            ]
          },
          "metadata": {
            "tags": []
          },
          "execution_count": 8
        }
      ]
    },
    {
      "cell_type": "code",
      "metadata": {
        "id": "iXOqWsA6C4ry"
      },
      "source": [
        "# Plot fire_size_class counts for each state\n",
        "\n",
        "\n",
        "# groupby state\n",
        "states_group = fires_size_df.groupby('STATE', sort=False)\n",
        "\n",
        "# iterate over each state\n",
        "for state, state_df in states_group: \n",
        "    print(state)\n",
        "    year_st_group = state_df.groupby('FIRE_YEAR')\n",
        "    # iterate over each year, but only use increments of 6 years (4 plots)\n",
        "    for year, year_df in year_st_group:\n",
        "        # only want 4 plots\n",
        "        if year % 6 == 0: \n",
        "            print()\n"
      ],
      "execution_count": null,
      "outputs": []
    },
    {
      "cell_type": "markdown",
      "metadata": {
        "id": "tXg2F-fWXuKJ"
      },
      "source": [
        "### Question to study: Does fire size class (7 classes) vary by State and/or Year?"
      ]
    },
    {
      "cell_type": "code",
      "metadata": {
        "id": "kR23yzN5T49R"
      },
      "source": [
        "# To study this question, we need to reorganize our data"
      ],
      "execution_count": null,
      "outputs": []
    },
    {
      "cell_type": "markdown",
      "metadata": {
        "id": "htnNKFe8R11m"
      },
      "source": [
        "Notice how CA, GA, TX, and NC have a high number "
      ]
    },
    {
      "cell_type": "code",
      "metadata": {
        "id": "5bGGp4vONJIz"
      },
      "source": [
        "fires_size_df['STATE'].value_counts()"
      ],
      "execution_count": null,
      "outputs": []
    },
    {
      "cell_type": "markdown",
      "metadata": {
        "id": "NhoCKslsIzCf"
      },
      "source": [
        "#### Another interesting exploration could be to visuzalize FIRE_SIZE over a time period such as years."
      ]
    }
  ]
}