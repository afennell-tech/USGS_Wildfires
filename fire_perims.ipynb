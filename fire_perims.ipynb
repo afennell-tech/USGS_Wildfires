{
 "cells": [
  {
   "cell_type": "markdown",
   "id": "ae205fcc-911e-42d2-aeda-7bf56ccbda3a",
   "metadata": {},
   "source": [
    "## Data: [FRAP Fire Perimeters](https://frap.fire.ca.gov/frap-projects/fire-perimeters/)\n",
    "    \"The fire perimeter database represents the most complete digital record of fire perimeters in California. However it is still incomplete in many respects.\" \n",
    "### Caution: \n",
    "    Fires may be missing altogether or have missing or incorrect attribute data. \n",
    "    \n",
    "    Some fires may be missing because historical records were lost or damaged, fires were too small for the minimum cutoffs, documentation was inadequate, or fire perimeters have not yet been incorporated into the database.\n",
    "    \n",
    "    While the data capture process attempts to identify duplicate fires resulting from multiple data sources (i.e. the USFS and CAL FIRE both captured and submitted the fire perimeter), some duplicates may still exist.\n",
    "    \n",
    "### History: \n",
    "    The data covered the period 1950 to 2001 and included USFS wildland fires 10 acres and greater, and CAL FIRE fires 300 acres and greater. BLM and NPS joined the effort in 2002, collecting fires 10 acres and greater.\n",
    "    \n",
    "    In 1989... FRAP provided... a preliminary map of 1950-89 fire perimeters. Unit personnel also verified the pre-1989 perimeter maps... Each CAL FIRE Unit then generated a list of 300+ acre fires that started since 1989 using the CAL FIRE Emergency Activity Reporting System (EARS). The CAL FIRE personnel used this list to gather post-1989 perimeter maps for digitizing. \n",
    "    \n",
    "    The final product is a statewide GIS layer spanning the period 1950-1999.\n",
    "\n",
    "### Update Process: \n",
    "    Fires from the latest fire year will be uploaded to the database once annually\n",
    "    \n",
    "### Note: \n",
    "    CAL FIRE has completed inventory for the majority of its historical perimeters back to 1950. BLM fire perimeters are complete from 2002 to the present. The USFS has submitted records as far back as 1878. The NPS records date to 1921.\n",
    "    \n",
    "**We will omit fires before 1950**"
   ]
  },
  {
   "cell_type": "markdown",
   "id": "9241835c-3e52-4a65-94b1-0ee09875d564",
   "metadata": {},
   "source": [
    "### Download Data"
   ]
  },
  {
   "cell_type": "code",
   "execution_count": 1,
   "id": "89f9e8f3-6ab0-42a3-882d-1e951a1d4e23",
   "metadata": {
    "tags": []
   },
   "outputs": [
    {
     "name": "stdout",
     "output_type": "stream",
     "text": [
      "Requirement already satisfied: wget in /Users/aidanfennelly/opt/miniconda3/envs/geo_env/lib/python3.9/site-packages (3.2)\n"
     ]
    }
   ],
   "source": [
    "!pip install wget\n",
    "!mkdir -p ./data\n",
    "import wget \n",
    "import zipfile\n",
    "\n",
    "# FRAP Fire Perimeters\n",
    "# wget.download('https://frap.fire.ca.gov/media/3nrpp42r/fire20_1.zip', './data/fire_perimeters_CA.zip')\n",
    "# with zipfile.ZipFile('./data/fire_perimeters_CA.zip', 'r') as zip_ref:\n",
    "#     zip_ref.extractall(r\"./data\")\n",
    "# !rm -f ./data/fire_perimeters_CA.zip # don't need the zip file anymore"
   ]
  },
  {
   "cell_type": "markdown",
   "id": "e2f1c19e-7833-4a3a-a3a1-2c7d09424826",
   "metadata": {},
   "source": [
    "#### Additional data files ([GIS Data](https://frap.fire.ca.gov/mapping/gis-data/))"
   ]
  },
  {
   "cell_type": "code",
   "execution_count": 33,
   "id": "2e6bc599-569f-4c9d-a322-04173cafcb31",
   "metadata": {
    "tags": []
   },
   "outputs": [],
   "source": [
    "# # County Boundaries\n",
    "# wget.download('https://frap.fire.ca.gov/media/2521/cnty19_1.zip', './data/counties.zip')\n",
    "# with zipfile.ZipFile('./data/counties.zip', 'r') as zip_ref:\n",
    "#     zip_ref.extractall(r\"./data\")\n",
    "# !rm -f ./data/counties.zip # don't need the zip file anymore\n",
    "\n",
    "# # Incorporated Cities\n",
    "# wget.download('https://frap.fire.ca.gov/media/uskm2rsi/incorp21_2.zip', './data/incorp_cities.zip')\n",
    "# with zipfile.ZipFile('./data/incorp_cities.zip', 'r') as zip_ref:\n",
    "#     zip_ref.extractall(r\"./data\")\n",
    "# !rm -f ./data/incorp_cities.zip\n",
    "    \n",
    "# ADD MORE DATA FILES AS DESIRED; Use above format\n",
    "temp = 'https://frap.fire.ca.gov/media/10091/pl_reducewildfirethreattocommunities18_1.zip'\n",
    "wget.download(temp, './data/temp.zip')\n",
    "with zipfile.ZipFile('./data/temp.zip', 'r') as zip_ref: \n",
    "    zip_ref.extractall(r\"./data\")\n",
    "!rm -f ./data/temp.zip"
   ]
  },
  {
   "cell_type": "markdown",
   "id": "08b3cdcd-7932-4d91-977d-7be4252f3f86",
   "metadata": {},
   "source": [
    "### Imports"
   ]
  },
  {
   "cell_type": "code",
   "execution_count": 3,
   "id": "c9e3d4cf",
   "metadata": {
    "tags": []
   },
   "outputs": [],
   "source": [
    "import pandas as pd\n",
    "import geopandas as gpd\n",
    "import fiona\n",
    "import matplotlib.pyplot as plt"
   ]
  },
  {
   "cell_type": "markdown",
   "id": "e813af22-f77f-4203-87ea-12eaaa6cf04b",
   "metadata": {},
   "source": [
    "## Load Data"
   ]
  },
  {
   "cell_type": "code",
   "execution_count": 2,
   "id": "7f3edcd3-2b46-419d-ba6a-67decd9022b3",
   "metadata": {
    "tags": []
   },
   "outputs": [
    {
     "name": "stdout",
     "output_type": "stream",
     "text": [
      "['firep20_1', 'rxburn20_1', 'Non_RXFire_Legacy13_2']\n",
      "\n",
      "['incorp21_2']\n",
      "\n",
      "['cnty19_1_full', 'cnty19_1_basic', 'cntrystate19_1_all', 'cntrystate19_1_neighbor', 'state19_1', 'ocean19_1', 'cnty19_1_basicplus', 'cnty19_1_basicplus_line']\n"
     ]
    }
   ],
   "source": [
    "FIRE_PERIMS_PATH = './data/fire20_1.gdb'\n",
    "INCORP_CITIES_PATH = './data/incorp21_2.gdb'\n",
    "COUNTIES_PATH = './data/cnty19_1.gdb'\n",
    "\n",
    "print(fiona.listlayers(FIRE_PERIMS_PATH))\n",
    "print()\n",
    "print(fiona.listlayers(INCORP_CITIES_PATH))\n",
    "print()\n",
    "print(fiona.listlayers(COUNTIES_PATH))"
   ]
  },
  {
   "cell_type": "code",
   "execution_count": 34,
   "id": "61408202-547a-40f8-9e66-af47f958d494",
   "metadata": {},
   "outputs": [
    {
     "name": "stdout",
     "output_type": "stream",
     "text": [
      "[]\n"
     ]
    }
   ],
   "source": [
    "TEMP_PATH = './data/'\n",
    "print(fiona.listlayers(TEMP_PATH))"
   ]
  },
  {
   "cell_type": "code",
   "execution_count": 39,
   "id": "178ace70-6d3c-4a4b-8e56-71d23785bda2",
   "metadata": {
    "collapsed": true,
    "jupyter": {
     "outputs_hidden": true
    },
    "tags": []
   },
   "outputs": [
    {
     "name": "stdout",
     "output_type": "stream",
     "text": [
      "INFO: Open of `./data/ca_data/cnty19_1.gdb'\n",
      "      using driver `OpenFileGDB' successful.\n",
      "\n",
      "Layer name: cnty19_1_full\n",
      "Geometry: Multi Polygon\n",
      "Feature Count: 10798\n",
      "Extent: (-374980.543100, -604495.794300) - (540082.750000, 450023.161800)\n",
      "Layer SRS WKT:\n",
      "PROJCRS[\"NAD83 / California Albers\",\n",
      "    BASEGEOGCRS[\"NAD83\",\n",
      "        DATUM[\"North American Datum 1983\",\n",
      "            ELLIPSOID[\"GRS 1980\",6378137,298.257222101,\n",
      "                LENGTHUNIT[\"metre\",1]]],\n",
      "        PRIMEM[\"Greenwich\",0,\n",
      "            ANGLEUNIT[\"degree\",0.0174532925199433]],\n",
      "        ID[\"EPSG\",4269]],\n",
      "    CONVERSION[\"California Albers\",\n",
      "        METHOD[\"Albers Equal Area\",\n",
      "            ID[\"EPSG\",9822]],\n",
      "        PARAMETER[\"Latitude of false origin\",0,\n",
      "            ANGLEUNIT[\"degree\",0.0174532925199433],\n",
      "            ID[\"EPSG\",8821]],\n",
      "        PARAMETER[\"Longitude of false origin\",-120,\n",
      "            ANGLEUNIT[\"degree\",0.0174532925199433],\n",
      "            ID[\"EPSG\",8822]],\n",
      "        PARAMETER[\"Latitude of 1st standard parallel\",34,\n",
      "            ANGLEUNIT[\"degree\",0.0174532925199433],\n",
      "            ID[\"EPSG\",8823]],\n",
      "        PARAMETER[\"Latitude of 2nd standard parallel\",40.5,\n",
      "            ANGLEUNIT[\"degree\",0.0174532925199433],\n",
      "            ID[\"EPSG\",8824]],\n",
      "        PARAMETER[\"Easting at false origin\",0,\n",
      "            LENGTHUNIT[\"metre\",1],\n",
      "            ID[\"EPSG\",8826]],\n",
      "        PARAMETER[\"Northing at false origin\",-4000000,\n",
      "            LENGTHUNIT[\"metre\",1],\n",
      "            ID[\"EPSG\",8827]]],\n",
      "    CS[Cartesian,2],\n",
      "        AXIS[\"easting (X)\",east,\n",
      "            ORDER[1],\n",
      "            LENGTHUNIT[\"metre\",1]],\n",
      "        AXIS[\"northing (Y)\",north,\n",
      "            ORDER[2],\n",
      "            LENGTHUNIT[\"metre\",1]],\n",
      "    USAGE[\n",
      "        SCOPE[\"State-wide spatial data management.\"],\n",
      "        AREA[\"United States (USA) - California.\"],\n",
      "        BBOX[32.53,-124.45,42.01,-114.12]],\n",
      "    ID[\"EPSG\",3310]]\n",
      "Data axis to CRS axis mapping: 1,2\n",
      "FID Column = OBJECTID\n",
      "Geometry Column = Shape\n",
      "TYPE: String (20.0), domain name=FRAP_LANDTYPE2\n",
      "ISLAND: String (20.0), domain name=FRAP_ISLANDTYPE2\n",
      "WATER: String (20.0), domain name=FRAP_WATERTYPE\n",
      "COUNTY_NAME: String (40.0), domain name=FRAP_COUNTYNAME\n",
      "COUNTY_ABBREV: String (3.0)\n",
      "COUNTY_NUM: Integer(Int16) (0.0)\n",
      "COUNTY_CODE: String (2.0)\n",
      "COUNTY_FIPS: String (3.0)\n",
      "Shape_Length: Real (0.0)\n",
      "Shape_Area: Real (0.0)\n",
      "\n",
      "Layer name: cnty19_1_basic\n",
      "Geometry: Multi Polygon\n",
      "Feature Count: 58\n",
      "Extent: (-373987.932700, -604495.794300) - (540082.750000, 450023.161800)\n",
      "Layer SRS WKT:\n",
      "PROJCRS[\"NAD83 / California Albers\",\n",
      "    BASEGEOGCRS[\"NAD83\",\n",
      "        DATUM[\"North American Datum 1983\",\n",
      "            ELLIPSOID[\"GRS 1980\",6378137,298.257222101,\n",
      "                LENGTHUNIT[\"metre\",1]]],\n",
      "        PRIMEM[\"Greenwich\",0,\n",
      "            ANGLEUNIT[\"degree\",0.0174532925199433]],\n",
      "        ID[\"EPSG\",4269]],\n",
      "    CONVERSION[\"California Albers\",\n",
      "        METHOD[\"Albers Equal Area\",\n",
      "            ID[\"EPSG\",9822]],\n",
      "        PARAMETER[\"Latitude of false origin\",0,\n",
      "            ANGLEUNIT[\"degree\",0.0174532925199433],\n",
      "            ID[\"EPSG\",8821]],\n",
      "        PARAMETER[\"Longitude of false origin\",-120,\n",
      "            ANGLEUNIT[\"degree\",0.0174532925199433],\n",
      "            ID[\"EPSG\",8822]],\n",
      "        PARAMETER[\"Latitude of 1st standard parallel\",34,\n",
      "            ANGLEUNIT[\"degree\",0.0174532925199433],\n",
      "            ID[\"EPSG\",8823]],\n",
      "        PARAMETER[\"Latitude of 2nd standard parallel\",40.5,\n",
      "            ANGLEUNIT[\"degree\",0.0174532925199433],\n",
      "            ID[\"EPSG\",8824]],\n",
      "        PARAMETER[\"Easting at false origin\",0,\n",
      "            LENGTHUNIT[\"metre\",1],\n",
      "            ID[\"EPSG\",8826]],\n",
      "        PARAMETER[\"Northing at false origin\",-4000000,\n",
      "            LENGTHUNIT[\"metre\",1],\n",
      "            ID[\"EPSG\",8827]]],\n",
      "    CS[Cartesian,2],\n",
      "        AXIS[\"easting (X)\",east,\n",
      "            ORDER[1],\n",
      "            LENGTHUNIT[\"metre\",1]],\n",
      "        AXIS[\"northing (Y)\",north,\n",
      "            ORDER[2],\n",
      "            LENGTHUNIT[\"metre\",1]],\n",
      "    USAGE[\n",
      "        SCOPE[\"State-wide spatial data management.\"],\n",
      "        AREA[\"United States (USA) - California.\"],\n",
      "        BBOX[32.53,-124.45,42.01,-114.12]],\n",
      "    ID[\"EPSG\",3310]]\n",
      "Data axis to CRS axis mapping: 1,2\n",
      "FID Column = OBJECTID\n",
      "Geometry Column = Shape\n",
      "COUNTY_NAME: String (40.0), domain name=FRAP_COUNTYNAME\n",
      "COUNTY_ABBREV: String (3.0)\n",
      "COUNTY_NUM: Integer(Int16) (0.0)\n",
      "COUNTY_CODE: String (2.0)\n",
      "COUNTY_FIPS: String (3.0)\n",
      "Shape_Length: Real (0.0)\n",
      "Shape_Area: Real (0.0)\n",
      "\n",
      "Layer name: cntrystate19_1_all\n",
      "Geometry: Multi Polygon\n",
      "Feature Count: 57\n",
      "Extent: (-4366475.955000, -2916097.744500) - (5809965.095100, 4816398.495100)\n",
      "Layer SRS WKT:\n",
      "PROJCRS[\"NAD83 / California Albers\",\n",
      "    BASEGEOGCRS[\"NAD83\",\n",
      "        DATUM[\"North American Datum 1983\",\n",
      "            ELLIPSOID[\"GRS 1980\",6378137,298.257222101,\n",
      "                LENGTHUNIT[\"metre\",1]]],\n",
      "        PRIMEM[\"Greenwich\",0,\n",
      "            ANGLEUNIT[\"degree\",0.0174532925199433]],\n",
      "        ID[\"EPSG\",4269]],\n",
      "    CONVERSION[\"California Albers\",\n",
      "        METHOD[\"Albers Equal Area\",\n",
      "            ID[\"EPSG\",9822]],\n",
      "        PARAMETER[\"Latitude of false origin\",0,\n",
      "            ANGLEUNIT[\"degree\",0.0174532925199433],\n",
      "            ID[\"EPSG\",8821]],\n",
      "        PARAMETER[\"Longitude of false origin\",-120,\n",
      "            ANGLEUNIT[\"degree\",0.0174532925199433],\n",
      "            ID[\"EPSG\",8822]],\n",
      "        PARAMETER[\"Latitude of 1st standard parallel\",34,\n",
      "            ANGLEUNIT[\"degree\",0.0174532925199433],\n",
      "            ID[\"EPSG\",8823]],\n",
      "        PARAMETER[\"Latitude of 2nd standard parallel\",40.5,\n",
      "            ANGLEUNIT[\"degree\",0.0174532925199433],\n",
      "            ID[\"EPSG\",8824]],\n",
      "        PARAMETER[\"Easting at false origin\",0,\n",
      "            LENGTHUNIT[\"metre\",1],\n",
      "            ID[\"EPSG\",8826]],\n",
      "        PARAMETER[\"Northing at false origin\",-4000000,\n",
      "            LENGTHUNIT[\"metre\",1],\n",
      "            ID[\"EPSG\",8827]]],\n",
      "    CS[Cartesian,2],\n",
      "        AXIS[\"easting (X)\",east,\n",
      "            ORDER[1],\n",
      "            LENGTHUNIT[\"metre\",1]],\n",
      "        AXIS[\"northing (Y)\",north,\n",
      "            ORDER[2],\n",
      "            LENGTHUNIT[\"metre\",1]],\n",
      "    USAGE[\n",
      "        SCOPE[\"State-wide spatial data management.\"],\n",
      "        AREA[\"United States (USA) - California.\"],\n",
      "        BBOX[32.53,-124.45,42.01,-114.12]],\n",
      "    ID[\"EPSG\",3310]]\n",
      "Data axis to CRS axis mapping: 1,2\n",
      "FID Column = OBJECTID\n",
      "Geometry Column = Shape\n",
      "ISLAND: String (20.0), domain name=FRAP_ISLANDTYPE2\n",
      "COUNTRY: String (20.0)\n",
      "STATE: String (2.0)\n",
      "STATE_CODE: String (2.0)\n",
      "Shape_Length: Real (0.0)\n",
      "Shape_Area: Real (0.0)\n",
      "\n",
      "Layer name: cntrystate19_1_neighbor\n",
      "Geometry: Multi Polygon\n",
      "Feature Count: 9\n",
      "Extent: (-374437.878200, -2916097.744500) - (3533568.584400, 1218347.810600)\n",
      "Layer SRS WKT:\n",
      "PROJCRS[\"NAD83 / California Albers\",\n",
      "    BASEGEOGCRS[\"NAD83\",\n",
      "        DATUM[\"North American Datum 1983\",\n",
      "            ELLIPSOID[\"GRS 1980\",6378137,298.257222101,\n",
      "                LENGTHUNIT[\"metre\",1]]],\n",
      "        PRIMEM[\"Greenwich\",0,\n",
      "            ANGLEUNIT[\"degree\",0.0174532925199433]],\n",
      "        ID[\"EPSG\",4269]],\n",
      "    CONVERSION[\"California Albers\",\n",
      "        METHOD[\"Albers Equal Area\",\n",
      "            ID[\"EPSG\",9822]],\n",
      "        PARAMETER[\"Latitude of false origin\",0,\n",
      "            ANGLEUNIT[\"degree\",0.0174532925199433],\n",
      "            ID[\"EPSG\",8821]],\n",
      "        PARAMETER[\"Longitude of false origin\",-120,\n",
      "            ANGLEUNIT[\"degree\",0.0174532925199433],\n",
      "            ID[\"EPSG\",8822]],\n",
      "        PARAMETER[\"Latitude of 1st standard parallel\",34,\n",
      "            ANGLEUNIT[\"degree\",0.0174532925199433],\n",
      "            ID[\"EPSG\",8823]],\n",
      "        PARAMETER[\"Latitude of 2nd standard parallel\",40.5,\n",
      "            ANGLEUNIT[\"degree\",0.0174532925199433],\n",
      "            ID[\"EPSG\",8824]],\n",
      "        PARAMETER[\"Easting at false origin\",0,\n",
      "            LENGTHUNIT[\"metre\",1],\n",
      "            ID[\"EPSG\",8826]],\n",
      "        PARAMETER[\"Northing at false origin\",-4000000,\n",
      "            LENGTHUNIT[\"metre\",1],\n",
      "            ID[\"EPSG\",8827]]],\n",
      "    CS[Cartesian,2],\n",
      "        AXIS[\"easting (X)\",east,\n",
      "            ORDER[1],\n",
      "            LENGTHUNIT[\"metre\",1]],\n",
      "        AXIS[\"northing (Y)\",north,\n",
      "            ORDER[2],\n",
      "            LENGTHUNIT[\"metre\",1]],\n",
      "    USAGE[\n",
      "        SCOPE[\"State-wide spatial data management.\"],\n",
      "        AREA[\"United States (USA) - California.\"],\n",
      "        BBOX[32.53,-124.45,42.01,-114.12]],\n",
      "    ID[\"EPSG\",3310]]\n",
      "Data axis to CRS axis mapping: 1,2\n",
      "FID Column = OBJECTID\n",
      "Geometry Column = Shape\n",
      "ISLAND: String (20.0), domain name=FRAP_ISLANDTYPE2\n",
      "COUNTRY: String (20.0)\n",
      "STATE: String (2.0)\n",
      "STATE_CODE: String (2.0)\n",
      "Shape_Length: Real (0.0)\n",
      "Shape_Area: Real (0.0)\n",
      "\n",
      "Layer name: state19_1\n",
      "Geometry: Multi Polygon\n",
      "Feature Count: 3\n",
      "Extent: (-373987.932700, -604495.794300) - (540082.750000, 450023.161800)\n",
      "Layer SRS WKT:\n",
      "PROJCRS[\"NAD83 / California Albers\",\n",
      "    BASEGEOGCRS[\"NAD83\",\n",
      "        DATUM[\"North American Datum 1983\",\n",
      "            ELLIPSOID[\"GRS 1980\",6378137,298.257222101,\n",
      "                LENGTHUNIT[\"metre\",1]]],\n",
      "        PRIMEM[\"Greenwich\",0,\n",
      "            ANGLEUNIT[\"degree\",0.0174532925199433]],\n",
      "        ID[\"EPSG\",4269]],\n",
      "    CONVERSION[\"California Albers\",\n",
      "        METHOD[\"Albers Equal Area\",\n",
      "            ID[\"EPSG\",9822]],\n",
      "        PARAMETER[\"Latitude of false origin\",0,\n",
      "            ANGLEUNIT[\"degree\",0.0174532925199433],\n",
      "            ID[\"EPSG\",8821]],\n",
      "        PARAMETER[\"Longitude of false origin\",-120,\n",
      "            ANGLEUNIT[\"degree\",0.0174532925199433],\n",
      "            ID[\"EPSG\",8822]],\n",
      "        PARAMETER[\"Latitude of 1st standard parallel\",34,\n",
      "            ANGLEUNIT[\"degree\",0.0174532925199433],\n",
      "            ID[\"EPSG\",8823]],\n",
      "        PARAMETER[\"Latitude of 2nd standard parallel\",40.5,\n",
      "            ANGLEUNIT[\"degree\",0.0174532925199433],\n",
      "            ID[\"EPSG\",8824]],\n",
      "        PARAMETER[\"Easting at false origin\",0,\n",
      "            LENGTHUNIT[\"metre\",1],\n",
      "            ID[\"EPSG\",8826]],\n",
      "        PARAMETER[\"Northing at false origin\",-4000000,\n",
      "            LENGTHUNIT[\"metre\",1],\n",
      "            ID[\"EPSG\",8827]]],\n",
      "    CS[Cartesian,2],\n",
      "        AXIS[\"easting (X)\",east,\n",
      "            ORDER[1],\n",
      "            LENGTHUNIT[\"metre\",1]],\n",
      "        AXIS[\"northing (Y)\",north,\n",
      "            ORDER[2],\n",
      "            LENGTHUNIT[\"metre\",1]],\n",
      "    USAGE[\n",
      "        SCOPE[\"State-wide spatial data management.\"],\n",
      "        AREA[\"United States (USA) - California.\"],\n",
      "        BBOX[32.53,-124.45,42.01,-114.12]],\n",
      "    ID[\"EPSG\",3310]]\n",
      "Data axis to CRS axis mapping: 1,2\n",
      "FID Column = OBJECTID\n",
      "Geometry Column = Shape\n",
      "ISLAND: String (20.0), domain name=FRAP_ISLANDTYPE2\n",
      "COUNTRY: String (20.0)\n",
      "STATE: String (2.0)\n",
      "STATE_CODE: String (2.0)\n",
      "Shape_Length: Real (0.0)\n",
      "Shape_Area: Real (0.0)\n",
      "\n",
      "Layer name: ocean19_1\n",
      "Geometry: Multi Polygon\n",
      "Feature Count: 19\n",
      "Extent: (-5051137.282600, -3822770.785000) - (5085893.885200, 4961456.634200)\n",
      "Layer SRS WKT:\n",
      "PROJCRS[\"NAD83 / California Albers\",\n",
      "    BASEGEOGCRS[\"NAD83\",\n",
      "        DATUM[\"North American Datum 1983\",\n",
      "            ELLIPSOID[\"GRS 1980\",6378137,298.257222101,\n",
      "                LENGTHUNIT[\"metre\",1]]],\n",
      "        PRIMEM[\"Greenwich\",0,\n",
      "            ANGLEUNIT[\"degree\",0.0174532925199433]],\n",
      "        ID[\"EPSG\",4269]],\n",
      "    CONVERSION[\"California Albers\",\n",
      "        METHOD[\"Albers Equal Area\",\n",
      "            ID[\"EPSG\",9822]],\n",
      "        PARAMETER[\"Latitude of false origin\",0,\n",
      "            ANGLEUNIT[\"degree\",0.0174532925199433],\n",
      "            ID[\"EPSG\",8821]],\n",
      "        PARAMETER[\"Longitude of false origin\",-120,\n",
      "            ANGLEUNIT[\"degree\",0.0174532925199433],\n",
      "            ID[\"EPSG\",8822]],\n",
      "        PARAMETER[\"Latitude of 1st standard parallel\",34,\n",
      "            ANGLEUNIT[\"degree\",0.0174532925199433],\n",
      "            ID[\"EPSG\",8823]],\n",
      "        PARAMETER[\"Latitude of 2nd standard parallel\",40.5,\n",
      "            ANGLEUNIT[\"degree\",0.0174532925199433],\n",
      "            ID[\"EPSG\",8824]],\n",
      "        PARAMETER[\"Easting at false origin\",0,\n",
      "            LENGTHUNIT[\"metre\",1],\n",
      "            ID[\"EPSG\",8826]],\n",
      "        PARAMETER[\"Northing at false origin\",-4000000,\n",
      "            LENGTHUNIT[\"metre\",1],\n",
      "            ID[\"EPSG\",8827]]],\n",
      "    CS[Cartesian,2],\n",
      "        AXIS[\"easting (X)\",east,\n",
      "            ORDER[1],\n",
      "            LENGTHUNIT[\"metre\",1]],\n",
      "        AXIS[\"northing (Y)\",north,\n",
      "            ORDER[2],\n",
      "            LENGTHUNIT[\"metre\",1]],\n",
      "    USAGE[\n",
      "        SCOPE[\"State-wide spatial data management.\"],\n",
      "        AREA[\"United States (USA) - California.\"],\n",
      "        BBOX[32.53,-124.45,42.01,-114.12]],\n",
      "    ID[\"EPSG\",3310]]\n",
      "Data axis to CRS axis mapping: 1,2\n",
      "FID Column = OBJECTID\n",
      "Geometry Column = Shape\n",
      "TYPE: String (20.0), domain name=FRAP_LANDTYPE2\n",
      "ISLAND: String (20.0), domain name=FRAP_ISLANDTYPE2\n",
      "WATER: String (20.0), domain name=FRAP_WATERTYPE\n",
      "Shape_Length: Real (0.0)\n",
      "Shape_Area: Real (0.0)\n",
      "\n",
      "Layer name: cnty19_1_basicplus\n",
      "Geometry: Multi Polygon\n",
      "Feature Count: 69\n",
      "Extent: (-373987.932700, -604495.794300) - (540082.750000, 450023.161800)\n",
      "Layer SRS WKT:\n",
      "PROJCRS[\"NAD83 / California Albers\",\n",
      "    BASEGEOGCRS[\"NAD83\",\n",
      "        DATUM[\"North American Datum 1983\",\n",
      "            ELLIPSOID[\"GRS 1980\",6378137,298.257222101,\n",
      "                LENGTHUNIT[\"metre\",1]]],\n",
      "        PRIMEM[\"Greenwich\",0,\n",
      "            ANGLEUNIT[\"degree\",0.0174532925199433]],\n",
      "        ID[\"EPSG\",4269]],\n",
      "    CONVERSION[\"California Albers\",\n",
      "        METHOD[\"Albers Equal Area\",\n",
      "            ID[\"EPSG\",9822]],\n",
      "        PARAMETER[\"Latitude of false origin\",0,\n",
      "            ANGLEUNIT[\"degree\",0.0174532925199433],\n",
      "            ID[\"EPSG\",8821]],\n",
      "        PARAMETER[\"Longitude of false origin\",-120,\n",
      "            ANGLEUNIT[\"degree\",0.0174532925199433],\n",
      "            ID[\"EPSG\",8822]],\n",
      "        PARAMETER[\"Latitude of 1st standard parallel\",34,\n",
      "            ANGLEUNIT[\"degree\",0.0174532925199433],\n",
      "            ID[\"EPSG\",8823]],\n",
      "        PARAMETER[\"Latitude of 2nd standard parallel\",40.5,\n",
      "            ANGLEUNIT[\"degree\",0.0174532925199433],\n",
      "            ID[\"EPSG\",8824]],\n",
      "        PARAMETER[\"Easting at false origin\",0,\n",
      "            LENGTHUNIT[\"metre\",1],\n",
      "            ID[\"EPSG\",8826]],\n",
      "        PARAMETER[\"Northing at false origin\",-4000000,\n",
      "            LENGTHUNIT[\"metre\",1],\n",
      "            ID[\"EPSG\",8827]]],\n",
      "    CS[Cartesian,2],\n",
      "        AXIS[\"easting (X)\",east,\n",
      "            ORDER[1],\n",
      "            LENGTHUNIT[\"metre\",1]],\n",
      "        AXIS[\"northing (Y)\",north,\n",
      "            ORDER[2],\n",
      "            LENGTHUNIT[\"metre\",1]],\n",
      "    USAGE[\n",
      "        SCOPE[\"State-wide spatial data management.\"],\n",
      "        AREA[\"United States (USA) - California.\"],\n",
      "        BBOX[32.53,-124.45,42.01,-114.12]],\n",
      "    ID[\"EPSG\",3310]]\n",
      "Data axis to CRS axis mapping: 1,2\n",
      "FID Column = OBJECTID\n",
      "Geometry Column = Shape\n",
      "COUNTY_NAME: String (40.0), domain name=FRAP_COUNTYNAME\n",
      "COUNTY_ABBREV: String (3.0)\n",
      "COUNTY_NUM: Integer(Int16) (0.0)\n",
      "COUNTY_CODE: String (2.0)\n",
      "COUNTY_FIPS: String (3.0)\n",
      "Shape_Length: Real (0.0)\n",
      "Shape_Area: Real (0.0)\n",
      "ISLAND: String (20.0), domain name=FRAP_ISLANDTYPE2\n",
      "\n",
      "Layer name: cnty19_1_basicplus_line\n",
      "Geometry: Multi Line String\n",
      "Feature Count: 470\n",
      "Extent: (-373987.932700, -604495.794300) - (540082.750000, 450023.161800)\n",
      "Layer SRS WKT:\n",
      "PROJCRS[\"NAD83 / California Albers\",\n",
      "    BASEGEOGCRS[\"NAD83\",\n",
      "        DATUM[\"North American Datum 1983\",\n",
      "            ELLIPSOID[\"GRS 1980\",6378137,298.257222101,\n",
      "                LENGTHUNIT[\"metre\",1]]],\n",
      "        PRIMEM[\"Greenwich\",0,\n",
      "            ANGLEUNIT[\"degree\",0.0174532925199433]],\n",
      "        ID[\"EPSG\",4269]],\n",
      "    CONVERSION[\"California Albers\",\n",
      "        METHOD[\"Albers Equal Area\",\n",
      "            ID[\"EPSG\",9822]],\n",
      "        PARAMETER[\"Latitude of false origin\",0,\n",
      "            ANGLEUNIT[\"degree\",0.0174532925199433],\n",
      "            ID[\"EPSG\",8821]],\n",
      "        PARAMETER[\"Longitude of false origin\",-120,\n",
      "            ANGLEUNIT[\"degree\",0.0174532925199433],\n",
      "            ID[\"EPSG\",8822]],\n",
      "        PARAMETER[\"Latitude of 1st standard parallel\",34,\n",
      "            ANGLEUNIT[\"degree\",0.0174532925199433],\n",
      "            ID[\"EPSG\",8823]],\n",
      "        PARAMETER[\"Latitude of 2nd standard parallel\",40.5,\n",
      "            ANGLEUNIT[\"degree\",0.0174532925199433],\n",
      "            ID[\"EPSG\",8824]],\n",
      "        PARAMETER[\"Easting at false origin\",0,\n",
      "            LENGTHUNIT[\"metre\",1],\n",
      "            ID[\"EPSG\",8826]],\n",
      "        PARAMETER[\"Northing at false origin\",-4000000,\n",
      "            LENGTHUNIT[\"metre\",1],\n",
      "            ID[\"EPSG\",8827]]],\n",
      "    CS[Cartesian,2],\n",
      "        AXIS[\"easting (X)\",east,\n",
      "            ORDER[1],\n",
      "            LENGTHUNIT[\"metre\",1]],\n",
      "        AXIS[\"northing (Y)\",north,\n",
      "            ORDER[2],\n",
      "            LENGTHUNIT[\"metre\",1]],\n",
      "    USAGE[\n",
      "        SCOPE[\"State-wide spatial data management.\"],\n",
      "        AREA[\"United States (USA) - California.\"],\n",
      "        BBOX[32.53,-124.45,42.01,-114.12]],\n",
      "    ID[\"EPSG\",3310]]\n",
      "Data axis to CRS axis mapping: 1,2\n",
      "FID Column = OBJECTID\n",
      "Geometry Column = Shape\n",
      "FID_cnty18_1_basicplus: Integer (0.0)\n",
      "COUNTY_NAME: String (40.0), domain name=FRAP_COUNTYNAME\n",
      "COUNTY_ABBREV: String (3.0)\n",
      "COUNTY_NUM: Integer(Int16) (0.0)\n",
      "COUNTY_CODE: String (2.0)\n",
      "COUNTY_FIPS: String (3.0)\n",
      "Shape_Length: Real (0.0)\n",
      "ISLAND: String (30.0), domain name=FRAP_ISLANDTYPE2\n"
     ]
    }
   ],
   "source": [
    "!ogrinfo -so -al ./data/ca_data/cnty19_1.gdb"
   ]
  },
  {
   "cell_type": "code",
   "execution_count": 28,
   "id": "d0b30d1d-9ee0-4cb1-87bf-be107edd8abb",
   "metadata": {},
   "outputs": [
    {
     "ename": "ValueError",
     "evalue": "Null layer: ''",
     "output_type": "error",
     "traceback": [
      "\u001b[0;31m---------------------------------------------------------------------------\u001b[0m",
      "\u001b[0;31mValueError\u001b[0m                                Traceback (most recent call last)",
      "\u001b[0;32m<ipython-input-28-fefe0ed2f796>\u001b[0m in \u001b[0;36m<module>\u001b[0;34m\u001b[0m\n\u001b[0;32m----> 1\u001b[0;31m \u001b[0mtemp\u001b[0m \u001b[0;34m=\u001b[0m \u001b[0mgpd\u001b[0m\u001b[0;34m.\u001b[0m\u001b[0mread_file\u001b[0m\u001b[0;34m(\u001b[0m\u001b[0mTEMP_PATH\u001b[0m\u001b[0;34m)\u001b[0m\u001b[0;34m\u001b[0m\u001b[0;34m\u001b[0m\u001b[0m\n\u001b[0m",
      "\u001b[0;32m~/opt/miniconda3/envs/geo_env/lib/python3.9/site-packages/geopandas/io/file.py\u001b[0m in \u001b[0;36m_read_file\u001b[0;34m(filename, bbox, mask, rows, **kwargs)\u001b[0m\n\u001b[1;32m    158\u001b[0m \u001b[0;34m\u001b[0m\u001b[0m\n\u001b[1;32m    159\u001b[0m     \u001b[0;32mwith\u001b[0m \u001b[0mfiona_env\u001b[0m\u001b[0;34m(\u001b[0m\u001b[0;34m)\u001b[0m\u001b[0;34m:\u001b[0m\u001b[0;34m\u001b[0m\u001b[0;34m\u001b[0m\u001b[0m\n\u001b[0;32m--> 160\u001b[0;31m         \u001b[0;32mwith\u001b[0m \u001b[0mreader\u001b[0m\u001b[0;34m(\u001b[0m\u001b[0mpath_or_bytes\u001b[0m\u001b[0;34m,\u001b[0m \u001b[0;34m**\u001b[0m\u001b[0mkwargs\u001b[0m\u001b[0;34m)\u001b[0m \u001b[0;32mas\u001b[0m \u001b[0mfeatures\u001b[0m\u001b[0;34m:\u001b[0m\u001b[0;34m\u001b[0m\u001b[0;34m\u001b[0m\u001b[0m\n\u001b[0m\u001b[1;32m    161\u001b[0m \u001b[0;34m\u001b[0m\u001b[0m\n\u001b[1;32m    162\u001b[0m             \u001b[0;31m# In a future Fiona release the crs attribute of features will\u001b[0m\u001b[0;34m\u001b[0m\u001b[0;34m\u001b[0m\u001b[0;34m\u001b[0m\u001b[0m\n",
      "\u001b[0;32m~/opt/miniconda3/envs/geo_env/lib/python3.9/site-packages/fiona/env.py\u001b[0m in \u001b[0;36mwrapper\u001b[0;34m(*args, **kwargs)\u001b[0m\n\u001b[1;32m    406\u001b[0m     \u001b[0;32mdef\u001b[0m \u001b[0mwrapper\u001b[0m\u001b[0;34m(\u001b[0m\u001b[0;34m*\u001b[0m\u001b[0margs\u001b[0m\u001b[0;34m,\u001b[0m \u001b[0;34m**\u001b[0m\u001b[0mkwargs\u001b[0m\u001b[0;34m)\u001b[0m\u001b[0;34m:\u001b[0m\u001b[0;34m\u001b[0m\u001b[0;34m\u001b[0m\u001b[0m\n\u001b[1;32m    407\u001b[0m         \u001b[0;32mif\u001b[0m \u001b[0mlocal\u001b[0m\u001b[0;34m.\u001b[0m\u001b[0m_env\u001b[0m\u001b[0;34m:\u001b[0m\u001b[0;34m\u001b[0m\u001b[0;34m\u001b[0m\u001b[0m\n\u001b[0;32m--> 408\u001b[0;31m             \u001b[0;32mreturn\u001b[0m \u001b[0mf\u001b[0m\u001b[0;34m(\u001b[0m\u001b[0;34m*\u001b[0m\u001b[0margs\u001b[0m\u001b[0;34m,\u001b[0m \u001b[0;34m**\u001b[0m\u001b[0mkwargs\u001b[0m\u001b[0;34m)\u001b[0m\u001b[0;34m\u001b[0m\u001b[0;34m\u001b[0m\u001b[0m\n\u001b[0m\u001b[1;32m    409\u001b[0m         \u001b[0;32melse\u001b[0m\u001b[0;34m:\u001b[0m\u001b[0;34m\u001b[0m\u001b[0;34m\u001b[0m\u001b[0m\n\u001b[1;32m    410\u001b[0m             \u001b[0;32mif\u001b[0m \u001b[0misinstance\u001b[0m\u001b[0;34m(\u001b[0m\u001b[0margs\u001b[0m\u001b[0;34m[\u001b[0m\u001b[0;36m0\u001b[0m\u001b[0;34m]\u001b[0m\u001b[0;34m,\u001b[0m \u001b[0mstr\u001b[0m\u001b[0;34m)\u001b[0m\u001b[0;34m:\u001b[0m\u001b[0;34m\u001b[0m\u001b[0;34m\u001b[0m\u001b[0m\n",
      "\u001b[0;32m~/opt/miniconda3/envs/geo_env/lib/python3.9/site-packages/fiona/__init__.py\u001b[0m in \u001b[0;36mopen\u001b[0;34m(fp, mode, driver, schema, crs, encoding, layer, vfs, enabled_drivers, crs_wkt, **kwargs)\u001b[0m\n\u001b[1;32m    254\u001b[0m \u001b[0;34m\u001b[0m\u001b[0m\n\u001b[1;32m    255\u001b[0m         \u001b[0;32mif\u001b[0m \u001b[0mmode\u001b[0m \u001b[0;32min\u001b[0m \u001b[0;34m(\u001b[0m\u001b[0;34m'a'\u001b[0m\u001b[0;34m,\u001b[0m \u001b[0;34m'r'\u001b[0m\u001b[0;34m)\u001b[0m\u001b[0;34m:\u001b[0m\u001b[0;34m\u001b[0m\u001b[0;34m\u001b[0m\u001b[0m\n\u001b[0;32m--> 256\u001b[0;31m             c = Collection(path, mode, driver=driver, encoding=encoding,\n\u001b[0m\u001b[1;32m    257\u001b[0m                            layer=layer, enabled_drivers=enabled_drivers, **kwargs)\n\u001b[1;32m    258\u001b[0m         \u001b[0;32melif\u001b[0m \u001b[0mmode\u001b[0m \u001b[0;34m==\u001b[0m \u001b[0;34m'w'\u001b[0m\u001b[0;34m:\u001b[0m\u001b[0;34m\u001b[0m\u001b[0;34m\u001b[0m\u001b[0m\n",
      "\u001b[0;32m~/opt/miniconda3/envs/geo_env/lib/python3.9/site-packages/fiona/collection.py\u001b[0m in \u001b[0;36m__init__\u001b[0;34m(self, path, mode, driver, schema, crs, encoding, layer, vsi, archive, enabled_drivers, crs_wkt, ignore_fields, ignore_geometry, **kwargs)\u001b[0m\n\u001b[1;32m    160\u001b[0m             \u001b[0;32mif\u001b[0m \u001b[0mself\u001b[0m\u001b[0;34m.\u001b[0m\u001b[0mmode\u001b[0m \u001b[0;34m==\u001b[0m \u001b[0;34m'r'\u001b[0m\u001b[0;34m:\u001b[0m\u001b[0;34m\u001b[0m\u001b[0;34m\u001b[0m\u001b[0m\n\u001b[1;32m    161\u001b[0m                 \u001b[0mself\u001b[0m\u001b[0;34m.\u001b[0m\u001b[0msession\u001b[0m \u001b[0;34m=\u001b[0m \u001b[0mSession\u001b[0m\u001b[0;34m(\u001b[0m\u001b[0;34m)\u001b[0m\u001b[0;34m\u001b[0m\u001b[0;34m\u001b[0m\u001b[0m\n\u001b[0;32m--> 162\u001b[0;31m                 \u001b[0mself\u001b[0m\u001b[0;34m.\u001b[0m\u001b[0msession\u001b[0m\u001b[0;34m.\u001b[0m\u001b[0mstart\u001b[0m\u001b[0;34m(\u001b[0m\u001b[0mself\u001b[0m\u001b[0;34m,\u001b[0m \u001b[0;34m**\u001b[0m\u001b[0mkwargs\u001b[0m\u001b[0;34m)\u001b[0m\u001b[0;34m\u001b[0m\u001b[0;34m\u001b[0m\u001b[0m\n\u001b[0m\u001b[1;32m    163\u001b[0m             \u001b[0;32melif\u001b[0m \u001b[0mself\u001b[0m\u001b[0;34m.\u001b[0m\u001b[0mmode\u001b[0m \u001b[0;32min\u001b[0m \u001b[0;34m(\u001b[0m\u001b[0;34m'a'\u001b[0m\u001b[0;34m,\u001b[0m \u001b[0;34m'w'\u001b[0m\u001b[0;34m)\u001b[0m\u001b[0;34m:\u001b[0m\u001b[0;34m\u001b[0m\u001b[0;34m\u001b[0m\u001b[0m\n\u001b[1;32m    164\u001b[0m                 \u001b[0mself\u001b[0m\u001b[0;34m.\u001b[0m\u001b[0msession\u001b[0m \u001b[0;34m=\u001b[0m \u001b[0mWritingSession\u001b[0m\u001b[0;34m(\u001b[0m\u001b[0;34m)\u001b[0m\u001b[0;34m\u001b[0m\u001b[0;34m\u001b[0m\u001b[0m\n",
      "\u001b[0;32mfiona/ogrext.pyx\u001b[0m in \u001b[0;36mfiona.ogrext.Session.start\u001b[0;34m()\u001b[0m\n",
      "\u001b[0;31mValueError\u001b[0m: Null layer: ''"
     ]
    }
   ],
   "source": [
    "temp = gpd.read_file(TEMP_PATH)"
   ]
  },
  {
   "cell_type": "code",
   "execution_count": 24,
   "id": "7b2aa2ed-b4e2-49c2-9346-f74a0eac7f20",
   "metadata": {},
   "outputs": [
    {
     "name": "stdout",
     "output_type": "stream",
     "text": [
      "(1255, 16)\n"
     ]
    },
    {
     "data": {
      "text/plain": [
       "Index(['NAME', 'CAD_NAME', 'AKA', 'TYPE', 'UNIT', 'COUNTY', 'OWNER', 'FUNDING',\n",
       "       'STAFFING', 'ADDRESS', 'CITY', 'ZIP', 'PHONE_NUM', 'LAT', 'LON',\n",
       "       'geometry'],\n",
       "      dtype='object')"
      ]
     },
     "execution_count": 24,
     "metadata": {},
     "output_type": "execute_result"
    }
   ],
   "source": [
    "print(temp.shape)\n",
    "temp.columns"
   ]
  },
  {
   "cell_type": "code",
   "execution_count": 25,
   "id": "21d4e571-33f9-4d67-9006-ad53ec517603",
   "metadata": {},
   "outputs": [
    {
     "data": {
      "text/plain": [
       "<AxesSubplot:>"
      ]
     },
     "execution_count": 25,
     "metadata": {},
     "output_type": "execute_result"
    },
    {
     "data": {
      "image/png": "[encoded data removed]",
      "text/plain": [
       "<Figure size 432x288 with 1 Axes>"
      ]
     },
     "metadata": {
      "needs_background": "light"
     },
     "output_type": "display_data"
    }
   ],
   "source": [
    "temp.plot()"
   ]
  },
  {
   "cell_type": "markdown",
   "id": "fd30aba4-0583-46a1-bc65-be55e3a9bf7c",
   "metadata": {},
   "source": [
    "#### Fire Perimeters data (~50MB)"
   ]
  },
  {
   "cell_type": "code",
   "execution_count": 3,
   "id": "e632caf9",
   "metadata": {
    "tags": []
   },
   "outputs": [],
   "source": [
    "# A layer depicting wildfire perimeters from contributing agencies current as of the previous fire year\n",
    "calfires_df = gpd.read_file(FIRE_PERIMS_PATH, layer=0)\n",
    "# columns to drop initially\n",
    "dropped_cols = ['AGENCY', 'UNIT_ID', 'FIRE_NAME', 'COMMENTS', 'FIRE_NUM', 'STATE', 'INC_NUM']\n",
    "extra_cols = ['REPORT_AC', 'C_METHOD'] # potentially drop later; leave for now\n",
    "calfires_df.drop(columns=dropped_cols, inplace=True)\n",
    "\n",
    "# A layer depicting prescribed fires supplied from contributing agencies current as of the previous fire year\n",
    "pfires_df = gpd.read_file(FIRE_PERIMS_PATH, layer=1)\n",
    "\n",
    "# A layer representing non-prescribed fire fuel reduction projects that were initially included in the fires_dfbase\n",
    "npfires_df = gpd.read_file(FIRE_PERIMS_PATH, layer=2)"
   ]
  },
  {
   "cell_type": "code",
   "execution_count": 11,
   "id": "025b1f73-2047-4a98-ae6f-80669c948cc9",
   "metadata": {},
   "outputs": [
    {
     "data": {
      "text/html": [
       "<div>\n",
       "<style scoped>\n",
       "    .dataframe tbody tr th:only-of-type {\n",
       "        vertical-align: middle;\n",
       "    }\n",
       "\n",
       "    .dataframe tbody tr th {\n",
       "        vertical-align: top;\n",
       "    }\n",
       "\n",
       "    .dataframe thead th {\n",
       "        text-align: right;\n",
       "    }\n",
       "</style>\n",
       "<table border=\"1\" class=\"dataframe\">\n",
       "  <thead>\n",
       "    <tr style=\"text-align: right;\">\n",
       "      <th></th>\n",
       "      <th>YEAR_</th>\n",
       "      <th>STATE</th>\n",
       "      <th>AGENCY</th>\n",
       "      <th>UNIT_ID</th>\n",
       "      <th>TREATMENT_ID</th>\n",
       "      <th>TREATMENT_NAME</th>\n",
       "      <th>TREATMENT_TYPE</th>\n",
       "      <th>START_DATE</th>\n",
       "      <th>END_DATE</th>\n",
       "      <th>TREATED_AC</th>\n",
       "      <th>GIS_ACRES</th>\n",
       "      <th>RX_CONSUM</th>\n",
       "      <th>PRE_CON_CLASS</th>\n",
       "      <th>POST_CON_CLASS</th>\n",
       "      <th>Shape_Length</th>\n",
       "      <th>Shape_Area</th>\n",
       "      <th>geometry</th>\n",
       "    </tr>\n",
       "  </thead>\n",
       "  <tbody>\n",
       "    <tr>\n",
       "      <th>0</th>\n",
       "      <td>2020</td>\n",
       "      <td>CA</td>\n",
       "      <td>CDF</td>\n",
       "      <td>AEU</td>\n",
       "      <td>10509</td>\n",
       "      <td>Jan 31 2020 Broadcast</td>\n",
       "      <td>3.0</td>\n",
       "      <td>2020-01-31T00:00:00+00:00</td>\n",
       "      <td>2020-01-31T00:00:00+00:00</td>\n",
       "      <td>15.0</td>\n",
       "      <td>15.047045</td>\n",
       "      <td>NaN</td>\n",
       "      <td>NaN</td>\n",
       "      <td>NaN</td>\n",
       "      <td>1365.887529</td>\n",
       "      <td>6.089322e+04</td>\n",
       "      <td>MULTIPOLYGON (((-45261.902 81865.442, -45248.3...</td>\n",
       "    </tr>\n",
       "    <tr>\n",
       "      <th>1</th>\n",
       "      <td>2020</td>\n",
       "      <td>CA</td>\n",
       "      <td>PVT</td>\n",
       "      <td>AEU</td>\n",
       "      <td>10572</td>\n",
       "      <td>2020 Fuels Reduction</td>\n",
       "      <td>3.0</td>\n",
       "      <td>2020-02-13T00:00:00+00:00</td>\n",
       "      <td>2020-02-13T00:00:00+00:00</td>\n",
       "      <td>22.3</td>\n",
       "      <td>36.739716</td>\n",
       "      <td>NaN</td>\n",
       "      <td>NaN</td>\n",
       "      <td>NaN</td>\n",
       "      <td>2681.610336</td>\n",
       "      <td>1.486803e+05</td>\n",
       "      <td>MULTIPOLYGON (((-57222.192 98500.043, -57231.6...</td>\n",
       "    </tr>\n",
       "    <tr>\n",
       "      <th>2</th>\n",
       "      <td>2020</td>\n",
       "      <td>CA</td>\n",
       "      <td>CDF</td>\n",
       "      <td>AEU</td>\n",
       "      <td>10630</td>\n",
       "      <td>Feb 2020 Broadcast</td>\n",
       "      <td>3.0</td>\n",
       "      <td>2020-02-13T00:00:00+00:00</td>\n",
       "      <td>2020-02-18T00:00:00+00:00</td>\n",
       "      <td>22.4</td>\n",
       "      <td>38.839848</td>\n",
       "      <td>NaN</td>\n",
       "      <td>NaN</td>\n",
       "      <td>NaN</td>\n",
       "      <td>3918.219956</td>\n",
       "      <td>1.571792e+05</td>\n",
       "      <td>MULTIPOLYGON (((-49821.237 54143.575, -49815.4...</td>\n",
       "    </tr>\n",
       "    <tr>\n",
       "      <th>3</th>\n",
       "      <td>2020</td>\n",
       "      <td>CA</td>\n",
       "      <td>CDF</td>\n",
       "      <td>AEU</td>\n",
       "      <td>10639</td>\n",
       "      <td>Feb 2020 Broadcast</td>\n",
       "      <td>3.0</td>\n",
       "      <td>2020-02-11T00:00:00+00:00</td>\n",
       "      <td>2020-02-20T00:00:00+00:00</td>\n",
       "      <td>75.5</td>\n",
       "      <td>75.502464</td>\n",
       "      <td>NaN</td>\n",
       "      <td>NaN</td>\n",
       "      <td>NaN</td>\n",
       "      <td>3918.834462</td>\n",
       "      <td>3.055300e+05</td>\n",
       "      <td>MULTIPOLYGON (((-47052.539 80922.773, -47052.5...</td>\n",
       "    </tr>\n",
       "    <tr>\n",
       "      <th>4</th>\n",
       "      <td>2020</td>\n",
       "      <td>CA</td>\n",
       "      <td>CDF</td>\n",
       "      <td>AEU</td>\n",
       "      <td>10780</td>\n",
       "      <td>Mar 3 2020 Broadcast</td>\n",
       "      <td>3.0</td>\n",
       "      <td>2020-03-03T00:00:00+00:00</td>\n",
       "      <td>2020-03-03T00:00:00+00:00</td>\n",
       "      <td>61.8</td>\n",
       "      <td>61.773609</td>\n",
       "      <td>NaN</td>\n",
       "      <td>NaN</td>\n",
       "      <td>NaN</td>\n",
       "      <td>2769.034316</td>\n",
       "      <td>2.499805e+05</td>\n",
       "      <td>MULTIPOLYGON (((-47591.189 80696.956, -47590.2...</td>\n",
       "    </tr>\n",
       "    <tr>\n",
       "      <th>...</th>\n",
       "      <td>...</td>\n",
       "      <td>...</td>\n",
       "      <td>...</td>\n",
       "      <td>...</td>\n",
       "      <td>...</td>\n",
       "      <td>...</td>\n",
       "      <td>...</td>\n",
       "      <td>...</td>\n",
       "      <td>...</td>\n",
       "      <td>...</td>\n",
       "      <td>...</td>\n",
       "      <td>...</td>\n",
       "      <td>...</td>\n",
       "      <td>...</td>\n",
       "      <td>...</td>\n",
       "      <td>...</td>\n",
       "      <td>...</td>\n",
       "    </tr>\n",
       "    <tr>\n",
       "      <th>6407</th>\n",
       "      <td>2019</td>\n",
       "      <td>CA</td>\n",
       "      <td>CDF</td>\n",
       "      <td>BEU</td>\n",
       "      <td>9011</td>\n",
       "      <td>Rock Springs VMP</td>\n",
       "      <td>3.0</td>\n",
       "      <td>2019-06-17T00:00:00+00:00</td>\n",
       "      <td>2019-06-17T00:00:00+00:00</td>\n",
       "      <td>6.0</td>\n",
       "      <td>4410.436035</td>\n",
       "      <td>NaN</td>\n",
       "      <td>NaN</td>\n",
       "      <td>NaN</td>\n",
       "      <td>43918.799708</td>\n",
       "      <td>1.784839e+07</td>\n",
       "      <td>MULTIPOLYGON (((-83812.469 -167644.628, -83812...</td>\n",
       "    </tr>\n",
       "    <tr>\n",
       "      <th>6408</th>\n",
       "      <td>2019</td>\n",
       "      <td>CA</td>\n",
       "      <td>CDF</td>\n",
       "      <td>BEU</td>\n",
       "      <td>9011</td>\n",
       "      <td>Rock Springs VMP</td>\n",
       "      <td>3.0</td>\n",
       "      <td>2019-11-14T00:00:00+00:00</td>\n",
       "      <td>2019-11-19T00:00:00+00:00</td>\n",
       "      <td>4404.0</td>\n",
       "      <td>4410.436035</td>\n",
       "      <td>NaN</td>\n",
       "      <td>NaN</td>\n",
       "      <td>NaN</td>\n",
       "      <td>43918.799708</td>\n",
       "      <td>1.784839e+07</td>\n",
       "      <td>MULTIPOLYGON (((-83812.469 -167644.628, -83812...</td>\n",
       "    </tr>\n",
       "    <tr>\n",
       "      <th>6409</th>\n",
       "      <td>2019</td>\n",
       "      <td>CA</td>\n",
       "      <td>OTH</td>\n",
       "      <td>BEU</td>\n",
       "      <td>9874</td>\n",
       "      <td>Impact Burn</td>\n",
       "      <td>3.0</td>\n",
       "      <td>2019-05-01T00:00:00+00:00</td>\n",
       "      <td>2019-06-01T00:00:00+00:00</td>\n",
       "      <td>1728.0</td>\n",
       "      <td>1728.423584</td>\n",
       "      <td>NaN</td>\n",
       "      <td>NaN</td>\n",
       "      <td>NaN</td>\n",
       "      <td>12837.895799</td>\n",
       "      <td>6.994679e+06</td>\n",
       "      <td>MULTIPOLYGON (((-68525.876 -241585.362, -68522...</td>\n",
       "    </tr>\n",
       "    <tr>\n",
       "      <th>6410</th>\n",
       "      <td>2019</td>\n",
       "      <td>CA</td>\n",
       "      <td>CDF</td>\n",
       "      <td>SLU</td>\n",
       "      <td>10270</td>\n",
       "      <td>Webster Burning</td>\n",
       "      <td>3.0</td>\n",
       "      <td>2019-11-12T00:00:00+00:00</td>\n",
       "      <td>2019-12-31T00:00:00+00:00</td>\n",
       "      <td>131.0</td>\n",
       "      <td>131.035889</td>\n",
       "      <td>NaN</td>\n",
       "      <td>NaN</td>\n",
       "      <td>NaN</td>\n",
       "      <td>6110.293336</td>\n",
       "      <td>5.302832e+05</td>\n",
       "      <td>MULTIPOLYGON (((-48329.776 -282952.083, -48320...</td>\n",
       "    </tr>\n",
       "    <tr>\n",
       "      <th>6411</th>\n",
       "      <td>2019</td>\n",
       "      <td>CA</td>\n",
       "      <td>CDF</td>\n",
       "      <td>BEU</td>\n",
       "      <td>9969</td>\n",
       "      <td>2019 Church Ranch VMP</td>\n",
       "      <td>3.0</td>\n",
       "      <td>2019-07-29T00:00:00+00:00</td>\n",
       "      <td>2019-08-20T00:00:00+00:00</td>\n",
       "      <td>365.0</td>\n",
       "      <td>365.818207</td>\n",
       "      <td>NaN</td>\n",
       "      <td>NaN</td>\n",
       "      <td>NaN</td>\n",
       "      <td>7046.382422</td>\n",
       "      <td>1.480413e+06</td>\n",
       "      <td>MULTIPOLYGON (((-138297.766 -134044.365, -1382...</td>\n",
       "    </tr>\n",
       "  </tbody>\n",
       "</table>\n",
       "<p>6412 rows × 17 columns</p>\n",
       "</div>"
      ],
      "text/plain": [
       "     YEAR_ STATE AGENCY UNIT_ID TREATMENT_ID          TREATMENT_NAME  \\\n",
       "0     2020    CA    CDF     AEU        10509   Jan 31 2020 Broadcast   \n",
       "1     2020    CA    PVT     AEU        10572    2020 Fuels Reduction   \n",
       "2     2020    CA    CDF     AEU        10630      Feb 2020 Broadcast   \n",
       "3     2020    CA    CDF     AEU        10639      Feb 2020 Broadcast   \n",
       "4     2020    CA    CDF     AEU        10780    Mar 3 2020 Broadcast   \n",
       "...    ...   ...    ...     ...          ...                     ...   \n",
       "6407  2019    CA    CDF     BEU         9011        Rock Springs VMP   \n",
       "6408  2019    CA    CDF     BEU         9011        Rock Springs VMP   \n",
       "6409  2019    CA    OTH     BEU         9874             Impact Burn   \n",
       "6410  2019    CA    CDF     SLU        10270         Webster Burning   \n",
       "6411  2019    CA    CDF     BEU         9969  2019 Church Ranch VMP    \n",
       "\n",
       "      TREATMENT_TYPE                 START_DATE                   END_DATE  \\\n",
       "0                3.0  2020-01-31T00:00:00+00:00  2020-01-31T00:00:00+00:00   \n",
       "1                3.0  2020-02-13T00:00:00+00:00  2020-02-13T00:00:00+00:00   \n",
       "2                3.0  2020-02-13T00:00:00+00:00  2020-02-18T00:00:00+00:00   \n",
       "3                3.0  2020-02-11T00:00:00+00:00  2020-02-20T00:00:00+00:00   \n",
       "4                3.0  2020-03-03T00:00:00+00:00  2020-03-03T00:00:00+00:00   \n",
       "...              ...                        ...                        ...   \n",
       "6407             3.0  2019-06-17T00:00:00+00:00  2019-06-17T00:00:00+00:00   \n",
       "6408             3.0  2019-11-14T00:00:00+00:00  2019-11-19T00:00:00+00:00   \n",
       "6409             3.0  2019-05-01T00:00:00+00:00  2019-06-01T00:00:00+00:00   \n",
       "6410             3.0  2019-11-12T00:00:00+00:00  2019-12-31T00:00:00+00:00   \n",
       "6411             3.0  2019-07-29T00:00:00+00:00  2019-08-20T00:00:00+00:00   \n",
       "\n",
       "      TREATED_AC    GIS_ACRES  RX_CONSUM  PRE_CON_CLASS  POST_CON_CLASS  \\\n",
       "0           15.0    15.047045        NaN            NaN             NaN   \n",
       "1           22.3    36.739716        NaN            NaN             NaN   \n",
       "2           22.4    38.839848        NaN            NaN             NaN   \n",
       "3           75.5    75.502464        NaN            NaN             NaN   \n",
       "4           61.8    61.773609        NaN            NaN             NaN   \n",
       "...          ...          ...        ...            ...             ...   \n",
       "6407         6.0  4410.436035        NaN            NaN             NaN   \n",
       "6408      4404.0  4410.436035        NaN            NaN             NaN   \n",
       "6409      1728.0  1728.423584        NaN            NaN             NaN   \n",
       "6410       131.0   131.035889        NaN            NaN             NaN   \n",
       "6411       365.0   365.818207        NaN            NaN             NaN   \n",
       "\n",
       "      Shape_Length    Shape_Area  \\\n",
       "0      1365.887529  6.089322e+04   \n",
       "1      2681.610336  1.486803e+05   \n",
       "2      3918.219956  1.571792e+05   \n",
       "3      3918.834462  3.055300e+05   \n",
       "4      2769.034316  2.499805e+05   \n",
       "...            ...           ...   \n",
       "6407  43918.799708  1.784839e+07   \n",
       "6408  43918.799708  1.784839e+07   \n",
       "6409  12837.895799  6.994679e+06   \n",
       "6410   6110.293336  5.302832e+05   \n",
       "6411   7046.382422  1.480413e+06   \n",
       "\n",
       "                                               geometry  \n",
       "0     MULTIPOLYGON (((-45261.902 81865.442, -45248.3...  \n",
       "1     MULTIPOLYGON (((-57222.192 98500.043, -57231.6...  \n",
       "2     MULTIPOLYGON (((-49821.237 54143.575, -49815.4...  \n",
       "3     MULTIPOLYGON (((-47052.539 80922.773, -47052.5...  \n",
       "4     MULTIPOLYGON (((-47591.189 80696.956, -47590.2...  \n",
       "...                                                 ...  \n",
       "6407  MULTIPOLYGON (((-83812.469 -167644.628, -83812...  \n",
       "6408  MULTIPOLYGON (((-83812.469 -167644.628, -83812...  \n",
       "6409  MULTIPOLYGON (((-68525.876 -241585.362, -68522...  \n",
       "6410  MULTIPOLYGON (((-48329.776 -282952.083, -48320...  \n",
       "6411  MULTIPOLYGON (((-138297.766 -134044.365, -1382...  \n",
       "\n",
       "[6412 rows x 17 columns]"
      ]
     },
     "execution_count": 11,
     "metadata": {},
     "output_type": "execute_result"
    }
   ],
   "source": [
    "pfires_df"
   ]
  },
  {
   "cell_type": "code",
   "execution_count": 4,
   "id": "64dc425d-c18c-4590-8bdf-170973acf787",
   "metadata": {
    "tags": []
   },
   "outputs": [
    {
     "data": {
      "text/html": [
       "<div>\n",
       "<style scoped>\n",
       "    .dataframe tbody tr th:only-of-type {\n",
       "        vertical-align: middle;\n",
       "    }\n",
       "\n",
       "    .dataframe tbody tr th {\n",
       "        vertical-align: top;\n",
       "    }\n",
       "\n",
       "    .dataframe thead th {\n",
       "        text-align: right;\n",
       "    }\n",
       "</style>\n",
       "<table border=\"1\" class=\"dataframe\">\n",
       "  <thead>\n",
       "    <tr style=\"text-align: right;\">\n",
       "      <th></th>\n",
       "      <th>YEAR_</th>\n",
       "      <th>ALARM_DATE</th>\n",
       "      <th>CONT_DATE</th>\n",
       "      <th>CAUSE</th>\n",
       "      <th>REPORT_AC</th>\n",
       "      <th>GIS_ACRES</th>\n",
       "      <th>C_METHOD</th>\n",
       "      <th>OBJECTIVE</th>\n",
       "      <th>Shape_Length</th>\n",
       "      <th>Shape_Area</th>\n",
       "      <th>geometry</th>\n",
       "    </tr>\n",
       "  </thead>\n",
       "  <tbody>\n",
       "    <tr>\n",
       "      <th>0</th>\n",
       "      <td>2020</td>\n",
       "      <td>2020-06-18T00:00:00+00:00</td>\n",
       "      <td>2020-06-23T00:00:00+00:00</td>\n",
       "      <td>11.0</td>\n",
       "      <td>110.0</td>\n",
       "      <td>109.602501</td>\n",
       "      <td>1.0</td>\n",
       "      <td>1.0</td>\n",
       "      <td>3252.523280</td>\n",
       "      <td>4.435447e+05</td>\n",
       "      <td>MULTIPOLYGON (((-116841.251 97942.565, -116836...</td>\n",
       "    </tr>\n",
       "    <tr>\n",
       "      <th>1</th>\n",
       "      <td>2020</td>\n",
       "      <td>2020-06-01T00:00:00+00:00</td>\n",
       "      <td>2020-06-04T00:00:00+00:00</td>\n",
       "      <td>2.0</td>\n",
       "      <td>670.0</td>\n",
       "      <td>685.585022</td>\n",
       "      <td>1.0</td>\n",
       "      <td>1.0</td>\n",
       "      <td>9653.760308</td>\n",
       "      <td>2.774464e+06</td>\n",
       "      <td>MULTIPOLYGON (((-117328.400 90212.407, -117321...</td>\n",
       "    </tr>\n",
       "    <tr>\n",
       "      <th>2</th>\n",
       "      <td>2020</td>\n",
       "      <td>2020-08-10T00:00:00+00:00</td>\n",
       "      <td>2020-03-01T00:00:00+00:00</td>\n",
       "      <td>14.0</td>\n",
       "      <td>26.0</td>\n",
       "      <td>27.300480</td>\n",
       "      <td>1.0</td>\n",
       "      <td>1.0</td>\n",
       "      <td>1649.643235</td>\n",
       "      <td>1.104811e+05</td>\n",
       "      <td>MULTIPOLYGON (((-115605.059 92988.787, -115585...</td>\n",
       "    </tr>\n",
       "    <tr>\n",
       "      <th>3</th>\n",
       "      <td>2020</td>\n",
       "      <td>2020-03-31T00:00:00+00:00</td>\n",
       "      <td>2020-04-01T00:00:00+00:00</td>\n",
       "      <td>9.0</td>\n",
       "      <td>13.0</td>\n",
       "      <td>12.931550</td>\n",
       "      <td>1.0</td>\n",
       "      <td>1.0</td>\n",
       "      <td>1577.155857</td>\n",
       "      <td>5.233211e+04</td>\n",
       "      <td>MULTIPOLYGON (((-110213.270 105975.579, -11020...</td>\n",
       "    </tr>\n",
       "    <tr>\n",
       "      <th>4</th>\n",
       "      <td>2020</td>\n",
       "      <td>2020-04-14T00:00:00+00:00</td>\n",
       "      <td>2020-04-19T00:00:00+00:00</td>\n",
       "      <td>18.0</td>\n",
       "      <td>10.3</td>\n",
       "      <td>10.315960</td>\n",
       "      <td>1.0</td>\n",
       "      <td>1.0</td>\n",
       "      <td>1035.787625</td>\n",
       "      <td>4.174722e+04</td>\n",
       "      <td>MULTIPOLYGON (((-111793.600 164243.615, -11177...</td>\n",
       "    </tr>\n",
       "    <tr>\n",
       "      <th>...</th>\n",
       "      <td>...</td>\n",
       "      <td>...</td>\n",
       "      <td>...</td>\n",
       "      <td>...</td>\n",
       "      <td>...</td>\n",
       "      <td>...</td>\n",
       "      <td>...</td>\n",
       "      <td>...</td>\n",
       "      <td>...</td>\n",
       "      <td>...</td>\n",
       "      <td>...</td>\n",
       "    </tr>\n",
       "    <tr>\n",
       "      <th>21313</th>\n",
       "      <td>2019</td>\n",
       "      <td>2019-10-30T00:00:00+00:00</td>\n",
       "      <td>2019-10-30T00:00:00+00:00</td>\n",
       "      <td>NaN</td>\n",
       "      <td>NaN</td>\n",
       "      <td>6.297734</td>\n",
       "      <td>NaN</td>\n",
       "      <td>1.0</td>\n",
       "      <td>741.886109</td>\n",
       "      <td>2.548602e+04</td>\n",
       "      <td>MULTIPOLYGON (((122180.088 -428557.696, 122181...</td>\n",
       "    </tr>\n",
       "    <tr>\n",
       "      <th>21314</th>\n",
       "      <td>2019</td>\n",
       "      <td>2019-10-28T00:00:00+00:00</td>\n",
       "      <td>2019-10-28T00:00:00+00:00</td>\n",
       "      <td>14.0</td>\n",
       "      <td>NaN</td>\n",
       "      <td>8.482671</td>\n",
       "      <td>8.0</td>\n",
       "      <td>1.0</td>\n",
       "      <td>1004.069271</td>\n",
       "      <td>3.432815e+04</td>\n",
       "      <td>MULTIPOLYGON (((120221.043 -428836.863, 120220...</td>\n",
       "    </tr>\n",
       "    <tr>\n",
       "      <th>21315</th>\n",
       "      <td>2019</td>\n",
       "      <td>2019-11-09T00:00:00+00:00</td>\n",
       "      <td>2019-11-10T00:00:00+00:00</td>\n",
       "      <td>14.0</td>\n",
       "      <td>NaN</td>\n",
       "      <td>64.888229</td>\n",
       "      <td>8.0</td>\n",
       "      <td>1.0</td>\n",
       "      <td>3383.890106</td>\n",
       "      <td>2.625933e+05</td>\n",
       "      <td>MULTIPOLYGON (((153212.742 -428811.823, 153216...</td>\n",
       "    </tr>\n",
       "    <tr>\n",
       "      <th>21316</th>\n",
       "      <td>2019</td>\n",
       "      <td>None</td>\n",
       "      <td>None</td>\n",
       "      <td>14.0</td>\n",
       "      <td>NaN</td>\n",
       "      <td>66.587181</td>\n",
       "      <td>8.0</td>\n",
       "      <td>1.0</td>\n",
       "      <td>3897.065019</td>\n",
       "      <td>2.694688e+05</td>\n",
       "      <td>MULTIPOLYGON (((409025.711 -295687.235, 409021...</td>\n",
       "    </tr>\n",
       "    <tr>\n",
       "      <th>21317</th>\n",
       "      <td>2019</td>\n",
       "      <td>2019-10-10T00:00:00+00:00</td>\n",
       "      <td>2019-10-31T00:00:00+00:00</td>\n",
       "      <td>14.0</td>\n",
       "      <td>8799.0</td>\n",
       "      <td>8799.325195</td>\n",
       "      <td>7.0</td>\n",
       "      <td>1.0</td>\n",
       "      <td>71393.089537</td>\n",
       "      <td>3.560961e+07</td>\n",
       "      <td>MULTIPOLYGON (((132094.329 -414240.303, 132019...</td>\n",
       "    </tr>\n",
       "  </tbody>\n",
       "</table>\n",
       "<p>21318 rows × 11 columns</p>\n",
       "</div>"
      ],
      "text/plain": [
       "      YEAR_                 ALARM_DATE                  CONT_DATE  CAUSE  \\\n",
       "0      2020  2020-06-18T00:00:00+00:00  2020-06-23T00:00:00+00:00   11.0   \n",
       "1      2020  2020-06-01T00:00:00+00:00  2020-06-04T00:00:00+00:00    2.0   \n",
       "2      2020  2020-08-10T00:00:00+00:00  2020-03-01T00:00:00+00:00   14.0   \n",
       "3      2020  2020-03-31T00:00:00+00:00  2020-04-01T00:00:00+00:00    9.0   \n",
       "4      2020  2020-04-14T00:00:00+00:00  2020-04-19T00:00:00+00:00   18.0   \n",
       "...     ...                        ...                        ...    ...   \n",
       "21313  2019  2019-10-30T00:00:00+00:00  2019-10-30T00:00:00+00:00    NaN   \n",
       "21314  2019  2019-10-28T00:00:00+00:00  2019-10-28T00:00:00+00:00   14.0   \n",
       "21315  2019  2019-11-09T00:00:00+00:00  2019-11-10T00:00:00+00:00   14.0   \n",
       "21316  2019                       None                       None   14.0   \n",
       "21317  2019  2019-10-10T00:00:00+00:00  2019-10-31T00:00:00+00:00   14.0   \n",
       "\n",
       "       REPORT_AC    GIS_ACRES  C_METHOD  OBJECTIVE  Shape_Length  \\\n",
       "0          110.0   109.602501       1.0        1.0   3252.523280   \n",
       "1          670.0   685.585022       1.0        1.0   9653.760308   \n",
       "2           26.0    27.300480       1.0        1.0   1649.643235   \n",
       "3           13.0    12.931550       1.0        1.0   1577.155857   \n",
       "4           10.3    10.315960       1.0        1.0   1035.787625   \n",
       "...          ...          ...       ...        ...           ...   \n",
       "21313        NaN     6.297734       NaN        1.0    741.886109   \n",
       "21314        NaN     8.482671       8.0        1.0   1004.069271   \n",
       "21315        NaN    64.888229       8.0        1.0   3383.890106   \n",
       "21316        NaN    66.587181       8.0        1.0   3897.065019   \n",
       "21317     8799.0  8799.325195       7.0        1.0  71393.089537   \n",
       "\n",
       "         Shape_Area                                           geometry  \n",
       "0      4.435447e+05  MULTIPOLYGON (((-116841.251 97942.565, -116836...  \n",
       "1      2.774464e+06  MULTIPOLYGON (((-117328.400 90212.407, -117321...  \n",
       "2      1.104811e+05  MULTIPOLYGON (((-115605.059 92988.787, -115585...  \n",
       "3      5.233211e+04  MULTIPOLYGON (((-110213.270 105975.579, -11020...  \n",
       "4      4.174722e+04  MULTIPOLYGON (((-111793.600 164243.615, -11177...  \n",
       "...             ...                                                ...  \n",
       "21313  2.548602e+04  MULTIPOLYGON (((122180.088 -428557.696, 122181...  \n",
       "21314  3.432815e+04  MULTIPOLYGON (((120221.043 -428836.863, 120220...  \n",
       "21315  2.625933e+05  MULTIPOLYGON (((153212.742 -428811.823, 153216...  \n",
       "21316  2.694688e+05  MULTIPOLYGON (((409025.711 -295687.235, 409021...  \n",
       "21317  3.560961e+07  MULTIPOLYGON (((132094.329 -414240.303, 132019...  \n",
       "\n",
       "[21318 rows x 11 columns]"
      ]
     },
     "execution_count": 4,
     "metadata": {},
     "output_type": "execute_result"
    }
   ],
   "source": [
    "calfires_df"
   ]
  },
  {
   "cell_type": "markdown",
   "id": "c5886740-0c70-4173-b151-c43a0c11f1f3",
   "metadata": {},
   "source": [
    "#### Counties data (~50MB)\n",
    "Notice that we have 7 different layers available"
   ]
  },
  {
   "cell_type": "code",
   "execution_count": 5,
   "id": "f611662d-7ece-4b17-8cf4-4c6a83d6a027",
   "metadata": {
    "tags": []
   },
   "outputs": [
    {
     "name": "stdout",
     "output_type": "stream",
     "text": [
      "layer # is 0\n"
     ]
    },
    {
     "data": {
      "text/plain": [
       "<Figure size 432x288 with 0 Axes>"
      ]
     },
     "metadata": {},
     "output_type": "display_data"
    },
    {
     "data": {
      "image/png": "[encoded data removed]",
      "text/plain": [
       "<Figure size 432x288 with 1 Axes>"
      ]
     },
     "metadata": {
      "needs_background": "light"
     },
     "output_type": "display_data"
    },
    {
     "name": "stdout",
     "output_type": "stream",
     "text": [
      "layer # is 1\n"
     ]
    },
    {
     "data": {
      "text/plain": [
       "<Figure size 432x288 with 0 Axes>"
      ]
     },
     "metadata": {},
     "output_type": "display_data"
    },
    {
     "data": {
      "image/png": "[encoded data removed]",
      "text/plain": [
       "<Figure size 432x288 with 1 Axes>"
      ]
     },
     "metadata": {
      "needs_background": "light"
     },
     "output_type": "display_data"
    },
    {
     "name": "stdout",
     "output_type": "stream",
     "text": [
      "layer # is 2\n"
     ]
    },
    {
     "data": {
      "text/plain": [
       "<Figure size 432x288 with 0 Axes>"
      ]
     },
     "metadata": {},
     "output_type": "display_data"
    },
    {
     "data": {
      "image/png": "[encoded data removed]",
      "text/plain": [
       "<Figure size 432x288 with 1 Axes>"
      ]
     },
     "metadata": {
      "needs_background": "light"
     },
     "output_type": "display_data"
    },
    {
     "name": "stdout",
     "output_type": "stream",
     "text": [
      "layer # is 3\n"
     ]
    },
    {
     "data": {
      "text/plain": [
       "<Figure size 432x288 with 0 Axes>"
      ]
     },
     "metadata": {},
     "output_type": "display_data"
    },
    {
     "data": {
      "image/png": "[encoded data removed]",
      "text/plain": [
       "<Figure size 432x288 with 1 Axes>"
      ]
     },
     "metadata": {
      "needs_background": "light"
     },
     "output_type": "display_data"
    },
    {
     "name": "stdout",
     "output_type": "stream",
     "text": [
      "layer # is 4\n"
     ]
    },
    {
     "data": {
      "text/plain": [
       "<Figure size 432x288 with 0 Axes>"
      ]
     },
     "metadata": {},
     "output_type": "display_data"
    },
    {
     "data": {
      "image/png": "[encoded data removed]",
      "text/plain": [
       "<Figure size 432x288 with 1 Axes>"
      ]
     },
     "metadata": {
      "needs_background": "light"
     },
     "output_type": "display_data"
    },
    {
     "name": "stdout",
     "output_type": "stream",
     "text": [
      "layer # is 5\n"
     ]
    },
    {
     "data": {
      "text/plain": [
       "<Figure size 432x288 with 0 Axes>"
      ]
     },
     "metadata": {},
     "output_type": "display_data"
    },
    {
     "data": {
      "image/png": "[encoded data removed]",
      "text/plain": [
       "<Figure size 432x288 with 1 Axes>"
      ]
     },
     "metadata": {
      "needs_background": "light"
     },
     "output_type": "display_data"
    },
    {
     "name": "stdout",
     "output_type": "stream",
     "text": [
      "layer # is 6\n"
     ]
    },
    {
     "data": {
      "text/plain": [
       "<Figure size 432x288 with 0 Axes>"
      ]
     },
     "metadata": {},
     "output_type": "display_data"
    },
    {
     "data": {
      "image/png": "[encoded data removed]",
      "text/plain": [
       "<Figure size 432x288 with 1 Axes>"
      ]
     },
     "metadata": {
      "needs_background": "light"
     },
     "output_type": "display_data"
    },
    {
     "name": "stdout",
     "output_type": "stream",
     "text": [
      "layer # is 7\n"
     ]
    },
    {
     "data": {
      "text/plain": [
       "<Figure size 432x288 with 0 Axes>"
      ]
     },
     "metadata": {},
     "output_type": "display_data"
    },
    {
     "data": {
      "image/png": "[encoded data removed]",
      "text/plain": [
       "<Figure size 432x288 with 1 Axes>"
      ]
     },
     "metadata": {
      "needs_background": "light"
     },
     "output_type": "display_data"
    }
   ],
   "source": [
    "# plot each layer to get some intuition about what layers to use\n",
    "for i in range(8): \n",
    "    print(f\"layer # is {i}\")\n",
    "    fig = plt.figure(i)\n",
    "    counties_df = gpd.read_file(COUNTIES_PATH, layer=i)\n",
    "    counties_df.plot()\n",
    "    plt.show()"
   ]
  },
  {
   "cell_type": "code",
   "execution_count": 6,
   "id": "c7094c55-45a3-497d-8ed9-225519880c5d",
   "metadata": {
    "tags": []
   },
   "outputs": [
    {
     "data": {
      "text/html": [
       "<div>\n",
       "<style scoped>\n",
       "    .dataframe tbody tr th:only-of-type {\n",
       "        vertical-align: middle;\n",
       "    }\n",
       "\n",
       "    .dataframe tbody tr th {\n",
       "        vertical-align: top;\n",
       "    }\n",
       "\n",
       "    .dataframe thead th {\n",
       "        text-align: right;\n",
       "    }\n",
       "</style>\n",
       "<table border=\"1\" class=\"dataframe\">\n",
       "  <thead>\n",
       "    <tr style=\"text-align: right;\">\n",
       "      <th></th>\n",
       "      <th>FID_cnty18_1_basicplus</th>\n",
       "      <th>COUNTY_NAME</th>\n",
       "      <th>COUNTY_ABBREV</th>\n",
       "      <th>COUNTY_NUM</th>\n",
       "      <th>COUNTY_CODE</th>\n",
       "      <th>COUNTY_FIPS</th>\n",
       "      <th>Shape_Length</th>\n",
       "      <th>ISLAND</th>\n",
       "      <th>geometry</th>\n",
       "    </tr>\n",
       "  </thead>\n",
       "  <tbody>\n",
       "    <tr>\n",
       "      <th>0</th>\n",
       "      <td>68</td>\n",
       "      <td>Los Angeles</td>\n",
       "      <td>LOS</td>\n",
       "      <td>19</td>\n",
       "      <td>19</td>\n",
       "      <td>037</td>\n",
       "      <td>113390.846736</td>\n",
       "      <td>Channel Islands</td>\n",
       "      <td>MULTILINESTRING ((136720.343 -558176.528, 1367...</td>\n",
       "    </tr>\n",
       "    <tr>\n",
       "      <th>1</th>\n",
       "      <td>64</td>\n",
       "      <td>Ventura</td>\n",
       "      <td>VEN</td>\n",
       "      <td>56</td>\n",
       "      <td>56</td>\n",
       "      <td>111</td>\n",
       "      <td>59953.208117</td>\n",
       "      <td>Channel Islands</td>\n",
       "      <td>MULTILINESTRING ((51561.856 -532515.409, 51552...</td>\n",
       "    </tr>\n",
       "    <tr>\n",
       "      <th>2</th>\n",
       "      <td>37</td>\n",
       "      <td>San Diego</td>\n",
       "      <td>SDG</td>\n",
       "      <td>37</td>\n",
       "      <td>37</td>\n",
       "      <td>073</td>\n",
       "      <td>224203.299418</td>\n",
       "      <td>None</td>\n",
       "      <td>MULTILINESTRING ((365906.750 -591772.062, 3627...</td>\n",
       "    </tr>\n",
       "    <tr>\n",
       "      <th>3</th>\n",
       "      <td>59</td>\n",
       "      <td>Santa Barbara</td>\n",
       "      <td>SBA</td>\n",
       "      <td>42</td>\n",
       "      <td>42</td>\n",
       "      <td>083</td>\n",
       "      <td>1584.679182</td>\n",
       "      <td>Channel Islands</td>\n",
       "      <td>MULTILINESTRING ((88695.267 -504989.115, 88698...</td>\n",
       "    </tr>\n",
       "    <tr>\n",
       "      <th>4</th>\n",
       "      <td>69</td>\n",
       "      <td>Los Angeles</td>\n",
       "      <td>LOS</td>\n",
       "      <td>19</td>\n",
       "      <td>19</td>\n",
       "      <td>037</td>\n",
       "      <td>119545.411880</td>\n",
       "      <td>Channel Islands</td>\n",
       "      <td>MULTILINESTRING ((156299.373 -517505.008, 1563...</td>\n",
       "    </tr>\n",
       "    <tr>\n",
       "      <th>...</th>\n",
       "      <td>...</td>\n",
       "      <td>...</td>\n",
       "      <td>...</td>\n",
       "      <td>...</td>\n",
       "      <td>...</td>\n",
       "      <td>...</td>\n",
       "      <td>...</td>\n",
       "      <td>...</td>\n",
       "      <td>...</td>\n",
       "    </tr>\n",
       "    <tr>\n",
       "      <th>465</th>\n",
       "      <td>8</td>\n",
       "      <td>Del Norte</td>\n",
       "      <td>DEL</td>\n",
       "      <td>8</td>\n",
       "      <td>08</td>\n",
       "      <td>015</td>\n",
       "      <td>106278.163962</td>\n",
       "      <td>None</td>\n",
       "      <td>MULTILINESTRING ((-291951.500 447930.719, -291...</td>\n",
       "    </tr>\n",
       "    <tr>\n",
       "      <th>466</th>\n",
       "      <td>47</td>\n",
       "      <td>Siskiyou</td>\n",
       "      <td>SIS</td>\n",
       "      <td>47</td>\n",
       "      <td>47</td>\n",
       "      <td>093</td>\n",
       "      <td>106278.163962</td>\n",
       "      <td>None</td>\n",
       "      <td>MULTILINESTRING ((-291951.500 447930.719, -291...</td>\n",
       "    </tr>\n",
       "    <tr>\n",
       "      <th>467</th>\n",
       "      <td>47</td>\n",
       "      <td>Siskiyou</td>\n",
       "      <td>SIS</td>\n",
       "      <td>47</td>\n",
       "      <td>47</td>\n",
       "      <td>093</td>\n",
       "      <td>916.583889</td>\n",
       "      <td>None</td>\n",
       "      <td>MULTILINESTRING ((-291951.500 447930.719, -291...</td>\n",
       "    </tr>\n",
       "    <tr>\n",
       "      <th>468</th>\n",
       "      <td>8</td>\n",
       "      <td>Del Norte</td>\n",
       "      <td>DEL</td>\n",
       "      <td>8</td>\n",
       "      <td>08</td>\n",
       "      <td>015</td>\n",
       "      <td>21254.975056</td>\n",
       "      <td>None</td>\n",
       "      <td>MULTILINESTRING ((-313129.188 448215.344, -311...</td>\n",
       "    </tr>\n",
       "    <tr>\n",
       "      <th>469</th>\n",
       "      <td>8</td>\n",
       "      <td>Del Norte</td>\n",
       "      <td>DEL</td>\n",
       "      <td>8</td>\n",
       "      <td>08</td>\n",
       "      <td>015</td>\n",
       "      <td>121240.083878</td>\n",
       "      <td>None</td>\n",
       "      <td>MULTILINESTRING ((-339989.038 390341.617, -339...</td>\n",
       "    </tr>\n",
       "  </tbody>\n",
       "</table>\n",
       "<p>470 rows × 9 columns</p>\n",
       "</div>"
      ],
      "text/plain": [
       "     FID_cnty18_1_basicplus    COUNTY_NAME COUNTY_ABBREV  COUNTY_NUM  \\\n",
       "0                        68    Los Angeles           LOS          19   \n",
       "1                        64        Ventura           VEN          56   \n",
       "2                        37      San Diego           SDG          37   \n",
       "3                        59  Santa Barbara           SBA          42   \n",
       "4                        69    Los Angeles           LOS          19   \n",
       "..                      ...            ...           ...         ...   \n",
       "465                       8      Del Norte           DEL           8   \n",
       "466                      47       Siskiyou           SIS          47   \n",
       "467                      47       Siskiyou           SIS          47   \n",
       "468                       8      Del Norte           DEL           8   \n",
       "469                       8      Del Norte           DEL           8   \n",
       "\n",
       "    COUNTY_CODE COUNTY_FIPS   Shape_Length           ISLAND  \\\n",
       "0            19         037  113390.846736  Channel Islands   \n",
       "1            56         111   59953.208117  Channel Islands   \n",
       "2            37         073  224203.299418             None   \n",
       "3            42         083    1584.679182  Channel Islands   \n",
       "4            19         037  119545.411880  Channel Islands   \n",
       "..          ...         ...            ...              ...   \n",
       "465          08         015  106278.163962             None   \n",
       "466          47         093  106278.163962             None   \n",
       "467          47         093     916.583889             None   \n",
       "468          08         015   21254.975056             None   \n",
       "469          08         015  121240.083878             None   \n",
       "\n",
       "                                              geometry  \n",
       "0    MULTILINESTRING ((136720.343 -558176.528, 1367...  \n",
       "1    MULTILINESTRING ((51561.856 -532515.409, 51552...  \n",
       "2    MULTILINESTRING ((365906.750 -591772.062, 3627...  \n",
       "3    MULTILINESTRING ((88695.267 -504989.115, 88698...  \n",
       "4    MULTILINESTRING ((156299.373 -517505.008, 1563...  \n",
       "..                                                 ...  \n",
       "465  MULTILINESTRING ((-291951.500 447930.719, -291...  \n",
       "466  MULTILINESTRING ((-291951.500 447930.719, -291...  \n",
       "467  MULTILINESTRING ((-291951.500 447930.719, -291...  \n",
       "468  MULTILINESTRING ((-313129.188 448215.344, -311...  \n",
       "469  MULTILINESTRING ((-339989.038 390341.617, -339...  \n",
       "\n",
       "[470 rows x 9 columns]"
      ]
     },
     "execution_count": 6,
     "metadata": {},
     "output_type": "execute_result"
    }
   ],
   "source": [
    "counties_df = gpd.read_file(COUNTIES_PATH, layer=7)\n",
    "counties_df.COUNTY_NAME.nunique()\n",
    "counties_df"
   ]
  },
  {
   "cell_type": "code",
   "execution_count": 7,
   "id": "54dc0908-ab09-42ac-b1ad-3d9352f9eebe",
   "metadata": {
    "tags": []
   },
   "outputs": [
    {
     "data": {
      "text/plain": [
       "<AxesSubplot:>"
      ]
     },
     "execution_count": 7,
     "metadata": {},
     "output_type": "execute_result"
    },
    {
     "data": {
      "image/png": "[encoded data removed]",
      "text/plain": [
       "<Figure size 432x288 with 1 Axes>"
      ]
     },
     "metadata": {
      "needs_background": "light"
     },
     "output_type": "display_data"
    }
   ],
   "source": [
    "counties_df.plot()"
   ]
  },
  {
   "cell_type": "markdown",
   "id": "4e652bce-3d7e-49d6-9f8d-16a1844a95a2",
   "metadata": {},
   "source": [
    "#### Incorporated Cities data (~5MB)"
   ]
  },
  {
   "cell_type": "code",
   "execution_count": 8,
   "id": "a50a683b-cb11-4788-976f-bc293a6b4955",
   "metadata": {
    "tags": []
   },
   "outputs": [
    {
     "data": {
      "text/html": [
       "<div>\n",
       "<style scoped>\n",
       "    .dataframe tbody tr th:only-of-type {\n",
       "        vertical-align: middle;\n",
       "    }\n",
       "\n",
       "    .dataframe tbody tr th {\n",
       "        vertical-align: top;\n",
       "    }\n",
       "\n",
       "    .dataframe thead th {\n",
       "        text-align: right;\n",
       "    }\n",
       "</style>\n",
       "<table border=\"1\" class=\"dataframe\">\n",
       "  <thead>\n",
       "    <tr style=\"text-align: right;\">\n",
       "      <th></th>\n",
       "      <th>NAME</th>\n",
       "      <th>Shape_Length</th>\n",
       "      <th>Shape_Area</th>\n",
       "      <th>geometry</th>\n",
       "    </tr>\n",
       "  </thead>\n",
       "  <tbody>\n",
       "    <tr>\n",
       "      <th>0</th>\n",
       "      <td>Adelanto</td>\n",
       "      <td>98980.479293</td>\n",
       "      <td>1.368904e+08</td>\n",
       "      <td>MULTIPOLYGON (((244183.328 -378491.781, 244046...</td>\n",
       "    </tr>\n",
       "    <tr>\n",
       "      <th>1</th>\n",
       "      <td>Agoura Hills</td>\n",
       "      <td>24495.413379</td>\n",
       "      <td>2.024990e+07</td>\n",
       "      <td>MULTIPOLYGON (((117176.660 -426751.935, 117176...</td>\n",
       "    </tr>\n",
       "    <tr>\n",
       "      <th>2</th>\n",
       "      <td>Alameda</td>\n",
       "      <td>46302.603534</td>\n",
       "      <td>2.769065e+07</td>\n",
       "      <td>MULTIPOLYGON (((-197808.637 -27477.304, -19771...</td>\n",
       "    </tr>\n",
       "    <tr>\n",
       "      <th>3</th>\n",
       "      <td>Albany</td>\n",
       "      <td>13499.800969</td>\n",
       "      <td>4.605202e+06</td>\n",
       "      <td>MULTIPOLYGON (((-200911.170 -10739.993, -20090...</td>\n",
       "    </tr>\n",
       "    <tr>\n",
       "      <th>4</th>\n",
       "      <td>Alhambra</td>\n",
       "      <td>20978.233054</td>\n",
       "      <td>1.976582e+07</td>\n",
       "      <td>MULTIPOLYGON (((173339.612 -432761.068, 173617...</td>\n",
       "    </tr>\n",
       "    <tr>\n",
       "      <th>...</th>\n",
       "      <td>...</td>\n",
       "      <td>...</td>\n",
       "      <td>...</td>\n",
       "      <td>...</td>\n",
       "    </tr>\n",
       "    <tr>\n",
       "      <th>478</th>\n",
       "      <td>Yountville</td>\n",
       "      <td>14224.355974</td>\n",
       "      <td>3.855351e+06</td>\n",
       "      <td>MULTIPOLYGON (((-205961.697 46376.062, -205825...</td>\n",
       "    </tr>\n",
       "    <tr>\n",
       "      <th>479</th>\n",
       "      <td>Yreka</td>\n",
       "      <td>48717.698415</td>\n",
       "      <td>2.585892e+07</td>\n",
       "      <td>MULTIPOLYGON (((-215471.166 419674.952, -21546...</td>\n",
       "    </tr>\n",
       "    <tr>\n",
       "      <th>480</th>\n",
       "      <td>Yuba City</td>\n",
       "      <td>64713.349052</td>\n",
       "      <td>3.679596e+07</td>\n",
       "      <td>MULTIPOLYGON (((-144942.862 125550.424, -14486...</td>\n",
       "    </tr>\n",
       "    <tr>\n",
       "      <th>481</th>\n",
       "      <td>Yucaipa</td>\n",
       "      <td>55683.494163</td>\n",
       "      <td>7.336180e+07</td>\n",
       "      <td>MULTIPOLYGON (((276073.756 -433247.754, 276082...</td>\n",
       "    </tr>\n",
       "    <tr>\n",
       "      <th>482</th>\n",
       "      <td>Yucca Valley</td>\n",
       "      <td>52713.876703</td>\n",
       "      <td>1.031635e+08</td>\n",
       "      <td>MULTIPOLYGON (((329674.906 -420096.406, 329711...</td>\n",
       "    </tr>\n",
       "  </tbody>\n",
       "</table>\n",
       "<p>483 rows × 4 columns</p>\n",
       "</div>"
      ],
      "text/plain": [
       "             NAME  Shape_Length    Shape_Area  \\\n",
       "0        Adelanto  98980.479293  1.368904e+08   \n",
       "1    Agoura Hills  24495.413379  2.024990e+07   \n",
       "2         Alameda  46302.603534  2.769065e+07   \n",
       "3          Albany  13499.800969  4.605202e+06   \n",
       "4        Alhambra  20978.233054  1.976582e+07   \n",
       "..            ...           ...           ...   \n",
       "478    Yountville  14224.355974  3.855351e+06   \n",
       "479         Yreka  48717.698415  2.585892e+07   \n",
       "480     Yuba City  64713.349052  3.679596e+07   \n",
       "481       Yucaipa  55683.494163  7.336180e+07   \n",
       "482  Yucca Valley  52713.876703  1.031635e+08   \n",
       "\n",
       "                                              geometry  \n",
       "0    MULTIPOLYGON (((244183.328 -378491.781, 244046...  \n",
       "1    MULTIPOLYGON (((117176.660 -426751.935, 117176...  \n",
       "2    MULTIPOLYGON (((-197808.637 -27477.304, -19771...  \n",
       "3    MULTIPOLYGON (((-200911.170 -10739.993, -20090...  \n",
       "4    MULTIPOLYGON (((173339.612 -432761.068, 173617...  \n",
       "..                                                 ...  \n",
       "478  MULTIPOLYGON (((-205961.697 46376.062, -205825...  \n",
       "479  MULTIPOLYGON (((-215471.166 419674.952, -21546...  \n",
       "480  MULTIPOLYGON (((-144942.862 125550.424, -14486...  \n",
       "481  MULTIPOLYGON (((276073.756 -433247.754, 276082...  \n",
       "482  MULTIPOLYGON (((329674.906 -420096.406, 329711...  \n",
       "\n",
       "[483 rows x 4 columns]"
      ]
     },
     "execution_count": 8,
     "metadata": {},
     "output_type": "execute_result"
    }
   ],
   "source": [
    "cities_df = gpd.read_file(INCORP_CITIES_PATH, layer=0)\n",
    "cities_df"
   ]
  },
  {
   "cell_type": "code",
   "execution_count": 9,
   "id": "583b9947-042a-4b14-9b16-02acb9159ff6",
   "metadata": {
    "tags": []
   },
   "outputs": [
    {
     "data": {
      "text/plain": [
       "<AxesSubplot:>"
      ]
     },
     "execution_count": 9,
     "metadata": {},
     "output_type": "execute_result"
    },
    {
     "data": {
      "image/png": "[encoded data removed]",
      "text/plain": [
       "<Figure size 432x288 with 1 Axes>"
      ]
     },
     "metadata": {
      "needs_background": "light"
     },
     "output_type": "display_data"
    }
   ],
   "source": [
    "cities_df.plot()"
   ]
  },
  {
   "cell_type": "markdown",
   "id": "01186f61-3127-47ae-aaad-5af2e7a4a0b8",
   "metadata": {},
   "source": [
    "### Clean Data"
   ]
  },
  {
   "cell_type": "code",
   "execution_count": 10,
   "id": "3ec25af2-4428-4a9f-9769-40f421dd81e9",
   "metadata": {
    "tags": []
   },
   "outputs": [
    {
     "name": "stdout",
     "output_type": "stream",
     "text": [
      "BEFORE CLEAINING:\n",
      "\n"
     ]
    },
    {
     "ename": "NameError",
     "evalue": "name 'fires_df' is not defined",
     "output_type": "error",
     "traceback": [
      "\u001b[0;31m---------------------------------------------------------------------------\u001b[0m",
      "\u001b[0;31mNameError\u001b[0m                                 Traceback (most recent call last)",
      "\u001b[0;32m<ipython-input-10-df5dd53d8da6>\u001b[0m in \u001b[0;36m<module>\u001b[0;34m\u001b[0m\n\u001b[1;32m     16\u001b[0m \u001b[0mprint\u001b[0m\u001b[0;34m(\u001b[0m\u001b[0;34m\"BEFORE CLEAINING:\"\u001b[0m\u001b[0;34m)\u001b[0m\u001b[0;34m\u001b[0m\u001b[0;34m\u001b[0m\u001b[0m\n\u001b[1;32m     17\u001b[0m \u001b[0mprint\u001b[0m\u001b[0;34m(\u001b[0m\u001b[0;34m)\u001b[0m\u001b[0;34m\u001b[0m\u001b[0;34m\u001b[0m\u001b[0m\n\u001b[0;32m---> 18\u001b[0;31m \u001b[0mprint\u001b[0m\u001b[0;34m(\u001b[0m\u001b[0;34mf\"There are {len(fires_df)} rows and {len(fires_df.columns)} columns.\"\u001b[0m\u001b[0;34m)\u001b[0m\u001b[0;34m\u001b[0m\u001b[0;34m\u001b[0m\u001b[0m\n\u001b[0m\u001b[1;32m     19\u001b[0m \u001b[0mprint\u001b[0m\u001b[0;34m(\u001b[0m\u001b[0;34mf\"List of all column names: {fires_df.columns}\"\u001b[0m\u001b[0;34m)\u001b[0m\u001b[0;34m\u001b[0m\u001b[0;34m\u001b[0m\u001b[0m\n\u001b[1;32m     20\u001b[0m \u001b[0;34m\u001b[0m\u001b[0m\n",
      "\u001b[0;31mNameError\u001b[0m: name 'fires_df' is not defined"
     ]
    }
   ],
   "source": [
    "def print_col_info(df, max_out=5):\n",
    "    # iterate over each column\n",
    "    for col_name, col in df.items():\n",
    "        if col_name == 'geometry':\n",
    "            print(f\"\"\"Column name: {col_name}, NaN count: {col.isna().sum()}\"\"\")\n",
    "            continue\n",
    "        if len(col.value_counts()) <= max_out: \n",
    "            print(f\"\"\"Column name: {col_name}, NaN count: {col.isna().sum()}, \n",
    "            # of non-null values: {len(col.value_counts(dropna=False))}, \n",
    "            distinct values: {col.value_counts().index.tolist()}\"\"\")\n",
    "        else: \n",
    "            print(f\"\"\"Column name: {col_name}, NaN count: {col.isna().sum()}, \n",
    "            # of non-null values: {len(col.value_counts(dropna=False))}\"\"\")\n",
    "            \n",
    "# First, we get some info about the fires_df itself\n",
    "print(\"BEFORE CLEAINING:\")\n",
    "print()\n",
    "print(f\"There are {len(fires_df)} rows and {len(fires_df.columns)} columns.\")\n",
    "print(f\"List of all column names: {fires_df.columns}\")\n",
    "\n",
    "# get more info about the columns themselves (all)\n",
    "print_col_info(fires_df)"
   ]
  },
  {
   "cell_type": "code",
   "execution_count": null,
   "id": "9e186881-8204-4ae0-91d5-97f387d730a7",
   "metadata": {
    "tags": []
   },
   "outputs": [],
   "source": [
    "# convert to datetime; null values are set to NaT\n",
    "fires_df.ALARM_DATE = pd.to_datetime(fires_df.ALARM_DATE.str.strip('T00:00:00+00:00'), errors='coerce')\n",
    "fires_df.CONT_DATE = pd.to_datetime(fires_df.CONT_DATE.str.strip('T00:00:00+00:00'), errors='coerce')\n",
    "\n",
    "fires_df = fires_df.loc[fires_df.YEAR_.notna()] # drop rows w/o a specified year\n",
    "fires_df.YEAR_ = pd.to_numeric(fires_df.YEAR_, downcast='float') # convert from object\n",
    "fires_df = fires_df.loc[fires_df.YEAR_ >= 1950] # drop rows before 1950\n",
    "fires_df.YEAR_ = pd.to_datetime(fires_df.YEAR_, format='%Y') # convert to datetime\n",
    "\n",
    "fires_df = fires_df.loc[fires_df.CAUSE.notna()]\n",
    "fires_df = fires_df.loc[fires_df.GIS_ACRES.notna()]\n",
    "fires_df.OBJECTIVE = fires_df.OBJECTIVE.fillna(0)"
   ]
  },
  {
   "cell_type": "code",
   "execution_count": 47,
   "id": "c558148b-e7ca-449d-875a-eafc84fe9f16",
   "metadata": {
    "collapsed": true,
    "jupyter": {
     "outputs_hidden": true
    }
   },
   "outputs": [
    {
     "name": "stdout",
     "output_type": "stream",
     "text": [
      "   REPORT_AC   GIS_ACRES\n",
      "0      110.0  109.602501\n",
      "1      670.0  685.585022\n",
      "2       26.0   27.300480\n",
      "3       13.0   12.931550\n",
      "4       10.3   10.315960\n",
      "\n",
      "       REPORT_AC    GIS_ACRES\n",
      "21312        NaN    42.282562\n",
      "21314        NaN     8.482671\n",
      "21315        NaN    64.888229\n",
      "21316        NaN    66.587181\n",
      "21317     8799.0  8799.325195\n",
      "REPORT_AC dropped\n"
     ]
    }
   ],
   "source": [
    "# compare provided area (in acres) colulmns\n",
    "print(fires_df[['REPORT_AC', 'GIS_ACRES']].head())\n",
    "print()\n",
    "print(fires_df[['REPORT_AC', 'GIS_ACRES']].tail())\n",
    "fires_df.drop(columns=['REPORT_AC'], inplace=True)\n",
    "print('REPORT_AC dropped')"
   ]
  },
  {
   "cell_type": "code",
   "execution_count": 48,
   "id": "2529b73d-254a-4dba-ab71-ee23e4c115c9",
   "metadata": {
    "collapsed": true,
    "jupyter": {
     "outputs_hidden": true
    }
   },
   "outputs": [
    {
     "name": "stdout",
     "output_type": "stream",
     "text": [
      "AFTER CLEANING:\n",
      "\n",
      "Column name: YEAR_, NaN count: 0, \n",
      "            # of non-null values: 71\n",
      "Column name: ALARM_DATE, NaN count: 1610, \n",
      "            # of non-null values: 6830\n",
      "Column name: CONT_DATE, NaN count: 7489, \n",
      "            # of non-null values: 4479\n",
      "Column name: CAUSE, NaN count: 0, \n",
      "            # of non-null values: 18\n",
      "Column name: GIS_ACRES, NaN count: 0, \n",
      "            # of non-null values: 16003\n",
      "Column name: C_METHOD, NaN count: 7329, \n",
      "            # of non-null values: 9\n",
      "Column name: OBJECTIVE, NaN count: 0, \n",
      "            # of non-null values: 3, \n",
      "            distinct values: [1.0, 2.0, 0.0]\n",
      "Column name: Shape_Length, NaN count: 0, \n",
      "            # of non-null values: 16010\n",
      "Column name: Shape_Area, NaN count: 0, \n",
      "            # of non-null values: 16010\n",
      "Column name: geometry, NaN count: 0\n"
     ]
    }
   ],
   "source": [
    "print(\"AFTER CLEANING:\")\n",
    "print()\n",
    "print_col_info(fires_df)"
   ]
  },
  {
   "cell_type": "code",
   "execution_count": 51,
   "id": "8bd2101d-9d4c-4a6a-a5fc-6a992b3652d8",
   "metadata": {
    "collapsed": true,
    "jupyter": {
     "outputs_hidden": true
    }
   },
   "outputs": [
    {
     "data": {
      "text/plain": [
       "2017-01-01    607\n",
       "2020-01-01    499\n",
       "2008-01-01    432\n",
       "2018-01-01    410\n",
       "1979-01-01    366\n",
       "             ... \n",
       "1962-01-01    109\n",
       "1971-01-01    109\n",
       "1991-01-01     88\n",
       "1963-01-01     79\n",
       "1965-01-01     62\n",
       "Name: YEAR_, Length: 71, dtype: int64"
      ]
     },
     "execution_count": 51,
     "metadata": {},
     "output_type": "execute_result"
    }
   ],
   "source": [
    "fires_df.YEAR_.value_counts().index.tolist()"
   ]
  },
  {
   "cell_type": "code",
   "execution_count": 26,
   "id": "db6af19f-acd5-44e8-9679-464729caba40",
   "metadata": {
    "collapsed": true,
    "jupyter": {
     "outputs_hidden": true
    }
   },
   "outputs": [
    {
     "data": {
      "text/plain": [
       "<AxesSubplot:>"
      ]
     },
     "execution_count": 26,
     "metadata": {},
     "output_type": "execute_result"
    },
    {
     "data": {
      "image/png": "[encoded data removed]",
      "text/plain": [
       "<Figure size 432x288 with 1 Axes>"
      ]
     },
     "metadata": {
      "needs_background": "light"
     },
     "output_type": "display_data"
    }
   ],
   "source": [
    "# fires_df = fires_df.loc[fires_df.ALARM_DATE.notna()]\n",
    "fires_df.plot()"
   ]
  },
  {
   "cell_type": "code",
   "execution_count": 32,
   "id": "32e1f893-5bba-4a19-833a-e57af4b47301",
   "metadata": {
    "collapsed": true,
    "jupyter": {
     "outputs_hidden": true
    }
   },
   "outputs": [
    {
     "data": {
      "text/plain": [
       "14.0    9543\n",
       "1.0     3454\n",
       "9.0     3379\n",
       "2.0     1246\n",
       "7.0      903\n",
       "5.0      723\n",
       "10.0     454\n",
       "11.0     412\n",
       "4.0      380\n",
       "3.0      342\n",
       "8.0      196\n",
       "18.0      90\n",
       "6.0       80\n",
       "15.0      21\n",
       "19.0      17\n",
       "16.0      14\n",
       "13.0      11\n",
       "12.0       5\n",
       "Name: CAUSE, dtype: int64"
      ]
     },
     "execution_count": 32,
     "metadata": {},
     "output_type": "execute_result"
    }
   ],
   "source": [
    "fires_df.CAUSE.value_counts()"
   ]
  },
  {
   "cell_type": "code",
   "execution_count": 27,
   "id": "139de9eb-ba80-4853-9218-e0f4c9cc7303",
   "metadata": {
    "collapsed": true,
    "jupyter": {
     "outputs_hidden": true
    },
    "tags": []
   },
   "outputs": [
    {
     "data": {
      "text/html": [
       "<div>\n",
       "<style scoped>\n",
       "    .dataframe tbody tr th:only-of-type {\n",
       "        vertical-align: middle;\n",
       "    }\n",
       "\n",
       "    .dataframe tbody tr th {\n",
       "        vertical-align: top;\n",
       "    }\n",
       "\n",
       "    .dataframe thead th {\n",
       "        text-align: right;\n",
       "    }\n",
       "</style>\n",
       "<table border=\"1\" class=\"dataframe\">\n",
       "  <thead>\n",
       "    <tr style=\"text-align: right;\">\n",
       "      <th></th>\n",
       "      <th>YEAR_</th>\n",
       "      <th>STATE</th>\n",
       "      <th>AGENCY</th>\n",
       "      <th>UNIT_ID</th>\n",
       "      <th>TREATMENT_ID</th>\n",
       "      <th>TREATMENT_NAME</th>\n",
       "      <th>TREATMENT_TYPE</th>\n",
       "      <th>START_DATE</th>\n",
       "      <th>END_DATE</th>\n",
       "      <th>TREATED_AC</th>\n",
       "      <th>GIS_ACRES</th>\n",
       "      <th>RX_CONSUM</th>\n",
       "      <th>PRE_CON_CLASS</th>\n",
       "      <th>POST_CON_CLASS</th>\n",
       "      <th>Shape_Length</th>\n",
       "      <th>Shape_Area</th>\n",
       "      <th>geometry</th>\n",
       "    </tr>\n",
       "  </thead>\n",
       "  <tbody>\n",
       "    <tr>\n",
       "      <th>0</th>\n",
       "      <td>2020</td>\n",
       "      <td>CA</td>\n",
       "      <td>CDF</td>\n",
       "      <td>AEU</td>\n",
       "      <td>10509</td>\n",
       "      <td>Jan 31 2020 Broadcast</td>\n",
       "      <td>3.0</td>\n",
       "      <td>2020-01-31T00:00:00+00:00</td>\n",
       "      <td>2020-01-31T00:00:00+00:00</td>\n",
       "      <td>15.0</td>\n",
       "      <td>15.047045</td>\n",
       "      <td>NaN</td>\n",
       "      <td>NaN</td>\n",
       "      <td>NaN</td>\n",
       "      <td>1365.887529</td>\n",
       "      <td>6.089322e+04</td>\n",
       "      <td>MULTIPOLYGON (((-45261.902 81865.442, -45248.3...</td>\n",
       "    </tr>\n",
       "    <tr>\n",
       "      <th>1</th>\n",
       "      <td>2020</td>\n",
       "      <td>CA</td>\n",
       "      <td>PVT</td>\n",
       "      <td>AEU</td>\n",
       "      <td>10572</td>\n",
       "      <td>2020 Fuels Reduction</td>\n",
       "      <td>3.0</td>\n",
       "      <td>2020-02-13T00:00:00+00:00</td>\n",
       "      <td>2020-02-13T00:00:00+00:00</td>\n",
       "      <td>22.3</td>\n",
       "      <td>36.739716</td>\n",
       "      <td>NaN</td>\n",
       "      <td>NaN</td>\n",
       "      <td>NaN</td>\n",
       "      <td>2681.610336</td>\n",
       "      <td>1.486803e+05</td>\n",
       "      <td>MULTIPOLYGON (((-57222.192 98500.043, -57231.6...</td>\n",
       "    </tr>\n",
       "    <tr>\n",
       "      <th>2</th>\n",
       "      <td>2020</td>\n",
       "      <td>CA</td>\n",
       "      <td>CDF</td>\n",
       "      <td>AEU</td>\n",
       "      <td>10630</td>\n",
       "      <td>Feb 2020 Broadcast</td>\n",
       "      <td>3.0</td>\n",
       "      <td>2020-02-13T00:00:00+00:00</td>\n",
       "      <td>2020-02-18T00:00:00+00:00</td>\n",
       "      <td>22.4</td>\n",
       "      <td>38.839848</td>\n",
       "      <td>NaN</td>\n",
       "      <td>NaN</td>\n",
       "      <td>NaN</td>\n",
       "      <td>3918.219956</td>\n",
       "      <td>1.571792e+05</td>\n",
       "      <td>MULTIPOLYGON (((-49821.237 54143.575, -49815.4...</td>\n",
       "    </tr>\n",
       "    <tr>\n",
       "      <th>3</th>\n",
       "      <td>2020</td>\n",
       "      <td>CA</td>\n",
       "      <td>CDF</td>\n",
       "      <td>AEU</td>\n",
       "      <td>10639</td>\n",
       "      <td>Feb 2020 Broadcast</td>\n",
       "      <td>3.0</td>\n",
       "      <td>2020-02-11T00:00:00+00:00</td>\n",
       "      <td>2020-02-20T00:00:00+00:00</td>\n",
       "      <td>75.5</td>\n",
       "      <td>75.502464</td>\n",
       "      <td>NaN</td>\n",
       "      <td>NaN</td>\n",
       "      <td>NaN</td>\n",
       "      <td>3918.834462</td>\n",
       "      <td>3.055300e+05</td>\n",
       "      <td>MULTIPOLYGON (((-47052.539 80922.773, -47052.5...</td>\n",
       "    </tr>\n",
       "    <tr>\n",
       "      <th>4</th>\n",
       "      <td>2020</td>\n",
       "      <td>CA</td>\n",
       "      <td>CDF</td>\n",
       "      <td>AEU</td>\n",
       "      <td>10780</td>\n",
       "      <td>Mar 3 2020 Broadcast</td>\n",
       "      <td>3.0</td>\n",
       "      <td>2020-03-03T00:00:00+00:00</td>\n",
       "      <td>2020-03-03T00:00:00+00:00</td>\n",
       "      <td>61.8</td>\n",
       "      <td>61.773609</td>\n",
       "      <td>NaN</td>\n",
       "      <td>NaN</td>\n",
       "      <td>NaN</td>\n",
       "      <td>2769.034316</td>\n",
       "      <td>2.499805e+05</td>\n",
       "      <td>MULTIPOLYGON (((-47591.189 80696.956, -47590.2...</td>\n",
       "    </tr>\n",
       "    <tr>\n",
       "      <th>...</th>\n",
       "      <td>...</td>\n",
       "      <td>...</td>\n",
       "      <td>...</td>\n",
       "      <td>...</td>\n",
       "      <td>...</td>\n",
       "      <td>...</td>\n",
       "      <td>...</td>\n",
       "      <td>...</td>\n",
       "      <td>...</td>\n",
       "      <td>...</td>\n",
       "      <td>...</td>\n",
       "      <td>...</td>\n",
       "      <td>...</td>\n",
       "      <td>...</td>\n",
       "      <td>...</td>\n",
       "      <td>...</td>\n",
       "      <td>...</td>\n",
       "    </tr>\n",
       "    <tr>\n",
       "      <th>6407</th>\n",
       "      <td>2019</td>\n",
       "      <td>CA</td>\n",
       "      <td>CDF</td>\n",
       "      <td>BEU</td>\n",
       "      <td>9011</td>\n",
       "      <td>Rock Springs VMP</td>\n",
       "      <td>3.0</td>\n",
       "      <td>2019-06-17T00:00:00+00:00</td>\n",
       "      <td>2019-06-17T00:00:00+00:00</td>\n",
       "      <td>6.0</td>\n",
       "      <td>4410.436035</td>\n",
       "      <td>NaN</td>\n",
       "      <td>NaN</td>\n",
       "      <td>NaN</td>\n",
       "      <td>43918.799708</td>\n",
       "      <td>1.784839e+07</td>\n",
       "      <td>MULTIPOLYGON (((-83812.469 -167644.628, -83812...</td>\n",
       "    </tr>\n",
       "    <tr>\n",
       "      <th>6408</th>\n",
       "      <td>2019</td>\n",
       "      <td>CA</td>\n",
       "      <td>CDF</td>\n",
       "      <td>BEU</td>\n",
       "      <td>9011</td>\n",
       "      <td>Rock Springs VMP</td>\n",
       "      <td>3.0</td>\n",
       "      <td>2019-11-14T00:00:00+00:00</td>\n",
       "      <td>2019-11-19T00:00:00+00:00</td>\n",
       "      <td>4404.0</td>\n",
       "      <td>4410.436035</td>\n",
       "      <td>NaN</td>\n",
       "      <td>NaN</td>\n",
       "      <td>NaN</td>\n",
       "      <td>43918.799708</td>\n",
       "      <td>1.784839e+07</td>\n",
       "      <td>MULTIPOLYGON (((-83812.469 -167644.628, -83812...</td>\n",
       "    </tr>\n",
       "    <tr>\n",
       "      <th>6409</th>\n",
       "      <td>2019</td>\n",
       "      <td>CA</td>\n",
       "      <td>OTH</td>\n",
       "      <td>BEU</td>\n",
       "      <td>9874</td>\n",
       "      <td>Impact Burn</td>\n",
       "      <td>3.0</td>\n",
       "      <td>2019-05-01T00:00:00+00:00</td>\n",
       "      <td>2019-06-01T00:00:00+00:00</td>\n",
       "      <td>1728.0</td>\n",
       "      <td>1728.423584</td>\n",
       "      <td>NaN</td>\n",
       "      <td>NaN</td>\n",
       "      <td>NaN</td>\n",
       "      <td>12837.895799</td>\n",
       "      <td>6.994679e+06</td>\n",
       "      <td>MULTIPOLYGON (((-68525.876 -241585.362, -68522...</td>\n",
       "    </tr>\n",
       "    <tr>\n",
       "      <th>6410</th>\n",
       "      <td>2019</td>\n",
       "      <td>CA</td>\n",
       "      <td>CDF</td>\n",
       "      <td>SLU</td>\n",
       "      <td>10270</td>\n",
       "      <td>Webster Burning</td>\n",
       "      <td>3.0</td>\n",
       "      <td>2019-11-12T00:00:00+00:00</td>\n",
       "      <td>2019-12-31T00:00:00+00:00</td>\n",
       "      <td>131.0</td>\n",
       "      <td>131.035889</td>\n",
       "      <td>NaN</td>\n",
       "      <td>NaN</td>\n",
       "      <td>NaN</td>\n",
       "      <td>6110.293336</td>\n",
       "      <td>5.302832e+05</td>\n",
       "      <td>MULTIPOLYGON (((-48329.776 -282952.083, -48320...</td>\n",
       "    </tr>\n",
       "    <tr>\n",
       "      <th>6411</th>\n",
       "      <td>2019</td>\n",
       "      <td>CA</td>\n",
       "      <td>CDF</td>\n",
       "      <td>BEU</td>\n",
       "      <td>9969</td>\n",
       "      <td>2019 Church Ranch VMP</td>\n",
       "      <td>3.0</td>\n",
       "      <td>2019-07-29T00:00:00+00:00</td>\n",
       "      <td>2019-08-20T00:00:00+00:00</td>\n",
       "      <td>365.0</td>\n",
       "      <td>365.818207</td>\n",
       "      <td>NaN</td>\n",
       "      <td>NaN</td>\n",
       "      <td>NaN</td>\n",
       "      <td>7046.382422</td>\n",
       "      <td>1.480413e+06</td>\n",
       "      <td>MULTIPOLYGON (((-138297.766 -134044.365, -1382...</td>\n",
       "    </tr>\n",
       "  </tbody>\n",
       "</table>\n",
       "<p>6412 rows × 17 columns</p>\n",
       "</div>"
      ],
      "text/plain": [
       "     YEAR_ STATE AGENCY UNIT_ID TREATMENT_ID          TREATMENT_NAME  \\\n",
       "0     2020    CA    CDF     AEU        10509   Jan 31 2020 Broadcast   \n",
       "1     2020    CA    PVT     AEU        10572    2020 Fuels Reduction   \n",
       "2     2020    CA    CDF     AEU        10630      Feb 2020 Broadcast   \n",
       "3     2020    CA    CDF     AEU        10639      Feb 2020 Broadcast   \n",
       "4     2020    CA    CDF     AEU        10780    Mar 3 2020 Broadcast   \n",
       "...    ...   ...    ...     ...          ...                     ...   \n",
       "6407  2019    CA    CDF     BEU         9011        Rock Springs VMP   \n",
       "6408  2019    CA    CDF     BEU         9011        Rock Springs VMP   \n",
       "6409  2019    CA    OTH     BEU         9874             Impact Burn   \n",
       "6410  2019    CA    CDF     SLU        10270         Webster Burning   \n",
       "6411  2019    CA    CDF     BEU         9969  2019 Church Ranch VMP    \n",
       "\n",
       "      TREATMENT_TYPE                 START_DATE                   END_DATE  \\\n",
       "0                3.0  2020-01-31T00:00:00+00:00  2020-01-31T00:00:00+00:00   \n",
       "1                3.0  2020-02-13T00:00:00+00:00  2020-02-13T00:00:00+00:00   \n",
       "2                3.0  2020-02-13T00:00:00+00:00  2020-02-18T00:00:00+00:00   \n",
       "3                3.0  2020-02-11T00:00:00+00:00  2020-02-20T00:00:00+00:00   \n",
       "4                3.0  2020-03-03T00:00:00+00:00  2020-03-03T00:00:00+00:00   \n",
       "...              ...                        ...                        ...   \n",
       "6407             3.0  2019-06-17T00:00:00+00:00  2019-06-17T00:00:00+00:00   \n",
       "6408             3.0  2019-11-14T00:00:00+00:00  2019-11-19T00:00:00+00:00   \n",
       "6409             3.0  2019-05-01T00:00:00+00:00  2019-06-01T00:00:00+00:00   \n",
       "6410             3.0  2019-11-12T00:00:00+00:00  2019-12-31T00:00:00+00:00   \n",
       "6411             3.0  2019-07-29T00:00:00+00:00  2019-08-20T00:00:00+00:00   \n",
       "\n",
       "      TREATED_AC    GIS_ACRES  RX_CONSUM  PRE_CON_CLASS  POST_CON_CLASS  \\\n",
       "0           15.0    15.047045        NaN            NaN             NaN   \n",
       "1           22.3    36.739716        NaN            NaN             NaN   \n",
       "2           22.4    38.839848        NaN            NaN             NaN   \n",
       "3           75.5    75.502464        NaN            NaN             NaN   \n",
       "4           61.8    61.773609        NaN            NaN             NaN   \n",
       "...          ...          ...        ...            ...             ...   \n",
       "6407         6.0  4410.436035        NaN            NaN             NaN   \n",
       "6408      4404.0  4410.436035        NaN            NaN             NaN   \n",
       "6409      1728.0  1728.423584        NaN            NaN             NaN   \n",
       "6410       131.0   131.035889        NaN            NaN             NaN   \n",
       "6411       365.0   365.818207        NaN            NaN             NaN   \n",
       "\n",
       "      Shape_Length    Shape_Area  \\\n",
       "0      1365.887529  6.089322e+04   \n",
       "1      2681.610336  1.486803e+05   \n",
       "2      3918.219956  1.571792e+05   \n",
       "3      3918.834462  3.055300e+05   \n",
       "4      2769.034316  2.499805e+05   \n",
       "...            ...           ...   \n",
       "6407  43918.799708  1.784839e+07   \n",
       "6408  43918.799708  1.784839e+07   \n",
       "6409  12837.895799  6.994679e+06   \n",
       "6410   6110.293336  5.302832e+05   \n",
       "6411   7046.382422  1.480413e+06   \n",
       "\n",
       "                                               geometry  \n",
       "0     MULTIPOLYGON (((-45261.902 81865.442, -45248.3...  \n",
       "1     MULTIPOLYGON (((-57222.192 98500.043, -57231.6...  \n",
       "2     MULTIPOLYGON (((-49821.237 54143.575, -49815.4...  \n",
       "3     MULTIPOLYGON (((-47052.539 80922.773, -47052.5...  \n",
       "4     MULTIPOLYGON (((-47591.189 80696.956, -47590.2...  \n",
       "...                                                 ...  \n",
       "6407  MULTIPOLYGON (((-83812.469 -167644.628, -83812...  \n",
       "6408  MULTIPOLYGON (((-83812.469 -167644.628, -83812...  \n",
       "6409  MULTIPOLYGON (((-68525.876 -241585.362, -68522...  \n",
       "6410  MULTIPOLYGON (((-48329.776 -282952.083, -48320...  \n",
       "6411  MULTIPOLYGON (((-138297.766 -134044.365, -1382...  \n",
       "\n",
       "[6412 rows x 17 columns]"
      ]
     },
     "execution_count": 27,
     "metadata": {},
     "output_type": "execute_result"
    }
   ],
   "source": [
    "pfires_df"
   ]
  },
  {
   "cell_type": "code",
   "execution_count": 28,
   "id": "b35a72c9-79c9-4dc3-96b2-f899f0e6604b",
   "metadata": {
    "collapsed": true,
    "jupyter": {
     "outputs_hidden": true
    },
    "tags": []
   },
   "outputs": [
    {
     "data": {
      "text/html": [
       "<div>\n",
       "<style scoped>\n",
       "    .dataframe tbody tr th:only-of-type {\n",
       "        vertical-align: middle;\n",
       "    }\n",
       "\n",
       "    .dataframe tbody tr th {\n",
       "        vertical-align: top;\n",
       "    }\n",
       "\n",
       "    .dataframe thead th {\n",
       "        text-align: right;\n",
       "    }\n",
       "</style>\n",
       "<table border=\"1\" class=\"dataframe\">\n",
       "  <thead>\n",
       "    <tr style=\"text-align: right;\">\n",
       "      <th></th>\n",
       "      <th>TREATMENT_ID</th>\n",
       "      <th>TREATMENT_NAME</th>\n",
       "      <th>TREATMENT_TYPE</th>\n",
       "      <th>UNIT_ID</th>\n",
       "      <th>AGENCY</th>\n",
       "      <th>TREATED_AC</th>\n",
       "      <th>GIS_ACRES</th>\n",
       "      <th>STATE</th>\n",
       "      <th>YEAR_</th>\n",
       "      <th>RX_CONSUM</th>\n",
       "      <th>PRE_CON_CLASS</th>\n",
       "      <th>POST_CON_CLASS</th>\n",
       "      <th>END_DATE</th>\n",
       "      <th>START_DATE</th>\n",
       "      <th>Shape_Length</th>\n",
       "      <th>Shape_Area</th>\n",
       "      <th>geometry</th>\n",
       "    </tr>\n",
       "  </thead>\n",
       "  <tbody>\n",
       "    <tr>\n",
       "      <th>0</th>\n",
       "      <td>3277604</td>\n",
       "      <td>NON_WUI</td>\n",
       "      <td>13</td>\n",
       "      <td>SQF</td>\n",
       "      <td>USF</td>\n",
       "      <td>136.388878</td>\n",
       "      <td>136.388840</td>\n",
       "      <td>CA</td>\n",
       "      <td>2006</td>\n",
       "      <td>NaN</td>\n",
       "      <td>NaN</td>\n",
       "      <td>NaN</td>\n",
       "      <td>2006-04-15T00:00:00+00:00</td>\n",
       "      <td>None</td>\n",
       "      <td>7391.270964</td>\n",
       "      <td>5.519460e+05</td>\n",
       "      <td>MULTIPOLYGON (((134082.716 -211654.937, 134097...</td>\n",
       "    </tr>\n",
       "    <tr>\n",
       "      <th>1</th>\n",
       "      <td>3277608</td>\n",
       "      <td>NON_WUI</td>\n",
       "      <td>15</td>\n",
       "      <td>SQF</td>\n",
       "      <td>USF</td>\n",
       "      <td>292.127163</td>\n",
       "      <td>292.126648</td>\n",
       "      <td>CA</td>\n",
       "      <td>2006</td>\n",
       "      <td>NaN</td>\n",
       "      <td>NaN</td>\n",
       "      <td>NaN</td>\n",
       "      <td>2006-07-03T00:00:00+00:00</td>\n",
       "      <td>None</td>\n",
       "      <td>17166.848106</td>\n",
       "      <td>1.182195e+06</td>\n",
       "      <td>MULTIPOLYGON (((92373.011 -136235.723, 92392.4...</td>\n",
       "    </tr>\n",
       "    <tr>\n",
       "      <th>2</th>\n",
       "      <td>3277612</td>\n",
       "      <td>SOUTHRIDGE 1-1 CHIP</td>\n",
       "      <td>5</td>\n",
       "      <td>BDF</td>\n",
       "      <td>USF</td>\n",
       "      <td>4.726939</td>\n",
       "      <td>4.726954</td>\n",
       "      <td>CA</td>\n",
       "      <td>2006</td>\n",
       "      <td>NaN</td>\n",
       "      <td>NaN</td>\n",
       "      <td>NaN</td>\n",
       "      <td>2006-02-01T00:00:00+00:00</td>\n",
       "      <td>None</td>\n",
       "      <td>880.091816</td>\n",
       "      <td>1.912930e+04</td>\n",
       "      <td>MULTIPOLYGON (((305859.984 -470029.721, 305847...</td>\n",
       "    </tr>\n",
       "    <tr>\n",
       "      <th>3</th>\n",
       "      <td>3277613</td>\n",
       "      <td>SOUTHRIDGE UNIT 5 CUT AND STACK</td>\n",
       "      <td>9</td>\n",
       "      <td>BDF</td>\n",
       "      <td>USF</td>\n",
       "      <td>22.742776</td>\n",
       "      <td>22.742844</td>\n",
       "      <td>CA</td>\n",
       "      <td>2006</td>\n",
       "      <td>NaN</td>\n",
       "      <td>NaN</td>\n",
       "      <td>NaN</td>\n",
       "      <td>2006-03-01T00:00:00+00:00</td>\n",
       "      <td>None</td>\n",
       "      <td>1623.896026</td>\n",
       "      <td>9.203702e+04</td>\n",
       "      <td>MULTIPOLYGON (((305354.249 -471295.580, 305378...</td>\n",
       "    </tr>\n",
       "    <tr>\n",
       "      <th>4</th>\n",
       "      <td>3277840</td>\n",
       "      <td>HIGHWAY 20 CUT &amp; PILING (06)</td>\n",
       "      <td>9</td>\n",
       "      <td>TNF</td>\n",
       "      <td>USF</td>\n",
       "      <td>106.348339</td>\n",
       "      <td>106.347382</td>\n",
       "      <td>CA</td>\n",
       "      <td>2006</td>\n",
       "      <td>NaN</td>\n",
       "      <td>NaN</td>\n",
       "      <td>NaN</td>\n",
       "      <td>2006-09-15T00:00:00+00:00</td>\n",
       "      <td>None</td>\n",
       "      <td>3002.279795</td>\n",
       "      <td>4.303726e+05</td>\n",
       "      <td>MULTIPOLYGON (((-68800.396 144860.457, -68779....</td>\n",
       "    </tr>\n",
       "    <tr>\n",
       "      <th>...</th>\n",
       "      <td>...</td>\n",
       "      <td>...</td>\n",
       "      <td>...</td>\n",
       "      <td>...</td>\n",
       "      <td>...</td>\n",
       "      <td>...</td>\n",
       "      <td>...</td>\n",
       "      <td>...</td>\n",
       "      <td>...</td>\n",
       "      <td>...</td>\n",
       "      <td>...</td>\n",
       "      <td>...</td>\n",
       "      <td>...</td>\n",
       "      <td>...</td>\n",
       "      <td>...</td>\n",
       "      <td>...</td>\n",
       "      <td>...</td>\n",
       "    </tr>\n",
       "    <tr>\n",
       "      <th>859</th>\n",
       "      <td>6284819</td>\n",
       "      <td>1_WCF_Pile_RX_14</td>\n",
       "      <td>10</td>\n",
       "      <td>NOD</td>\n",
       "      <td>BLM</td>\n",
       "      <td>20.000000</td>\n",
       "      <td>23.070789</td>\n",
       "      <td>CA</td>\n",
       "      <td>2013</td>\n",
       "      <td>NaN</td>\n",
       "      <td>NaN</td>\n",
       "      <td>NaN</td>\n",
       "      <td>2013-12-09T00:00:00+00:00</td>\n",
       "      <td>2013-12-05T00:00:00+00:00</td>\n",
       "      <td>2171.144137</td>\n",
       "      <td>9.336417e+04</td>\n",
       "      <td>MULTIPOLYGON (((-238374.513 302862.162, -23844...</td>\n",
       "    </tr>\n",
       "    <tr>\n",
       "      <th>860</th>\n",
       "      <td>6279834</td>\n",
       "      <td>1_Hayden Hill</td>\n",
       "      <td>10</td>\n",
       "      <td>NOD</td>\n",
       "      <td>BLM</td>\n",
       "      <td>75.000000</td>\n",
       "      <td>75.690201</td>\n",
       "      <td>CA</td>\n",
       "      <td>2013</td>\n",
       "      <td>NaN</td>\n",
       "      <td>NaN</td>\n",
       "      <td>NaN</td>\n",
       "      <td>2013-10-31T00:00:00+00:00</td>\n",
       "      <td>2013-10-30T00:00:00+00:00</td>\n",
       "      <td>2869.362371</td>\n",
       "      <td>3.063074e+05</td>\n",
       "      <td>MULTIPOLYGON (((-79147.701 324730.033, -79156....</td>\n",
       "    </tr>\n",
       "    <tr>\n",
       "      <th>861</th>\n",
       "      <td>None</td>\n",
       "      <td>Bald Hills Shaded Fuel Break</td>\n",
       "      <td>10</td>\n",
       "      <td>RNP</td>\n",
       "      <td>NPS</td>\n",
       "      <td>22.232445</td>\n",
       "      <td>22.232445</td>\n",
       "      <td>CA</td>\n",
       "      <td>2014</td>\n",
       "      <td>NaN</td>\n",
       "      <td>NaN</td>\n",
       "      <td>NaN</td>\n",
       "      <td>None</td>\n",
       "      <td>None</td>\n",
       "      <td>4395.686454</td>\n",
       "      <td>8.997152e+04</td>\n",
       "      <td>MULTIPOLYGON (((-330229.682 359566.978, -33025...</td>\n",
       "    </tr>\n",
       "    <tr>\n",
       "      <th>862</th>\n",
       "      <td>2621</td>\n",
       "      <td>Warenella fuebreak</td>\n",
       "      <td>10</td>\n",
       "      <td>LNU</td>\n",
       "      <td>CDF</td>\n",
       "      <td>41.000000</td>\n",
       "      <td>83.849998</td>\n",
       "      <td>CA</td>\n",
       "      <td>2015</td>\n",
       "      <td>NaN</td>\n",
       "      <td>NaN</td>\n",
       "      <td>NaN</td>\n",
       "      <td>None</td>\n",
       "      <td>2014-12-15T00:00:00+00:00</td>\n",
       "      <td>28213.609424</td>\n",
       "      <td>3.393272e+05</td>\n",
       "      <td>MULTIPOLYGON (((-191424.441 -100961.322, -1914...</td>\n",
       "    </tr>\n",
       "    <tr>\n",
       "      <th>863</th>\n",
       "      <td>1129</td>\n",
       "      <td>Mt. Gower</td>\n",
       "      <td>10</td>\n",
       "      <td>MVU</td>\n",
       "      <td>CDF</td>\n",
       "      <td>85.000000</td>\n",
       "      <td>444.820007</td>\n",
       "      <td>CA</td>\n",
       "      <td>2015</td>\n",
       "      <td>NaN</td>\n",
       "      <td>NaN</td>\n",
       "      <td>NaN</td>\n",
       "      <td>2015-01-29T00:00:00+00:00</td>\n",
       "      <td>2015-01-11T00:00:00+00:00</td>\n",
       "      <td>21169.321994</td>\n",
       "      <td>1.800218e+06</td>\n",
       "      <td>MULTIPOLYGON (((297717.115 -548921.798, 297733...</td>\n",
       "    </tr>\n",
       "  </tbody>\n",
       "</table>\n",
       "<p>864 rows × 17 columns</p>\n",
       "</div>"
      ],
      "text/plain": [
       "    TREATMENT_ID                   TREATMENT_NAME  TREATMENT_TYPE UNIT_ID  \\\n",
       "0        3277604                          NON_WUI              13     SQF   \n",
       "1        3277608                          NON_WUI              15     SQF   \n",
       "2        3277612              SOUTHRIDGE 1-1 CHIP               5     BDF   \n",
       "3        3277613  SOUTHRIDGE UNIT 5 CUT AND STACK               9     BDF   \n",
       "4        3277840     HIGHWAY 20 CUT & PILING (06)               9     TNF   \n",
       "..           ...                              ...             ...     ...   \n",
       "859      6284819                 1_WCF_Pile_RX_14              10     NOD   \n",
       "860      6279834                    1_Hayden Hill              10     NOD   \n",
       "861         None     Bald Hills Shaded Fuel Break              10     RNP   \n",
       "862         2621               Warenella fuebreak              10     LNU   \n",
       "863         1129                        Mt. Gower              10     MVU   \n",
       "\n",
       "    AGENCY  TREATED_AC   GIS_ACRES STATE YEAR_  RX_CONSUM  PRE_CON_CLASS  \\\n",
       "0      USF  136.388878  136.388840    CA  2006        NaN            NaN   \n",
       "1      USF  292.127163  292.126648    CA  2006        NaN            NaN   \n",
       "2      USF    4.726939    4.726954    CA  2006        NaN            NaN   \n",
       "3      USF   22.742776   22.742844    CA  2006        NaN            NaN   \n",
       "4      USF  106.348339  106.347382    CA  2006        NaN            NaN   \n",
       "..     ...         ...         ...   ...   ...        ...            ...   \n",
       "859    BLM   20.000000   23.070789    CA  2013        NaN            NaN   \n",
       "860    BLM   75.000000   75.690201    CA  2013        NaN            NaN   \n",
       "861    NPS   22.232445   22.232445    CA  2014        NaN            NaN   \n",
       "862    CDF   41.000000   83.849998    CA  2015        NaN            NaN   \n",
       "863    CDF   85.000000  444.820007    CA  2015        NaN            NaN   \n",
       "\n",
       "     POST_CON_CLASS                   END_DATE                 START_DATE  \\\n",
       "0               NaN  2006-04-15T00:00:00+00:00                       None   \n",
       "1               NaN  2006-07-03T00:00:00+00:00                       None   \n",
       "2               NaN  2006-02-01T00:00:00+00:00                       None   \n",
       "3               NaN  2006-03-01T00:00:00+00:00                       None   \n",
       "4               NaN  2006-09-15T00:00:00+00:00                       None   \n",
       "..              ...                        ...                        ...   \n",
       "859             NaN  2013-12-09T00:00:00+00:00  2013-12-05T00:00:00+00:00   \n",
       "860             NaN  2013-10-31T00:00:00+00:00  2013-10-30T00:00:00+00:00   \n",
       "861             NaN                       None                       None   \n",
       "862             NaN                       None  2014-12-15T00:00:00+00:00   \n",
       "863             NaN  2015-01-29T00:00:00+00:00  2015-01-11T00:00:00+00:00   \n",
       "\n",
       "     Shape_Length    Shape_Area  \\\n",
       "0     7391.270964  5.519460e+05   \n",
       "1    17166.848106  1.182195e+06   \n",
       "2      880.091816  1.912930e+04   \n",
       "3     1623.896026  9.203702e+04   \n",
       "4     3002.279795  4.303726e+05   \n",
       "..            ...           ...   \n",
       "859   2171.144137  9.336417e+04   \n",
       "860   2869.362371  3.063074e+05   \n",
       "861   4395.686454  8.997152e+04   \n",
       "862  28213.609424  3.393272e+05   \n",
       "863  21169.321994  1.800218e+06   \n",
       "\n",
       "                                              geometry  \n",
       "0    MULTIPOLYGON (((134082.716 -211654.937, 134097...  \n",
       "1    MULTIPOLYGON (((92373.011 -136235.723, 92392.4...  \n",
       "2    MULTIPOLYGON (((305859.984 -470029.721, 305847...  \n",
       "3    MULTIPOLYGON (((305354.249 -471295.580, 305378...  \n",
       "4    MULTIPOLYGON (((-68800.396 144860.457, -68779....  \n",
       "..                                                 ...  \n",
       "859  MULTIPOLYGON (((-238374.513 302862.162, -23844...  \n",
       "860  MULTIPOLYGON (((-79147.701 324730.033, -79156....  \n",
       "861  MULTIPOLYGON (((-330229.682 359566.978, -33025...  \n",
       "862  MULTIPOLYGON (((-191424.441 -100961.322, -1914...  \n",
       "863  MULTIPOLYGON (((297717.115 -548921.798, 297733...  \n",
       "\n",
       "[864 rows x 17 columns]"
      ]
     },
     "execution_count": 28,
     "metadata": {},
     "output_type": "execute_result"
    }
   ],
   "source": [
    "npfires_df"
   ]
  },
  {
   "cell_type": "markdown",
   "id": "8c619df9-34ba-458f-9093-3282c9d701d1",
   "metadata": {},
   "source": [
    "## Objective feature:\n",
    "* 0 = null value\n",
    "* 1 = suppression (Wildfire)\n",
    "* 2 = resource benefit (WFU)\n",
    "\n",
    "### Suppression ([source1](https://www.nwcg.gov/term/glossary/suppression) and [source2](https://www.fws.gov/fire/what_we_do/wildfire.shtml)):\n",
    "    Suppression: All the work to extinguish or limit wildland fire spread.\n",
    "    \n",
    "    Wildfire is an unplanned wildland fire, either natural or human-caused.\n",
    "    \n",
    "    The primary objective of fighting unwanted wildfire is to protect human life. Public and firefighter safety is the first priority and is not compromised for any reason. Protecting communities, property, and natural resources are secondary objectives after ensuring human safety.\n",
    "    \n",
    "### Resource benefit ([source](https://www.fws.gov/fire/what_we_do/wildland_fire_use.shtml)):\n",
    "    Wildland fire use (WFU) is the management of naturally ignited wildland fires (those started by lightning or lava) to accomplish specific resource objectives within a pre-defined area. Objectives can include maintenance of healthy forests, rangelands, and wetlands, and support of ecosystem diversity.\n",
    "\n",
    "    In some cases, when outlined in a fire management plan and where communities are not at risk, allowing natural fires to burn may be the most appropriate management response. In rugged, steep, or highly inaccessible terrain where people are not threatened, wildland fire use can help avoid putting firefighters at unreasonable risk."
   ]
  },
  {
   "cell_type": "markdown",
   "id": "a1a8a815-52d0-406d-a68f-dfd37467d89c",
   "metadata": {},
   "source": [
    "## Cause feature: \n",
    "    The nine general causes used in the U.S. are lightning, campfire, smoking, debris burning, incendiary, machine use (equipment), railroad, children, and miscellaneous.\n",
    "([source](https://www.nwcg.gov/term/glossary/fire-cause)] <br>\n",
    "\n",
    "Click on respective cause for [NWCG glossary](https://www.nwcg.gov/glossary/a-z) definition:\n",
    "* [Lightning](https://www.nwcg.gov/term/glossary/lightning-fire): \n",
    "* [Smoking](https://www.nwcg.gov/term/glossary/smoking-as-a-fire-cause)\n",
    "* [Debris](https://www.nwcg.gov/term/glossary/debris-burning-fire)\n",
    "* [Equipment Use](https://www.nwcg.gov/term/glossary/equipment-use-fire)\n",
    "* [Railroad](https://www.nwcg.gov/term/glossary/railroad-fire)\n",
    "* [Miscellaneous](https://www.nwcg.gov/term/glossary/miscellaneous-fire) <br> <br>\n",
    "* [Arson](https://www.nwcg.gov/term/glossary/arson-fire)\n",
    "* [Vehicle](https://www.nwcg.gov/term/glossary/vehicle-fire)\n",
    "* [Structure](https://www.nwcg.gov/term/glossary/structure-fire)\n",
    "* [Escaped Prescribed Burn](https://www.nwcg.gov/term/glossary/escaped-fire)\n",
    "\n",
    "Omitted causes: \n",
    "* Campfire, Playing with Fire, Power Line, Firefighter Training, Non-Firefighter Training, Unknown/Unidentified, Aircraft, Volcanic, Illegal Alien Campfire\n",
    "\n",
    "*Note: Arson != Structure (see each definition for more)*"
   ]
  },
  {
   "cell_type": "code",
   "execution_count": 49,
   "id": "9e349f62-44a1-40e3-9565-511b276c1bf7",
   "metadata": {
    "collapsed": true,
    "jupyter": {
     "outputs_hidden": true
    }
   },
   "outputs": [],
   "source": [
    "cause_dict = {1: 'Lightning', 2: 'Equipment Use', 3: 'Smoking', 4: 'Campfire', \n",
    "             5: 'Debris', 6: 'Railroad', 7: 'Arson', 8: 'Playing with Fire', \n",
    "             9: 'Miscellaneous', 10: 'Vehicle', 11: 'Power Line', \n",
    "             12: 'Firefighter Training', 13: 'Non-Firefighter Training',\n",
    "             14: 'Unknown/Unidentified', 15: 'Structure', 16: 'Aircraft', \n",
    "             17: 'Volcanic', 18: 'Escaped Prescribed Burn', \n",
    "             19: 'Illegal Alien Campfire'}"
   ]
  },
  {
   "cell_type": "code",
   "execution_count": 50,
   "id": "b25c196a-2b08-4909-8537-396b060c76dc",
   "metadata": {
    "collapsed": true,
    "jupyter": {
     "outputs_hidden": true
    }
   },
   "outputs": [
    {
     "data": {
      "text/plain": [
       "Unknown/Unidentified        6620\n",
       "Lightning                   2890\n",
       "Miscellaneous               2013\n",
       "Equipment Use               1226\n",
       "Arson                        867\n",
       "Debris                       518\n",
       "Vehicle                      453\n",
       "Power Line                   412\n",
       "Campfire                     352\n",
       "Smoking                      248\n",
       "Playing with Fire            188\n",
       "Escaped Prescribed Burn       90\n",
       "Railroad                      76\n",
       "Structure                     19\n",
       "Illegal Alien Campfire        17\n",
       "Aircraft                      14\n",
       "Non-Firefighter Training      11\n",
       "Firefighter Training           5\n",
       "Name: CAUSE, dtype: int64"
      ]
     },
     "execution_count": 50,
     "metadata": {},
     "output_type": "execute_result"
    }
   ],
   "source": [
    "fires_df.CAUSE = fires_df.CAUSE.replace(cause_dict)\n",
    "fires_df.CAUSE.value_counts()"
   ]
  },
  {
   "cell_type": "code",
   "execution_count": 15,
   "id": "6b6a3b92-99dc-4472-a0ba-2d80f24f1bab",
   "metadata": {
    "collapsed": true,
    "jupyter": {
     "outputs_hidden": true
    }
   },
   "outputs": [],
   "source": [
    "collect_meth_dict = {1: 'GPS Ground', 2: 'GPS Air', 3: 'Infrared',\n",
    "                    4: 'Other Imagery', 5: 'Photo Interpretation',\n",
    "                    6: 'Hand Drawn', 7: 'Mixed Collection Methods',\n",
    "                    8: 'Unknown'}"
   ]
  },
  {
   "cell_type": "code",
   "execution_count": 16,
   "id": "4fac7c68-1fda-436b-bcd1-6359cf6ddea7",
   "metadata": {
    "collapsed": true,
    "jupyter": {
     "outputs_hidden": true
    }
   },
   "outputs": [],
   "source": [
    "objective_dict = {0: 'Unknown', 1: 'Suppression', 2: 'Resource Benefit'}"
   ]
  },
  {
   "cell_type": "code",
   "execution_count": 157,
   "id": "5ae90f82-c2a3-46bd-ae36-97456addc871",
   "metadata": {
    "collapsed": true,
    "jupyter": {
     "outputs_hidden": true
    }
   },
   "outputs": [
    {
     "data": {
      "text/plain": [
       "2008-06-21    121\n",
       "2003-09-03     58\n",
       "2015-07-03     55\n",
       "1999-08-23     46\n",
       "2008-06-02     44\n",
       "             ... \n",
       "2000-09-29      1\n",
       "1994-09-06      1\n",
       "2006-05-14      1\n",
       "1992-09-27      1\n",
       "2000-05-29      1\n",
       "Name: ALARM_DATE, Length: 3560, dtype: int64"
      ]
     },
     "execution_count": 157,
     "metadata": {},
     "output_type": "execute_result"
    }
   ],
   "source": [
    "fires_df.ALARM_DATE.value_counts(dropna=False)"
   ]
  },
  {
   "cell_type": "markdown",
   "id": "36697547-f921-4a95-8b78-a0dcf4778776",
   "metadata": {},
   "source": [
    "### Feature: Year"
   ]
  },
  {
   "cell_type": "code",
   "execution_count": 158,
   "id": "78cce88d-2f1e-44d7-855f-5d368e9f95bc",
   "metadata": {
    "collapsed": true,
    "jupyter": {
     "outputs_hidden": true
    }
   },
   "outputs": [],
   "source": [
    "\"\"\"\n",
    "    Return subset series such that rows with a count less than x are removed \n",
    "\"\"\"\n",
    "def prune_series(s_input, threshold):\n",
    "    return s_input[s_input > threshold]"
   ]
  },
  {
   "cell_type": "code",
   "execution_count": 159,
   "id": "60bb5376-1212-4b47-b0b1-917f55e76821",
   "metadata": {
    "collapsed": true,
    "jupyter": {
     "outputs_hidden": true
    }
   },
   "outputs": [
    {
     "name": "stdout",
     "output_type": "stream",
     "text": [
      "<class 'pandas.core.indexes.range.RangeIndex'>\n",
      "Last yr: 1911, Curr yr: 1914\n",
      "Last yr: 1924, Curr yr: 1926\n",
      "Last yr: 1926, Curr yr: 1928\n",
      "Last yr: 1932, Curr yr: 1934\n",
      "Last yr: 1934, Curr yr: 1936\n",
      "Last yr: 1936, Curr yr: 1939\n",
      "Last yr: 1939, Curr yr: 1941\n",
      "Last yr: 1947, Curr yr: 1949\n",
      "Last yr: 1962, Curr yr: 1964\n",
      "Last yr: 1964, Curr yr: 1966\n",
      "Last yr: 1990, Curr yr: 1992\n"
     ]
    }
   ],
   "source": [
    "yrs = wf_perims['YEAR_']\n",
    "# index series in order from oldest to recent\n",
    "sort_yrs = yrs.value_counts().sort_index()\n",
    "# find years with greater than x fires\n",
    "sub_yrs = prune_series(sort_yrs, 100)\n",
    "\n",
    "yrs_list = sub_yrs.astype(int).index.tolist()\n",
    "print(type(yrs.index))\n",
    "# check what years have gaps\n",
    "last_rec_yr = int(yrs_list[0])\n",
    "for i in range(1, len(yrs_list)):\n",
    "    next_rec_yr = int(yrs_list[i])\n",
    "    if next_rec_yr - last_rec_yr > 1: \n",
    "        print(f\"Last yr: {last_rec_yr}, Curr yr: {next_rec_yr}\")\n",
    "    \n",
    "    last_rec_yr = next_rec_yr"
   ]
  },
  {
   "cell_type": "markdown",
   "id": "3d513cb1-3737-4f89-8313-90ea0597c265",
   "metadata": {},
   "source": [
    "#### The fires_df has a consistent coverage from 1992-2020, so we will explore this subset first"
   ]
  },
  {
   "cell_type": "code",
   "execution_count": 41,
   "id": "42c929ad-2749-4041-ad7d-1a1bf9637654",
   "metadata": {
    "collapsed": true,
    "jupyter": {
     "outputs_hidden": true
    }
   },
   "outputs": [
    {
     "data": {
      "text/html": [
       "<div>\n",
       "<style scoped>\n",
       "    .dataframe tbody tr th:only-of-type {\n",
       "        vertical-align: middle;\n",
       "    }\n",
       "\n",
       "    .dataframe tbody tr th {\n",
       "        vertical-align: top;\n",
       "    }\n",
       "\n",
       "    .dataframe thead th {\n",
       "        text-align: right;\n",
       "    }\n",
       "</style>\n",
       "<table border=\"1\" class=\"dataframe\">\n",
       "  <thead>\n",
       "    <tr style=\"text-align: right;\">\n",
       "      <th></th>\n",
       "      <th>YEAR_</th>\n",
       "      <th>STATE</th>\n",
       "      <th>AGENCY</th>\n",
       "      <th>INC_NUM</th>\n",
       "      <th>ALARM_DATE</th>\n",
       "      <th>CONT_DATE</th>\n",
       "      <th>CAUSE</th>\n",
       "      <th>REPORT_AC</th>\n",
       "      <th>GIS_ACRES</th>\n",
       "      <th>C_METHOD</th>\n",
       "      <th>OBJECTIVE</th>\n",
       "      <th>Shape_Length</th>\n",
       "      <th>Shape_Area</th>\n",
       "      <th>geometry</th>\n",
       "    </tr>\n",
       "  </thead>\n",
       "  <tbody>\n",
       "    <tr>\n",
       "      <th>16954</th>\n",
       "      <td>2009-01-01</td>\n",
       "      <td>AZ</td>\n",
       "      <td>BLM</td>\n",
       "      <td></td>\n",
       "      <td>2009-07-06</td>\n",
       "      <td>2009-07-21</td>\n",
       "      <td>14.0</td>\n",
       "      <td>NaN</td>\n",
       "      <td>330.160278</td>\n",
       "      <td>8.0</td>\n",
       "      <td>1.0</td>\n",
       "      <td>10661.468968</td>\n",
       "      <td>1.336111e+06</td>\n",
       "      <td>MULTIPOLYGON (((518831.882 -418116.038, 518861...</td>\n",
       "    </tr>\n",
       "  </tbody>\n",
       "</table>\n",
       "</div>"
      ],
      "text/plain": [
       "           YEAR_ STATE AGENCY INC_NUM ALARM_DATE  CONT_DATE  CAUSE  REPORT_AC  \\\n",
       "16954 2009-01-01    AZ    BLM         2009-07-06 2009-07-21   14.0        NaN   \n",
       "\n",
       "        GIS_ACRES  C_METHOD  OBJECTIVE  Shape_Length    Shape_Area  \\\n",
       "16954  330.160278       8.0        1.0  10661.468968  1.336111e+06   \n",
       "\n",
       "                                                geometry  \n",
       "16954  MULTIPOLYGON (((518831.882 -418116.038, 518861...  "
      ]
     },
     "execution_count": 41,
     "metadata": {},
     "output_type": "execute_result"
    }
   ],
   "source": [
    "fires_df[fires_df.STATE == 'AZ']"
   ]
  },
  {
   "cell_type": "code",
   "execution_count": 161,
   "id": "53f17ef2-26d0-4e72-a17e-860eb4007833",
   "metadata": {
    "collapsed": true,
    "jupyter": {
     "outputs_hidden": true
    }
   },
   "outputs": [],
   "source": [
    "start_date = fires_df.ALARM_DATE.min() \n",
    "end_date = fires_df.ALARM_DATE.max()\n",
    "fires_df.set_index('ALARM_DATE', inplace=True)"
   ]
  },
  {
   "cell_type": "code",
   "execution_count": 162,
   "id": "35c1ed50-8086-47a6-a5ac-6e14800a84fb",
   "metadata": {
    "collapsed": true,
    "jupyter": {
     "outputs_hidden": true
    }
   },
   "outputs": [
    {
     "data": {
      "text/plain": [
       "<AxesSubplot:>"
      ]
     },
     "execution_count": 162,
     "metadata": {},
     "output_type": "execute_result"
    },
    {
     "data": {
      "image/png": "[encoded data removed]",
      "text/plain": [
       "<Figure size 432x288 with 1 Axes>"
      ]
     },
     "metadata": {
      "needs_background": "light"
     },
     "output_type": "display_data"
    }
   ],
   "source": [
    "import matplotlib.pyplot as plt \n",
    "\n",
    "fires_df[start_date:end_date].plot()"
   ]
  },
  {
   "cell_type": "code",
   "execution_count": 171,
   "id": "a94510f3-8131-412c-85e2-ca13c17eed76",
   "metadata": {
    "collapsed": true,
    "jupyter": {
     "outputs_hidden": true
    }
   },
   "outputs": [
    {
     "data": {
      "text/plain": [
       "<pandas.core.groupby.generic.DataFrameGroupBy object at 0x175c03790>"
      ]
     },
     "execution_count": 171,
     "metadata": {},
     "output_type": "execute_result"
    }
   ],
   "source": [
    "fires_df = pd.fires_dfFrame(fires_df)\n",
    "fires_df.groupby(fires_df.index)"
   ]
  },
  {
   "cell_type": "code",
   "execution_count": 167,
   "id": "f4386065-d34b-441b-aa33-d4bf63c09e17",
   "metadata": {
    "collapsed": true,
    "jupyter": {
     "outputs_hidden": true
    }
   },
   "outputs": [
    {
     "ename": "TypeError",
     "evalue": "scatter() missing 1 required positional argument: 'y'",
     "output_type": "error",
     "traceback": [
      "\u001b[0;31m---------------------------------------------------------------------------\u001b[0m",
      "\u001b[0;31mTypeError\u001b[0m                                 Traceback (most recent call last)",
      "\u001b[0;32m<ipython-input-167-44f02b4bcb11>\u001b[0m in \u001b[0;36m<module>\u001b[0;34m\u001b[0m\n\u001b[1;32m      1\u001b[0m \u001b[0mxs\u001b[0m \u001b[0;34m=\u001b[0m \u001b[0mtemp\u001b[0m\u001b[0;34m.\u001b[0m\u001b[0mindex\u001b[0m\u001b[0;34m.\u001b[0m\u001b[0munique\u001b[0m\u001b[0;34m(\u001b[0m\u001b[0;34m)\u001b[0m\u001b[0;34m\u001b[0m\u001b[0;34m\u001b[0m\u001b[0m\n\u001b[0;32m----> 2\u001b[0;31m \u001b[0mtemp\u001b[0m\u001b[0;34m.\u001b[0m\u001b[0mplot\u001b[0m\u001b[0;34m.\u001b[0m\u001b[0mscatter\u001b[0m\u001b[0;34m(\u001b[0m\u001b[0mx\u001b[0m\u001b[0;34m=\u001b[0m\u001b[0mxs\u001b[0m\u001b[0;34m)\u001b[0m\u001b[0;34m\u001b[0m\u001b[0;34m\u001b[0m\u001b[0m\n\u001b[0m",
      "\u001b[0;31mTypeError\u001b[0m: scatter() missing 1 required positional argument: 'y'"
     ]
    }
   ],
   "source": [
    "xs = fires_df.index.unique()\n",
    "fires_df.plot.scatter(x=xs, )"
   ]
  },
  {
   "cell_type": "code",
   "execution_count": null,
   "id": "f94b3150-2eaf-4c32-bc2a-6f3b537fe6d7",
   "metadata": {
    "collapsed": true,
    "jupyter": {
     "outputs_hidden": true
    }
   },
   "outputs": [],
   "source": []
  }
 ],
 "metadata": {
  "kernelspec": {
   "display_name": "geo_env",
   "language": "python",
   "name": "geo_env"
  },
  "language_info": {
   "codemirror_mode": {
    "name": "ipython",
    "version": 3
   },
   "file_extension": ".py",
   "mimetype": "text/x-python",
   "name": "python",
   "nbconvert_exporter": "python",
   "pygments_lexer": "ipython3",
   "version": "3.9.5"
  }
 },
 "nbformat": 4,
 "nbformat_minor": 5
}
