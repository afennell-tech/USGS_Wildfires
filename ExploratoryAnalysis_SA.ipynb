{
  "nbformat": 4,
  "nbformat_minor": 0,
  "metadata": {
    "colab": {
      "name": "ExploratoryAnalysis_Main.ipynb",
      "provenance": [],
      "collapsed_sections": [],
      "include_colab_link": true
    },
    "kernelspec": {
      "display_name": "Python 3",
      "name": "python3"
    },
    "language_info": {
      "name": "python"
    }
  },
  "cells": [
    {
      "cell_type": "markdown",
      "metadata": {
        "id": "view-in-github",
        "colab_type": "text"
      },
      "source": [
        "<a href=\"https://colab.research.google.com/github/afennell-tech/USGS_Wildfires/blob/dev/ExploratoryAnalysis_SA.ipynb\" target=\"_parent\"><img src=\"https://colab.research.google.com/assets/colab-badge.svg\" alt=\"Open In Colab\"/></a>"
      ]
    },
    {
      "cell_type": "markdown",
      "metadata": {
        "id": "s4dfKRj1n8Lq"
      },
      "source": [
        "# Note\n",
        "The data for [1.88 Million US Wildfires](https://www.kaggle.com/rtatman/188-million-us-wildfires) is very large, so we store the file in google drive, rather than in our github repository. On Kaggle, the file provided is a SQLite database containing information on US wildfires. For the purpose of this project, we will utilize the sqlite3 library. Feel free to download the file to your local machine if you prefer. Click [here](https://drive.google.com/drive/folders/18YlVzuPCf-IXeQQSy0F3H32oG_KHEBhr?usp=sharing) to access the folder containing all data used for this project."
      ]
    },
    {
      "cell_type": "markdown",
      "metadata": {
        "id": "EAdLB2jBmmUA"
      },
      "source": [
        "# Initial Setup:\n",
        "\n",
        "Before running any of the below cells: \n",
        "1. Go to google drive (gdrive)\n",
        "2. Find the 'USGS_Wildfires_Project_Content' folder, which should be in the 'Shared with me' section of your gdrive\n",
        "3. Right click on the folder, and select 'Add shortcut to drive'\n",
        "4. Click 'Add shortcut'\n",
        "5. The folder should then appear in 'My Drive' section of gdrive\n",
        "\n",
        "***Users only need to complete the above task once.*** "
      ]
    },
    {
      "cell_type": "markdown",
      "metadata": {
        "id": "tB_Xc1D2CV6R"
      },
      "source": [
        "# Getting Started: Workspace Setup"
      ]
    },
    {
      "cell_type": "markdown",
      "metadata": {
        "id": "CCtiv6PIU4RM"
      },
      "source": [
        "### Mounting Google Drive to Google Colab\n",
        "Note: Any time the runtime is reset, you will need to reauthenticate to mount gdrive"
      ]
    },
    {
      "cell_type": "code",
      "metadata": {
        "colab": {
          "base_uri": "https://localhost:8080/",
          "height": 89
        },
        "id": "HgrvZ4zHjc4j",
        "outputId": "960a08bd-11cd-44f0-dcac-5d572bf8d6e7"
      },
      "source": [
        "from google.colab import drive\n",
        "from os.path import join\n",
        "\n",
        "ROOT = '/content/drive' # default for the drive\n",
        "PROJ = 'MyDrive/USGS_Wildfires_Project_Content' # path to project on Drive\n",
        "PROJ_PATH = join(ROOT, PROJ)\n",
        "DATA_PATH = join(PROJ_PATH, 'data')\n",
        "\n",
        "drive.mount(ROOT) # we mount the drive at /content/drive\n",
        "\n",
        "\"\"\" After executing the above code, the folder 'drive' will appear under \n",
        "the files section. This is the users respective gdrive \"\"\""
      ],
      "execution_count": 1,
      "outputs": [
        {
          "output_type": "stream",
          "text": [
            "Drive already mounted at /content/drive; to attempt to forcibly remount, call drive.mount(\"/content/drive\", force_remount=True).\n"
          ],
          "name": "stdout"
        },
        {
          "output_type": "execute_result",
          "data": {
            "application/vnd.google.colaboratory.intrinsic+json": {
              "type": "string"
            },
            "text/plain": [
              "\" After executing the above code, the folder 'drive' will appear under \\nthe files section. This is the users respective gdrive \""
            ]
          },
          "metadata": {
            "tags": []
          },
          "execution_count": 1
        }
      ]
    },
    {
      "cell_type": "markdown",
      "metadata": {
        "id": "JaRUgU3x47tn"
      },
      "source": [
        "# Exploratory Analysis"
      ]
    },
    {
      "cell_type": "markdown",
      "metadata": {
        "id": "1NPkKZbq_kE-"
      },
      "source": [
        "### Helper Functions"
      ]
    },
    {
      "cell_type": "code",
      "metadata": {
        "id": "Qh9e9uqpLHLP",
        "outputId": "5b129e1b-94ec-48c7-90af-467fd0dfddfd",
        "colab": {
          "base_uri": "https://localhost:8080/"
        }
      },
      "source": [
        "import sqlite3 # to deal with database \n",
        "import numpy as np \n",
        "import pandas as pd\n",
        "import matplotlib.pyplot as plt\n",
        "import seaborn as sns\n",
        "import statsmodels.api as sm\n",
        "import statsmodels.formula.api\n",
        "\n",
        "\"\"\"\n",
        "Returns a Connection object that represents the input db.\n",
        "\"\"\"\n",
        "def get_sql_connection(sql_file): \n",
        "    return sqlite3.connect(sql_file)\n",
        "\n",
        "\"\"\"\n",
        "Returns a df for table from Connection object.\n",
        "\"\"\"\n",
        "def get_table(table_name, conn):\n",
        "    query = \"Select * from {}\".format(table_name)\n",
        "    return pd.read_sql_query(query, conn)\n",
        "\n",
        "\"\"\"\n",
        "Provided the input dataframe, function prints out the number of values each \n",
        "column takes on and if this number is less than input max_out, the corresponding \n",
        "values are printed as well.\n",
        "\"\"\"\n",
        "def print_col_info(df, max_out=5):\n",
        "    # check if input is valid\n",
        "    assert len(df.columns) > 0\n",
        "    # iterate over each column\n",
        "    for col_name, col in df.items(): \n",
        "        if len(col.value_counts()) <= max_out: \n",
        "            print(f\"\"\"Column name: {col_name}, NaN count: {col.isna().sum()}, \n",
        "            # of non-null values: {len(col.value_counts(dropna=False))}, \n",
        "            distinct values: {col.value_counts().index.tolist()}\"\"\")\n",
        "        else: \n",
        "            print(f\"\"\"Column name: {col_name}, NaN count: {col.isna().sum()}, \n",
        "            # of non-null values: {len(col.value_counts(dropna=False))}\"\"\")"
      ],
      "execution_count": 2,
      "outputs": [
        {
          "output_type": "stream",
          "text": [
            "/usr/local/lib/python3.7/dist-packages/statsmodels/tools/_testing.py:19: FutureWarning: pandas.util.testing is deprecated. Use the functions in the public API at pandas.testing instead.\n",
            "  import pandas.util.testing as tm\n"
          ],
          "name": "stderr"
        }
      ]
    },
    {
      "cell_type": "markdown",
      "metadata": {
        "id": "47rGmSfjGzIO"
      },
      "source": [
        "### Variable Setup"
      ]
    },
    {
      "cell_type": "code",
      "metadata": {
        "id": "lYrxl4koG-9F"
      },
      "source": [
        "USGS_DATA_PATH = join(DATA_PATH, 'FPA_FOD_20170508.sqlite')\n",
        "usgs_db = get_sql_connection(USGS_DATA_PATH) # USGS data"
      ],
      "execution_count": 3,
      "outputs": []
    },
    {
      "cell_type": "markdown",
      "metadata": {
        "id": "NSxRE7YqJqza"
      },
      "source": [
        "### Exploration"
      ]
    },
    {
      "cell_type": "code",
      "metadata": {
        "id": "HNymxSzbOmIA"
      },
      "source": [
        "'''\n",
        "Note: If the below code breaks, make sure that the USGS_DATA_PATH \n",
        "is indeed the correct path to get to the .sqlite file. \n",
        "'''\n",
        "\n",
        "# load fires data\n",
        "fires_df = get_table('fires', usgs_db)\n",
        "# drop OBJECTID and Shape; these are specific columns for the SQL db\n",
        "fires_df.drop(columns=['OBJECTID', 'Shape'], inplace=True)"
      ],
      "execution_count": 4,
      "outputs": []
    },
    {
      "cell_type": "code",
      "metadata": {
        "id": "Rlvlq3_aCDNd",
        "colab": {
          "base_uri": "https://localhost:8080/"
        },
        "outputId": "77230c48-93b1-48ca-ea37-417f4accd8d3"
      },
      "source": [
        "# First, we get some info about the dataframe itself\n",
        "\n",
        "print(f\"There are {len(fires_df)} rows and {len(fires_df.columns)} columns.\")\n",
        "\n",
        "print(f\"List of all column names: {fires_df.columns}\")\n",
        "\n",
        "# get more info about the columns themselves (all)\n",
        "print_col_info(fires_df, max_out=20)"
      ],
      "execution_count": 5,
      "outputs": [
        {
          "output_type": "stream",
          "text": [
            "There are 1880465 rows and 37 columns.\n",
            "List of all column names: Index(['FOD_ID', 'FPA_ID', 'SOURCE_SYSTEM_TYPE', 'SOURCE_SYSTEM',\n",
            "       'NWCG_REPORTING_AGENCY', 'NWCG_REPORTING_UNIT_ID',\n",
            "       'NWCG_REPORTING_UNIT_NAME', 'SOURCE_REPORTING_UNIT',\n",
            "       'SOURCE_REPORTING_UNIT_NAME', 'LOCAL_FIRE_REPORT_ID',\n",
            "       'LOCAL_INCIDENT_ID', 'FIRE_CODE', 'FIRE_NAME',\n",
            "       'ICS_209_INCIDENT_NUMBER', 'ICS_209_NAME', 'MTBS_ID', 'MTBS_FIRE_NAME',\n",
            "       'COMPLEX_NAME', 'FIRE_YEAR', 'DISCOVERY_DATE', 'DISCOVERY_DOY',\n",
            "       'DISCOVERY_TIME', 'STAT_CAUSE_CODE', 'STAT_CAUSE_DESCR', 'CONT_DATE',\n",
            "       'CONT_DOY', 'CONT_TIME', 'FIRE_SIZE', 'FIRE_SIZE_CLASS', 'LATITUDE',\n",
            "       'LONGITUDE', 'OWNER_CODE', 'OWNER_DESCR', 'STATE', 'COUNTY',\n",
            "       'FIPS_CODE', 'FIPS_NAME'],\n",
            "      dtype='object')\n",
            "Column name: FOD_ID, NaN count: 0, \n",
            "            # of non-null values: 1880465\n",
            "Column name: FPA_ID, NaN count: 0, \n",
            "            # of non-null values: 1880462\n",
            "Column name: SOURCE_SYSTEM_TYPE, NaN count: 0, \n",
            "            # of non-null values: 3, \n",
            "            distinct values: ['NONFED', 'FED', 'INTERAGCY']\n",
            "Column name: SOURCE_SYSTEM, NaN count: 0, \n",
            "            # of non-null values: 38\n",
            "Column name: NWCG_REPORTING_AGENCY, NaN count: 0, \n",
            "            # of non-null values: 11, \n",
            "            distinct values: ['ST/C&L', 'FS', 'BIA', 'BLM', 'IA', 'NPS', 'FWS', 'TRIBE', 'DOD', 'BOR', 'DOE']\n",
            "Column name: NWCG_REPORTING_UNIT_ID, NaN count: 0, \n",
            "            # of non-null values: 1640\n",
            "Column name: NWCG_REPORTING_UNIT_NAME, NaN count: 0, \n",
            "            # of non-null values: 1635\n",
            "Column name: SOURCE_REPORTING_UNIT, NaN count: 0, \n",
            "            # of non-null values: 4992\n",
            "Column name: SOURCE_REPORTING_UNIT_NAME, NaN count: 0, \n",
            "            # of non-null values: 4441\n",
            "Column name: LOCAL_FIRE_REPORT_ID, NaN count: 1459286, \n",
            "            # of non-null values: 13509\n",
            "Column name: LOCAL_INCIDENT_ID, NaN count: 820821, \n",
            "            # of non-null values: 565915\n",
            "Column name: FIRE_CODE, NaN count: 1555636, \n",
            "            # of non-null values: 172447\n",
            "Column name: FIRE_NAME, NaN count: 957189, \n",
            "            # of non-null values: 493634\n",
            "Column name: ICS_209_INCIDENT_NUMBER, NaN count: 1854748, \n",
            "            # of non-null values: 22738\n",
            "Column name: ICS_209_NAME, NaN count: 1854748, \n",
            "            # of non-null values: 19574\n",
            "Column name: MTBS_ID, NaN count: 1869462, \n",
            "            # of non-null values: 10482\n",
            "Column name: MTBS_FIRE_NAME, NaN count: 1869462, \n",
            "            # of non-null values: 8134\n",
            "Column name: COMPLEX_NAME, NaN count: 1875282, \n",
            "            # of non-null values: 1417\n",
            "Column name: FIRE_YEAR, NaN count: 0, \n",
            "            # of non-null values: 24\n",
            "Column name: DISCOVERY_DATE, NaN count: 0, \n",
            "            # of non-null values: 8766\n",
            "Column name: DISCOVERY_DOY, NaN count: 0, \n",
            "            # of non-null values: 366\n",
            "Column name: DISCOVERY_TIME, NaN count: 882638, \n",
            "            # of non-null values: 1441\n",
            "Column name: STAT_CAUSE_CODE, NaN count: 0, \n",
            "            # of non-null values: 13, \n",
            "            distinct values: [5.0, 9.0, 7.0, 1.0, 13.0, 2.0, 4.0, 8.0, 3.0, 6.0, 11.0, 10.0, 12.0]\n",
            "Column name: STAT_CAUSE_DESCR, NaN count: 0, \n",
            "            # of non-null values: 13, \n",
            "            distinct values: ['Debris Burning', 'Miscellaneous', 'Arson', 'Lightning', 'Missing/Undefined', 'Equipment Use', 'Campfire', 'Children', 'Smoking', 'Railroad', 'Powerline', 'Fireworks', 'Structure']\n",
            "Column name: CONT_DATE, NaN count: 891531, \n",
            "            # of non-null values: 8761\n",
            "Column name: CONT_DOY, NaN count: 891531, \n",
            "            # of non-null values: 367\n",
            "Column name: CONT_TIME, NaN count: 972173, \n",
            "            # of non-null values: 1442\n",
            "Column name: FIRE_SIZE, NaN count: 0, \n",
            "            # of non-null values: 13637\n",
            "Column name: FIRE_SIZE_CLASS, NaN count: 0, \n",
            "            # of non-null values: 7, \n",
            "            distinct values: ['B', 'A', 'C', 'D', 'E', 'F', 'G']\n",
            "Column name: LATITUDE, NaN count: 0, \n",
            "            # of non-null values: 894061\n",
            "Column name: LONGITUDE, NaN count: 0, \n",
            "            # of non-null values: 997536\n",
            "Column name: OWNER_CODE, NaN count: 0, \n",
            "            # of non-null values: 16, \n",
            "            distinct values: [14.0, 8.0, 5.0, 2.0, 13.0, 1.0, 7.0, 3.0, 4.0, 9.0, 6.0, 12.0, 15.0, 11.0, 10.0, 0.0]\n",
            "Column name: OWNER_DESCR, NaN count: 0, \n",
            "            # of non-null values: 16, \n",
            "            distinct values: ['MISSING/NOT SPECIFIED', 'PRIVATE', 'USFS', 'BIA', 'STATE OR PRIVATE', 'BLM', 'STATE', 'NPS', 'FWS', 'TRIBAL', 'OTHER FEDERAL', 'MUNICIPAL/LOCAL', 'UNDEFINED FEDERAL', 'COUNTY', 'BOR', 'FOREIGN']\n",
            "Column name: STATE, NaN count: 0, \n",
            "            # of non-null values: 52\n",
            "Column name: COUNTY, NaN count: 678148, \n",
            "            # of non-null values: 3456\n",
            "Column name: FIPS_CODE, NaN count: 678148, \n",
            "            # of non-null values: 286\n",
            "Column name: FIPS_NAME, NaN count: 678148, \n",
            "            # of non-null values: 1699\n"
          ],
          "name": "stdout"
        }
      ]
    },
    {
      "cell_type": "markdown",
      "metadata": {
        "id": "GW1DCyA6oHQW"
      },
      "source": [
        "### For now, we only care about exploring the following variables: \n",
        "OWNER_DESCR, FIRE_SIZE, FIRE_SIZE_CLASS, FIRE_YEAR, DISCOVERY_DATE, STAT_CAUSE_DESCR, LATITUDE, LONGITUDE, STATE, COUNTY\n"
      ]
    },
    {
      "cell_type": "code",
      "metadata": {
        "id": "D3B0i9_kow2r",
        "outputId": "ade9e8cd-97c8-447e-ea8d-dc92130a16e0",
        "colab": {
          "base_uri": "https://localhost:8080/",
          "height": 381
        }
      },
      "source": [
        "\"\"\"\n",
        "Subset fires_df to explore the above columns. Find necessary and informative\n",
        "descriptive statistics, clean the data, make simple visualizations, run simple\n",
        "regressions, etc. Just do whatever feels right so we can begin to understand \n",
        "what steps to take moving forward. \n",
        "\"\"\"\n",
        "\n",
        "# ADD CODE HERE - TODO\n",
        "fires = fires_df[['OWNER_DESCR', 'FIRE_SIZE', 'FIRE_SIZE_CLASS', 'FIRE_YEAR', 'DISCOVERY_DATE', 'STAT_CAUSE_DESCR', 'LATITUDE', 'LONGITUDE', 'STATE', 'COUNTY']]\n",
        "by_cause = fires.groupby('STAT_CAUSE_DESCR').count().sort_values(by='OWNER_DESCR')\n",
        "plt.bar(x=by_cause.index, height=by_cause['FIRE_SIZE'])\n",
        "plt.xticks(rotation='vertical')\n",
        "plt.ylabel('number of fires')\n",
        "plt.title('Wildfires by cause')"
      ],
      "execution_count": 6,
      "outputs": [
        {
          "output_type": "execute_result",
          "data": {
            "text/plain": [
              "Text(0.5, 1.0, 'Wildfires by cause')"
            ]
          },
          "metadata": {
            "tags": []
          },
          "execution_count": 6
        },
        {
          "output_type": "display_data",
          "data": {
            "image/png": "[encoded data removed]",
            "text/plain": [
              "<Figure size 432x288 with 1 Axes>"
            ]
          },
          "metadata": {
            "tags": [],
            "needs_background": "light"
          }
        }
      ]
    },
    {
      "cell_type": "code",
      "metadata": {
        "id": "muCw6YJVx-Pi",
        "outputId": "ab874c8f-5b69-4a05-c43d-ad0cfc30700c",
        "colab": {
          "base_uri": "https://localhost:8080/",
          "height": 731
        }
      },
      "source": [
        "by_state = fires.groupby('STATE').count().sort_values(by='FIRE_SIZE')\n",
        "first_50 = by_state[:26]\n",
        "plt.bar(x=first_50.index, height=first_50['FIRE_SIZE'])\n",
        "plt.xticks(rotation='vertical')"
      ],
      "execution_count": 7,
      "outputs": [
        {
          "output_type": "execute_result",
          "data": {
            "text/plain": [
              "([0,\n",
              "  1,\n",
              "  2,\n",
              "  3,\n",
              "  4,\n",
              "  5,\n",
              "  6,\n",
              "  7,\n",
              "  8,\n",
              "  9,\n",
              "  10,\n",
              "  11,\n",
              "  12,\n",
              "  13,\n",
              "  14,\n",
              "  15,\n",
              "  16,\n",
              "  17,\n",
              "  18,\n",
              "  19,\n",
              "  20,\n",
              "  21,\n",
              "  22,\n",
              "  23,\n",
              "  24,\n",
              "  25],\n",
              " <a list of 26 Text major ticklabel objects>)"
            ]
          },
          "metadata": {
            "tags": []
          },
          "execution_count": 7
        },
        {
          "output_type": "display_data",
          "data": {
            "image/png": "[encoded data removed]",
            "text/plain": [
              "<Figure size 432x288 with 1 Axes>"
            ]
          },
          "metadata": {
            "tags": [],
            "needs_background": "light"
          }
        }
      ]
    },
    {
      "cell_type": "code",
      "metadata": {
        "id": "5ndtpKx6yy0o",
        "outputId": "25652433-a36b-4e10-8ac8-4891bb7db856",
        "colab": {
          "base_uri": "https://localhost:8080/",
          "height": 731
        }
      },
      "source": [
        "last_50 = by_state[26:]\n",
        "plt.bar(x=last_50.index, height=last_50['FIRE_SIZE'])\n",
        "plt.xticks(rotation='vertical')"
      ],
      "execution_count": 8,
      "outputs": [
        {
          "output_type": "execute_result",
          "data": {
            "text/plain": [
              "([0,\n",
              "  1,\n",
              "  2,\n",
              "  3,\n",
              "  4,\n",
              "  5,\n",
              "  6,\n",
              "  7,\n",
              "  8,\n",
              "  9,\n",
              "  10,\n",
              "  11,\n",
              "  12,\n",
              "  13,\n",
              "  14,\n",
              "  15,\n",
              "  16,\n",
              "  17,\n",
              "  18,\n",
              "  19,\n",
              "  20,\n",
              "  21,\n",
              "  22,\n",
              "  23,\n",
              "  24,\n",
              "  25],\n",
              " <a list of 26 Text major ticklabel objects>)"
            ]
          },
          "metadata": {
            "tags": []
          },
          "execution_count": 8
        },
        {
          "output_type": "display_data",
          "data": {
            "image/png": "[encoded data removed]",
            "text/plain": [
              "<Figure size 432x288 with 1 Axes>"
            ]
          },
          "metadata": {
            "tags": [],
            "needs_background": "light"
          }
        }
      ]
    },
    {
      "cell_type": "code",
      "metadata": {
        "id": "6O7IPMVU0YNU",
        "outputId": "9902113d-f720-420c-fe33-05fb96e195bc",
        "colab": {
          "base_uri": "https://localhost:8080/",
          "height": 312
        }
      },
      "source": [
        "top_10_state = by_state[-10:]\n",
        "lst_top_10 = list(top_10_state.index)\n",
        "plt.bar(x=top_10_state.index, height=top_10_state['FIRE_SIZE'])\n",
        "plt.title('Most fires in 10 states')\n",
        "plt.ylabel('Number of fires')\n",
        "plt.xlabel('State')\n",
        "lst_top_10"
      ],
      "execution_count": 9,
      "outputs": [
        {
          "output_type": "execute_result",
          "data": {
            "text/plain": [
              "['AL', 'AZ', 'MS', 'NY', 'SC', 'FL', 'NC', 'TX', 'GA', 'CA']"
            ]
          },
          "metadata": {
            "tags": []
          },
          "execution_count": 9
        },
        {
          "output_type": "display_data",
          "data": {
            "image/png": "[encoded data removed]",
            "text/plain": [
              "<Figure size 432x288 with 1 Axes>"
            ]
          },
          "metadata": {
            "tags": [],
            "needs_background": "light"
          }
        }
      ]
    },
    {
      "cell_type": "code",
      "metadata": {
        "id": "U-ePHArF0hm3",
        "outputId": "1704fbcf-1df3-4aa9-bbfd-6c789853aaba",
        "colab": {
          "base_uri": "https://localhost:8080/",
          "height": 312
        }
      },
      "source": [
        "by_year = fires_df.groupby('FIRE_YEAR').count()\n",
        "plt.bar(x=by_year.index, height=by_year['FIRE_SIZE'])\n",
        "plt.title('Number of fires by year')\n",
        "plt.xlabel('Year')\n",
        "plt.ylabel('Number of fires')"
      ],
      "execution_count": 10,
      "outputs": [
        {
          "output_type": "execute_result",
          "data": {
            "text/plain": [
              "Text(0, 0.5, 'Number of fires')"
            ]
          },
          "metadata": {
            "tags": []
          },
          "execution_count": 10
        },
        {
          "output_type": "display_data",
          "data": {
            "image/png": "[encoded data removed]",
            "text/plain": [
              "<Figure size 432x288 with 1 Axes>"
            ]
          },
          "metadata": {
            "tags": [],
            "needs_background": "light"
          }
        }
      ]
    },
    {
      "cell_type": "code",
      "metadata": {
        "id": "cw4aBSJ73hml",
        "outputId": "c2f9225a-3a4d-40c0-d138-f8a921da28b8",
        "colab": {
          "base_uri": "https://localhost:8080/",
          "height": 472
        }
      },
      "source": [
        "fires_df['DATE'] = pd.to_datetime(fires_df['DISCOVERY_DATE'] - pd.Timestamp(0).to_julian_date(), unit='D')\n",
        "fires_df['month'] = pd.DatetimeIndex(fires_df['DATE']).month\n",
        "fires_df['month'] = fires_df.month.replace([1,2,3,4,5,6,7,8,9,10,11,12], ['Jan', 'Feb', 'Mar', 'Apr', 'May', 'Jun', 'Jul', 'Aug', 'Sep', 'Oct', 'Nov', 'Dec'])\n",
        "by_month = fires_df.groupby('month').count().sort_values('FIRE_SIZE')\n",
        "by_month"
      ],
      "execution_count": 13,
      "outputs": [
        {
          "output_type": "execute_result",
          "data": {
            "text/html": [
              "<div>\n",
              "<style scoped>\n",
              "    .dataframe tbody tr th:only-of-type {\n",
              "        vertical-align: middle;\n",
              "    }\n",
              "\n",
              "    .dataframe tbody tr th {\n",
              "        vertical-align: top;\n",
              "    }\n",
              "\n",
              "    .dataframe thead th {\n",
              "        text-align: right;\n",
              "    }\n",
              "</style>\n",
              "<table border=\"1\" class=\"dataframe\">\n",
              "  <thead>\n",
              "    <tr style=\"text-align: right;\">\n",
              "      <th></th>\n",
              "      <th>FOD_ID</th>\n",
              "      <th>FPA_ID</th>\n",
              "      <th>SOURCE_SYSTEM_TYPE</th>\n",
              "      <th>SOURCE_SYSTEM</th>\n",
              "      <th>NWCG_REPORTING_AGENCY</th>\n",
              "      <th>NWCG_REPORTING_UNIT_ID</th>\n",
              "      <th>NWCG_REPORTING_UNIT_NAME</th>\n",
              "      <th>SOURCE_REPORTING_UNIT</th>\n",
              "      <th>SOURCE_REPORTING_UNIT_NAME</th>\n",
              "      <th>LOCAL_FIRE_REPORT_ID</th>\n",
              "      <th>LOCAL_INCIDENT_ID</th>\n",
              "      <th>FIRE_CODE</th>\n",
              "      <th>FIRE_NAME</th>\n",
              "      <th>ICS_209_INCIDENT_NUMBER</th>\n",
              "      <th>ICS_209_NAME</th>\n",
              "      <th>MTBS_ID</th>\n",
              "      <th>MTBS_FIRE_NAME</th>\n",
              "      <th>COMPLEX_NAME</th>\n",
              "      <th>FIRE_YEAR</th>\n",
              "      <th>DISCOVERY_DATE</th>\n",
              "      <th>DISCOVERY_DOY</th>\n",
              "      <th>DISCOVERY_TIME</th>\n",
              "      <th>STAT_CAUSE_CODE</th>\n",
              "      <th>STAT_CAUSE_DESCR</th>\n",
              "      <th>CONT_DATE</th>\n",
              "      <th>CONT_DOY</th>\n",
              "      <th>CONT_TIME</th>\n",
              "      <th>FIRE_SIZE</th>\n",
              "      <th>FIRE_SIZE_CLASS</th>\n",
              "      <th>LATITUDE</th>\n",
              "      <th>LONGITUDE</th>\n",
              "      <th>OWNER_CODE</th>\n",
              "      <th>OWNER_DESCR</th>\n",
              "      <th>STATE</th>\n",
              "      <th>COUNTY</th>\n",
              "      <th>FIPS_CODE</th>\n",
              "      <th>FIPS_NAME</th>\n",
              "      <th>DATE</th>\n",
              "      <th>DATE</th>\n",
              "    </tr>\n",
              "    <tr>\n",
              "      <th>month</th>\n",
              "      <th></th>\n",
              "      <th></th>\n",
              "      <th></th>\n",
              "      <th></th>\n",
              "      <th></th>\n",
              "      <th></th>\n",
              "      <th></th>\n",
              "      <th></th>\n",
              "      <th></th>\n",
              "      <th></th>\n",
              "      <th></th>\n",
              "      <th></th>\n",
              "      <th></th>\n",
              "      <th></th>\n",
              "      <th></th>\n",
              "      <th></th>\n",
              "      <th></th>\n",
              "      <th></th>\n",
              "      <th></th>\n",
              "      <th></th>\n",
              "      <th></th>\n",
              "      <th></th>\n",
              "      <th></th>\n",
              "      <th></th>\n",
              "      <th></th>\n",
              "      <th></th>\n",
              "      <th></th>\n",
              "      <th></th>\n",
              "      <th></th>\n",
              "      <th></th>\n",
              "      <th></th>\n",
              "      <th></th>\n",
              "      <th></th>\n",
              "      <th></th>\n",
              "      <th></th>\n",
              "      <th></th>\n",
              "      <th></th>\n",
              "      <th></th>\n",
              "      <th></th>\n",
              "    </tr>\n",
              "  </thead>\n",
              "  <tbody>\n",
              "    <tr>\n",
              "      <th>Dec</th>\n",
              "      <td>58819</td>\n",
              "      <td>58819</td>\n",
              "      <td>58819</td>\n",
              "      <td>58819</td>\n",
              "      <td>58819</td>\n",
              "      <td>58819</td>\n",
              "      <td>58819</td>\n",
              "      <td>58819</td>\n",
              "      <td>58819</td>\n",
              "      <td>5466</td>\n",
              "      <td>35672</td>\n",
              "      <td>3795</td>\n",
              "      <td>20387</td>\n",
              "      <td>360</td>\n",
              "      <td>360</td>\n",
              "      <td>92</td>\n",
              "      <td>92</td>\n",
              "      <td>40</td>\n",
              "      <td>58819</td>\n",
              "      <td>58819</td>\n",
              "      <td>58819</td>\n",
              "      <td>23271</td>\n",
              "      <td>58819</td>\n",
              "      <td>58819</td>\n",
              "      <td>22437</td>\n",
              "      <td>22437</td>\n",
              "      <td>20671</td>\n",
              "      <td>58819</td>\n",
              "      <td>58819</td>\n",
              "      <td>58819</td>\n",
              "      <td>58819</td>\n",
              "      <td>58819</td>\n",
              "      <td>58819</td>\n",
              "      <td>58819</td>\n",
              "      <td>40730</td>\n",
              "      <td>40730</td>\n",
              "      <td>40730</td>\n",
              "      <td>58819</td>\n",
              "      <td>58819</td>\n",
              "    </tr>\n",
              "    <tr>\n",
              "      <th>Nov</th>\n",
              "      <td>93637</td>\n",
              "      <td>93637</td>\n",
              "      <td>93637</td>\n",
              "      <td>93637</td>\n",
              "      <td>93637</td>\n",
              "      <td>93637</td>\n",
              "      <td>93637</td>\n",
              "      <td>93637</td>\n",
              "      <td>93637</td>\n",
              "      <td>12546</td>\n",
              "      <td>63068</td>\n",
              "      <td>8266</td>\n",
              "      <td>39412</td>\n",
              "      <td>939</td>\n",
              "      <td>939</td>\n",
              "      <td>426</td>\n",
              "      <td>426</td>\n",
              "      <td>91</td>\n",
              "      <td>93637</td>\n",
              "      <td>93637</td>\n",
              "      <td>93637</td>\n",
              "      <td>45983</td>\n",
              "      <td>93637</td>\n",
              "      <td>93637</td>\n",
              "      <td>44931</td>\n",
              "      <td>44931</td>\n",
              "      <td>41122</td>\n",
              "      <td>93637</td>\n",
              "      <td>93637</td>\n",
              "      <td>93637</td>\n",
              "      <td>93637</td>\n",
              "      <td>93637</td>\n",
              "      <td>93637</td>\n",
              "      <td>93637</td>\n",
              "      <td>63099</td>\n",
              "      <td>63099</td>\n",
              "      <td>63099</td>\n",
              "      <td>93637</td>\n",
              "      <td>93637</td>\n",
              "    </tr>\n",
              "    <tr>\n",
              "      <th>Jan</th>\n",
              "      <td>96438</td>\n",
              "      <td>96438</td>\n",
              "      <td>96438</td>\n",
              "      <td>96438</td>\n",
              "      <td>96438</td>\n",
              "      <td>96438</td>\n",
              "      <td>96438</td>\n",
              "      <td>96438</td>\n",
              "      <td>96438</td>\n",
              "      <td>8699</td>\n",
              "      <td>60258</td>\n",
              "      <td>6139</td>\n",
              "      <td>36971</td>\n",
              "      <td>688</td>\n",
              "      <td>688</td>\n",
              "      <td>157</td>\n",
              "      <td>157</td>\n",
              "      <td>18</td>\n",
              "      <td>96438</td>\n",
              "      <td>96438</td>\n",
              "      <td>96438</td>\n",
              "      <td>38324</td>\n",
              "      <td>96438</td>\n",
              "      <td>96438</td>\n",
              "      <td>37230</td>\n",
              "      <td>37230</td>\n",
              "      <td>34450</td>\n",
              "      <td>96438</td>\n",
              "      <td>96438</td>\n",
              "      <td>96438</td>\n",
              "      <td>96438</td>\n",
              "      <td>96438</td>\n",
              "      <td>96438</td>\n",
              "      <td>96438</td>\n",
              "      <td>69935</td>\n",
              "      <td>69935</td>\n",
              "      <td>69935</td>\n",
              "      <td>96438</td>\n",
              "      <td>96438</td>\n",
              "    </tr>\n",
              "    <tr>\n",
              "      <th>Oct</th>\n",
              "      <td>104992</td>\n",
              "      <td>104992</td>\n",
              "      <td>104992</td>\n",
              "      <td>104992</td>\n",
              "      <td>104992</td>\n",
              "      <td>104992</td>\n",
              "      <td>104992</td>\n",
              "      <td>104992</td>\n",
              "      <td>104992</td>\n",
              "      <td>21871</td>\n",
              "      <td>65038</td>\n",
              "      <td>14203</td>\n",
              "      <td>51015</td>\n",
              "      <td>840</td>\n",
              "      <td>840</td>\n",
              "      <td>357</td>\n",
              "      <td>357</td>\n",
              "      <td>66</td>\n",
              "      <td>104992</td>\n",
              "      <td>104992</td>\n",
              "      <td>104992</td>\n",
              "      <td>52936</td>\n",
              "      <td>104992</td>\n",
              "      <td>104992</td>\n",
              "      <td>52044</td>\n",
              "      <td>52044</td>\n",
              "      <td>46776</td>\n",
              "      <td>104992</td>\n",
              "      <td>104992</td>\n",
              "      <td>104992</td>\n",
              "      <td>104992</td>\n",
              "      <td>104992</td>\n",
              "      <td>104992</td>\n",
              "      <td>104992</td>\n",
              "      <td>65545</td>\n",
              "      <td>65545</td>\n",
              "      <td>65545</td>\n",
              "      <td>104992</td>\n",
              "      <td>104992</td>\n",
              "    </tr>\n",
              "    <tr>\n",
              "      <th>Sep</th>\n",
              "      <td>132065</td>\n",
              "      <td>132065</td>\n",
              "      <td>132065</td>\n",
              "      <td>132065</td>\n",
              "      <td>132065</td>\n",
              "      <td>132065</td>\n",
              "      <td>132065</td>\n",
              "      <td>132065</td>\n",
              "      <td>132065</td>\n",
              "      <td>39613</td>\n",
              "      <td>72623</td>\n",
              "      <td>29923</td>\n",
              "      <td>76092</td>\n",
              "      <td>1871</td>\n",
              "      <td>1871</td>\n",
              "      <td>738</td>\n",
              "      <td>738</td>\n",
              "      <td>456</td>\n",
              "      <td>132065</td>\n",
              "      <td>132065</td>\n",
              "      <td>132065</td>\n",
              "      <td>74281</td>\n",
              "      <td>132065</td>\n",
              "      <td>132065</td>\n",
              "      <td>73940</td>\n",
              "      <td>73940</td>\n",
              "      <td>67254</td>\n",
              "      <td>132065</td>\n",
              "      <td>132065</td>\n",
              "      <td>132065</td>\n",
              "      <td>132065</td>\n",
              "      <td>132065</td>\n",
              "      <td>132065</td>\n",
              "      <td>132065</td>\n",
              "      <td>76534</td>\n",
              "      <td>76534</td>\n",
              "      <td>76534</td>\n",
              "      <td>132065</td>\n",
              "      <td>132065</td>\n",
              "    </tr>\n",
              "    <tr>\n",
              "      <th>Feb</th>\n",
              "      <td>149142</td>\n",
              "      <td>149142</td>\n",
              "      <td>149142</td>\n",
              "      <td>149142</td>\n",
              "      <td>149142</td>\n",
              "      <td>149142</td>\n",
              "      <td>149142</td>\n",
              "      <td>149142</td>\n",
              "      <td>149142</td>\n",
              "      <td>11927</td>\n",
              "      <td>93268</td>\n",
              "      <td>6678</td>\n",
              "      <td>48710</td>\n",
              "      <td>1304</td>\n",
              "      <td>1304</td>\n",
              "      <td>334</td>\n",
              "      <td>334</td>\n",
              "      <td>91</td>\n",
              "      <td>149142</td>\n",
              "      <td>149142</td>\n",
              "      <td>149142</td>\n",
              "      <td>64756</td>\n",
              "      <td>149142</td>\n",
              "      <td>149142</td>\n",
              "      <td>61031</td>\n",
              "      <td>61031</td>\n",
              "      <td>56434</td>\n",
              "      <td>149142</td>\n",
              "      <td>149142</td>\n",
              "      <td>149142</td>\n",
              "      <td>149142</td>\n",
              "      <td>149142</td>\n",
              "      <td>149142</td>\n",
              "      <td>149142</td>\n",
              "      <td>102143</td>\n",
              "      <td>102143</td>\n",
              "      <td>102143</td>\n",
              "      <td>149142</td>\n",
              "      <td>149142</td>\n",
              "    </tr>\n",
              "    <tr>\n",
              "      <th>Jun</th>\n",
              "      <td>163440</td>\n",
              "      <td>163440</td>\n",
              "      <td>163440</td>\n",
              "      <td>163440</td>\n",
              "      <td>163440</td>\n",
              "      <td>163440</td>\n",
              "      <td>163440</td>\n",
              "      <td>163440</td>\n",
              "      <td>163440</td>\n",
              "      <td>47623</td>\n",
              "      <td>88255</td>\n",
              "      <td>41088</td>\n",
              "      <td>101481</td>\n",
              "      <td>3083</td>\n",
              "      <td>3083</td>\n",
              "      <td>1787</td>\n",
              "      <td>1787</td>\n",
              "      <td>668</td>\n",
              "      <td>163440</td>\n",
              "      <td>163440</td>\n",
              "      <td>163440</td>\n",
              "      <td>95076</td>\n",
              "      <td>163440</td>\n",
              "      <td>163440</td>\n",
              "      <td>94456</td>\n",
              "      <td>94456</td>\n",
              "      <td>88048</td>\n",
              "      <td>163440</td>\n",
              "      <td>163440</td>\n",
              "      <td>163440</td>\n",
              "      <td>163440</td>\n",
              "      <td>163440</td>\n",
              "      <td>163440</td>\n",
              "      <td>163440</td>\n",
              "      <td>94887</td>\n",
              "      <td>94887</td>\n",
              "      <td>94887</td>\n",
              "      <td>163440</td>\n",
              "      <td>163440</td>\n",
              "    </tr>\n",
              "    <tr>\n",
              "      <th>May</th>\n",
              "      <td>163898</td>\n",
              "      <td>163898</td>\n",
              "      <td>163898</td>\n",
              "      <td>163898</td>\n",
              "      <td>163898</td>\n",
              "      <td>163898</td>\n",
              "      <td>163898</td>\n",
              "      <td>163898</td>\n",
              "      <td>163898</td>\n",
              "      <td>34224</td>\n",
              "      <td>95511</td>\n",
              "      <td>24339</td>\n",
              "      <td>77898</td>\n",
              "      <td>1604</td>\n",
              "      <td>1604</td>\n",
              "      <td>710</td>\n",
              "      <td>710</td>\n",
              "      <td>213</td>\n",
              "      <td>163898</td>\n",
              "      <td>163898</td>\n",
              "      <td>163898</td>\n",
              "      <td>87426</td>\n",
              "      <td>163898</td>\n",
              "      <td>163898</td>\n",
              "      <td>88532</td>\n",
              "      <td>88532</td>\n",
              "      <td>80011</td>\n",
              "      <td>163898</td>\n",
              "      <td>163898</td>\n",
              "      <td>163898</td>\n",
              "      <td>163898</td>\n",
              "      <td>163898</td>\n",
              "      <td>163898</td>\n",
              "      <td>163898</td>\n",
              "      <td>106999</td>\n",
              "      <td>106999</td>\n",
              "      <td>106999</td>\n",
              "      <td>163898</td>\n",
              "      <td>163898</td>\n",
              "    </tr>\n",
              "    <tr>\n",
              "      <th>Aug</th>\n",
              "      <td>208578</td>\n",
              "      <td>208578</td>\n",
              "      <td>208578</td>\n",
              "      <td>208578</td>\n",
              "      <td>208578</td>\n",
              "      <td>208578</td>\n",
              "      <td>208578</td>\n",
              "      <td>208578</td>\n",
              "      <td>208578</td>\n",
              "      <td>83643</td>\n",
              "      <td>98853</td>\n",
              "      <td>70549</td>\n",
              "      <td>143203</td>\n",
              "      <td>5230</td>\n",
              "      <td>5230</td>\n",
              "      <td>2526</td>\n",
              "      <td>2526</td>\n",
              "      <td>2024</td>\n",
              "      <td>208578</td>\n",
              "      <td>208578</td>\n",
              "      <td>208578</td>\n",
              "      <td>135342</td>\n",
              "      <td>208578</td>\n",
              "      <td>208578</td>\n",
              "      <td>136667</td>\n",
              "      <td>136667</td>\n",
              "      <td>126611</td>\n",
              "      <td>208578</td>\n",
              "      <td>208578</td>\n",
              "      <td>208578</td>\n",
              "      <td>208578</td>\n",
              "      <td>208578</td>\n",
              "      <td>208578</td>\n",
              "      <td>208578</td>\n",
              "      <td>119819</td>\n",
              "      <td>119819</td>\n",
              "      <td>119819</td>\n",
              "      <td>208578</td>\n",
              "      <td>208578</td>\n",
              "    </tr>\n",
              "    <tr>\n",
              "      <th>Mar</th>\n",
              "      <td>235983</td>\n",
              "      <td>235983</td>\n",
              "      <td>235983</td>\n",
              "      <td>235983</td>\n",
              "      <td>235983</td>\n",
              "      <td>235983</td>\n",
              "      <td>235983</td>\n",
              "      <td>235983</td>\n",
              "      <td>235983</td>\n",
              "      <td>26553</td>\n",
              "      <td>142315</td>\n",
              "      <td>15049</td>\n",
              "      <td>77579</td>\n",
              "      <td>2791</td>\n",
              "      <td>2791</td>\n",
              "      <td>595</td>\n",
              "      <td>595</td>\n",
              "      <td>129</td>\n",
              "      <td>235983</td>\n",
              "      <td>235983</td>\n",
              "      <td>235983</td>\n",
              "      <td>107723</td>\n",
              "      <td>235983</td>\n",
              "      <td>235983</td>\n",
              "      <td>103551</td>\n",
              "      <td>103551</td>\n",
              "      <td>94422</td>\n",
              "      <td>235983</td>\n",
              "      <td>235983</td>\n",
              "      <td>235983</td>\n",
              "      <td>235983</td>\n",
              "      <td>235983</td>\n",
              "      <td>235983</td>\n",
              "      <td>235983</td>\n",
              "      <td>163310</td>\n",
              "      <td>163310</td>\n",
              "      <td>163310</td>\n",
              "      <td>235983</td>\n",
              "      <td>235983</td>\n",
              "    </tr>\n",
              "    <tr>\n",
              "      <th>Apr</th>\n",
              "      <td>236239</td>\n",
              "      <td>236239</td>\n",
              "      <td>236239</td>\n",
              "      <td>236239</td>\n",
              "      <td>236239</td>\n",
              "      <td>236239</td>\n",
              "      <td>236239</td>\n",
              "      <td>236239</td>\n",
              "      <td>236239</td>\n",
              "      <td>37839</td>\n",
              "      <td>133860</td>\n",
              "      <td>22670</td>\n",
              "      <td>85839</td>\n",
              "      <td>2437</td>\n",
              "      <td>2437</td>\n",
              "      <td>766</td>\n",
              "      <td>766</td>\n",
              "      <td>179</td>\n",
              "      <td>236239</td>\n",
              "      <td>236239</td>\n",
              "      <td>236239</td>\n",
              "      <td>118358</td>\n",
              "      <td>236239</td>\n",
              "      <td>236239</td>\n",
              "      <td>118417</td>\n",
              "      <td>118417</td>\n",
              "      <td>107434</td>\n",
              "      <td>236239</td>\n",
              "      <td>236239</td>\n",
              "      <td>236239</td>\n",
              "      <td>236239</td>\n",
              "      <td>236239</td>\n",
              "      <td>236239</td>\n",
              "      <td>236239</td>\n",
              "      <td>164537</td>\n",
              "      <td>164537</td>\n",
              "      <td>164537</td>\n",
              "      <td>236239</td>\n",
              "      <td>236239</td>\n",
              "    </tr>\n",
              "    <tr>\n",
              "      <th>Jul</th>\n",
              "      <td>237234</td>\n",
              "      <td>237234</td>\n",
              "      <td>237234</td>\n",
              "      <td>237234</td>\n",
              "      <td>237234</td>\n",
              "      <td>237234</td>\n",
              "      <td>237234</td>\n",
              "      <td>237234</td>\n",
              "      <td>237234</td>\n",
              "      <td>91175</td>\n",
              "      <td>110923</td>\n",
              "      <td>82130</td>\n",
              "      <td>164689</td>\n",
              "      <td>4570</td>\n",
              "      <td>4570</td>\n",
              "      <td>2515</td>\n",
              "      <td>2515</td>\n",
              "      <td>1208</td>\n",
              "      <td>237234</td>\n",
              "      <td>237234</td>\n",
              "      <td>237234</td>\n",
              "      <td>154351</td>\n",
              "      <td>237234</td>\n",
              "      <td>237234</td>\n",
              "      <td>155698</td>\n",
              "      <td>155698</td>\n",
              "      <td>145059</td>\n",
              "      <td>237234</td>\n",
              "      <td>237234</td>\n",
              "      <td>237234</td>\n",
              "      <td>237234</td>\n",
              "      <td>237234</td>\n",
              "      <td>237234</td>\n",
              "      <td>237234</td>\n",
              "      <td>134779</td>\n",
              "      <td>134779</td>\n",
              "      <td>134779</td>\n",
              "      <td>237234</td>\n",
              "      <td>237234</td>\n",
              "    </tr>\n",
              "  </tbody>\n",
              "</table>\n",
              "</div>"
            ],
            "text/plain": [
              "       FOD_ID  FPA_ID  SOURCE_SYSTEM_TYPE  ...  FIPS_NAME    DATE    DATE\n",
              "month                                      ...                           \n",
              "Dec     58819   58819               58819  ...      40730   58819   58819\n",
              "Nov     93637   93637               93637  ...      63099   93637   93637\n",
              "Jan     96438   96438               96438  ...      69935   96438   96438\n",
              "Oct    104992  104992              104992  ...      65545  104992  104992\n",
              "Sep    132065  132065              132065  ...      76534  132065  132065\n",
              "Feb    149142  149142              149142  ...     102143  149142  149142\n",
              "Jun    163440  163440              163440  ...      94887  163440  163440\n",
              "May    163898  163898              163898  ...     106999  163898  163898\n",
              "Aug    208578  208578              208578  ...     119819  208578  208578\n",
              "Mar    235983  235983              235983  ...     163310  235983  235983\n",
              "Apr    236239  236239              236239  ...     164537  236239  236239\n",
              "Jul    237234  237234              237234  ...     134779  237234  237234\n",
              "\n",
              "[12 rows x 39 columns]"
            ]
          },
          "metadata": {
            "tags": []
          },
          "execution_count": 13
        }
      ]
    },
    {
      "cell_type": "code",
      "metadata": {
        "id": "bOluWJXx567B",
        "outputId": "11513069-a429-4113-fdd6-ff930ba4f76c",
        "colab": {
          "base_uri": "https://localhost:8080/",
          "height": 312
        }
      },
      "source": [
        "reorder_month = by_month.reindex(['Jan','Feb','Mar','Apr','May','Jun','Jul','Aug','Sep','Oct','Nov','Dec'])\n",
        "plt.bar(x=reorder_month.index, height=reorder_month['FIRE_SIZE'])\n",
        "plt.title('Number of fires by month')\n",
        "plt.xlabel('Month')\n",
        "plt.ylabel('Number of fire')"
      ],
      "execution_count": 14,
      "outputs": [
        {
          "output_type": "execute_result",
          "data": {
            "text/plain": [
              "Text(0, 0.5, 'Number of fire')"
            ]
          },
          "metadata": {
            "tags": []
          },
          "execution_count": 14
        },
        {
          "output_type": "display_data",
          "data": {
            "image/png": "[encoded data removed]",
            "text/plain": [
              "<Figure size 432x288 with 1 Axes>"
            ]
          },
          "metadata": {
            "tags": [],
            "needs_background": "light"
          }
        }
      ]
    },
    {
      "cell_type": "code",
      "metadata": {
        "id": "PvVtDBwa7GKy",
        "outputId": "0ec226c1-9e70-4aae-8d1f-b9299cf3a847",
        "colab": {
          "base_uri": "https://localhost:8080/",
          "height": 382
        }
      },
      "source": [
        "mean_size_by_cause = fires_df.groupby('STAT_CAUSE_DESCR').mean().sort_values(by='FIRE_SIZE')\n",
        "plt.bar(x=mean_size_by_cause.index, height=mean_size_by_cause['FIRE_SIZE'])\n",
        "plt.xticks(rotation='vertical')"
      ],
      "execution_count": 15,
      "outputs": [
        {
          "output_type": "execute_result",
          "data": {
            "text/plain": [
              "([0, 1, 2, 3, 4, 5, 6, 7, 8, 9, 10, 11, 12],\n",
              " <a list of 13 Text major ticklabel objects>)"
            ]
          },
          "metadata": {
            "tags": []
          },
          "execution_count": 15
        },
        {
          "output_type": "display_data",
          "data": {
            "image/png": "[encoded data removed]",
            "text/plain": [
              "<Figure size 432x288 with 1 Axes>"
            ]
          },
          "metadata": {
            "tags": [],
            "needs_background": "light"
          }
        }
      ]
    },
    {
      "cell_type": "code",
      "metadata": {
        "id": "WGTXmOpn1N78"
      },
      "source": [
        "#color by state"
      ],
      "execution_count": 16,
      "outputs": []
    }
  ]
}